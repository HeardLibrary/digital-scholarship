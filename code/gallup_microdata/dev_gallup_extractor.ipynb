{
 "cells": [
  {
   "cell_type": "code",
   "execution_count": null,
   "metadata": {},
   "outputs": [],
   "source": [
    "# dev_gallup_extractor.ipynb - Extracts data from Gallup microdata files.\n",
    "# (c) 2023 Vanderbilt University. This program is released under a GNU General Public License v3.0 http://www.gnu.org/licenses/gpl-3.0\n",
    "# Author: Steve Baskauf\n",
    "# Date: 2020-11-27\n",
    "\n",
    "# Imports\n",
    "from pathlib import Path\n",
    "import pandas as pd\n",
    "\n",
    "# Constants\n",
    "GALLUP_BOX_DIRECTORY = '/Library/CloudStorage/Box-Box/VU Gallup Microdata/' # create before running\n",
    "CURRENT_DOWNLOAD_DIRECTORY = 'current_download/'\n",
    "EXTRACTED_DATA_DIRECTORY = 'Tripp__worldPoll__08082023/'\n",
    "EXTRACTED_DATA_FILENAME = 'Tripp__worldPoll__08082023.dta'\n",
    "\n",
    "home = str(Path.home()) # gets path to home directory; works for both Win and Mac\n",
    "\n",
    "   "
   ]
  },
  {
   "cell_type": "code",
   "execution_count": null,
   "metadata": {},
   "outputs": [],
   "source": [
    "extracted_file_path = home + GALLUP_BOX_DIRECTORY + EXTRACTED_DATA_DIRECTORY + EXTRACTED_DATA_FILENAME\n",
    "extracted_file_path = home + '/Downloads/turkey_years.dta'\n",
    "data = pd.io.stata.read_stata(extracted_file_path)\n",
    "data.head()"
   ]
  },
  {
   "cell_type": "code",
   "execution_count": null,
   "metadata": {},
   "outputs": [],
   "source": [
    "# try to unzip bad file\n",
    "import zipfile\n",
    "\n",
    "path_to_zip_file = home + '/Downloads/gallup/Gallup_World_Poll_102023_ALL WAVES.zip'\n",
    "extract_path = home + '/Downloads/gallup/extracted/'\n",
    "\n",
    "with zipfile.ZipFile(path_to_zip_file, 'r') as zip_ref:\n",
    "    zip_ref.extractall(extract_path)"
   ]
  }
 ],
 "metadata": {
  "kernelspec": {
   "display_name": "base",
   "language": "python",
   "name": "python3"
  },
  "language_info": {
   "codemirror_mode": {
    "name": "ipython",
    "version": 3
   },
   "file_extension": ".py",
   "mimetype": "text/x-python",
   "name": "python",
   "nbconvert_exporter": "python",
   "pygments_lexer": "ipython3",
   "version": "3.8.5"
  }
 },
 "nbformat": 4,
 "nbformat_minor": 2
}
