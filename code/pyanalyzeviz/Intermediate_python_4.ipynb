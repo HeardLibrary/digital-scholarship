{
  "cells": [
    {
      "metadata": {},
      "cell_type": "markdown",
      "source": "** Unpacking **"
    },
    {
      "metadata": {
        "trusted": true
      },
      "cell_type": "code",
      "source": "import numpy as np\n# lets make an array\na = np.array([1,2,3,4])\na",
      "execution_count": null,
      "outputs": []
    },
    {
      "metadata": {
        "trusted": true
      },
      "cell_type": "code",
      "source": "# element-wise operation\na * 4",
      "execution_count": null,
      "outputs": []
    },
    {
      "metadata": {
        "trusted": true
      },
      "cell_type": "code",
      "source": "# take an element from an array\na[0]",
      "execution_count": null,
      "outputs": []
    },
    {
      "metadata": {
        "trusted": true
      },
      "cell_type": "code",
      "source": "def my_func(an_array): \n    '''takes an arguments and multiplies it by 2 '''\n    return(an_array*2) \n\n# This works \nprint(my_func(a[0]))",
      "execution_count": null,
      "outputs": []
    },
    {
      "metadata": {
        "trusted": true
      },
      "cell_type": "code",
      "source": "# This works too\nprint(\"array as passed: \", a)\nprint(\"array as returned: \", my_func(a))",
      "execution_count": null,
      "outputs": []
    },
    {
      "metadata": {
        "trusted": true
      },
      "cell_type": "code",
      "source": "def my_func(a, b, c, d): \n    '''takes 4 arguments, adds them, and multiplies them by 2 '''\n    return(np.sum(a,b,c,d)*2) \n\n# This doesn't work \nprint(my_func(a)) ",
      "execution_count": null,
      "outputs": []
    },
    {
      "metadata": {
        "trusted": true
      },
      "cell_type": "code",
      "source": "def my_func(*arg): \n    '''takes some arguments, adds them, and multiplies them by 2 '''\n    return(np.sum(*arg)*2) \n\n# This doesn't work \nprint(my_func(a)) ",
      "execution_count": null,
      "outputs": []
    },
    {
      "metadata": {},
      "cell_type": "markdown",
      "source": "unpacking is useful, when we don't know how many inputs will be passed to a function"
    },
    {
      "metadata": {
        "trusted": true
      },
      "cell_type": "code",
      "source": "a = list(range(5))\nb = list(range(10))\n\nprint(a)\nprint(b)",
      "execution_count": null,
      "outputs": []
    },
    {
      "metadata": {
        "trusted": true
      },
      "cell_type": "code",
      "source": "print(my_func(a))\nprint(my_func(b))",
      "execution_count": null,
      "outputs": []
    },
    {
      "metadata": {
        "trusted": true
      },
      "cell_type": "code",
      "source": "# libraries\n\nimport numpy as np\n\n# Plotting modules and settings.\nimport matplotlib.pyplot as plt\n\nimport seaborn as sns\ncolors = ['#1f77b4', '#ff7f0e', '#2ca02c', '#d62728', '#9467bd', \n          '#8c564b', '#e377c2', '#7f7f7f', '#bcbd22', '#17becf']\nsns.set(style=\"white\", palette=colors, rc={'axes.labelsize': 16})\n\n%matplotlib inline",
      "execution_count": null,
      "outputs": []
    },
    {
      "metadata": {
        "trusted": true
      },
      "cell_type": "code",
      "source": "# scikit image libraries\nimport skimage #scikit-image\nfrom skimage import filters, io, morphology, exposure\nimport skimage.data as data\nimport skimage.segmentation as seg\nimport skimage.filters as filters\nimport skimage.draw as draw\nimport skimage.color as color",
      "execution_count": null,
      "outputs": []
    },
    {
      "metadata": {
        "trusted": true
      },
      "cell_type": "code",
      "source": "a = [1,2,3,4,5,6,7,8,9,10]\n# every 2nd element, starting from the beginning (zero indexed)\na[::2]",
      "execution_count": null,
      "outputs": []
    },
    {
      "metadata": {
        "trusted": true
      },
      "cell_type": "code",
      "source": "# every 2nd element, starting from 1st (zero indexed)  \na[1::2]",
      "execution_count": null,
      "outputs": []
    },
    {
      "metadata": {
        "trusted": true
      },
      "cell_type": "code",
      "source": "a = np.array(([1,2,3,4,5,6,7,8,9],[11,22,33,44,55,66,77,88,99]))\na[0,1]\n# a[1::2, ::2]\n# a[1::2]",
      "execution_count": null,
      "outputs": []
    },
    {
      "metadata": {
        "trusted": true
      },
      "cell_type": "code",
      "source": "# lets concoct an image\n# array of zeros\nchess_board = np.zeros((9,9))\n\n# change:\n# odd rows: every 2nd element, from beginning (0 indexed) to ones\n\nchess_board[::2, 1::2] = 1\nchess_board",
      "execution_count": null,
      "outputs": []
    },
    {
      "metadata": {
        "trusted": true
      },
      "cell_type": "code",
      "source": "# change:\n# even rows: every 2nd element, starting 1st to ones\n\nchess_board[1::2, ::2] = 1\nchess_board",
      "execution_count": null,
      "outputs": []
    },
    {
      "metadata": {
        "trusted": true
      },
      "cell_type": "code",
      "source": "# plt.imshow(chess_board) # default color mzap is viridis\nplt.imshow(chess_board, cmap='gray')\nplt.show();",
      "execution_count": null,
      "outputs": []
    },
    {
      "metadata": {
        "trusted": true
      },
      "cell_type": "code",
      "source": "# can change the axis\nplt.imshow(chess_board, origin='lower', cmap='gray');",
      "execution_count": null,
      "outputs": []
    },
    {
      "metadata": {
        "trusted": true
      },
      "cell_type": "code",
      "source": "type(chess_board)",
      "execution_count": null,
      "outputs": []
    },
    {
      "metadata": {
        "trusted": true
      },
      "cell_type": "code",
      "source": "# lets play with a real image\n# use a built-in image\ncamera = data.camera()\n\n# plt.imshow(camera)\nplt.imshow(camera, cmap='gray')\nplt.show();",
      "execution_count": null,
      "outputs": []
    },
    {
      "metadata": {
        "trusted": true
      },
      "cell_type": "code",
      "source": "type(camera)",
      "execution_count": null,
      "outputs": []
    },
    {
      "metadata": {
        "trusted": true
      },
      "cell_type": "code",
      "source": "print(\"data type: \", camera.dtype, \"\\n\"\n     \"data shape: \", camera.shape)",
      "execution_count": null,
      "outputs": []
    },
    {
      "metadata": {
        "trusted": true
      },
      "cell_type": "code",
      "source": "logo = io.imread('http://scikit-image.org/_static/img/logo.png')\nplt.imshow(logo)\nplt.show();",
      "execution_count": null,
      "outputs": []
    },
    {
      "metadata": {
        "trusted": true
      },
      "cell_type": "code",
      "source": "logo.shape",
      "execution_count": null,
      "outputs": []
    },
    {
      "metadata": {},
      "cell_type": "markdown",
      "source": "In the common RGB color model, each pixel holds intensity values for red, green, and blue. Since python stores images as `numpy.ndarrays` using each color in a 8 bit unsigned integer, which means that within the RGB convention, color values are restricted to the range 0 to 255 or $2^0 - (2^8 -1)$, where 0 is black and 255 is white. \n\nBecause three color values need to be stored, color images require more than just a y and x dimension. <br>\nSince a third dimension is added for color, to access a particular pixel's value for a RGB image, the convention used is: <br> \nimage[ #y{coordinate} , #x{coordinate} , #red/green/blue ] or [hx[wx[r,g,b]]]"
    },
    {
      "metadata": {
        "trusted": true
      },
      "cell_type": "code",
      "source": "# Create an image (5 x 2 pixels) : height 5, width 2, rgb\nrgb_image = np.zeros(shape=(5,2,3), dtype=np.uint8) # <- unsigned 8 bit int\n\nrgb_image[:,:,0] = 0 # Set red value for all pixels\nrgb_image[:,:,1] = 255   # Set green value for all pixels\nrgb_image[:,:,2] = 0   # Set blue value for all pixels\n\nplt.imshow(rgb_image)\nplt.title(\"A simple RGB image\")\nplt.show();",
      "execution_count": null,
      "outputs": []
    },
    {
      "metadata": {},
      "cell_type": "markdown",
      "source": "### Components of human endothelial cells stained for identification.  ### \n\nThe Endothelial Cell cultures will fly to the International Space Station to understand how the cells that line our blood vessels react to weightlessness. Endothelial cells contain our blood and contract or expand our blood vessels as needed, regulating the flow of blood to our organs.\n\nBlood flow changes in space because gravity no longer pulls blood towards astronauts’ feet. By understanding the underlying adaptive mechanisms of how our bodies respond to weightlessness, this experiment aims to develop methods to help astronauts in space while showing possibilities for people on Earth – our endothelial cells become less effective with age – to live longer and healthier lives.\n\nCultured human endothelial cells will be grown in space in ESA’s Kubik incubator for two weeks and then ‘freeze’ them chemically for analysis back on Earth.\n\nimage courtsey: [European Space Agency](https://www.esa.int/ESA_Multimedia/Images/2015/06/Endothelial_cells)"
    },
    {
      "metadata": {
        "trusted": true
      },
      "cell_type": "code",
      "source": "# load the image\nendo_cells = io.imread('./data/Endothelial_cells.jpg')\nplt.figure(figsize = (10,10))\nplt.imshow(endo_cells)\nplt.axis('off')\nplt.show();",
      "execution_count": null,
      "outputs": []
    },
    {
      "metadata": {},
      "cell_type": "markdown",
      "source": "* Blue : cell nuclei containing DNA. \n* Green : the ‘actin’ protein that allows the cells to move, adhere, divide and react to stimuli."
    },
    {
      "metadata": {
        "trusted": true
      },
      "cell_type": "code",
      "source": "actin = endo_cells.copy() # Make a copy\nactin[:,:,0] = 0 # set R channel to 0 \nactin[:,:,2] = 0 # set B channel to 0\n\ndapi = endo_cells.copy() # Make a copy\ndapi[:,:,0] = 0\ndapi[:,:,1] = 0\n\n\nfig, (ax1, ax2, ax3) = plt.subplots(1,3, figsize=(10,6))\n\n# original\nax1.imshow(endo_cells)\nax1.set_title('Original')\nax1.axis('off')\n\n# actin\nax2.imshow(actin)\nax2.set_title('Actin')\nax2.axis('off')\n\n# dapi\nax3.imshow(dapi)\nax3.set_title('nuclei')\nax3.axis('off')\n\nplt.show();",
      "execution_count": null,
      "outputs": []
    },
    {
      "metadata": {
        "trusted": true
      },
      "cell_type": "code",
      "source": "# phase = mh.imread('./data/phase.tif')\nphase = io.imread('./data/phase.tif')\nplt.imshow(phase, cmap='gray')\nplt.show();",
      "execution_count": null,
      "outputs": []
    },
    {
      "metadata": {},
      "cell_type": "markdown",
      "source": "### segmentation\nsegmentation is the process by which we separate regions of an image according to their identity for analysis:\n* what are \"bacteria\" and \n* what are \"not bacteria\"."
    },
    {
      "metadata": {
        "trusted": true
      },
      "cell_type": "code",
      "source": "# Get the histogram data\nhist_phase, bins_phase = skimage.exposure.histogram(phase)\n\n# plot histogram\nfig, ax = plt.subplots(1, 2)\nax[0].set_xlabel('pixel value')\nax[0].set_ylabel('count')\n_ = ax[0].fill_between(bins_phase, hist_phase, alpha=0.75)\n# _ = ax[0].set_yscale('log')\n\nax[1].imshow(phase, cmap='gray')\nax[1].axis('off')\nplt.show();",
      "execution_count": null,
      "outputs": []
    },
    {
      "metadata": {},
      "cell_type": "markdown",
      "source": "### Thresholding\nThresholding is the process of taking pixels above or below a certain \"threshold\" or \"cut-off\" value. It is one of the simplest ways to segment an image.  <br>\nFor example, We can call every pixel with a value below 300 part of a bacterium and everything above not part of a bacterium."
    },
    {
      "metadata": {
        "trusted": true
      },
      "cell_type": "code",
      "source": "# guessing the threshold\nfig, ax = plt.subplots(1, 1)\nax.set_xlabel('pixel value')\nax.set_ylabel('count')\n# _ = ax.set_yscale('log')\n_ = ax.fill_between(bins_phase, hist_phase, alpha=0.75)\n_ = ax.plot([300, 300], [0, 35000], linestyle='-', marker='None', color='red')\nplt.show();",
      "execution_count": null,
      "outputs": []
    },
    {
      "metadata": {
        "trusted": true
      },
      "cell_type": "code",
      "source": "# manual thresholding\n# Threshold value, as obtained by eye\nthresh_phase = 300\n\n# Generate thresholded image\nim_phase_bw = phase < thresh_phase\n\n# Build RGB image by stacking grayscale images\nim_phase_rgb = np.dstack(3 * [phase / np.max(phase)])\n\n# Saturate green channel wherever there are white pixels in thresh image\nim_phase_rgb[im_phase_bw, 1] = 1.0\n\n# Show the result\nwith sns.axes_style('dark'):\n    skimage.io.imshow(im_phase_rgb)",
      "execution_count": null,
      "outputs": []
    },
    {
      "metadata": {
        "trusted": true
      },
      "cell_type": "code",
      "source": "# use better quality image\nim_cfp = skimage.io.imread('data/cfp.tif')\n\n# Display the image\nwith sns.axes_style('dark'):\n    skimage.io.imshow(im_cfp, cmap=plt.cm.gray)",
      "execution_count": null,
      "outputs": []
    },
    {
      "metadata": {
        "trusted": true
      },
      "cell_type": "code",
      "source": "# Filtering noise:\nwith sns.axes_style('dark'):\n    skimage.io.imshow(im_cfp[150:250,450:550] / im_cfp.max(), cmap=plt.cm.viridis)",
      "execution_count": null,
      "outputs": []
    },
    {
      "metadata": {},
      "cell_type": "markdown",
      "source": "We can remove the noise by using a **median filter**: <br> \n* We take a shape of pixels, called a structuring element, and \n* pass it over the image. \n* The value of the center pixel in the max is replaced by the median value of all pixels in the mask. "
    },
    {
      "metadata": {
        "trusted": true
      },
      "cell_type": "code",
      "source": "# Make the structuring element\nselem = skimage.morphology.square(3)\n\n# Perform the median filter\nim_cfp_filt = skimage.filters.median(im_cfp, selem)\n\n# Get the histogram data\nhist_cfp, bins_cfp = skimage.exposure.histogram(im_cfp_filt)\n\n# Use matplotlib to make a pretty plot of histogram data\nfig, ax = plt.subplots(1, 1)\n_ = ax.set_xlabel('pixel value')\n_ = ax.set_ylabel('count')\n_ = ax.fill_between(bins_cfp, hist_cfp, alpha=0.75)\n\n# set y to log scale\nax.set_yscale('log')\n\n# Plot eye-balled threshold\n_ = ax.plot([140, 140], [0, 500000], color='red')",
      "execution_count": null,
      "outputs": []
    },
    {
      "metadata": {
        "trusted": true
      },
      "cell_type": "code",
      "source": "# Threshold value, as obtained by eye\nthresh_cfp = 140\n\n# Generate thresholded image\nim_cfp_bw = im_cfp_filt > thresh_cfp\n\n# Display phase and thresholded image\nwith sns.axes_style('dark'):\n    fig, ax = plt.subplots(1, 2, figsize=(10, 5))\n    ax[0].imshow(im_cfp_filt, cmap=plt.cm.gray)\n    ax[0].set_title(\"Original gray scale\")\n    ax[0].axis(\"off\")\n    ax[1].imshow(im_cfp_bw, cmap=plt.cm.gray)\n    ax[1].set_title(\"Filtered\")\n    ax[1].axis(\"off\")",
      "execution_count": null,
      "outputs": []
    },
    {
      "metadata": {},
      "cell_type": "markdown",
      "source": "### Otsu's method for thresholding\nOtsu's thresholding method iterates through all the possible threshold values and calculates a measure of spread for the pixel levels each side of the threshold, i.e. the pixels that either fall in foreground or background. By calculating Within Class Variance, and Between Class Variance, Otsu finds the threshold value where the sum of foreground and background spreads is at its minimum."
    },
    {
      "metadata": {
        "trusted": true
      },
      "cell_type": "code",
      "source": "# Compute Otsu thresholds for phase and cfp\nthresh_phase_otsu = filters.threshold_otsu(phase)\nthresh_cfp_otsu = filters.threshold_otsu(im_cfp_filt)\n\n# Compare results to eyeballing it\nprint('B&W (Phase) by eye: ', thresh_phase,\n      '| CFP by eye: ', thresh_cfp)\nprint('B&W (Phase) by Otsu:', thresh_phase_otsu,   \n      '| CFP by Otsu:', thresh_cfp_otsu)",
      "execution_count": null,
      "outputs": []
    },
    {
      "metadata": {
        "trusted": true
      },
      "cell_type": "code",
      "source": "# Set up figure\nfig, ax = plt.subplots(1, 1)\nax.set_xlabel('pixel value')\nax.set_ylabel('count')\nax.set_yscale('log')\n\n# Histograms with thresholds\n_ = ax.fill_between(bins_phase, hist_phase, alpha=0.4)\n_ = ax.fill_between(bins_cfp, hist_cfp, alpha=0.4, color=colors[1])\n\n_ = ax.plot([thresh_phase_otsu, thresh_phase_otsu], [1, 1e6], '--', color=colors[0])\n_ = ax.plot([thresh_cfp_otsu, thresh_cfp_otsu], [1, 1e6], '--', color=colors[1])\nax.legend(('B&W (phase)', 'CFP'), loc='upper right');",
      "execution_count": null,
      "outputs": []
    },
    {
      "metadata": {},
      "cell_type": "markdown",
      "source": "### Determining the bacterial area\nNow that we have satisfactorily thresholded image, we can determine the total area taken up by bacteria by simply summing up the pixel values of the thresholded image!"
    },
    {
      "metadata": {
        "trusted": true
      },
      "cell_type": "code",
      "source": "# Compute bacterial area\nbacterial_area_pix = (im_cfp_filt > thresh_cfp_otsu).sum()\n\n# Print out the result\nprint('bacterial area =', bacterial_area_pix, 'pixels')\n\n# converting total area that is bacterial in units of µm from the interpixel distance = 0.0636 µm\n# Define interpixel distance\ninterpix_dist = 0.063 # microns\n\n# Compute bacterial area\nbacterial_area_micron = bacterial_area_pix * interpix_dist**2\n\n# Print total area\nprint('bacterial area =', bacterial_area_micron, 'square microns')",
      "execution_count": null,
      "outputs": []
    }
  ],
  "metadata": {
    "kernelspec": {
      "name": "python3",
      "display_name": "Python 3",
      "language": "python"
    },
    "language_info": {
      "mimetype": "text/x-python",
      "nbconvert_exporter": "python",
      "name": "python",
      "file_extension": ".py",
      "version": "3.5.4",
      "pygments_lexer": "ipython3",
      "codemirror_mode": {
        "version": 3,
        "name": "ipython"
      }
    }
  },
  "nbformat": 4,
  "nbformat_minor": 2
}