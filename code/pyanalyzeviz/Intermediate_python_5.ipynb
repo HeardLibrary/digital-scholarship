{
 "cells": [
  {
   "cell_type": "markdown",
   "metadata": {},
   "source": [
    "# Introduction to Markdown"
   ]
  },
  {
   "cell_type": "markdown",
   "metadata": {},
   "source": [
    "## Lyme disease\n",
    "[Lyme](https://www.cdc.gov/lyme/index.html) is the most common vector-borne disease in the United States. It is caused commonly by the bacterium _Borrelia burgdorferi_ and rarely by _Borrelia mayonii_. The infected blacklegged ticks transmit the bacteria to humans through bite. \n",
    "\n",
    "With changing climate, the incidence rate and the range of Lyme disease is increasing. Hence [Lyme disease is a good Climate Change Indicator](https://www.cdc.gov/lyme/stats/tables.html)\n",
    "\n",
    "## West Nile Virus disease\n",
    "[West Nile Virus](https://www.cdc.gov/westnile/index.html) (WNV) is the leading cause of mosquito-borne disease in the continental United States. Cases of WNV occur during mosquito season, which starts in the summer and continues through fall.\n",
    "\n",
    "With increasingly warmer and longer summers, the incidence rate and the range of WNV disease is also increasing. Hence [WNV is another Climate Change Indicator](https://www.cdc.gov/westnile/statsmaps/cumMapsData.html)"
   ]
  },
  {
   "cell_type": "code",
   "execution_count": null,
   "metadata": {
    "code_folding": [
     0
    ]
   },
   "outputs": [],
   "source": [
    "# libraries\n",
    "\n",
    "import numpy as np\n",
    "import pandas as pd\n",
    "import matplotlib.pyplot as plt\n",
    "\n",
    "%matplotlib inline"
   ]
  },
  {
   "cell_type": "code",
   "execution_count": null,
   "metadata": {
    "code_folding": [
     0
    ]
   },
   "outputs": [],
   "source": [
    "# import data files\n",
    "lyme = pd.read_csv('./data/lyme.csv')\n",
    "\n",
    "wnv = pd.read_csv('./data/west-nile.txt', skiprows=7, names=['Year', 'WNV_incidence'])"
   ]
  },
  {
   "cell_type": "markdown",
   "metadata": {},
   "source": [
    "# A graph"
   ]
  },
  {
   "cell_type": "code",
   "execution_count": null,
   "metadata": {
    "code_folding": [
     0
    ]
   },
   "outputs": [],
   "source": [
    "# two y axes\n",
    "fig, ax1 = plt.subplots()\n",
    "\n",
    "color = 'tab:blue'\n",
    "\n",
    "# plot 1\n",
    "ax1.set_xlabel(\"Year\")\n",
    "ax1.set_ylabel(\"Lyme cases per 100,000 people\", color=color)\n",
    "# ax1.set_ylim(min,max)\n",
    "ax1.plot(lyme['Year'], lyme['Incidence Rate'], color=color)\n",
    "ax1.tick_params(axis='y', labelcolor=color)\n",
    "\n",
    "ax2 = ax1.twinx()  # instantiate a second axes that shares the same x-axis\n",
    "\n",
    "color = 'tab:red'\n",
    "\n",
    "# plot 2\n",
    "ax2.set_ylabel(\"Zika cases per 100,000 people\", color=color)\n",
    "ax2.plot(wnv['Year'], wnv['WNV_incidence'], color=color)\n",
    "ax2.tick_params(axis='y', labelcolor=color)\n",
    "# ax2.set_ylim(min, max)\n",
    "\n",
    "fig.tight_layout()  # otherwise the right y-label is slightly clipped\n",
    "\n",
    "plt.title('Reported Cases of Lyme & WNV Disease in the United States')\n",
    "# plt.xlim(min, max)\n",
    "\n",
    "plt.show();"
   ]
  },
  {
   "cell_type": "markdown",
   "metadata": {},
   "source": [
    "# LaTeX\n",
    "\n",
    "$$c = \\sqrt{a^2 + b^2}$$\n",
    "\n",
    "You can also enter LaTeX in the running sentence $c = \\sqrt{a^2 + b^2}$ and it will be part of the sentence."
   ]
  },
  {
   "cell_type": "markdown",
   "metadata": {},
   "source": [
    "# Basic display imports\n",
    "The `display` function is a general purpose tool for displaying different representations of objects. Similar to `print`, `display` provides rich representations in notebook"
   ]
  },
  {
   "cell_type": "markdown",
   "metadata": {},
   "source": [
    "## complicated math equations"
   ]
  },
  {
   "cell_type": "code",
   "execution_count": null,
   "metadata": {
    "code_folding": []
   },
   "outputs": [],
   "source": [
    "# equation\n",
    "from IPython.display import Math\n",
    "eq1 = Math(r'F(k) = \\int_{-\\infty}^{\\infty} f(x) e^{2\\pi i k} dx')"
   ]
  },
  {
   "cell_type": "code",
   "execution_count": null,
   "metadata": {},
   "outputs": [],
   "source": [
    "eq1"
   ]
  },
  {
   "cell_type": "markdown",
   "metadata": {},
   "source": [
    "## Embedding local images"
   ]
  },
  {
   "cell_type": "code",
   "execution_count": null,
   "metadata": {},
   "outputs": [],
   "source": [
    "from IPython.display import Image\n",
    "my_image = Image(filename='./data/Endothelial_cells.jpeg', width=200, height=200)\n",
    "# my_image"
   ]
  },
  {
   "cell_type": "code",
   "execution_count": null,
   "metadata": {},
   "outputs": [],
   "source": [
    "my_image"
   ]
  },
  {
   "cell_type": "markdown",
   "metadata": {},
   "source": [
    "## Embedding external images"
   ]
  },
  {
   "cell_type": "code",
   "execution_count": null,
   "metadata": {},
   "outputs": [],
   "source": [
    "from IPython.display import Image\n",
    "\n",
    "# by default Image data are embedded\n",
    "vandy_logo = Image('https://cdn.vanderbilt.edu/vu-news/files/20190417224214/vu02c-585x142.jpg')\n",
    "vandy_logo"
   ]
  },
  {
   "cell_type": "markdown",
   "metadata": {},
   "source": [
    "The embedded image is pulled from the source when the code cell is originally run and stored in the Notebook permanently. Unless we rerun this cell, the image will reflect when it was first embedded."
   ]
  },
  {
   "cell_type": "code",
   "execution_count": null,
   "metadata": {},
   "outputs": [],
   "source": [
    "# if kwarg `url` is given, the embedding is assumed to be false\n",
    "SoftLinked = Image(url='https://cdn.vanderbilt.edu/vu-news/files/20190417224214/vu02c-585x142.jpg')\n",
    "SoftLinked"
   ]
  },
  {
   "cell_type": "markdown",
   "metadata": {},
   "source": [
    "## Embedding external videos"
   ]
  },
  {
   "cell_type": "code",
   "execution_count": null,
   "metadata": {},
   "outputs": [],
   "source": [
    "from IPython.display import YouTubeVideo\n",
    "# my own class https://www.youtube.com/watch?v=3nKB0VMJzVE&feature=youtu.be\n",
    "YouTubeVideo('3nKB0VMJzVE')"
   ]
  },
  {
   "cell_type": "code",
   "execution_count": null,
   "metadata": {},
   "outputs": [],
   "source": [
    "from IPython.display import FileLink, FileLinks\n",
    "FileLink('Intermediate_python_4.ipynb')"
   ]
  },
  {
   "cell_type": "markdown",
   "metadata": {},
   "source": [
    "These are the relevant data files used for tghis analysis"
   ]
  },
  {
   "cell_type": "code",
   "execution_count": null,
   "metadata": {},
   "outputs": [],
   "source": [
    "FileLinks('./data')"
   ]
  },
  {
   "cell_type": "markdown",
   "metadata": {},
   "source": [
    "# Table\n",
    "<html>\n",
    "<table>\n",
    "<tr>\n",
    "<th>Header 1</th>\n",
    "<th>Header 2</th>\n",
    "</tr>\n",
    "<tr>\n",
    "<td>row 1, cell 1</td>\n",
    "<td>row 1, cell 2</td>\n",
    "</tr>\n",
    "<tr>\n",
    "<td>row 2, cell 1</td>\n",
    "<td>row 2, cell 2</td>\n",
    "</tr>\n",
    "</table>\n",
    "</html>"
   ]
  }
 ],
 "metadata": {
  "kernelspec": {
   "display_name": "Python 3",
   "language": "python",
   "name": "python3"
  },
  "language_info": {
   "codemirror_mode": {
    "name": "ipython",
    "version": 3
   },
   "file_extension": ".py",
   "mimetype": "text/x-python",
   "name": "python",
   "nbconvert_exporter": "python",
   "pygments_lexer": "ipython3",
   "version": "3.7.1"
  },
  "latex_envs": {
   "LaTeX_envs_menu_present": true,
   "autoclose": false,
   "autocomplete": true,
   "bibliofile": "biblio.bib",
   "cite_by": "apalike",
   "current_citInitial": 1,
   "eqLabelWithNumbers": true,
   "eqNumInitial": 1,
   "hotkeys": {
    "equation": "Ctrl-E",
    "itemize": "Ctrl-I"
   },
   "labels_anchors": false,
   "latex_user_defs": false,
   "report_style_numbering": false,
   "user_envs_cfg": false
  },
  "toc": {
   "base_numbering": 1,
   "nav_menu": {},
   "number_sections": true,
   "sideBar": false,
   "skip_h1_title": false,
   "title_cell": "Table of Contents",
   "title_sidebar": "Contents",
   "toc_cell": false,
   "toc_position": {
    "height": "142px",
    "left": "150px",
    "top": "142.12px",
    "width": "299px"
   },
   "toc_section_display": true,
   "toc_window_display": true
  }
 },
 "nbformat": 4,
 "nbformat_minor": 2
}
