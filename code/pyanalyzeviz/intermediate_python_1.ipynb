{
  "cells": [
    {
      "metadata": {},
      "cell_type": "markdown",
      "source": "A Python `list` is the most basic data collection. Akin to an array, or a vector in Matrix alegebra, a `list` is a vector but is flexible for the data types it can hold. "
    },
    {
      "metadata": {
        "trusted": false
      },
      "cell_type": "code",
      "source": "# create a list of 4 elements of different data types\nmy_list = [1, 'A', True, 0.6]\nprint(my_list)",
      "execution_count": null,
      "outputs": []
    },
    {
      "metadata": {
        "collapsed": true,
        "trusted": false
      },
      "cell_type": "code",
      "source": "# create two lists of 4 elements each\ncol_A = ['A', 'B', 'C', 'D']\ncol_B = [1, 2, 3, 4]",
      "execution_count": null,
      "outputs": []
    },
    {
      "metadata": {
        "trusted": false
      },
      "cell_type": "code",
      "source": "# print the list\nprint(col_A)",
      "execution_count": null,
      "outputs": []
    },
    {
      "metadata": {
        "trusted": false
      },
      "cell_type": "code",
      "source": "# confirm that the variable is a list\ntype(col_A)",
      "execution_count": null,
      "outputs": []
    },
    {
      "metadata": {
        "trusted": false
      },
      "cell_type": "code",
      "source": "# Python is zero indexed\n# extrating the first element: index 0 element in the list\ncol_A[0]",
      "execution_count": null,
      "outputs": []
    },
    {
      "metadata": {
        "trusted": false
      },
      "cell_type": "code",
      "source": "# slicing a range of list elements by colon : \n# inclusive: exclusive\ncol_B[0:2]",
      "execution_count": null,
      "outputs": []
    },
    {
      "metadata": {},
      "cell_type": "markdown",
      "source": "There are 4 common data types in python:\n* integer\n* float or decimal values\n* string or character\n* logical or boolean"
    },
    {
      "metadata": {
        "trusted": false
      },
      "cell_type": "code",
      "source": "type(my_list[0])",
      "execution_count": null,
      "outputs": []
    },
    {
      "metadata": {
        "trusted": false
      },
      "cell_type": "code",
      "source": "type(my_list[1])",
      "execution_count": null,
      "outputs": []
    },
    {
      "metadata": {
        "trusted": false
      },
      "cell_type": "code",
      "source": "type(my_list[2])",
      "execution_count": null,
      "outputs": []
    },
    {
      "metadata": {
        "trusted": false
      },
      "cell_type": "code",
      "source": "type(my_list[3])",
      "execution_count": null,
      "outputs": []
    },
    {
      "metadata": {
        "trusted": false
      },
      "cell_type": "code",
      "source": "# changing an entry into a list\nlen(my_list)",
      "execution_count": null,
      "outputs": []
    },
    {
      "metadata": {},
      "cell_type": "markdown",
      "source": "Adding elements to a list:\n* append\n* insert\n* extend\n\n`append()` : adds an item at the end of the list <br>\n`insert()` : places an element at a specific position indicated by the index number. <br>\n`extend()` : adds a sequence of values to the end of a list"
    },
    {
      "metadata": {
        "trusted": false
      },
      "cell_type": "code",
      "source": "my_list.append('new')\nmy_list",
      "execution_count": null,
      "outputs": []
    },
    {
      "metadata": {
        "trusted": false
      },
      "cell_type": "code",
      "source": "my_list.insert(0, 'new')\nmy_list",
      "execution_count": null,
      "outputs": []
    },
    {
      "metadata": {
        "trusted": false
      },
      "cell_type": "code",
      "source": "my_list.extend(('one', 'two'))\nmy_list",
      "execution_count": null,
      "outputs": []
    },
    {
      "metadata": {},
      "cell_type": "markdown",
      "source": "Removing elements from a list\n\n`pop()` : removes and returns an element with a specified index or the last element if the index is not given. <br>\n`remove()` : removes a particular item from a list. <br>\n"
    },
    {
      "metadata": {
        "trusted": false
      },
      "cell_type": "code",
      "source": "my_list.pop(0)\nmy_list",
      "execution_count": null,
      "outputs": []
    },
    {
      "metadata": {
        "trusted": false
      },
      "cell_type": "code",
      "source": "my_list.remove('new')\nmy_list",
      "execution_count": null,
      "outputs": []
    },
    {
      "metadata": {
        "trusted": false
      },
      "cell_type": "code",
      "source": "# no matching value\nmy_list.remove('new')",
      "execution_count": null,
      "outputs": []
    },
    {
      "metadata": {},
      "cell_type": "markdown",
      "source": "`del` deletes an item at a given index, or slices from a list."
    },
    {
      "metadata": {
        "trusted": false
      },
      "cell_type": "code",
      "source": "my_list[:3]",
      "execution_count": null,
      "outputs": []
    },
    {
      "metadata": {
        "trusted": false
      },
      "cell_type": "code",
      "source": "my_list[-2:]",
      "execution_count": null,
      "outputs": []
    },
    {
      "metadata": {
        "trusted": false
      },
      "cell_type": "code",
      "source": "del my_list[-2:]\nmy_list",
      "execution_count": null,
      "outputs": []
    },
    {
      "metadata": {},
      "cell_type": "markdown",
      "source": "Functions and libraries"
    },
    {
      "metadata": {
        "trusted": false
      },
      "cell_type": "code",
      "source": "# function\ndef my_func(X):\n    '''this function squares a number'''\n    return X**2\n\nprint(my_func(4))",
      "execution_count": null,
      "outputs": []
    },
    {
      "metadata": {
        "trusted": false
      },
      "cell_type": "code",
      "source": "# import\nfrom my_func import my_sq\nprint(my_sq(3))",
      "execution_count": null,
      "outputs": []
    },
    {
      "metadata": {
        "collapsed": true,
        "trusted": false
      },
      "cell_type": "code",
      "source": "# library\nimport pandas as pd",
      "execution_count": null,
      "outputs": []
    },
    {
      "metadata": {
        "trusted": false
      },
      "cell_type": "code",
      "source": "col_A",
      "execution_count": null,
      "outputs": []
    },
    {
      "metadata": {
        "trusted": false
      },
      "cell_type": "code",
      "source": "# create data frame\ndf1 = pd.DataFrame(col_A)\ndf1",
      "execution_count": null,
      "outputs": []
    },
    {
      "metadata": {
        "trusted": false
      },
      "cell_type": "code",
      "source": "# give a column name\ndf1 = pd.DataFrame(col_A, columns=['col_A'])\ndf1",
      "execution_count": null,
      "outputs": []
    },
    {
      "metadata": {
        "trusted": false
      },
      "cell_type": "code",
      "source": "type(col_A)",
      "execution_count": null,
      "outputs": []
    },
    {
      "metadata": {
        "trusted": false
      },
      "cell_type": "code",
      "source": "type(df1)",
      "execution_count": null,
      "outputs": []
    },
    {
      "metadata": {
        "trusted": false
      },
      "cell_type": "code",
      "source": "df1.dtypes",
      "execution_count": null,
      "outputs": []
    },
    {
      "metadata": {
        "trusted": false
      },
      "cell_type": "code",
      "source": "for row in df1.index:\n    print(row)",
      "execution_count": null,
      "outputs": []
    },
    {
      "metadata": {
        "trusted": false
      },
      "cell_type": "code",
      "source": "df1",
      "execution_count": null,
      "outputs": []
    },
    {
      "metadata": {
        "trusted": false
      },
      "cell_type": "code",
      "source": "df2 = pd.DataFrame(col_A, index = [1,2,3,4], columns=['col_A'])\ndf2",
      "execution_count": null,
      "outputs": []
    },
    {
      "metadata": {
        "trusted": false
      },
      "cell_type": "code",
      "source": "# slicing the dataframe\n# df1[0]\ndf2.iloc[0]",
      "execution_count": null,
      "outputs": []
    },
    {
      "metadata": {
        "trusted": false
      },
      "cell_type": "code",
      "source": "df2.iloc[1]",
      "execution_count": null,
      "outputs": []
    },
    {
      "metadata": {
        "trusted": false
      },
      "cell_type": "code",
      "source": "df2.iloc[0:2]",
      "execution_count": null,
      "outputs": []
    },
    {
      "metadata": {
        "trusted": false
      },
      "cell_type": "code",
      "source": "df2.loc[1]",
      "execution_count": null,
      "outputs": []
    },
    {
      "metadata": {
        "trusted": false
      },
      "cell_type": "code",
      "source": "# extracting a column from data frame\n# square bracket notation\ndf2['col_A']",
      "execution_count": null,
      "outputs": []
    },
    {
      "metadata": {
        "trusted": false
      },
      "cell_type": "code",
      "source": "# extracting a column from data frame\n# dot notation\ndf2.col_A",
      "execution_count": null,
      "outputs": []
    },
    {
      "metadata": {
        "trusted": false
      },
      "cell_type": "code",
      "source": "# logical operators\n2 == 2",
      "execution_count": null,
      "outputs": []
    },
    {
      "metadata": {
        "trusted": false
      },
      "cell_type": "code",
      "source": "2 != 2",
      "execution_count": null,
      "outputs": []
    },
    {
      "metadata": {
        "trusted": false
      },
      "cell_type": "code",
      "source": "4 > 2",
      "execution_count": null,
      "outputs": []
    },
    {
      "metadata": {
        "trusted": false
      },
      "cell_type": "code",
      "source": "4 < 2",
      "execution_count": null,
      "outputs": []
    },
    {
      "metadata": {
        "trusted": false
      },
      "cell_type": "code",
      "source": "4 == (2**2)",
      "execution_count": null,
      "outputs": []
    },
    {
      "metadata": {
        "trusted": false
      },
      "cell_type": "code",
      "source": "4 >= 5",
      "execution_count": null,
      "outputs": []
    },
    {
      "metadata": {
        "trusted": false
      },
      "cell_type": "code",
      "source": "1 == True",
      "execution_count": null,
      "outputs": []
    },
    {
      "metadata": {
        "trusted": false
      },
      "cell_type": "code",
      "source": "0 == False",
      "execution_count": null,
      "outputs": []
    },
    {
      "metadata": {
        "trusted": false
      },
      "cell_type": "code",
      "source": "# truth values\ndf2['col_A'] == 'A'",
      "execution_count": null,
      "outputs": []
    },
    {
      "metadata": {
        "trusted": false
      },
      "cell_type": "code",
      "source": "df2.index[df2['col_A'] == 'A']",
      "execution_count": null,
      "outputs": []
    },
    {
      "metadata": {
        "trusted": false
      },
      "cell_type": "code",
      "source": "# loc to isolate the logical value from the dataframe\ndf2.loc[df2['col_A'] == 'A']",
      "execution_count": null,
      "outputs": []
    },
    {
      "metadata": {
        "trusted": false
      },
      "cell_type": "code",
      "source": "# create data frame from multidimensional list\n# List1 \nlst = [['tom', 25], ['krish', 30], ['nick', 26], ['juli', 22]] \ndf = pd.DataFrame(lst, columns =['Name', 'Age']) \ndf",
      "execution_count": null,
      "outputs": []
    },
    {
      "metadata": {
        "trusted": false
      },
      "cell_type": "code",
      "source": "df.dtypes",
      "execution_count": null,
      "outputs": []
    },
    {
      "metadata": {
        "trusted": false
      },
      "cell_type": "code",
      "source": "df.columns",
      "execution_count": null,
      "outputs": []
    },
    {
      "metadata": {
        "trusted": false
      },
      "cell_type": "code",
      "source": "df.index",
      "execution_count": null,
      "outputs": []
    },
    {
      "metadata": {},
      "cell_type": "markdown",
      "source": "To create a multidimensional list from given lists"
    },
    {
      "metadata": {
        "trusted": false
      },
      "cell_type": "code",
      "source": "# zip\nlist(zip(col_A, col_B))",
      "execution_count": null,
      "outputs": []
    },
    {
      "metadata": {
        "trusted": false
      },
      "cell_type": "code",
      "source": "type(('A', 1))",
      "execution_count": null,
      "outputs": []
    },
    {
      "metadata": {
        "trusted": false
      },
      "cell_type": "code",
      "source": "pd.DataFrame(list(zip(col_A, col_B)), columns=['col_A', 'col_B'])",
      "execution_count": null,
      "outputs": []
    },
    {
      "metadata": {
        "trusted": false
      },
      "cell_type": "code",
      "source": "# a dictionary : key: value pair\nmy_dict = {\n  \"brand\": \"Ford\",\n  \"model\": \"Mustang\",\n  \"year\": 1964\n}\nprint(my_dict)",
      "execution_count": null,
      "outputs": []
    },
    {
      "metadata": {
        "trusted": false
      },
      "cell_type": "code",
      "source": "my_dict.keys()",
      "execution_count": null,
      "outputs": []
    },
    {
      "metadata": {
        "trusted": false
      },
      "cell_type": "code",
      "source": "my_dict.values()",
      "execution_count": null,
      "outputs": []
    },
    {
      "metadata": {
        "trusted": false
      },
      "cell_type": "code",
      "source": "# accessing values from the keys in a dictionary\nmy_dict[\"model\"]",
      "execution_count": null,
      "outputs": []
    },
    {
      "metadata": {
        "trusted": false
      },
      "cell_type": "code",
      "source": "# accessing values from the keys in a dictionary\nmy_dict.get(\"model\")",
      "execution_count": null,
      "outputs": []
    },
    {
      "metadata": {
        "collapsed": true,
        "trusted": false
      },
      "cell_type": "code",
      "source": "# my_dict[\"marquee\"]\nmy_dict.get(\"marquee\")",
      "execution_count": null,
      "outputs": []
    },
    {
      "metadata": {
        "trusted": false
      },
      "cell_type": "code",
      "source": "# dataframe from a dictionary\npd.DataFrame({'col_A': col_A, 'col_B': col_B})",
      "execution_count": null,
      "outputs": []
    },
    {
      "metadata": {
        "trusted": false
      },
      "cell_type": "code",
      "source": "# create empty data frame in pandas\ndf = pd.DataFrame()\ndf",
      "execution_count": null,
      "outputs": []
    },
    {
      "metadata": {
        "trusted": false
      },
      "cell_type": "code",
      "source": "months = ['Jan','Apr','Mar','June']\ndf['Month']  = months\ndf",
      "execution_count": null,
      "outputs": []
    },
    {
      "metadata": {
        "trusted": false
      },
      "cell_type": "code",
      "source": "# add second column\ndays = [31,30,31,30]\ndf['Day'] = days\ndf",
      "execution_count": null,
      "outputs": []
    },
    {
      "metadata": {
        "trusted": false
      },
      "cell_type": "code",
      "source": "# slicing for values based on logical operator\ndf.loc[df['Day'] == 30]",
      "execution_count": null,
      "outputs": []
    },
    {
      "metadata": {
        "trusted": false
      },
      "cell_type": "code",
      "source": "# creating data frame from existing data files\ndf = pd.read_csv('./data/lyme.csv')\ndf.head()",
      "execution_count": null,
      "outputs": []
    },
    {
      "metadata": {
        "trusted": false
      },
      "cell_type": "code",
      "source": "df = pd.read_csv('./data/BCD348DEDDL-11-19-2014.TXT')\n# df = pd.read_csv('./data/BCD348DEDDL-11-19-2014.TXT', skiprows=20)\ndf.head(50)",
      "execution_count": null,
      "outputs": []
    },
    {
      "metadata": {
        "trusted": false
      },
      "cell_type": "code",
      "source": "# creating data frame from existing data files\ndf = pd.read_csv('./data/15-19FL.CSV', header=0, names=['Time', 'Fl'])\ndf.head()",
      "execution_count": null,
      "outputs": []
    },
    {
      "metadata": {
        "trusted": false
      },
      "cell_type": "code",
      "source": "# creating data frame from existing data files\n# df = pd.read_csv('./data/Ni_NTA.csv')\ndf = pd.read_table('./data/Ni_NTA.csv', sep=',', skiprows=2)\ndf.head()",
      "execution_count": null,
      "outputs": []
    },
    {
      "metadata": {
        "trusted": false
      },
      "cell_type": "code",
      "source": "pd.read_excel('./data/Orgon_Solid_waste.xls', sheet=2)",
      "execution_count": null,
      "outputs": []
    }
  ],
  "metadata": {
    "kernelspec": {
      "name": "python3",
      "display_name": "Python 3",
      "language": "python"
    },
    "language_info": {
      "mimetype": "text/x-python",
      "nbconvert_exporter": "python",
      "name": "python",
      "file_extension": ".py",
      "version": "3.5.4",
      "pygments_lexer": "ipython3",
      "codemirror_mode": {
        "version": 3,
        "name": "ipython"
      }
    }
  },
  "nbformat": 4,
  "nbformat_minor": 2
}