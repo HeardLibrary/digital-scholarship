{
  "cells": [
    {
      "metadata": {},
      "cell_type": "markdown",
      "source": "** Difference between Curve Fitting and Regression **\n\nCurve fitting is a techniques to fit a curve to data points while regression is a method for statistical inference. Curve fitting uses methods of regression, but regression does not necessarily need a curve (or line).\n\nANOVA is a regression!!\n\nWhile both involve approximating data with functions, the goal of **Curve-fitting** is to get the values for a Dataset through which a given set of explanatory variables can actually depict another variable. \n\n**Regression** is a special case of **curve fitting** but here we just don’t need a curve which fits the training data in the best possible way(which may lead to overfitting) but a model which is able to generalize the learning and thus predict new points efficiently.\n\nHowever, it is true that numerous regression analyses use curve fitting methods, e.g. among the most popular, linear and logistic regression use linear and non-linear least squares respectively which are two of the most popular methods for curve fitting."
    },
    {
      "metadata": {
        "collapsed": true,
        "trusted": false
      },
      "cell_type": "code",
      "source": "# libraries\nimport matplotlib.pyplot as plt\n# import matplotlib.ticker as mtick\nimport numpy as np\nimport pandas as pd\nimport numpy as np\n\n# curve-fit() function imported from scipy \nfrom scipy.optimize import curve_fit\n\n%matplotlib inline",
      "execution_count": null,
      "outputs": []
    },
    {
      "metadata": {
        "collapsed": true,
        "trusted": false
      },
      "cell_type": "code",
      "source": "# A linear function y = slope * x + Y intercept\ndef line_fit(x, a, b):\n    return a*x + b",
      "execution_count": null,
      "outputs": []
    },
    {
      "metadata": {
        "trusted": false
      },
      "cell_type": "code",
      "source": "x = np.linspace(0,10,11)\nprint(x)",
      "execution_count": null,
      "outputs": []
    },
    {
      "metadata": {
        "trusted": false
      },
      "cell_type": "code",
      "source": "print(line_fit(x, 2, 4)) # y = 2*x + 4",
      "execution_count": null,
      "outputs": []
    },
    {
      "metadata": {
        "collapsed": true,
        "trusted": false
      },
      "cell_type": "code",
      "source": "# generate test data\nx_data = np.linspace(0,5, 50) #default is 50 steps\ny = line_fit(x_data, 2, 4)\n\n# add noise for simulating some real life y_data\nnp.random.seed(1729)\ny_noise = 0.8 * np.random.normal(size=x_data.size)\ny_data = y + y_noise",
      "execution_count": null,
      "outputs": []
    },
    {
      "metadata": {
        "trusted": false
      },
      "cell_type": "code",
      "source": "# plot the simulated y_data against x_data\n# plt.plot(x_data, y, 'k--', label='true data')\nplt.plot(x_data, y_data, 'ro', label='noisy data')\nplt.xlabel('x')\nplt.ylabel('y')\nplt.legend()\nplt.show();",
      "execution_count": null,
      "outputs": []
    },
    {
      "metadata": {},
      "cell_type": "markdown",
      "source": "**`curve_fit` requires a function that provides the type of fit needed ** <br> \n\ncurve_fit() function takes the \n* test-function,  \n* x-data and \n* y-data as argument and returns : <br>\n\nthe **coefficients** : a and b in param and \nthe **estimated covariance** of param in param_cov "
    },
    {
      "metadata": {
        "trusted": false
      },
      "cell_type": "code",
      "source": "# curve fit\npopt, pcov = curve_fit(line_fit, x_data, y_data) \n\nprint('popt: ', popt)\nprint('pcov', pcov)",
      "execution_count": null,
      "outputs": []
    },
    {
      "metadata": {},
      "cell_type": "markdown",
      "source": "`popt` is Optimal values for the parameters so that the sum of the squared residuals of $f(x_{data}, *popt) - y_{data}$ is minimized. It has the bounds, similar to what was given to generate the test data: $a=2$ and $b=4$  <br>\n\n`pcov` is The estimated covariance of `popt`. It indicates the uncertainties and correlations between parameters. <br> \nThe square roots of the diagons give one standard deviation errors."
    },
    {
      "metadata": {
        "trusted": false
      },
      "cell_type": "code",
      "source": "print(\"a =\", popt[0], \"+/-\", pcov[0,0]**0.5)\nprint(\"b =\", popt[1], \"+/-\", pcov[1,1]**0.5)",
      "execution_count": null,
      "outputs": []
    },
    {
      "metadata": {
        "trusted": false
      },
      "cell_type": "code",
      "source": "# plot the raw data, and the linear fit\nplt.plot(x_data, y_data, 'ro', alpha=0.5, label='raw data')\nplt.plot(x_data, line_fit(x_data, *popt), 'k--', label='linear fit')\nplt.legend()\nplt.xlabel('x')\nplt.ylabel('y')\nplt.show();",
      "execution_count": null,
      "outputs": []
    },
    {
      "metadata": {
        "collapsed": true,
        "trusted": false
      },
      "cell_type": "code",
      "source": "# fitting a non-linear data\n# Seed the random number generator for reproducibility\nnp.random.seed(0)\n\n# create a sample data\n# an array of 40 numbers between 0 and 10, both inclusive\nx = np.linspace(0, 10, num=40) \n\n# an array of 40 randomized numbers sinusidal  \ny = 3.45 * np.sin(1.334 * x) + np.random.normal(size = 40)",
      "execution_count": null,
      "outputs": []
    },
    {
      "metadata": {
        "trusted": false
      },
      "cell_type": "code",
      "source": "plt.plot(x, y, 'ro');\nplt.xlabel(r'$\\theta$')\nplt.ylabel(r'$sin(\\theta)$')\nplt.show();",
      "execution_count": null,
      "outputs": []
    },
    {
      "metadata": {
        "collapsed": true,
        "trusted": false
      },
      "cell_type": "code",
      "source": "# fitting to sin function, with coefficients as parameters\ndef sin_fit(x, a, b):\n    return a * np.sin(b * x)",
      "execution_count": null,
      "outputs": []
    },
    {
      "metadata": {
        "collapsed": true,
        "trusted": false
      },
      "cell_type": "code",
      "source": "# curve_fit() function takes the test-function \n# x-data and y-data as argument and returns  \n# the coefficients a and b in param and \n# the estimated covariance of param in param_cov \nparam, param_cov = curve_fit(sin_fit, x, y) ",
      "execution_count": null,
      "outputs": []
    },
    {
      "metadata": {
        "trusted": false
      },
      "cell_type": "code",
      "source": "print(\"Sine funcion coefficients:\") \nprint(param) \nprint(\"Covariance of coefficients:\") \nprint(param_cov) ",
      "execution_count": null,
      "outputs": []
    },
    {
      "metadata": {
        "collapsed": true,
        "trusted": false
      },
      "cell_type": "code",
      "source": "# generating a new y hat == ans\nans = (param[0]*(np.sin(param[1]*x))) ",
      "execution_count": null,
      "outputs": []
    },
    {
      "metadata": {
        "trusted": false
      },
      "cell_type": "code",
      "source": "# plotting fitted values over raw values\nplt.plot(x, y, 'ro', alpha=0.5, label='raw data')\nplt.plot(x, ans, 'k--', label='fitted data')\nplt.legend()\nplt.xlabel(r'$\\theta$')\nplt.ylabel(r'$sin(\\theta)$')\nplt.show();",
      "execution_count": null,
      "outputs": []
    },
    {
      "metadata": {
        "collapsed": true,
        "trusted": false
      },
      "cell_type": "code",
      "source": "# fitting an exponential data\nx = np.linspace(0, 1, num = 40) \ny = 3.45 * np.exp(1.334 * x) + np.random.normal(size = 40) ",
      "execution_count": null,
      "outputs": []
    },
    {
      "metadata": {
        "trusted": false
      },
      "cell_type": "code",
      "source": "plt.plot(x, y, 'ro')\nplt.xlabel(r'$x$')\nplt.ylabel(r'$y$')\nplt.show();",
      "execution_count": null,
      "outputs": []
    },
    {
      "metadata": {
        "collapsed": true,
        "trusted": false
      },
      "cell_type": "code",
      "source": "# fitting function:\ndef exp_fit(x, a, b): \n    return a*np.exp(b*x) \n\n# fitting the data\nparam, param_cov = curve_fit(exp_fit, x, y) ",
      "execution_count": null,
      "outputs": []
    },
    {
      "metadata": {
        "trusted": false
      },
      "cell_type": "code",
      "source": "print(\"Exp funcion coefficients:\") \nprint(param) \nprint(\"Covariance of coefficients:\") \nprint(param_cov) \nans = (param[0]*(np.exp(param[1]*x)))\n\nplt.plot(x,y, 'ro', label='raw', alpha=0.5)\nplt.plot(x, ans, 'k--', label='fitted')\nplt.xlabel(r'$x$')\nplt.ylabel(r'$y$')\nplt.legend()\nplt.show();",
      "execution_count": null,
      "outputs": []
    },
    {
      "metadata": {},
      "cell_type": "markdown",
      "source": "**Fitting some real life data** <br>\nLinear fit of the length and width of Puget Sound Butter Clams, dataset based on [Quantitative Learning Lab](https://seattlecentral.edu/qelp/sets/001/001.html)"
    },
    {
      "metadata": {
        "trusted": false
      },
      "cell_type": "code",
      "source": "df = pd.read_csv('https://seattlecentral.edu/qelp/sets/001/s001.txt', sep='\\t', names=['width', 'length'])\ndf.head()",
      "execution_count": null,
      "outputs": []
    },
    {
      "metadata": {
        "trusted": false
      },
      "cell_type": "code",
      "source": "plt.plot(df['width'], df['length'], 'o', alpha=0.5)\nplt.xlabel('width (cm)')\nplt.ylabel('length (cm)')\nplt.title('Butter clams from Alki Beach, Puget Sound')\nplt.show();",
      "execution_count": null,
      "outputs": []
    },
    {
      "metadata": {
        "trusted": false
      },
      "cell_type": "code",
      "source": "# linear equation y = ax + b\ndef linear_fit_SM(x, a, b):\n    '''y = ax+b'''\n    return (a*x+b)\n\n# curve fit\npopt, pcov = curve_fit(linear_fit_SM, df['width'], df['length'])\n\nprint(\"slope =\", popt[0], \"+/-\", pcov[0,0]**0.5)\nprint(\"intercept =\", popt[1], \"+/-\", pcov[1,1]**0.5)",
      "execution_count": null,
      "outputs": []
    },
    {
      "metadata": {
        "trusted": false
      },
      "cell_type": "code",
      "source": "print('std errors: ', np.sqrt(np.diag(pcov)))",
      "execution_count": null,
      "outputs": []
    },
    {
      "metadata": {
        "trusted": false
      },
      "cell_type": "code",
      "source": "# plot the fitted line\n\nplt.plot(df['width'], df['length'], 'bo', alpha=0.4, label='data')\nplt.plot(df['width'], linear_fit_SM(df['width'], *popt), 'k--', label='linear fit')\nplt.xlabel('width (cm)')\nplt.ylabel('length (cm)')\nplt.title('Butter clams from Alki Beach, Puget Sound')\nplt.legend(loc='lower right')\nplt.show();",
      "execution_count": null,
      "outputs": []
    },
    {
      "metadata": {},
      "cell_type": "markdown",
      "source": "After fitting data with one or more models, we need to evaluate the **goodness of fit.** \n\nWe can show the **goodness of fit** both: <br>\n* graphically, and \n* numerically. \n\nThe residuals and prediction bounds are graphical measures, while the goodness of fit statistics and confidence bounds are numerical measures.\n\n** Residuals ** <br>\nThe residuals from a fitted model are defined as: <br> \nthe differences between the response data and the fit to the response data at each predictor value.\n\n$$residual = data - fit$$"
    },
    {
      "metadata": {},
      "cell_type": "markdown",
      "source": "From the fit, $R^2$ can be calculated from the mean ($\\bar{y}$), the total sum of squares ($SS_{tot}$), and the residual sum of squares ($SS_{res}$), each defined as: <br>\n$$\\bar{y} = \\frac{1}{n}\\sum^n_{i=1}y_i$$\n$$SS_{tot} = \\sum_i(y_i-\\bar{y})^2$$\n$$SS_{res} = \\sum_i(y_i-f_i)^2$$\n$$R^2 = 1-\\frac{SS_{res}}{SS_{tot}}$$\n* `popt, pcov = curve_fit(fit_func, xdata, ydata)`\n* `residuals = ydata- fit_func(xdata, popt)`\n* `ss_res = numpy.sum(residuals**2)`\n* `ss_tot = numpy.sum((ydata-numpy.mean(ydata))**2)`\n* `r_squared = 1 - (ss_res / ss_tot)`"
    },
    {
      "metadata": {
        "trusted": false
      },
      "cell_type": "code",
      "source": "residuals = df['length'] - linear_fit_SM(df['width'], *popt)\nplt.plot(df['width'], residuals, 'bo', alpha=0.5)\nplt.title('residuals');",
      "execution_count": null,
      "outputs": []
    },
    {
      "metadata": {
        "trusted": false
      },
      "cell_type": "code",
      "source": "ss_res = np.sum(residuals**2)\nss_tot = np.sum((df['length']-np.mean(df['length']))**2)\nr_squared = 1 - (ss_res / ss_tot)\nprint(r_squared)",
      "execution_count": null,
      "outputs": []
    },
    {
      "metadata": {},
      "cell_type": "markdown",
      "source": "** Fitting another real life data: [Population of the United States](https://vincentarelbundock.github.io/Rdatasets/datasets.html) **\n\nThis data frame contains the following columns:\n\nyear: census year.\npopulation: Population in millions.\n\nSource\nU.S.Census Bureau: http://www.census-charts.com/Population/pop-us-1790-2000.html, downloaded 1 May 2008.\n\nReferences\nFox, J. (2008) Applied Regression Analysis and Generalized Linear Models, Second Edition. Sage."
    },
    {
      "metadata": {
        "trusted": false
      },
      "cell_type": "code",
      "source": "my_df = pd.read_csv('https://vincentarelbundock.github.io/Rdatasets/csv/carData/USPop.csv')\nmy_df.head()",
      "execution_count": null,
      "outputs": []
    },
    {
      "metadata": {
        "trusted": false
      },
      "cell_type": "code",
      "source": "plt.plot(my_df.year, my_df.population, 'bo')\nplt.xlabel('years')\nplt.ylabel('log(population)')\nplt.title('Population of the United States')\nplt.show();",
      "execution_count": null,
      "outputs": []
    },
    {
      "metadata": {
        "trusted": false
      },
      "cell_type": "code",
      "source": "x_data = np.array(my_df.year)\ny_data = np.array(my_df.population)\n\n\n# natural log transform\nlog_y_data = np.log(y_data)\n\n# plot log transformant\nplt.plot(x_data, log_y_data, 'bo')\nplt.xlabel('years')\nplt.ylabel('log(population)')\nplt.title('Population of the United States')\nplt.show();",
      "execution_count": null,
      "outputs": []
    },
    {
      "metadata": {
        "trusted": false
      },
      "cell_type": "code",
      "source": "# polynomial fitting function:\n# numpy.polyfit(x, y, deg)\ncurve_fit = np.polyfit(x_data, log_y_data, 1)\nprint(curve_fit) ",
      "execution_count": null,
      "outputs": []
    },
    {
      "metadata": {
        "trusted": false
      },
      "cell_type": "code",
      "source": "y = np.exp(-3.43433602e+01) * np.exp(2.01931548e-02*x_data)\nplt.plot(x_data, y_data, \"o\", alpha=0.5, label='population')\nplt.plot(x_data, y, '--k',label='Exponential Fit')\nplt.xlabel('years')\nplt.ylabel('log(population)');",
      "execution_count": null,
      "outputs": []
    },
    {
      "metadata": {},
      "cell_type": "markdown",
      "source": "[Real life noisy data](https://raw.githubusercontent.com/astrofrog/py4sci/master/4.thu/data/munich_temperatures_average_with_bad_data.txt)"
    },
    {
      "metadata": {
        "trusted": false
      },
      "cell_type": "code",
      "source": "# real life data\ncolumns = ['date', 'temp']\nmunich_data = pd.read_clipboard(header=None, names=columns)\n\nmunich_data.head()",
      "execution_count": null,
      "outputs": []
    },
    {
      "metadata": {
        "trusted": false
      },
      "cell_type": "code",
      "source": "munich_data.dtypes",
      "execution_count": null,
      "outputs": []
    },
    {
      "metadata": {
        "trusted": false
      },
      "cell_type": "code",
      "source": "plt.plot(munich_data['date'], munich_data['temp'])\nplt.xlabel('date')\nplt.ylabel(r'temperature (in $^\\degree{C}$)')\nplt.show();",
      "execution_count": null,
      "outputs": []
    },
    {
      "metadata": {
        "trusted": false
      },
      "cell_type": "code",
      "source": "date = np.array(munich_data['date'])\ntemp = np.array(munich_data['temp'])\n\nkeep = np.abs(temp) < 90 # Boolean array\ndate = date[keep]\ntemp = temp[keep]\nplt.plot(date, temp)\nplt.xlabel('date')\nplt.ylabel(r'temperature (in $^\\degree{C}$)')\nplt.show();",
      "execution_count": null,
      "outputs": []
    }
  ],
  "metadata": {
    "kernelspec": {
      "name": "python3",
      "display_name": "Python 3",
      "language": "python"
    },
    "language_info": {
      "mimetype": "text/x-python",
      "nbconvert_exporter": "python",
      "name": "python",
      "pygments_lexer": "ipython3",
      "version": "3.5.4",
      "file_extension": ".py",
      "codemirror_mode": {
        "version": 3,
        "name": "ipython"
      }
    }
  },
  "nbformat": 4,
  "nbformat_minor": 2
}