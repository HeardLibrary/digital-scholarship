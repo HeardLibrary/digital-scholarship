{
 "cells": [
  {
   "cell_type": "code",
   "execution_count": null,
   "metadata": {
    "collapsed": true
   },
   "outputs": [],
   "source": [
    "# libraries\n",
    "\n",
    "import numpy as np\n",
    "import pandas as pd\n",
    "import matplotlib.pyplot as plt\n",
    "\n",
    "%matplotlib inline"
   ]
  },
  {
   "cell_type": "markdown",
   "metadata": {},
   "source": [
    "** Lyme disease** <br> \n",
    "[Lyme](https://www.cdc.gov/lyme/index.html) is the most common vector-borne disease in the United States. Lyme disease is caused by the bacterium _Borrelia burgdorferi_ and rarely, _Borrelia mayonii_. The bacteria is transmitted to humans through the bite of infected blacklegged ticks. \n",
    "\n",
    "With changing climate, the incidence rate and the range of Lyme disease is increasing. Hence [Lyme disease is a good Climate Change Indicator](https://www.cdc.gov/lyme/stats/tables.html)"
   ]
  },
  {
   "cell_type": "code",
   "execution_count": null,
   "metadata": {},
   "outputs": [],
   "source": [
    "# import a data file\n",
    "df1 = pd.read_csv('./data/lyme.csv')\n",
    "df1.head()"
   ]
  },
  {
   "cell_type": "code",
   "execution_count": null,
   "metadata": {},
   "outputs": [],
   "source": [
    "df1.tail()"
   ]
  },
  {
   "cell_type": "code",
   "execution_count": null,
   "metadata": {},
   "outputs": [],
   "source": [
    "df1.dtypes"
   ]
  },
  {
   "cell_type": "code",
   "execution_count": null,
   "metadata": {},
   "outputs": [],
   "source": [
    "df1[\"Year\"]"
   ]
  },
  {
   "cell_type": "code",
   "execution_count": null,
   "metadata": {},
   "outputs": [],
   "source": [
    "# simple statistics on a column\n",
    "df1['Incidence Rate'].mean()"
   ]
  },
  {
   "cell_type": "markdown",
   "metadata": {},
   "source": [
    "`loc` and `iloc` for slicing\n",
    "\n",
    "`iloc` serches for the index number : integer positioning<br>\n",
    "`loc` searches for index label : label positioning"
   ]
  },
  {
   "cell_type": "code",
   "execution_count": null,
   "metadata": {},
   "outputs": [],
   "source": [
    "# slicing by index numbers:\n",
    "df1.iloc[0]"
   ]
  },
  {
   "cell_type": "code",
   "execution_count": null,
   "metadata": {},
   "outputs": [],
   "source": [
    "# instead of head()\n",
    "df1.iloc[:5]"
   ]
  },
  {
   "cell_type": "code",
   "execution_count": null,
   "metadata": {},
   "outputs": [],
   "source": [
    "# every second row, until 10th\n",
    "df1.iloc[:10:2]"
   ]
  },
  {
   "cell_type": "code",
   "execution_count": null,
   "metadata": {},
   "outputs": [],
   "source": [
    "# columns\n",
    "df1.iloc[:5,1]"
   ]
  },
  {
   "cell_type": "code",
   "execution_count": null,
   "metadata": {},
   "outputs": [],
   "source": [
    "test_df = pd.DataFrame({'A': [1,2,3], 'B': [10,11,12]}, index=['a', 'b', 'c'])\n",
    "test_df"
   ]
  },
  {
   "cell_type": "code",
   "execution_count": null,
   "metadata": {},
   "outputs": [],
   "source": [
    "test_df.iloc[1]"
   ]
  },
  {
   "cell_type": "code",
   "execution_count": null,
   "metadata": {},
   "outputs": [],
   "source": [
    "test_df.loc['b']"
   ]
  },
  {
   "cell_type": "code",
   "execution_count": null,
   "metadata": {},
   "outputs": [],
   "source": [
    "test_df.index.get_loc('b')"
   ]
  },
  {
   "cell_type": "code",
   "execution_count": null,
   "metadata": {},
   "outputs": [],
   "source": [
    "# slicing by Boolean\n",
    "# criterion\n",
    "test_df['B'] == 11"
   ]
  },
  {
   "cell_type": "code",
   "execution_count": null,
   "metadata": {},
   "outputs": [],
   "source": [
    "test_df.loc[test_df['B'] == 11]"
   ]
  },
  {
   "cell_type": "code",
   "execution_count": null,
   "metadata": {},
   "outputs": [],
   "source": [
    "# slicing by Boolean:\n",
    "df1.loc[df1['Year'] <= 2000]"
   ]
  },
  {
   "cell_type": "code",
   "execution_count": null,
   "metadata": {},
   "outputs": [],
   "source": [
    "# using boolean slicing to slice relevant data\n",
    "df1.loc[df1['Year'] > 2000]"
   ]
  },
  {
   "cell_type": "code",
   "execution_count": null,
   "metadata": {},
   "outputs": [],
   "source": [
    "print('Average incidence rate after 2000: ')\n",
    "print(df1.loc[df1['Year'] > 2000]['Incidence Rate'].mean())\n",
    "\n",
    "print('Average incidence rate before 2000: ')\n",
    "print(df1.loc[df1['Year'] <= 2000]['Incidence Rate'].mean())"
   ]
  },
  {
   "cell_type": "code",
   "execution_count": null,
   "metadata": {},
   "outputs": [],
   "source": [
    "print('Average incidence rate after 2000: ')\n",
    "print(round(df1.loc[df1['Year'] > 2000]['Incidence Rate'].mean(), 2))\n",
    "\n",
    "print('Average incidence rate before 2000: ')\n",
    "print(round(df1.loc[df1['Year'] <= 2000]['Incidence Rate'].mean(), 2))"
   ]
  },
  {
   "cell_type": "code",
   "execution_count": null,
   "metadata": {},
   "outputs": [],
   "source": [
    "# descriptive statistics\n",
    "round(df1['Incidence Rate'].describe())"
   ]
  },
  {
   "cell_type": "markdown",
   "metadata": {},
   "source": [
    "** A simple plot ** <br>\n"
   ]
  },
  {
   "cell_type": "code",
   "execution_count": null,
   "metadata": {},
   "outputs": [],
   "source": [
    "plt.plot(df1['Year'], df1['Incidence Rate']);"
   ]
  },
  {
   "cell_type": "code",
   "execution_count": null,
   "metadata": {},
   "outputs": [],
   "source": [
    "plt.plot(df1['Year'], df1['Incidence Rate'])\n",
    "plt.legend()\n",
    "plt.xlabel('Year')\n",
    "plt.ylabel('Cases per 100,000 people')\n",
    "plt.title('Reported Cases of Lyme Disease in the United States, \\n (1991–2014)')\n",
    "plt.show();"
   ]
  },
  {
   "cell_type": "markdown",
   "metadata": {},
   "source": [
    "** Line attributes **"
   ]
  },
  {
   "cell_type": "code",
   "execution_count": null,
   "metadata": {},
   "outputs": [],
   "source": [
    "# sample data:\n",
    "x = np.linspace(0, 10, 1000)\n",
    "y = np.sin(x)\n",
    "\n",
    "# line colors\n",
    "plt.plot(x, np.sin(x - 0), color='blue')        # specify color by name\n",
    "plt.plot(x, np.sin(x - 1), color='g')           # short color code (rgbcmyk)\n",
    "plt.plot(x, np.sin(x - 2), color='0.75')        # Grayscale between 0 and 1\n",
    "plt.plot(x, np.sin(x - 3), color='#FFDD44')     # Hex code (RRGGBB from 00 to FF)\n",
    "plt.plot(x, np.sin(x - 4), color=(1.0,0.2,0.3)) # RGB tuple, values 0 to 1\n",
    "plt.plot(x, np.sin(x - 5), color='chartreuse'); # all HTML color names supported"
   ]
  },
  {
   "cell_type": "code",
   "execution_count": null,
   "metadata": {},
   "outputs": [],
   "source": [
    "# line types\n",
    "\n",
    "plt.plot(x, x + 0, linestyle='solid')\n",
    "plt.plot(x, x + 1, linestyle='dashed')\n",
    "plt.plot(x, x + 2, linestyle='dashdot')\n",
    "plt.plot(x, x + 3, linestyle='dotted');\n",
    "\n",
    "# For short, you can use the following codes:\n",
    "plt.plot(x, x + 4, linestyle='-')  # solid\n",
    "plt.plot(x, x + 5, linestyle='--') # dashed\n",
    "plt.plot(x, x + 6, linestyle='-.') # dashdot\n",
    "plt.plot(x, x + 7, linestyle=':');  # dotted"
   ]
  },
  {
   "cell_type": "code",
   "execution_count": null,
   "metadata": {},
   "outputs": [],
   "source": [
    "plt.plot(x, x + 0, '-g')  # solid green\n",
    "plt.plot(x, x + 1, '--c') # dashed cyan\n",
    "plt.plot(x, x + 2, '-.k') # dashdot black\n",
    "plt.plot(x, x + 3, ':r');  # dotted red"
   ]
  },
  {
   "cell_type": "code",
   "execution_count": null,
   "metadata": {},
   "outputs": [],
   "source": [
    "plt.plot(df1['Year'], df1['Incidence Rate'])\n",
    "plt.legend()\n",
    "plt.xlabel('Year')\n",
    "plt.ylabel('Cases per 100,000 people')\n",
    "plt.title('Reported Cases of Lyme Disease in the United States, \\n (1991–2014)')\n",
    "plt.xlim(1991,2010)\n",
    "plt.xticks([1995, 2000, 2005, 2010])\n",
    "# plt.ylim(-1.5, 1.5)\n",
    "\n",
    "# optional\n",
    "plt.text(2000, 5.5, r'$\\mu=100,\\ \\sigma=15$') # Latex\n",
    "plt.annotate('New Century', xy=(2000, 6.2), xytext=(1995, 7.5),\n",
    "         arrowprops=dict(facecolor='black', shrink=0.05))\n",
    "\n",
    "plt.show();"
   ]
  },
  {
   "cell_type": "markdown",
   "metadata": {},
   "source": [
    "** West Nile Virus disease** <br> \n",
    "[West Nile Virus](https://www.cdc.gov/westnile/index.html) (WNV) is the leading cause of mosquito-borne disease in the continental United States. Cases of WNV occur during mosquito season, which starts in the summer and continues through fall.\n",
    "\n",
    "With increasingly warmer and longer summers, the incidence rate and the range of WNV disease is also increasing. Hence [WNV is another Climate Change Indicator](https://www.cdc.gov/westnile/statsmaps/cumMapsData.html)"
   ]
  },
  {
   "cell_type": "code",
   "execution_count": null,
   "metadata": {},
   "outputs": [],
   "source": [
    "# another data file\n",
    "# df2 = pd.read_csv('./data/west-nile.txt', skiprows=6)\n",
    "df2 = pd.read_csv('./data/west-nile.txt', skiprows=7, names=['Year', 'WNV_incidence'])\n",
    "df2.head()"
   ]
  },
  {
   "cell_type": "code",
   "execution_count": null,
   "metadata": {},
   "outputs": [],
   "source": [
    "plt.plot(df1['Year'], df1['Incidence Rate'])\n",
    "plt.plot(df2['Year'], df2['WNV_incidence'])\n",
    "plt.legend()\n",
    "plt.xlabel('Year')\n",
    "plt.ylabel('Cases per 100,000 people')\n",
    "plt.title('Reported Cases of Lyme & WNV Diseases in the United States')\n",
    "plt.show();"
   ]
  },
  {
   "cell_type": "markdown",
   "metadata": {},
   "source": [
    "** Alternate way to plot **"
   ]
  },
  {
   "cell_type": "code",
   "execution_count": null,
   "metadata": {},
   "outputs": [],
   "source": [
    "plt.figure()\n",
    "plt.plot([1, 2, 3, 4]);"
   ]
  },
  {
   "cell_type": "code",
   "execution_count": null,
   "metadata": {},
   "outputs": [],
   "source": [
    "# overlaid plots\n",
    "plt.figure()\n",
    "plt.plot([2, 3, 4, 5], 'g')\n",
    "plt.plot([1, 2, 3, 4], 'r');"
   ]
  },
  {
   "cell_type": "code",
   "execution_count": null,
   "metadata": {},
   "outputs": [],
   "source": [
    "plt.figure()\n",
    "plt.subplot(1, 2, 1) # rows, columns, number\n",
    "plt.plot([1, 2, 3, 4], 'r')\n",
    "\n",
    "plt.subplot(1, 2, 2) # rows, columns, number\n",
    "plt.plot([1, 2, 3, 4], 'g');"
   ]
  },
  {
   "cell_type": "code",
   "execution_count": null,
   "metadata": {},
   "outputs": [],
   "source": [
    "fig, axs = plt.subplots(2, 1)\n",
    "axs[0].plot()\n",
    "axs[1].plot()\n",
    "plt.show();"
   ]
  },
  {
   "cell_type": "code",
   "execution_count": null,
   "metadata": {},
   "outputs": [],
   "source": [
    "# two y axes\n",
    "fig, ax1 = plt.subplots()\n",
    "\n",
    "color = 'tab:blue'\n",
    "\n",
    "# plot 1\n",
    "ax1.set_xlabel(\"Year\")\n",
    "ax1.set_ylabel(\"Lyme cases per 100,000 people\", color=color)\n",
    "# ax1.set_ylim(min,max)\n",
    "ax1.plot(df1['Year'], df1['Incidence Rate'], color=color)\n",
    "ax1.tick_params(axis='y', labelcolor=color)\n",
    "\n",
    "ax2 = ax1.twinx()  # instantiate a second axes that shares the same x-axis\n",
    "\n",
    "color = 'tab:red'\n",
    "\n",
    "# plot 2\n",
    "ax2.set_ylabel(\"Zika cases per 100,000 people\", color=color)\n",
    "ax2.plot(df2['Year'], df2['WNV_incidence'], color=color)\n",
    "ax2.tick_params(axis='y', labelcolor=color)\n",
    "# ax2.set_ylim(min, max)\n",
    "\n",
    "fig.tight_layout()  # otherwise the right y-label is slightly clipped\n",
    "\n",
    "plt.title('Reported Cases of Lyme & WNV Disease in the United States')\n",
    "# plt.xlim(min, max)\n",
    "\n",
    "plt.show();"
   ]
  },
  {
   "cell_type": "code",
   "execution_count": null,
   "metadata": {
    "collapsed": true
   },
   "outputs": [],
   "source": [
    "# saving figures\n",
    "# plt.savefig('./data/fig.png')\n",
    "# plt.savefig('fig.pdf')"
   ]
  }
 ],
 "metadata": {
  "kernelspec": {
   "display_name": "Python 3",
   "language": "python",
   "name": "python3"
  },
  "language_info": {
   "codemirror_mode": {
    "name": "ipython",
    "version": 3
   },
   "file_extension": ".py",
   "mimetype": "text/x-python",
   "name": "python",
   "nbconvert_exporter": "python",
   "pygments_lexer": "ipython3",
   "version": "3.6.3"
  }
 },
 "nbformat": 4,
 "nbformat_minor": 2
}
