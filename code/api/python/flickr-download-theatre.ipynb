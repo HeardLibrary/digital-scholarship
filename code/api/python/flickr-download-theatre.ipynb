{
 "cells": [
  {
   "cell_type": "markdown",
   "metadata": {},
   "source": [
    "This script is based on instructions given in [this lesson](https://github.com/HeardLibrary/digital-scholarship/blob/master/code/scrape/pylesson/lesson2-api.ipynb). \n",
    "\n",
    "## Import libraries and load API key from file\n",
    "\n",
    "The API key should be the only item in a text file called `flickr_api_key.txt` located in the user's home directory. No trailing newline and don't include the \"secret\"."
   ]
  },
  {
   "cell_type": "code",
   "execution_count": null,
   "metadata": {},
   "outputs": [],
   "source": [
    "from pathlib import Path\n",
    "import requests\n",
    "import json\n",
    "import csv\n",
    "from time import sleep\n",
    "import webbrowser\n",
    "\n",
    "# define some canned functions we need to use\n",
    "\n",
    "# write a list of dictionaries to a CSV file\n",
    "def write_dicts_to_csv(table, filename, fieldnames):\n",
    "    with open(filename, 'w', newline='', encoding='utf-8') as csv_file_object:\n",
    "        writer = csv.DictWriter(csv_file_object, fieldnames=fieldnames)\n",
    "        writer.writeheader()\n",
    "        for row in table:\n",
    "            writer.writerow(row)\n",
    "\n",
    "home = str(Path.home()) #gets path to home directory; supposed to work for Win and Mac\n",
    "key_filename = 'flickr_api_key.txt'\n",
    "api_key_path = home + '/' + key_filename\n",
    "\n",
    "try:\n",
    "    with open(api_key_path, 'rt', encoding='utf-8') as file_object:\n",
    "        api_key = file_object.read()\n",
    "        # print(api_key) # delete this line once the script is working; don't want the key as part of the notebook\n",
    "except:\n",
    "    print(key_filename + ' file not found - is it in your home directory?')"
   ]
  },
  {
   "cell_type": "markdown",
   "metadata": {},
   "source": [
    "## Make a test API call to the account\n",
    "\n",
    "We need to know the user ID. Go to flickr.com, and search for vutheatre. The result is https://www.flickr.com/photos/123262983@N05 which tells us that the ID is 123262983@N05 . There are a lot of kinds of searches we can do. A list is [here](https://www.flickr.com/services/api/).  Let's try `flickr.people.getPhotos` (described [here](https://www.flickr.com/services/api/flickr.people.getPhotos.html)).  This method doesn't actually get the photos; it gets metadata about the photos for an account.\n",
    "\n",
    "The main purpose of this query is to find out the number of photos that are available so that we can know how to set up the next part. The number of photos is in `['photos']['total']`, so we can extract that from the response data."
   ]
  },
  {
   "cell_type": "code",
   "execution_count": null,
   "metadata": {},
   "outputs": [],
   "source": [
    "user_id = '123262983@N05' # vutheatre's ID\n",
    "endpoint_url = 'https://www.flickr.com/services/rest'\n",
    "method = 'flickr.people.getPhotos'\n",
    "filename = 'theatre-metadata.csv'\n",
    "\n",
    "param_dict = {\n",
    "    'method' : method,\n",
    "#    'tags' : 'kangaroo',\n",
    "#    'extras' : 'url_o',\n",
    "    'per_page' : '1',  # default is 100, maximum is 500. Use paging to retrieve more than 500.\n",
    "    'page' : '1',\n",
    "    'user_id' : user_id,\n",
    "    'oauth_consumer_key' : api_key,\n",
    "    'nojsoncallback' : '1', # this parameter causes the API to return actual JSON instead of its weird default string\n",
    "    'format' : 'json' # overrides the default XML serialization for the search results\n",
    "    }\n",
    "\n",
    "metadata_response = requests.get(endpoint_url, params = param_dict)\n",
    "\n",
    "# print(metadata_response.url) # uncomment this if testing is needed, again don't reveal key in notebook\n",
    "data = metadata_response.json()\n",
    "print(json.dumps(data, indent=4))\n",
    "print()\n",
    "\n",
    "number_photos = int(data['photos']['total']) # need to convert string to number\n",
    "print('Number of photos: ', number_photos)"
   ]
  },
  {
   "cell_type": "markdown",
   "metadata": {},
   "source": [
    "## Test to see what kinds of useful metadata we can get\n",
    "\n",
    "The instructions for the [method](https://www.flickr.com/services/api/flickr.people.getPhotos.html) says what kinds of \"extras\" you can request metadata about. Let's ask for everything that we care about and don't already know: \n",
    "\n",
    "`description,license,original_format,date_taken,original_format,geo,tags,machine_tags,media,url_t,url_o`\n",
    "\n",
    "`url_t` is the URL for a thumbnail of the image and `url_o` is the URL to retrieve the original photo. The dimensions of these images will be given automatically when we request the URLs, so we don't need `o_dims`. There isn't any place to request the title, since it's automatically returned."
   ]
  },
  {
   "cell_type": "code",
   "execution_count": null,
   "metadata": {},
   "outputs": [],
   "source": [
    "param_dict = {\n",
    "    'method' : method,\n",
    "    'extras' : 'description,license,original_format,date_taken,original_format,geo,tags,machine_tags,media,url_t,url_o',\n",
    "    'per_page' : '1',  # default is 100, maximum is 500. Use paging to retrieve more than 500.\n",
    "    'page' : '1',\n",
    "    'user_id' : user_id,\n",
    "    'oauth_consumer_key' : api_key,\n",
    "    'nojsoncallback' : '1', # this parameter causes the API to return actual JSON instead of its weird default string\n",
    "    'format' : 'json' # overrides the default XML serialization for the search results\n",
    "    }\n",
    "\n",
    "metadata_response = requests.get(endpoint_url, params = param_dict)\n",
    "# print(metadata_response.url) # uncomment this if testing is needed, again don't reveal key in notebook\n",
    "\n",
    "data = metadata_response.json()\n",
    "print(json.dumps(data, indent=4))\n",
    "print()"
   ]
  },
  {
   "cell_type": "markdown",
   "metadata": {},
   "source": [
    "## Create and test the function to extract the data we want\n",
    "\n"
   ]
  },
  {
   "cell_type": "code",
   "execution_count": null,
   "metadata": {},
   "outputs": [],
   "source": [
    "def extract_data(photo_number, data):\n",
    "    dictionary = {} # create an empty dictionary\n",
    "\n",
    "    # load the response data into a dictionary\n",
    "    dictionary['id'] = data['photos']['photo'][photo_number]['id']\n",
    "    dictionary['title'] = data['photos']['photo'][photo_number]['title']\n",
    "    dictionary['license'] = data['photos']['photo'][photo_number]['license']\n",
    "    dictionary['description'] = data['photos']['photo'][photo_number]['description']['_content']\n",
    "\n",
    "    # convert the stupid date format to ISO 8601 dateTime; don't know the time zone - maybe add later?\n",
    "    temp_time = data['photos']['photo'][photo_number]['datetaken']\n",
    "    dictionary['date_taken'] = temp_time.replace(' ', 'T')\n",
    "\n",
    "    dictionary['tags'] = data['photos']['photo'][photo_number]['tags']\n",
    "    dictionary['machine_tags'] = data['photos']['photo'][photo_number]['machine_tags']\n",
    "    dictionary['original_format'] = data['photos']['photo'][photo_number]['originalformat']\n",
    "    dictionary['latitude'] = data['photos']['photo'][photo_number]['latitude']\n",
    "    dictionary['longitude'] = data['photos']['photo'][photo_number]['longitude']\n",
    "    dictionary['thumbnail_url'] = data['photos']['photo'][photo_number]['url_t']\n",
    "    dictionary['original_url'] = data['photos']['photo'][photo_number]['url_o']\n",
    "    dictionary['original_height'] = data['photos']['photo'][photo_number]['height_o']\n",
    "    dictionary['original_width'] = data['photos']['photo'][photo_number]['width_o']\n",
    "    \n",
    "    return dictionary\n",
    "\n",
    "# test the function with a single row\n",
    "table = []\n",
    "\n",
    "photo_number = 0\n",
    "photo_dictionary = extract_data(photo_number, data)\n",
    "table.append(photo_dictionary)\n",
    "\n",
    "# write the data to a file\n",
    "fieldnames = photo_dictionary.keys() # use the keys from the last dictionary for column headers; assume all are the same\n",
    "write_dicts_to_csv(table, filename, fieldnames)\n",
    "\n",
    "print('Done')"
   ]
  },
  {
   "cell_type": "markdown",
   "metadata": {},
   "source": [
    "## Create the loops to do the paging\n",
    "\n",
    "Flickr limits the number of photos that can be requested to 500. Since we have more than that, we need to request the data 500 photos at a time."
   ]
  },
  {
   "cell_type": "code",
   "execution_count": null,
   "metadata": {},
   "outputs": [],
   "source": [
    "per_page = 5   # use 500 for full download, use smaller number like 5 for testing\n",
    "pages = number_photos // per_page   # the // operator returns the integer part of the division (\"floor\")\n",
    "table = []\n",
    "\n",
    "#for page_number in range(0, pages + 1):  # need to add one to get the final partial page\n",
    "for page_number in range(0, 1):  # use this to do only one page for testing\n",
    "    print('retrieving page ', page_number + 1)\n",
    "    page_string = str(page_number + 1)\n",
    "    param_dict = {\n",
    "        'method' : method,\n",
    "        'extras' : 'description,license,original_format,date_taken,original_format,geo,tags,machine_tags,media,url_t,url_o',\n",
    "        'per_page' : str(per_page),  # default is 100, maximum is 500.\n",
    "        'page' : page_string,\n",
    "        'user_id' : user_id,\n",
    "        'oauth_consumer_key' : api_key,\n",
    "        'nojsoncallback' : '1', # this parameter causes the API to return actual JSON instead of its weird default string\n",
    "        'format' : 'json' # overrides the default XML serialization for the search results\n",
    "        }\n",
    "    metadata_response = requests.get(endpoint_url, params = param_dict)\n",
    "    data = metadata_response.json()\n",
    "#    print(json.dumps(data, indent=4))  # uncomment this line for testing\n",
    "    \n",
    "    # data['photos']['photo'] is the number of photos for which data was returned\n",
    "    for image_number in range(0, len(data['photos']['photo'])):\n",
    "        photo_dictionary = extract_data(image_number, data)\n",
    "        table.append(photo_dictionary)\n",
    "\n",
    "    # write the data to a file\n",
    "    # We could just do this for all the data at the end.\n",
    "    # But if the search fails in the middle, we will at least get partial results\n",
    "    fieldnames = photo_dictionary.keys() # use the keys from the last dictionary for column headers; assume all are the same\n",
    "    write_dicts_to_csv(table, filename, fieldnames)\n",
    "\n",
    "    sleep(1) # wait a second to avoid getting blocked for hitting the API to rapidly\n",
    "\n",
    "print('Done')"
   ]
  },
  {
   "cell_type": "code",
   "execution_count": null,
   "metadata": {},
   "outputs": [],
   "source": []
  }
 ],
 "metadata": {
  "kernelspec": {
   "display_name": "Python 3",
   "language": "python",
   "name": "python3"
  },
  "language_info": {
   "codemirror_mode": {
    "name": "ipython",
    "version": 3
   },
   "file_extension": ".py",
   "mimetype": "text/x-python",
   "name": "python",
   "nbconvert_exporter": "python",
   "pygments_lexer": "ipython3",
   "version": "3.7.1"
  }
 },
 "nbformat": 4,
 "nbformat_minor": 2
}
