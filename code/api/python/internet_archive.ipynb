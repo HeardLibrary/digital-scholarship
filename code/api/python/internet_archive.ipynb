{
 "cells": [
  {
   "cell_type": "markdown",
   "metadata": {},
   "source": [
    "# JSON from the Internet Archive API\n",
    "\n",
    "To understand how to use an API, you need to go to the developer web page. Here's the Internet Archive's: <https://archive.org/developers/index.html>\n"
   ]
  },
  {
   "cell_type": "code",
   "execution_count": null,
   "metadata": {},
   "outputs": [],
   "source": [
    "# Configuration\n",
    "import requests\n",
    "import json\n",
    "from pprint import pprint # Pretty Print\n",
    "\n",
    "# Global Variables\n",
    "item_metadata_read_api_base_url = 'https://archive.org/metadata/'"
   ]
  },
  {
   "cell_type": "markdown",
   "metadata": {},
   "source": [
    "To make an API call, we construct a URL with the information that the server needs to know to service our request. In this case, it just needs the identifier of the work whose metadata we want to retrieve."
   ]
  },
  {
   "cell_type": "code",
   "execution_count": null,
   "metadata": {},
   "outputs": [],
   "source": [
    "# Construct the URL for the API call.\n",
    "identifier = 'theycametobaghda0000agat'\n",
    "#identifier = 'h.-g.-wells-the-war-of-the-worlds_20230723'\n",
    "get_url = item_metadata_read_api_base_url + identifier\n",
    "\n",
    "# Get the metadata.\n",
    "response = requests.get(get_url)\n",
    "text = response.text\n",
    "print(text)"
   ]
  },
  {
   "cell_type": "markdown",
   "metadata": {},
   "source": [
    "The basics of JSON are given at <https://www.json.org/>\n",
    "We can work with the data in an easier way using a JSON tool. There's one at <https://jsoneditoronline.org/>\n",
    "\n",
    "To work with the data in Python code, we need to turn it into a data structure that mimics the JSON."
   ]
  },
  {
   "cell_type": "code",
   "execution_count": null,
   "metadata": {},
   "outputs": [],
   "source": [
    "# Turn the response JSON text into a Python data structure.\n",
    "metadata = response.json()\n",
    "\n",
    "# Print the metadata.\n",
    "pprint(metadata)"
   ]
  },
  {
   "cell_type": "markdown",
   "metadata": {},
   "source": [
    "The interesting stuff is contained in the JSON object (dictionary) value of the metadata name (key)."
   ]
  },
  {
   "cell_type": "code",
   "execution_count": null,
   "metadata": {},
   "outputs": [],
   "source": [
    "# Print the value of the metadata key.\n",
    "pprint(metadata['metadata'])"
   ]
  },
  {
   "cell_type": "markdown",
   "metadata": {},
   "source": [
    "Get the particular bits we want from this part of the data structure."
   ]
  },
  {
   "cell_type": "code",
   "execution_count": null,
   "metadata": {},
   "outputs": [],
   "source": [
    "creator = metadata['metadata']['creator']\n",
    "date = metadata['metadata']['date']\n",
    "title = metadata['metadata']['title']\n",
    "language = metadata['metadata']['language']\n",
    "try:\n",
    "    publisher = metadata['metadata']['publisher']\n",
    "except:\n",
    "    publisher = 'Unknown'\n",
    "\n",
    "print('The book \"' + title + '\" was written in ' + date + ' by ' + creator + ' and published by ' + publisher + '.')\n",
    "print('It was published in the language: ' + language + '.')"
   ]
  }
 ],
 "metadata": {
  "kernelspec": {
   "display_name": "base",
   "language": "python",
   "name": "python3"
  },
  "language_info": {
   "codemirror_mode": {
    "name": "ipython",
    "version": 3
   },
   "file_extension": ".py",
   "mimetype": "text/x-python",
   "name": "python",
   "nbconvert_exporter": "python",
   "pygments_lexer": "ipython3",
   "version": "3.8.5"
  },
  "orig_nbformat": 4
 },
 "nbformat": 4,
 "nbformat_minor": 2
}
