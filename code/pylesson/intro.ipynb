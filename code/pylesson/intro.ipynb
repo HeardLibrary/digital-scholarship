{
 "cells": [
  {
   "cell_type": "markdown",
   "metadata": {},
   "source": [
    "# Simple script to input, calculate, and output\n",
    "\n",
    "Note: in Jupyter notebooks, we can make comments in Markdown cells.  So making inline comments (lines that start with the hash character # and are ignored by Python) is less important.  \n",
    "\n",
    "Here we set up the data needed to run the calculation"
   ]
  },
  {
   "cell_type": "code",
   "execution_count": null,
   "metadata": {},
   "outputs": [],
   "source": [
    "# This is an inline comment that will be ignored by Python\n",
    "pi = 3.14159\n",
    "print(pi)\n",
    "diameter = float(input('Enter the diameter: '))  # when this line runs you need to enter a number\n",
    "print(diameter)"
   ]
  },
  {
   "cell_type": "markdown",
   "metadata": {},
   "source": [
    "The data need to be transformed into a usable form"
   ]
  },
  {
   "cell_type": "code",
   "execution_count": null,
   "metadata": {},
   "outputs": [],
   "source": [
    "radius = diameter/2\n",
    "print(radius)"
   ]
  },
  {
   "cell_type": "markdown",
   "metadata": {},
   "source": [
    "We have all of the information necessary to complete the calculation"
   ]
  },
  {
   "cell_type": "code",
   "execution_count": null,
   "metadata": {},
   "outputs": [],
   "source": [
    "print('The area of the circle is ',pi*radius)"
   ]
  },
  {
   "cell_type": "markdown",
   "metadata": {},
   "source": [
    "# Playing with Nashville schools data"
   ]
  },
  {
   "cell_type": "code",
   "execution_count": null,
   "metadata": {},
   "outputs": [],
   "source": [
    "# import two necessary modules\n",
    "import csv\n",
    "import urllib.request\n",
    "\n",
    "# load a CSV file with data on Nashville schools from the Internet\n",
    "url = 'https://raw.githubusercontent.com/HeardLibrary/digital-scholarship/master/data/gis/wg/Metro_Nashville_Schools.csv'\n",
    "response = urllib.request.urlopen(url).read().decode('utf-8')\n",
    "fileText = response.split('\\n')\n",
    "\n",
    "# remove empty final line\n",
    "if fileText[len(fileText)-1] == '':\n",
    "    fileText = fileText[0:len(fileText)-1]\n",
    "\n",
    "# turn the data into a table\n",
    "fileRows = csv.reader(fileText)\n",
    "schoolData = []\n",
    "for row in fileRows:\n",
    "    schoolData.append(row)\n",
    "    \n",
    "# Show the header and first row of the table\n",
    "print(schoolData[0])\n",
    "print(schoolData[1])"
   ]
  },
  {
   "cell_type": "code",
   "execution_count": null,
   "metadata": {},
   "outputs": [],
   "source": [
    "# print the IDs and names of all of the schools\n",
    "print(schoolData[0][2] + '\\t' + schoolData[0][3])\n",
    "for school in range(1, len(schoolData)):\n",
    "    print(schoolData[school][2] + '\\t' + schoolData[school][3])"
   ]
  },
  {
   "cell_type": "code",
   "execution_count": null,
   "metadata": {},
   "outputs": [],
   "source": [
    "# calculate the total number of students per school and fraction white students for each row\n",
    "schoolData[0].append('total students')\n",
    "schoolData[0].append('fraction white')\n",
    "for school in range(1, len(schoolData)):\n",
    "    totalStudents = int(schoolData[school][27]) + int(schoolData[school][28])\n",
    "    fractionWhite = int(schoolData[school][26]) / totalStudents\n",
    "    schoolData[school].append(str(totalStudents))\n",
    "    schoolData[school].append(str(fractionWhite))\n",
    "\n",
    "# save the data as a spreadsheet\n",
    "fileObject = open('school-data.csv', 'w', newline='', encoding='utf-8')\n",
    "writerObject = csv.writer(fileObject)\n",
    "for row in schoolData:\n",
    "    writerObject.writerow(row)\n",
    "fileObject.close()\n",
    "\n",
    "print('Finished writing the CSV spreadsheet file')"
   ]
  },
  {
   "cell_type": "code",
   "execution_count": null,
   "metadata": {},
   "outputs": [],
   "source": []
  }
 ],
 "metadata": {
  "kernelspec": {
   "display_name": "Python 3",
   "language": "python",
   "name": "python3"
  },
  "language_info": {
   "codemirror_mode": {
    "name": "ipython",
    "version": 3
   },
   "file_extension": ".py",
   "mimetype": "text/x-python",
   "name": "python",
   "nbconvert_exporter": "python",
   "pygments_lexer": "ipython3",
   "version": "3.7.1"
  }
 },
 "nbformat": 4,
 "nbformat_minor": 2
}
