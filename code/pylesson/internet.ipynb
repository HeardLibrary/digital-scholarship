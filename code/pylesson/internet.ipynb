{
 "cells": [
  {
   "cell_type": "markdown",
   "metadata": {},
   "source": [
    "# Requests library for the Internet\n",
    "\n",
    "Since you are running these examples using a Jupyter notebook, you probably have Anaconda installed.  So you shouldn't need to install the `requests` package. If you run the code using Thonny or via the command line, you will need to use PIP to install it first."
   ]
  },
  {
   "cell_type": "code",
   "execution_count": null,
   "metadata": {},
   "outputs": [],
   "source": [
    "import requests\n",
    "\n",
    "r = requests.get('http://bioimages.vanderbilt.edu/baskauf/24319.htm')\n",
    "print('HTTP status code: ', r.status_code)"
   ]
  },
  {
   "cell_type": "markdown",
   "metadata": {},
   "source": [
    "In the print statement above replace `.status_code` with `.text` to see the actual text being sent from the server."
   ]
  },
  {
   "cell_type": "markdown",
   "metadata": {},
   "source": [
    "## Reading from CSV files from the Internet\n",
    "\n",
    "Example code"
   ]
  },
  {
   "cell_type": "code",
   "execution_count": null,
   "metadata": {},
   "outputs": [],
   "source": [
    "import requests\n",
    "import csv\n",
    "\n",
    "r = requests.get('https://raw.githubusercontent.com/HeardLibrary/digital-scholarship/master/data/gis/wg/Metro_Nashville_Schools.csv')\n",
    "fileText = r.text.split('\\n')\n",
    "if fileText[len(fileText)-1] == '':\n",
    "    fileText = fileText[0:len(fileText)-1]\n",
    "fileRows = csv.reader(fileText)\n",
    "schoolData = []\n",
    "for row in fileRows:\n",
    "    schoolData.append(row)\n",
    "\n",
    "# print the IDs and names of all of the schools\n",
    "print(schoolData[0][2] + '\\t' + schoolData[0][3])\n",
    "for school in range(1, len(schoolData)):\n",
    "    print(schoolData[school][2] + '\\t' + schoolData[school][3])"
   ]
  },
  {
   "cell_type": "markdown",
   "metadata": {},
   "source": [
    "Example modified to use `.DictReader()` instead of `.reader()`.  \n",
    "\n",
    "We can avoid having to know what column the school name and ID are since we can refer to them by their dictionary key (constructed from the column header)."
   ]
  },
  {
   "cell_type": "code",
   "execution_count": null,
   "metadata": {},
   "outputs": [],
   "source": [
    "import requests\n",
    "import csv\n",
    "\n",
    "r = requests.get('https://raw.githubusercontent.com/HeardLibrary/digital-scholarship/master/data/gis/wg/Metro_Nashville_Schools.csv')\n",
    "fileText = r.text.split('\\n')\n",
    "fileRows = csv.DictReader(fileText)\n",
    "schoolData = []\n",
    "for row in fileRows:\n",
    "    schoolData.append(row)\n",
    "\n",
    "# use the dictionary to look up a school ID\n",
    "schoolName = input(\"What's the name of the school? \")\n",
    "found = False\n",
    "for school in schoolData:\n",
    "    if school['School Name'] == schoolName:\n",
    "        print('The ID number for that school is: ' + school['School ID'])\n",
    "        found = True\n",
    "if not found:\n",
    "    print(\"I couldn't find that school.\")"
   ]
  },
  {
   "cell_type": "markdown",
   "metadata": {},
   "source": [
    "## JSON from APIs\n",
    "\n",
    "Example illustrating how `requests` generates search parameters using key:value pairs."
   ]
  },
  {
   "cell_type": "code",
   "execution_count": null,
   "metadata": {},
   "outputs": [],
   "source": [
    "import requests\n",
    "r = requests.get('http://api.gbif.org/v1/occurrence/search', params={'recordedBy' : 'William A. Haber'})\n",
    "print(r.url)"
   ]
  },
  {
   "cell_type": "markdown",
   "metadata": {},
   "source": [
    "Example retrieving the first list item (item 0) for the list (array) in the JSON's `results` value."
   ]
  },
  {
   "cell_type": "code",
   "execution_count": null,
   "metadata": {},
   "outputs": [],
   "source": [
    "import requests\n",
    "url = 'http://api.gbif.org/v1/occurrence/search'\n",
    "r = requests.get(url, params={'recordedBy' : 'William A. Haber'})\n",
    "data = r.json()\n",
    "\n",
    "print(data['results'][0])"
   ]
  },
  {
   "cell_type": "markdown",
   "metadata": {},
   "source": [
    "To turn the results into valid JSON (to look at in a code editor):"
   ]
  },
  {
   "cell_type": "code",
   "execution_count": null,
   "metadata": {},
   "outputs": [],
   "source": [
    "import requests\n",
    "import json\n",
    "url = 'http://api.gbif.org/v1/occurrence/search'\n",
    "r = requests.get(url, params={'recordedBy' : 'William A. Haber'})\n",
    "data = r.json()\n",
    "\n",
    "print(json.dumps(data))"
   ]
  },
  {
   "cell_type": "markdown",
   "metadata": {},
   "source": [
    "Example printing information about each item in the results list"
   ]
  },
  {
   "cell_type": "code",
   "execution_count": null,
   "metadata": {},
   "outputs": [],
   "source": [
    "resultsList = data['results']\n",
    "for result in resultsList:\n",
    "    try:\n",
    "        print(result['species'] + ', date: ' + result['eventDate'])\n",
    "        print('Observed at: ' + result['locality'] + ', ' + result['country'] + '\\n')\n",
    "    except:\n",
    "        pass # do nothing if one of the keys isn't available (not a great solution)"
   ]
  },
  {
   "cell_type": "markdown",
   "metadata": {},
   "source": [
    "# Homework\n",
    "\n",
    "2. starter code"
   ]
  },
  {
   "cell_type": "code",
   "execution_count": null,
   "metadata": {},
   "outputs": [],
   "source": [
    "import requests\n",
    "\n",
    "url = 'http://api.open-notify.org/iss-now.json'\n",
    "r = requests.get(url)\n",
    "data = r.json()\n",
    "print(data)"
   ]
  }
 ],
 "metadata": {
  "kernelspec": {
   "display_name": "Python 3",
   "language": "python",
   "name": "python3"
  },
  "language_info": {
   "codemirror_mode": {
    "name": "ipython",
    "version": 3
   },
   "file_extension": ".py",
   "mimetype": "text/x-python",
   "name": "python",
   "nbconvert_exporter": "python",
   "pygments_lexer": "ipython3",
   "version": "3.7.1"
  }
 },
 "nbformat": 4,
 "nbformat_minor": 2
}
