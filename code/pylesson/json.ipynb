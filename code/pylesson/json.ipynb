{
 "cells": [
  {
   "cell_type": "markdown",
   "metadata": {},
   "source": [
    "# Dictionaries\n",
    "\n",
    "No error trapping"
   ]
  },
  {
   "cell_type": "code",
   "execution_count": null,
   "metadata": {},
   "outputs": [],
   "source": [
    "company = {'Mickey Mouse':'Disney', 'Donald Duck':'Disney', 'Daffy Duck':'Warner Brothers', 'Fred Flintstone':'Hanna Barbera'}\n",
    "characterName = input(\"What's the character's name? \")\n",
    "print('That character works for ' + company[characterName])"
   ]
  },
  {
   "cell_type": "markdown",
   "metadata": {},
   "source": [
    "With error trapping"
   ]
  },
  {
   "cell_type": "code",
   "execution_count": null,
   "metadata": {},
   "outputs": [],
   "source": [
    "company = {'Mickey Mouse':'Disney', 'Donald Duck':'Disney', 'Daffy Duck':'Warner Brothers', 'Fred Flintstone':'Hanna Barbera'}\n",
    "characterName = input(\"What's the character's name? \")\n",
    "try:\n",
    "    print('That character works for ' + company[characterName])\n",
    "except:\n",
    "    print(\"I don't know who that character works for.\")\n",
    "print(\"That's all folks!\")"
   ]
  },
  {
   "cell_type": "markdown",
   "metadata": {},
   "source": [
    "## Try this\n",
    "\n",
    "A. Using the dictionaries, print the name and price of the item with catalog number `z010`.\n",
    "\n",
    "B. Use a `for` loop to iterate through the list of items. For each item, print its name and price.\n",
    "\n",
    "C. Let the user enter the name of an item. Iterate through the list of items and check each one to see if it matches the name entered by the user. If so, print the price.\n",
    "\n",
    "D. Set a flag named `matched` equal to `False` before the loop. If there is a match, set the value of `matched` equal to `True`. If at the end of the loop there was no match, print a message saying so."
   ]
  },
  {
   "cell_type": "code",
   "execution_count": null,
   "metadata": {},
   "outputs": [],
   "source": [
    "itemList = ['s049', 'm486', 'z010', 'x428']\n",
    "itemName = {'s049': 'widget', 'm486': 'poiuyt', 'z010': 'thingamabob', 'x428': 'foobar'}\n",
    "itemPrice = {'s049': 1.98, 'm486': 14.99, 'z010': 0.49, 'x428': 250.00}\n",
    "\n",
    "# put your code here"
   ]
  },
  {
   "cell_type": "markdown",
   "metadata": {},
   "source": [
    "## Lists of dictionaries\n",
    "\n",
    "First example"
   ]
  },
  {
   "cell_type": "code",
   "execution_count": null,
   "metadata": {},
   "outputs": [],
   "source": [
    "characters = [{'name':'Mickey Mouse', 'company':'Disney', 'gender': 'male'}, {'name':'Daisy Duck', 'company':'Disney', 'gender': 'female'}, {'name':'Daffy Duck', 'company':'Warner Brothers', 'gender': 'male'},  {'name':'Fred Flintstone', 'company':'Hanna Barbera', 'gender': 'male'}, {'name':'WALL-E', 'company':'Pixar', 'gender': 'neutral'}, {'name':'Fiona', 'company':'DreamWorks', 'gender': 'female'}]\n",
    "print(characters[1]['company'])\n",
    "print(characters[0]['name'])\n",
    "print(characters[4]['gender'])"
   ]
  },
  {
   "cell_type": "markdown",
   "metadata": {},
   "source": [
    "Second example"
   ]
  },
  {
   "cell_type": "code",
   "execution_count": null,
   "metadata": {},
   "outputs": [],
   "source": [
    "characters = [{'name':'Mickey Mouse', 'company':'Disney', 'gender': 'male'}, {'name':'Daisy Duck', 'company':'Disney', 'gender': 'female'}, {'name':'Daffy Duck', 'company':'Warner Brothers', 'gender': 'male'},  {'name':'Fred Flintstone', 'company':'Hanna Barbera', 'gender': 'male'}, {'name':'WALL-E', 'company':'Pixar', 'gender': 'neutral'}, {'name':'Fiona', 'company':'DreamWorks', 'gender': 'female'}]\n",
    "characterName = input(\"What's the character's name? \")\n",
    "for character in characters:\n",
    "    if character['name'] == characterName:\n",
    "        print('The character ' + character['name'] + ' works for ' + character['company'] + '.')"
   ]
  },
  {
   "cell_type": "markdown",
   "metadata": {},
   "source": [
    "Third example"
   ]
  },
  {
   "cell_type": "code",
   "execution_count": null,
   "metadata": {},
   "outputs": [],
   "source": [
    "characters = [{'name':'Mickey Mouse', 'company':'Disney', 'gender': 'male'}, {'name':'Daisy Duck', 'company':'Disney', 'gender': 'female'}, {'name':'Daffy Duck', 'company':'Warner Brothers', 'gender': 'male'},  {'name':'Fred Flintstone', 'company':'Hanna Barbera', 'gender': 'male'}, {'name':'WALL-E', 'company':'Pixar', 'gender': 'neutral'}, {'name':'Fiona', 'company':'DreamWorks', 'gender': 'female'}]\n",
    "characterName = input(\"What's the character's name? \")\n",
    "found = False\n",
    "for character in characters:\n",
    "    if character['name'] == characterName:\n",
    "        found = True\n",
    "        if character['gender'] == 'male':\n",
    "            answer = 'He works'\n",
    "        elif character['gender'] == 'female':\n",
    "            answer = 'She works'\n",
    "        else:\n",
    "            answer = 'They work'\n",
    "        answer = answer + ' for ' + character['company'] + '.'\n",
    "        print(answer)\n",
    "if not(found):\n",
    "    print(\"I don't know that character.\")"
   ]
  },
  {
   "cell_type": "markdown",
   "metadata": {},
   "source": [
    "# JSON\n",
    "\n",
    "## JSON and Python\n",
    "\n",
    "First example: JSON array nested inside a object (Python list inside a dictionary)"
   ]
  },
  {
   "cell_type": "code",
   "execution_count": null,
   "metadata": {},
   "outputs": [],
   "source": [
    "import json\n",
    "\n",
    "jsonString = '''\n",
    "{\n",
    "  \"name\":\n",
    "         [\n",
    "         \"Steve\",\n",
    "         \"Steven\",\n",
    "         \"Esteban\"\n",
    "         ],\n",
    "  \"fingers\":10, \n",
    "  \"street\":\"Penny Lane\"\n",
    "}\n",
    "'''\n",
    "\n",
    "data = json.loads(jsonString)\n",
    "\n",
    "print(data)\n",
    "print()\n",
    "print(data['name'])\n",
    "print()\n",
    "print(data['name'][1])\n",
    "print()\n",
    "print(data['fingers'])"
   ]
  },
  {
   "cell_type": "markdown",
   "metadata": {},
   "source": [
    "Second example: JSON object nested inside an array (Python dictionary inside a list)"
   ]
  },
  {
   "cell_type": "code",
   "execution_count": null,
   "metadata": {},
   "outputs": [],
   "source": [
    "import json\n",
    "data = json.loads('''\n",
    "[\n",
    "    {\n",
    "        \"created_at\":\"Wed Sep 18 19:50:41 +0000 2019\",    \n",
    "        \"text\":\"The \\u201cdigital downloads\\u201d tax makes an appearance!\",\n",
    "        \"lang\":\"en\"\n",
    "    },\n",
    "    {\n",
    "        \"created_at\":\"Wed Sep 18 19:28:44 +0000 2019\",\n",
    "        \"text\":\"¡No podía sentir las yemas de mis dedos esta mañana, hacía tanto frío\",\n",
    "        \"lang\":\"es\"\n",
    "    },    \n",
    "    {\n",
    "        \"created_at\":\"Wed Sep 18 14:08:54 +0000 2019\",\n",
    "        \"text\":\"RT @wnprwheelhouse: @wnprharriet кричать @wnpr !\",\n",
    "        \"lang\":\"ru\"\n",
    "    }\n",
    "]\n",
    "''')\n",
    "print(data)\n",
    "print()\n",
    "print(data[1])\n",
    "print()\n",
    "print(data[1]['lang'])"
   ]
  },
  {
   "cell_type": "markdown",
   "metadata": {},
   "source": [
    "Third example: Example: JSON object nested inside an object (Python dictionary inside a dictionary)"
   ]
  },
  {
   "cell_type": "code",
   "execution_count": null,
   "metadata": {},
   "outputs": [],
   "source": [
    "import json\n",
    "data = json.loads('''\n",
    "{\n",
    "    \"in_reply_to_screen_name\": null,\n",
    "    \"user\": \n",
    "            {\n",
    "            \"id\": 6253282,\n",
    "            \"id_str\": \"6253282\",\n",
    "            \"name\": \"Carmen Baskauf\",\n",
    "            \"screen_name\": \"cbaskauf\",\n",
    "            \"location\": \"Hartford, CT\"\n",
    "            }\n",
    "        ,\n",
    "    \"geo\": null,\n",
    "    \"coordinates\": null\n",
    "}\n",
    "''')\n",
    "print(data)\n",
    "print()\n",
    "print(data['user'])\n",
    "print()\n",
    "print(data['user']['location'])"
   ]
  },
  {
   "cell_type": "markdown",
   "metadata": {},
   "source": [
    "## Try this\n",
    "\n",
    "1. JSON about acetylsalicylic acid\n",
    "\n",
    "Write a script to turn the JSON string into a Python data structure (a dictionary), then print the formula. Don’t forget to import the json module."
   ]
  },
  {
   "cell_type": "code",
   "execution_count": null,
   "metadata": {},
   "outputs": [],
   "source": [
    "string = '{\"id\": 2157, \"formula\": \"C_{9}H_{8}O_{4}\", \"molecularWeight\": 180.1574, \"commonName\": \"Aspirin\"}'\n",
    "\n",
    "# put your code here"
   ]
  },
  {
   "cell_type": "markdown",
   "metadata": {},
   "source": [
    "2. JSON from the Royal Society of Chemistry API\n",
    "\n",
    "A. What type of Python object is the value of `dataStructure['results']`?\n",
    "\n",
    "B. How can we refer to the number `2157` as a subcomponent of `datastructure`?\n",
    "\n",
    "C. In this example, what type of Python object is the number `2157` ?\n",
    "\n",
    "D. How could we make it be a string and insert it into the URL string?"
   ]
  },
  {
   "cell_type": "code",
   "execution_count": null,
   "metadata": {},
   "outputs": [],
   "source": [
    "import json\n",
    "\n",
    "jsonString = '''{\n",
    "    \"results\": [\n",
    "        2157\n",
    "        ], \n",
    "    \"limitedToMaxAllowed\": \"False\"\n",
    "}'''\n",
    "\n",
    "dataStructure = json.loads(jsonString)\n",
    "print(dataStructure)"
   ]
  }
 ],
 "metadata": {
  "kernelspec": {
   "display_name": "Python 3",
   "language": "python",
   "name": "python3"
  },
  "language_info": {
   "codemirror_mode": {
    "name": "ipython",
    "version": 3
   },
   "file_extension": ".py",
   "mimetype": "text/x-python",
   "name": "python",
   "nbconvert_exporter": "python",
   "pygments_lexer": "ipython3",
   "version": "3.7.1"
  }
 },
 "nbformat": 4,
 "nbformat_minor": 2
}
