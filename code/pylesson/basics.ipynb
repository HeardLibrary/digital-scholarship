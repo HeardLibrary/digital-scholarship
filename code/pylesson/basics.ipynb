{
 "cells": [
  {
   "cell_type": "markdown",
   "metadata": {},
   "source": [
    "# Variables\n",
    "## Assignment\n",
    "\n",
    "`Try this` examples\n",
    "\n",
    "Try running the following scripts with different values of `numberWidgets`:"
   ]
  },
  {
   "cell_type": "code",
   "execution_count": null,
   "metadata": {},
   "outputs": [],
   "source": [
    "numberWidgets = 1\n",
    "sum = numberWidgets + 3\n",
    "print(sum)"
   ]
  },
  {
   "cell_type": "code",
   "execution_count": null,
   "metadata": {},
   "outputs": [],
   "source": [
    "numberWidgets = 1\n",
    "sum = numberWidgets + 3\n",
    "tooMany = sum > 10\n",
    "print(tooMany)"
   ]
  },
  {
   "cell_type": "markdown",
   "metadata": {},
   "source": [
    "How do these two scripts differ? (Pay attention to the quotes)"
   ]
  },
  {
   "cell_type": "code",
   "execution_count": null,
   "metadata": {},
   "outputs": [],
   "source": [
    "firstNumber = 325\n",
    "secondNumber = 145\n",
    "together = firstNumber + secondNumber\n",
    "print(together)\n",
    "print(type(together))"
   ]
  },
  {
   "cell_type": "code",
   "execution_count": null,
   "metadata": {},
   "outputs": [],
   "source": [
    "firstNumber = '325'\n",
    "secondNumber = '145'\n",
    "together = firstNumber + secondNumber\n",
    "print(together)\n",
    "print(type(together))"
   ]
  },
  {
   "cell_type": "markdown",
   "metadata": {},
   "source": [
    "# Functions\n",
    "# Built-in functions\n",
    "\n",
    "`Try this` examples\n",
    "\n",
    "Try the following script with different values for the numbers:"
   ]
  },
  {
   "cell_type": "code",
   "execution_count": null,
   "metadata": {},
   "outputs": [],
   "source": [
    "firstNumber = 50\n",
    "secondNumber = 67\n",
    "biggest = max(firstNumber, secondNumber, 100)\n",
    "print(biggest)"
   ]
  },
  {
   "cell_type": "markdown",
   "metadata": {},
   "source": [
    "In the following script, try changing the value of `name`:"
   ]
  },
  {
   "cell_type": "code",
   "execution_count": null,
   "metadata": {},
   "outputs": [],
   "source": [
    "name = 'Steve'\n",
    "howLong = len(name)\n",
    "print('Your name is '+ name + '. It is: ')\n",
    "print(howLong)\n",
    "print('characters long.')"
   ]
  },
  {
   "cell_type": "markdown",
   "metadata": {},
   "source": [
    "## Home-made function example"
   ]
  },
  {
   "cell_type": "code",
   "execution_count": null,
   "metadata": {},
   "outputs": [],
   "source": [
    "def multiplication(firstNumber, secondNumber):\n",
    "    answer = firstNumber * secondNumber\n",
    "    return answer\n",
    "\n",
    "print(multiplication(3,5))"
   ]
  },
  {
   "cell_type": "markdown",
   "metadata": {},
   "source": [
    "Here is a variation on the previous script:"
   ]
  },
  {
   "cell_type": "code",
   "execution_count": null,
   "metadata": {},
   "outputs": [],
   "source": [
    "def multiplication(firstNumber, secondNumber):\n",
    "    answer = firstNumber * secondNumber\n",
    "    return answer\n",
    "\n",
    "num1 = 3\n",
    "num2 = 5\n",
    "answer = multiplication(num1,num2)\n",
    "print(answer)"
   ]
  },
  {
   "cell_type": "markdown",
   "metadata": {},
   "source": [
    "# Modules and Packages\n",
    "\n",
    "Here is a fun example using the standard random module:"
   ]
  },
  {
   "cell_type": "code",
   "execution_count": null,
   "metadata": {},
   "outputs": [],
   "source": [
    "import random\n",
    "\n",
    "dayList = ['Sunday', 'Monday', 'Tuesday', 'Wednesday', 'Thursday', 'Friday', 'Saturday']\n",
    "x = random.choice(dayList)\n",
    "\n",
    "print(x)"
   ]
  },
  {
   "cell_type": "markdown",
   "metadata": {},
   "source": [
    "Here’s another example you can try:"
   ]
  },
  {
   "cell_type": "code",
   "execution_count": null,
   "metadata": {},
   "outputs": [],
   "source": [
    "import math as m\n",
    "\n",
    "number = 113\n",
    "squareRoot = m.sqrt(number)\n",
    "print(squareRoot)\n",
    "integer = m.floor(squareRoot)\n",
    "print(integer)"
   ]
  },
  {
   "cell_type": "markdown",
   "metadata": {},
   "source": [
    "# Keyboard Input\n",
    "\n",
    "Input function example:"
   ]
  },
  {
   "cell_type": "code",
   "execution_count": null,
   "metadata": {},
   "outputs": [],
   "source": [
    "name = input(\"What's your name? \")\n",
    "print('Hello ' + name + '! How are you?')"
   ]
  },
  {
   "cell_type": "code",
   "execution_count": null,
   "metadata": {},
   "outputs": [],
   "source": [
    "# import the math module  \n",
    "import math  \n",
    "\n",
    "integer = int(input(\"What's the number? \"))\n",
    "print('The square root is:')\n",
    "print(math.sqrt(integer))"
   ]
  },
  {
   "cell_type": "markdown",
   "metadata": {},
   "source": [
    "# Conditional execution\n",
    "\n",
    "## if statement\n",
    "\n",
    "Example:"
   ]
  },
  {
   "cell_type": "code",
   "execution_count": null,
   "metadata": {},
   "outputs": [],
   "source": [
    "name = 'Fred Flintstone'\n",
    "isMicky = name == 'Mickey Mouse'\n",
    "print(name)\n",
    "print(isMicky)\n",
    "\n",
    "if isMicky:\n",
    "    print('You are a Disney character')\n",
    "print('That is all!')"
   ]
  },
  {
   "cell_type": "markdown",
   "metadata": {},
   "source": [
    "`Try this` example:"
   ]
  },
  {
   "cell_type": "code",
   "execution_count": null,
   "metadata": {},
   "outputs": [],
   "source": [
    "name = input('What is the name of the character? ')\n",
    "isMicky = name == 'Mickey Mouse'\n",
    "print(name)\n",
    "print(isMicky)\n",
    "\n",
    "if isMicky:\n",
    "    print('You are a Disney character')\n",
    "print('That is all!')"
   ]
  },
  {
   "cell_type": "markdown",
   "metadata": {},
   "source": [
    "Previous example with simplified code"
   ]
  },
  {
   "cell_type": "code",
   "execution_count": null,
   "metadata": {},
   "outputs": [],
   "source": [
    "name = input('What is the name of the character? ')\n",
    "print(name)\n",
    "\n",
    "if name == 'Mickey Mouse':\n",
    "    print('You are a Disney character')\n",
    "print('That is all!')"
   ]
  },
  {
   "cell_type": "markdown",
   "metadata": {},
   "source": [
    "## if … else …\n",
    "\n",
    "Example:"
   ]
  },
  {
   "cell_type": "code",
   "execution_count": null,
   "metadata": {},
   "outputs": [],
   "source": [
    "name = input('What is the name of the character? ')\n",
    "print(name)\n",
    "\n",
    "if name == 'Mickey Mouse':\n",
    "    print('You are a Disney character')\n",
    "    print('You are almost ready to go out of copyright!')\n",
    "else:\n",
    "    print('You are not a Disney character')\n",
    "print('That is all?')"
   ]
  },
  {
   "cell_type": "markdown",
   "metadata": {},
   "source": [
    "## if … elif … else …\n",
    "\n",
    "Example:"
   ]
  },
  {
   "cell_type": "code",
   "execution_count": null,
   "metadata": {},
   "outputs": [],
   "source": [
    "name = input('What is the name of the character? ')\n",
    "print(name)\n",
    "\n",
    "if name == 'Mickey Mouse':\n",
    "    print('You are a Disney character')\n",
    "    print('You are a mouse')\n",
    "elif name == 'Donald Duck':\n",
    "    print('You are a Disney character')\n",
    "    print('You are not a mouse')\n",
    "elif name == 'Minnie Mouse':\n",
    "    print('You are a Disney character')\n",
    "    print('Your boyfriend is getting old')\n",
    "else:\n",
    "    print('You are not a Disney character')\n",
    "print(\"That's all folks!\")"
   ]
  },
  {
   "cell_type": "code",
   "execution_count": null,
   "metadata": {},
   "outputs": [],
   "source": []
  }
 ],
 "metadata": {
  "kernelspec": {
   "display_name": "Python 3",
   "language": "python",
   "name": "python3"
  },
  "language_info": {
   "codemirror_mode": {
    "name": "ipython",
    "version": 3
   },
   "file_extension": ".py",
   "mimetype": "text/x-python",
   "name": "python",
   "nbconvert_exporter": "python",
   "pygments_lexer": "ipython3",
   "version": "3.7.1"
  }
 },
 "nbformat": 4,
 "nbformat_minor": 2
}
