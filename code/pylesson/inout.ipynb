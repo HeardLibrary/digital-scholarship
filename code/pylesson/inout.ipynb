{
 "cells": [
  {
   "cell_type": "markdown",
   "metadata": {},
   "source": [
    "# File input/output\n",
    "\n",
    "## Writing to a text file\n",
    "\n",
    "Example"
   ]
  },
  {
   "cell_type": "code",
   "execution_count": null,
   "metadata": {},
   "outputs": [],
   "source": [
    "someText = \"Goin' into the file!\"\n",
    "fileObject = open('datafile.txt', 'wt', encoding='utf-8')\n",
    "fileObject.write(someText)\n",
    "fileObject.close()"
   ]
  },
  {
   "cell_type": "markdown",
   "metadata": {},
   "source": [
    "Shortcut"
   ]
  },
  {
   "cell_type": "code",
   "execution_count": null,
   "metadata": {},
   "outputs": [],
   "source": [
    "someText = \"Goin' into the file!\"\n",
    "with open('datafile.txt', 'wt', encoding='utf-8') as fileObject:\n",
    "    fileObject.write(someText)"
   ]
  },
  {
   "cell_type": "markdown",
   "metadata": {},
   "source": [
    "**Writing variations (try on your own)**\n",
    "\n",
    "Output to file using `.write()`"
   ]
  },
  {
   "cell_type": "code",
   "execution_count": null,
   "metadata": {},
   "outputs": [],
   "source": [
    "firstLine = \"Goin' into the file!\"\n",
    "secondLine = \"I'm there, too.\"\n",
    "thirdLine = \"Wrapping it up!\"\n",
    "with open('datafile.txt', 'wt', encoding='utf-8') as fileObject:\n",
    "    fileObject.write(firstLine)\n",
    "    fileObject.write(secondLine)\n",
    "    fileObject.write(thirdLine)"
   ]
  },
  {
   "cell_type": "markdown",
   "metadata": {},
   "source": [
    "Output to file using `print()`"
   ]
  },
  {
   "cell_type": "code",
   "execution_count": null,
   "metadata": {},
   "outputs": [],
   "source": [
    "firstLine = \"Goin' into the file!\"\n",
    "secondLine = \"I'm there, too.\"\n",
    "thirdLine = \"Wrapping it up!\"\n",
    "with open('datafile.txt', 'wt', encoding='utf-8') as fileObject:\n",
    "    print(firstLine, file=fileObject)\n",
    "    print(secondLine, file=fileObject)\n",
    "    print(thirdLine, file=fileObject)"
   ]
  },
  {
   "cell_type": "markdown",
   "metadata": {},
   "source": [
    "## Reading from a text file\n",
    "\n",
    "Example\n",
    "\n",
    "Put some text in the file if it isn't already there."
   ]
  },
  {
   "cell_type": "code",
   "execution_count": null,
   "metadata": {},
   "outputs": [],
   "source": [
    "someText = \"Goin' into the file!\"\n",
    "with open('datafile.txt', 'wt', encoding='utf-8') as fileObject:\n",
    "    fileObject.write(someText)"
   ]
  },
  {
   "cell_type": "markdown",
   "metadata": {},
   "source": [
    "Now open read the data from the file."
   ]
  },
  {
   "cell_type": "code",
   "execution_count": null,
   "metadata": {},
   "outputs": [],
   "source": [
    "fileObject = open('datafile.txt', 'rt', encoding='utf-8')\n",
    "someText = fileObject.read()\n",
    "fileObject.close()\n",
    "print(someText)"
   ]
  },
  {
   "cell_type": "markdown",
   "metadata": {},
   "source": [
    "With shortcut"
   ]
  },
  {
   "cell_type": "code",
   "execution_count": null,
   "metadata": {},
   "outputs": [],
   "source": [
    "with open('datafile.txt', 'rt', encoding='utf-8') as fileObject:\n",
    "    someText = fileObject.read()\n",
    "print(someText)"
   ]
  },
  {
   "cell_type": "markdown",
   "metadata": {},
   "source": [
    "**Iterable example and effects of newlines**\n",
    "\n",
    "Write some multiline data into a file"
   ]
  },
  {
   "cell_type": "code",
   "execution_count": null,
   "metadata": {},
   "outputs": [],
   "source": [
    "multiline_string = '''First line\n",
    "Second line\n",
    "Third line\n",
    "'''\n",
    "\n",
    "with open('datafile.txt', 'wt', encoding='utf-8') as fileObject:\n",
    "    fileObject.write(multiline_string)"
   ]
  },
  {
   "cell_type": "markdown",
   "metadata": {},
   "source": [
    "open the file and iterate through each of the lines"
   ]
  },
  {
   "cell_type": "code",
   "execution_count": null,
   "metadata": {},
   "outputs": [],
   "source": [
    "with open('datafile.txt', 'rt', encoding='utf-8') as fileObject:\n",
    "    for oneLine in fileObject:\n",
    "        print(oneLine)\n",
    "print(len(oneLine))"
   ]
  },
  {
   "cell_type": "markdown",
   "metadata": {},
   "source": [
    "Put strings in list"
   ]
  },
  {
   "cell_type": "code",
   "execution_count": null,
   "metadata": {},
   "outputs": [],
   "source": [
    "lineList = []\n",
    "with open('datafile.txt', 'rt', encoding='utf-8') as fileObject:\n",
    "    for oneLine in fileObject:\n",
    "        lineList.append(oneLine)\n",
    "print(lineList)"
   ]
  },
  {
   "cell_type": "markdown",
   "metadata": {},
   "source": [
    "Put strings in list and strip trailing newlines"
   ]
  },
  {
   "cell_type": "code",
   "execution_count": null,
   "metadata": {},
   "outputs": [],
   "source": [
    "lineList = []\n",
    "with open('datafile.txt', 'rt', encoding='utf-8') as fileObject:\n",
    "    for oneLine in fileObject:\n",
    "        lineList.append(oneLine.strip())\n",
    "print(lineList)"
   ]
  },
  {
   "cell_type": "markdown",
   "metadata": {},
   "source": [
    "**Reading variations (try on your own)**\n",
    "\n",
    "`.readlines()` example"
   ]
  },
  {
   "cell_type": "code",
   "execution_count": null,
   "metadata": {},
   "outputs": [],
   "source": [
    "with open('datafile.txt', 'rt', encoding='utf-8') as fileObject:\n",
    "    lineList = fileObject.readlines()\n",
    "print(lineList)"
   ]
  },
  {
   "cell_type": "markdown",
   "metadata": {},
   "source": [
    "Load a list using `.split()`"
   ]
  },
  {
   "cell_type": "code",
   "execution_count": null,
   "metadata": {},
   "outputs": [],
   "source": [
    "with open('datafile.txt', 'rt', encoding='utf-8') as fileObject:\n",
    "    lineList = fileObject.read().split('\\n')\n",
    "print(lineList)"
   ]
  },
  {
   "cell_type": "markdown",
   "metadata": {},
   "source": [
    "# CSV reader/writer\n",
    "\n",
    "## CSV flies\n",
    "\n",
    "If you want to create the example CSV file without using a text editor, run this:"
   ]
  },
  {
   "cell_type": "code",
   "execution_count": null,
   "metadata": {},
   "outputs": [],
   "source": [
    "someText = '''given_name,family_name,username,student_id\n",
    "Jimmy,Zhang,rastaman27,37258\n",
    "Ji,Kim,kimji8,44947\n",
    "Veronica,Fuentes,shakira<3,19846'''\n",
    "with open('students.csv', 'wt', encoding='utf-8') as fileObject:\n",
    "    fileObject.write(someText)"
   ]
  },
  {
   "cell_type": "markdown",
   "metadata": {},
   "source": [
    "## Reading CSV files\n",
    "\n",
    "First example"
   ]
  },
  {
   "cell_type": "code",
   "execution_count": null,
   "metadata": {},
   "outputs": [],
   "source": [
    "import csv\n",
    "\n",
    "with open('students.csv', 'r', newline='', encoding='utf-8') as fileObject:\n",
    "    readerObject = csv.reader(fileObject)\n",
    "    print(type(readerObject))\n",
    "    print()\n",
    "    \n",
    "    for row in readerObject:\n",
    "        print(type(row))\n",
    "        print(row)"
   ]
  },
  {
   "cell_type": "markdown",
   "metadata": {},
   "source": [
    "## Template code for CSV-reading function (list of lists)\n",
    "\n",
    "**CSV-reading function example**"
   ]
  },
  {
   "cell_type": "code",
   "execution_count": null,
   "metadata": {},
   "outputs": [],
   "source": [
    "import csv\n",
    "\n",
    "def read_csv(filename):\n",
    "    with open(filename, 'r', newline='', encoding='utf-8') as file_object:\n",
    "        reader_object = csv.reader(file_object)\n",
    "        list_of_lists = []\n",
    "        for row_list in reader_object:\n",
    "            list_of_lists.append(row_list)\n",
    "    return list_of_lists\n",
    "\n",
    "student_info = read_csv('students.csv')\n",
    "print(student_info)\n",
    "print()\n",
    "\n",
    "print(student_info[1][2])\n",
    "print()\n",
    "\n",
    "output_string = ''\n",
    "for row in range(0,len(student_info)):\n",
    "    for column in  range(0,len(student_info[row])):\n",
    "        output_string += student_info[row][column] + '\\t'\n",
    "    output_string += '\\n'\n",
    "print(output_string)"
   ]
  },
  {
   "cell_type": "markdown",
   "metadata": {},
   "source": [
    "**CSV-reading function with option to skip header row**"
   ]
  },
  {
   "cell_type": "code",
   "execution_count": null,
   "metadata": {},
   "outputs": [],
   "source": [
    "import csv\n",
    "\n",
    "def read_csv_header(filename, include_header):\n",
    "    with open(filename, 'r', newline='', encoding='utf-8') as file_object:\n",
    "        reader_object = csv.reader(file_object)\n",
    "        list_of_lists = []\n",
    "        if not include_header:\n",
    "            next(reader_object)\n",
    "        for row in reader_object:\n",
    "            list_of_lists.append(row)\n",
    "    return list_of_lists\n",
    "\n",
    "student_info_no_header = read_csv_header('students.csv', False)\n",
    "print(student_info_no_header)\n",
    "print()\n",
    "student_info_with_header = read_csv_header('students.csv', True)\n",
    "print(student_info_with_header)"
   ]
  },
  {
   "cell_type": "markdown",
   "metadata": {},
   "source": [
    "**States example** (try on your own)\n",
    "\n",
    "Go to [this page](https://github.com/jasonong/List-of-US-States/blob/master/states.csv), then right-click on the Raw button and select Save link as... Save the file in the directory from which you've been running your scripts. See the web page about possible file extension problems."
   ]
  },
  {
   "cell_type": "code",
   "execution_count": null,
   "metadata": {},
   "outputs": [],
   "source": [
    "import csv\n",
    "\n",
    "def read_csv_header(filename, include_header):\n",
    "    with open(filename, 'r', newline='', encoding='utf-8') as file_object:\n",
    "        reader_object = csv.reader(file_object)\n",
    "        list_of_lists = []\n",
    "        if not include_header:\n",
    "            next(reader_object)\n",
    "        for row in reader_object:\n",
    "            list_of_lists.append(row)\n",
    "    return list_of_lists\n",
    "\n",
    "states = read_csv_header('states.csv', False)\n",
    "code = input(\"Enter the two-letter state abbreviation: \")\n",
    "found = False\n",
    "for state in states:\n",
    "    if state[1] == code:\n",
    "        print('The state name is ' + state[0])\n",
    "        found = True\n",
    "if not found:\n",
    "    print(\"I couldn't find your state.\")"
   ]
  },
  {
   "cell_type": "markdown",
   "metadata": {},
   "source": [
    "## Writing to CSV files\n",
    "\n",
    "Example writing cartoons.csv"
   ]
  },
  {
   "cell_type": "code",
   "execution_count": null,
   "metadata": {},
   "outputs": [],
   "source": [
    "import csv\n",
    "\n",
    "data = [ ['name', 'company', 'nemesis'], ['Mickey Mouse', 'Disney', 'Donald Duck'], ['Road Runner', 'Warner Brothers', 'Wile Ethelbert Coyote'] ]\n",
    "with open('cartoons.csv', 'w', newline='', encoding='utf-8') as file_object:\n",
    "    writer_object = csv.writer(file_object)\n",
    "    for row in data:\n",
    "        print(row)\n",
    "        writer_object.writerow(row)"
   ]
  },
  {
   "cell_type": "markdown",
   "metadata": {},
   "source": [
    "**Writing weird characters** (try on your own, then open in spreadsheet program)"
   ]
  },
  {
   "cell_type": "code",
   "execution_count": null,
   "metadata": {},
   "outputs": [],
   "source": [
    "import csv\n",
    "\n",
    "data = [ ['string', 'anotherString'], ['has \"quotes\" in it', \"has 'single quotes' in it\"], ['has, commas, in it', 'has\\nnewlines\\nin it'] ]\n",
    "with open('test.csv', 'w', newline='', encoding='utf-8') as file_object:\n",
    "    writer_object = csv.writer(file_object)\n",
    "    for row in data:\n",
    "        print(row)\n",
    "        writer_object.writerow(row)"
   ]
  },
  {
   "cell_type": "markdown",
   "metadata": {},
   "source": [
    "## Template code for CSV-writing function (from list of lists)"
   ]
  },
  {
   "cell_type": "code",
   "execution_count": null,
   "metadata": {},
   "outputs": [],
   "source": [
    "import csv\n",
    "\n",
    "def write_csv(filename, list_of_lists):\n",
    "    with open(filename, 'w', newline='', encoding='utf-8') as file_object:\n",
    "        writer_object = csv.writer(file_object)\n",
    "        for row_list in list_of_lists:\n",
    "            writer_object.writerow(row_list)\n",
    "\n",
    "data = [ ['col1', 'col2'], ['stuff', \"more stuff\"], ['second row', 'more data'] ]\n",
    "write_csv('test.csv', data)"
   ]
  },
  {
   "cell_type": "markdown",
   "metadata": {},
   "source": [
    "## Reading into dictionaries\n",
    "\n",
    "First example"
   ]
  },
  {
   "cell_type": "code",
   "execution_count": null,
   "metadata": {},
   "outputs": [],
   "source": [
    "import csv\n",
    "\n",
    "with open('cartoons.csv', 'r', newline='', encoding='utf-8') as file_object:\n",
    "    reader_object = csv.DictReader(file_object)\n",
    "    print(type(reader_object))\n",
    "    print()\n",
    "    cartoon_table = []\n",
    "    for row_list in reader_object:\n",
    "        print(type(row_list))\n",
    "        print(row_list)\n",
    "        cartoon_table.append(row_list)\n",
    "\n",
    "print()\n",
    "print(cartoon_table[1]['name'] + ' works for ' + cartoon_table[1]['company'] + '. Its enemy is ' + cartoon_table[1]['nemesis'])"
   ]
  },
  {
   "cell_type": "markdown",
   "metadata": {},
   "source": [
    "## Template code for CSV-reading function (list of dictionaries)"
   ]
  },
  {
   "cell_type": "code",
   "execution_count": null,
   "metadata": {},
   "outputs": [],
   "source": [
    "import csv\n",
    "\n",
    "def read_dict(filename):\n",
    "    with open(filename, 'r', newline='', encoding='utf-8') as file_object:\n",
    "        dict_object = csv.DictReader(file_object)\n",
    "        list_of_dicts = []\n",
    "        for row_dict in dict_object:\n",
    "            list_of_dicts.append(row_dict)\n",
    "    return list_of_dicts\n",
    "\n",
    "cartoons = read_dict('cartoons.csv')\n",
    "name = input(\"What's the character? \")\n",
    "found = False\n",
    "for character in cartoons:\n",
    "    if character['name'].lower() == name.lower():\n",
    "        if character['nemesis'] == '':\n",
    "            print(\"I don't know the nemesis of \" + name)\n",
    "        else:\n",
    "            print(name + \" doesn't like \" + character['nemesis'])\n",
    "        found = True\n",
    "if not found:\n",
    "    print(\"Sorry, I don't know that character.\")"
   ]
  },
  {
   "cell_type": "markdown",
   "metadata": {},
   "source": [
    "## Template code for CSV-writing functions (from list of dictionaries)\n",
    "\n",
    "Note that the functions do not return anything.\n",
    "\n",
    "The first function requires you to explicitly provide the field names. Use it if every dictionary does not contain every field."
   ]
  },
  {
   "cell_type": "code",
   "execution_count": null,
   "metadata": {},
   "outputs": [],
   "source": [
    "import csv\n",
    "\n",
    "def write_dicts_to_csv_fieldnames(list_of_dicts, filename, field_names):\n",
    "    with open(filename, 'w', newline='', encoding='utf-8') as csv_file_object:\n",
    "        writer = csv.DictWriter(csv_file_object, fieldnames=field_names)\n",
    "        writer.writeheader()\n",
    "        for row_dict in list_of_dicts:\n",
    "            writer.writerow(row_dict)\n",
    "\n",
    "field_names = ['name', 'company', 'nemesis']\n",
    "data = [ {'name': 'Mickey Mouse', 'company': 'Disney', 'nemesis': 'Donald Duck'}, {'name': 'Road Runner', 'company': 'Warner Brothers', 'nemesis': 'Wile Ethelbert Coyote'} ]\n",
    "file_name = 'mini-cartoon-table.csv'\n",
    "write_dicts_to_csv_fieldnames(data, file_name, field_names)"
   ]
  },
  {
   "cell_type": "markdown",
   "metadata": {},
   "source": [
    "The second function gets the field names from the keys in the first dictionary in the list. Use it if all dictionaries have the same keys.\n"
   ]
  },
  {
   "cell_type": "code",
   "execution_count": null,
   "metadata": {},
   "outputs": [],
   "source": [
    "import csv\n",
    "\n",
    "def write_dicts_to_csv(list_of_dicts, filename):\n",
    "    field_names = list_of_dicts[0].keys()\n",
    "    with open(filename, 'w', newline='', encoding='utf-8') as csv_file_object:\n",
    "        writer = csv.DictWriter(csv_file_object, fieldnames=field_names)\n",
    "        writer.writeheader()\n",
    "        for row_dict in list_of_dicts:\n",
    "            writer.writerow(row_dict)\n",
    "\n",
    "data = [ {'name': 'Mickey Mouse', 'company': 'Disney', 'nemesis': 'Donald Duck'}, {'name': 'Road Runner', 'company': 'Warner Brothers', 'nemesis': 'Wile Ethelbert Coyote'} ]\n",
    "file_name = 'another-cartoon-table.csv'\n",
    "write_dicts_to_csv(data, file_name)"
   ]
  },
  {
   "cell_type": "code",
   "execution_count": null,
   "metadata": {},
   "outputs": [],
   "source": []
  }
 ],
 "metadata": {
  "kernelspec": {
   "display_name": "Python 3",
   "language": "python",
   "name": "python3"
  },
  "language_info": {
   "codemirror_mode": {
    "name": "ipython",
    "version": 3
   },
   "file_extension": ".py",
   "mimetype": "text/x-python",
   "name": "python",
   "nbconvert_exporter": "python",
   "pygments_lexer": "ipython3",
   "version": "3.7.1"
  }
 },
 "nbformat": 4,
 "nbformat_minor": 2
}
