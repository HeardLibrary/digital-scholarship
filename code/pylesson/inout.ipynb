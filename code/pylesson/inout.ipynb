{
 "cells": [
  {
   "cell_type": "markdown",
   "metadata": {},
   "source": [
    "# File input/output\n",
    "\n",
    "## Writing to a text file\n",
    "\n",
    "Example"
   ]
  },
  {
   "cell_type": "code",
   "execution_count": null,
   "metadata": {},
   "outputs": [],
   "source": [
    "someText = \"Goin' into the file!\"\n",
    "fileObject = open('datafile.txt', 'wt', encoding='utf-8')\n",
    "fileObject.write(someText)\n",
    "fileObject.close()"
   ]
  },
  {
   "cell_type": "markdown",
   "metadata": {},
   "source": [
    "Output to file using `.write()`"
   ]
  },
  {
   "cell_type": "code",
   "execution_count": null,
   "metadata": {},
   "outputs": [],
   "source": [
    "firstLine = \"Goin' into the file!\"\n",
    "secondLine = \"I'm there, too.\"\n",
    "thirdLine = \"Wrapping it up!\"\n",
    "fileObject = open('datafile.txt', 'wt', encoding='utf-8')\n",
    "fileObject.write(firstLine)\n",
    "fileObject.write(secondLine)\n",
    "fileObject.write(thirdLine)\n",
    "fileObject.close()"
   ]
  },
  {
   "cell_type": "markdown",
   "metadata": {},
   "source": [
    "Output to file using `print()`"
   ]
  },
  {
   "cell_type": "code",
   "execution_count": null,
   "metadata": {},
   "outputs": [],
   "source": [
    "firstLine = \"Goin' into the file!\"\n",
    "secondLine = \"I'm there, too.\"\n",
    "thirdLine = \"Wrapping it up!\"\n",
    "fileObject = open('datafile.txt', 'wt', encoding='utf-8')\n",
    "print(firstLine, file=fileObject)\n",
    "print(secondLine, file=fileObject)\n",
    "print(thirdLine, file=fileObject)\n",
    "fileObject.close()"
   ]
  },
  {
   "cell_type": "markdown",
   "metadata": {},
   "source": [
    "Shortcut"
   ]
  },
  {
   "cell_type": "code",
   "execution_count": null,
   "metadata": {},
   "outputs": [],
   "source": [
    "someText = \"Goin' into the file!\"\n",
    "with open('datafile.txt', 'wt', encoding='utf-8') as fileObject:\n",
    "    fileObject.write(someText)"
   ]
  },
  {
   "cell_type": "markdown",
   "metadata": {},
   "source": [
    "## Reading from a text file\n",
    "\n",
    "Example"
   ]
  },
  {
   "cell_type": "code",
   "execution_count": null,
   "metadata": {},
   "outputs": [],
   "source": [
    "fileObject = open('datafile.txt', 'rt', encoding='utf-8')\n",
    "someText = fileObject.read()\n",
    "fileObject.close()\n",
    "print(someText)"
   ]
  },
  {
   "cell_type": "markdown",
   "metadata": {},
   "source": [
    "Iterable example"
   ]
  },
  {
   "cell_type": "code",
   "execution_count": null,
   "metadata": {},
   "outputs": [],
   "source": [
    "fileObject = open('datafile.txt', 'rt', encoding='utf-8')\n",
    "for oneLine in fileObject:\n",
    "    print(oneLine)\n",
    "fileObject.close()"
   ]
  },
  {
   "cell_type": "markdown",
   "metadata": {},
   "source": [
    "Put strings in list"
   ]
  },
  {
   "cell_type": "code",
   "execution_count": null,
   "metadata": {},
   "outputs": [],
   "source": [
    "lineList = []\n",
    "fileObject = open('datafile.txt', 'rt', encoding='utf-8')\n",
    "for oneLine in fileObject:\n",
    "    lineList.append(oneLine)\n",
    "fileObject.close()\n",
    "print(lineList)"
   ]
  },
  {
   "cell_type": "markdown",
   "metadata": {},
   "source": [
    "Put strings in list and strip trailing newlines"
   ]
  },
  {
   "cell_type": "code",
   "execution_count": null,
   "metadata": {},
   "outputs": [],
   "source": [
    "lineList = []\n",
    "fileObject = open('datafile.txt', 'rt', encoding='utf-8')\n",
    "for oneLine in fileObject:\n",
    "    lineList.append(oneLine.strip())\n",
    "fileObject.close()\n",
    "print(lineList)"
   ]
  },
  {
   "cell_type": "markdown",
   "metadata": {},
   "source": [
    "`.readlines()` example"
   ]
  },
  {
   "cell_type": "code",
   "execution_count": null,
   "metadata": {},
   "outputs": [],
   "source": [
    "fileObject = open('datafile.txt', 'rt', encoding='utf-8')\n",
    "lineList = fileObject.readlines()\n",
    "fileObject.close()\n",
    "print(lineList)"
   ]
  },
  {
   "cell_type": "markdown",
   "metadata": {},
   "source": [
    "`.readlines()` with shortcut"
   ]
  },
  {
   "cell_type": "code",
   "execution_count": null,
   "metadata": {},
   "outputs": [],
   "source": [
    "with open('datafile.txt', 'rt', encoding='utf-8') as fileObject:\n",
    "    lineList = fileObject.readlines()\n",
    "print(lineList)"
   ]
  },
  {
   "cell_type": "markdown",
   "metadata": {},
   "source": [
    "Load a list using `.split()`"
   ]
  },
  {
   "cell_type": "code",
   "execution_count": null,
   "metadata": {},
   "outputs": [],
   "source": [
    "with open('datafile.txt', 'rt', encoding='utf-8') as fileObject:\n",
    "    lineList = fileObject.read().split('\\n')\n",
    "print(lineList)"
   ]
  },
  {
   "cell_type": "markdown",
   "metadata": {},
   "source": [
    "# CSV reader/writer\n",
    "\n",
    "## CSV flies\n",
    "\n",
    "If you want to create the example CSV file without using a text editor, run this:"
   ]
  },
  {
   "cell_type": "code",
   "execution_count": null,
   "metadata": {},
   "outputs": [],
   "source": [
    "someText = '''given_name,family_name,username,student_id\n",
    "Jimmy,Zhang,rastaman27,37258\n",
    "Ji,Kim,kimji8,44947\n",
    "Veronica,Fuentes,shakira<3,19846'''\n",
    "with open('students.csv', 'wt', encoding='utf-8') as fileObject:\n",
    "    fileObject.write(someText)"
   ]
  },
  {
   "cell_type": "markdown",
   "metadata": {},
   "source": [
    "## Reading CSV files\n",
    "\n",
    "First example"
   ]
  },
  {
   "cell_type": "code",
   "execution_count": null,
   "metadata": {},
   "outputs": [],
   "source": [
    "import csv\n",
    "\n",
    "fileObject = open('students.csv', 'r', newline='', encoding='utf-8')\n",
    "readerObject = csv.reader(fileObject)\n",
    "print(type(readerObject))\n",
    "print(readerObject)\n",
    "for row in readerObject:\n",
    "    print(type(row))\n",
    "    print(row)\n",
    "fileObject.close()"
   ]
  },
  {
   "cell_type": "markdown",
   "metadata": {},
   "source": [
    "CSV-reading function example"
   ]
  },
  {
   "cell_type": "code",
   "execution_count": null,
   "metadata": {},
   "outputs": [],
   "source": [
    "import csv\n",
    "\n",
    "def readCsv(filename):\n",
    "    fileObject = open(filename, 'r', newline='', encoding='utf-8')\n",
    "    readerObject = csv.reader(fileObject)\n",
    "    array = []\n",
    "    for row in readerObject:\n",
    "        array.append(row)\n",
    "    fileObject.close()\n",
    "    return array\n",
    "\n",
    "studentInfo = readCsv('students.csv')\n",
    "print(studentInfo)\n",
    "print()\n",
    "print(studentInfo[1][2])\n",
    "print()\n",
    "outputString = ''\n",
    "for row in range(0,len(studentInfo)):\n",
    "    for column in  range(0,len(studentInfo[row])):\n",
    "        outputString += studentInfo[row][column] + '\\t'\n",
    "    outputString += '\\n'\n",
    "print(outputString)"
   ]
  },
  {
   "cell_type": "markdown",
   "metadata": {},
   "source": [
    "CSV-reading function with option to skip header row"
   ]
  },
  {
   "cell_type": "code",
   "execution_count": null,
   "metadata": {},
   "outputs": [],
   "source": [
    "import csv\n",
    "\n",
    "def readCsv(filename, header):\n",
    "    fileObject = open(filename, 'r', newline='', encoding='utf-8')\n",
    "    readerObject = csv.reader(fileObject)\n",
    "    array = []\n",
    "    if not header:\n",
    "        next(readerObject)\n",
    "    for row in readerObject:\n",
    "        array.append(row)\n",
    "    fileObject.close()\n",
    "    return array\n",
    "\n",
    "studentInfoNoheader = readCsv('students.csv', False)\n",
    "print(studentInfoNoheader)\n",
    "print()\n",
    "studentInfoHeader = readCsv('students.csv', True)\n",
    "print(studentInfoHeader)"
   ]
  },
  {
   "cell_type": "markdown",
   "metadata": {},
   "source": [
    "States example"
   ]
  },
  {
   "cell_type": "code",
   "execution_count": null,
   "metadata": {},
   "outputs": [],
   "source": [
    "import csv\n",
    "\n",
    "def readCsv(filename, header):\n",
    "    fileObject = open(filename, 'r', newline='', encoding='utf-8')\n",
    "    readerObject = csv.reader(fileObject)\n",
    "    array = []\n",
    "    if not header:\n",
    "        next(readerObject)\n",
    "    for row in readerObject:\n",
    "        array.append(row)\n",
    "    fileObject.close()\n",
    "    return array\n",
    "\n",
    "states = readCsv('states.csv', False)\n",
    "code = input(\"Enter the two-letter state abbreviation: \")\n",
    "find = False\n",
    "for state in states:\n",
    "    if state[1] == code:\n",
    "        print('The state name is ' + state[0])\n",
    "        find = True\n",
    "if not find:\n",
    "    print(\"I couldn't find your state.\")"
   ]
  },
  {
   "cell_type": "markdown",
   "metadata": {},
   "source": [
    "## Writing to CSV files\n",
    "\n",
    "Example writing cartoons.csv"
   ]
  },
  {
   "cell_type": "code",
   "execution_count": null,
   "metadata": {},
   "outputs": [],
   "source": [
    "import csv\n",
    "\n",
    "data = [ ['name', 'company', 'nemesis'], ['Mickey Mouse', 'Disney', 'Donald Duck'], ['Road Runner', 'Warner Brothers', 'Wile Ethelbert Coyote'] ]\n",
    "fileObject = open('cartoons.csv', 'w', newline='', encoding='utf-8')\n",
    "writerObject = csv.writer(fileObject)\n",
    "for row in data:\n",
    "    print(row)\n",
    "    writerObject.writerow(row)\n",
    "fileObject.close()"
   ]
  },
  {
   "cell_type": "markdown",
   "metadata": {},
   "source": [
    "Example writing weird characters"
   ]
  },
  {
   "cell_type": "code",
   "execution_count": null,
   "metadata": {},
   "outputs": [],
   "source": [
    "import csv\n",
    "\n",
    "data = [ ['string', 'anotherString'], ['has \"quotes\" in it', \"has 'single quotes' in it\"], ['has, commas, in it', 'has\\nnewlines\\nin it'] ]\n",
    "fileObject = open('test.csv', 'w', newline='', encoding='utf-8')\n",
    "writerObject = csv.writer(fileObject)\n",
    "for row in data:\n",
    "    print(row)\n",
    "    writerObject.writerow(row)\n",
    "fileObject.close()"
   ]
  },
  {
   "cell_type": "markdown",
   "metadata": {},
   "source": [
    "Reusable CSV-writing function `writeCsv()`"
   ]
  },
  {
   "cell_type": "code",
   "execution_count": null,
   "metadata": {},
   "outputs": [],
   "source": [
    "import csv\n",
    "\n",
    "def writeCsv(fileName, array):\n",
    "    fileObject = open(fileName, 'w', newline='', encoding='utf-8')\n",
    "    writerObject = csv.writer(fileObject)\n",
    "    for row in array:\n",
    "        writerObject.writerow(row)\n",
    "    fileObject.close()\n",
    "\n",
    "data = [ ['col1', 'col2'], ['stuff', \"more stuff\"], ['second row', 'more data'] ]\n",
    "writeCsv('test.csv', data)"
   ]
  },
  {
   "cell_type": "markdown",
   "metadata": {},
   "source": [
    "## Reading into dictionaries\n",
    "\n",
    "First example"
   ]
  },
  {
   "cell_type": "code",
   "execution_count": null,
   "metadata": {},
   "outputs": [],
   "source": [
    "import csv\n",
    "\n",
    "fileObject = open('cartoons.csv', 'r', newline='', encoding='utf-8')\n",
    "readerObject = csv.DictReader(fileObject)\n",
    "print(type(readerObject))\n",
    "print(readerObject)\n",
    "cartoon = []\n",
    "for row in readerObject:\n",
    "    print(type(row))\n",
    "    print(row)\n",
    "    cartoon.append(row)\n",
    "fileObject.close()\n",
    "print()\n",
    "print(cartoon[1]['name'] + ' works for ' + cartoon[1]['company'] + '. Its enemy is ' + cartoon[1]['nemesis'])"
   ]
  },
  {
   "cell_type": "markdown",
   "metadata": {},
   "source": [
    "Reusable function for turning a CSV into a list of dictionaries"
   ]
  },
  {
   "cell_type": "code",
   "execution_count": null,
   "metadata": {},
   "outputs": [],
   "source": [
    "import csv\n",
    "\n",
    "def readDict(filename):\n",
    "    fileObject = open(filename, 'r', newline='', encoding='utf-8')\n",
    "    dictObject = csv.DictReader(fileObject)\n",
    "    array = []\n",
    "    for row in dictObject:\n",
    "        array.append(row)\n",
    "    fileObject.close()\n",
    "    return array\n",
    "\n",
    "cartoons = readDict('cartoons.csv')\n",
    "name = input(\"What's the character? \")\n",
    "find = False\n",
    "for character in cartoons:\n",
    "    if character['name'].lower() == name.lower():\n",
    "        if character['nemesis'] == '':\n",
    "            print(\"I don't know the nemesis of \" + name)\n",
    "        else:\n",
    "            print(name + \" doesn't like \" + character['nemesis'])\n",
    "        find = True\n",
    "if not find:\n",
    "    print(\"Sorry, I don't know that character.\")"
   ]
  }
 ],
 "metadata": {
  "kernelspec": {
   "display_name": "Python 3",
   "language": "python",
   "name": "python3"
  },
  "language_info": {
   "codemirror_mode": {
    "name": "ipython",
    "version": 3
   },
   "file_extension": ".py",
   "mimetype": "text/x-python",
   "name": "python",
   "nbconvert_exporter": "python",
   "pygments_lexer": "ipython3",
   "version": "3.7.1"
  }
 },
 "nbformat": 4,
 "nbformat_minor": 2
}
