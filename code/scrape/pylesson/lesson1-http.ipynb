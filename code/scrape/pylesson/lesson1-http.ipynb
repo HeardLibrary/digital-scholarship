{
 "cells": [
  {
   "cell_type": "markdown",
   "metadata": {},
   "source": [
    "# HTTP GET\n",
    "\n",
    "## Basic HTTP GET using the Requests module. \n",
    "\n",
    "Note: Requests is not in the standard library, so you will need to install it unless your distribution already includes it (e.g. Anaconda)."
   ]
  },
  {
   "cell_type": "code",
   "execution_count": null,
   "metadata": {},
   "outputs": [],
   "source": [
    "import requests\n",
    "\n",
    "uri = 'http://bioimages.vanderbilt.edu/pages/contributors.htm'\n",
    "#uri = 'http://api.open-notify.org/iss-now.json'\n",
    "response = requests.get(uri)\n",
    "print('Dereferenced URL: ', response.url)\n",
    "print('HTTP status code: ', response.status_code)\n",
    "# The .headers attribute returns a dictionary with keys that correspond to the header keys\n",
    "print('Response media type: ', response.headers['content-type'])\n",
    "print('Response body: ')\n",
    "print()\n",
    "print(response.text)"
   ]
  },
  {
   "cell_type": "markdown",
   "metadata": {},
   "source": [
    "Try again with the URI http://api.open-notify.org/iss-now.json"
   ]
  },
  {
   "cell_type": "markdown",
   "metadata": {},
   "source": [
    "## HTTP GET with content negotiation.  \n",
    "\n",
    "If there is a redirect, requests generates a `.history` attribute that is a list of responses."
   ]
  },
  {
   "cell_type": "code",
   "execution_count": null,
   "metadata": {},
   "outputs": [],
   "source": [
    "import requests\n",
    "\n",
    "uri = 'http://dbpedia.org/resource/Bonobo'\n",
    "headerDict = {'Accept' : 'text/html'}\n",
    "#headerDict = {'Accept' : 'application/ld+json'}\n",
    "response = requests.get(uri, headers=headerDict)\n",
    "if response.history:\n",
    "    for redirect in response.history:\n",
    "        print('Redirect type: ', redirect.status_code, ' from ', redirect.url)\n",
    "print('Dereferenced URL: ', response.url)\n",
    "print('HTTP status code: ', response.status_code)\n",
    "print('Response media type: ', response.headers['content-type'])\n",
    "print('Response body: ')\n",
    "print()\n",
    "print(response.text)"
   ]
  },
  {
   "cell_type": "markdown",
   "metadata": {},
   "source": [
    "Try again with an `Accept` request header of `application/ld+json`"
   ]
  },
  {
   "cell_type": "markdown",
   "metadata": {},
   "source": [
    "# APIs\n",
    "\n",
    "## Where's the ISS? API\n",
    "\n",
    "The webbrowser module provides access to the default system browser.  The `.open_new_tab` method opens a new tab (launching the browser if it isn't already open)."
   ]
  },
  {
   "cell_type": "code",
   "execution_count": null,
   "metadata": {},
   "outputs": [],
   "source": [
    "import requests\n",
    "import webbrowser\n",
    "\n",
    "url = 'http://api.open-notify.org/iss-now.json'\n",
    "response = requests.get(url)\n",
    "print('JSON text: ', response.text)\n",
    "print()\n",
    "data = response.json()\n",
    "print('Python data structure: ', data)\n",
    "print()\n",
    "latitude = data['iss_position']['latitude']\n",
    "longitude = data['iss_position']['longitude']\n",
    "zoom = '4'\n",
    "googleMapUrl = 'http://www.google.com/maps/place/'+latitude+','+longitude+'/@'+latitude+','+longitude+','+zoom+'z'\n",
    "print(googleMapUrl)  # not necessary to print this, but useful for debugging\n",
    "success = webbrowser.open_new_tab(googleMapUrl)"
   ]
  },
  {
   "cell_type": "markdown",
   "metadata": {},
   "source": [
    "Generating \"pretty\" JSON"
   ]
  },
  {
   "cell_type": "code",
   "execution_count": null,
   "metadata": {},
   "outputs": [],
   "source": [
    "import requests\n",
    "import json\n",
    "\n",
    "url = 'http://api.open-notify.org/iss-now.json'\n",
    "response = requests.get(url)\n",
    "data = response.json()\n",
    "print('Python data structure: ', data)\n",
    "print()\n",
    "# json.dumps creates a JSON string from a Python data structure\n",
    "# the indent argument sets the indentation spacing and sort_keys alphabetizes the keys\n",
    "prettifiedJson = json.dumps(data, indent=4, sort_keys=True)\n",
    "print('prettified JSON: ')\n",
    "print(prettifiedJson)"
   ]
  },
  {
   "cell_type": "code",
   "execution_count": null,
   "metadata": {},
   "outputs": [],
   "source": [
    "\n"
   ]
  }
 ],
 "metadata": {
  "kernelspec": {
   "display_name": "Python 3",
   "language": "python",
   "name": "python3"
  },
  "language_info": {
   "codemirror_mode": {
    "name": "ipython",
    "version": 3
   },
   "file_extension": ".py",
   "mimetype": "text/x-python",
   "name": "python",
   "nbconvert_exporter": "python",
   "pygments_lexer": "ipython3",
   "version": "3.7.1"
  }
 },
 "nbformat": 4,
 "nbformat_minor": 2
}
