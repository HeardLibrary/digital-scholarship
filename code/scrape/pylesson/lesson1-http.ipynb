{
 "cells": [
  {
   "cell_type": "markdown",
   "metadata": {},
   "source": [
    "# HTTP GET\n",
    "\n",
    "## Basic HTTP GET using the Requests module. \n",
    "\n",
    "Note: Requests is not in the standard library, so you will need to install it unless your distribution already includes it (e.g. Anaconda)."
   ]
  },
  {
   "cell_type": "code",
   "execution_count": null,
   "metadata": {},
   "outputs": [],
   "source": [
    "import requests\n",
    "\n",
    "uri = 'http://bioimages.vanderbilt.edu/pages/contributors.htm'\n",
    "#uri = 'http://api.open-notify.org/iss-now.json'\n",
    "response = requests.get(uri)\n",
    "print('Dereferenced URL: ', response.url)\n",
    "print('HTTP status code: ', response.status_code)\n",
    "# The .headers attribute returns a dictionary with keys that correspond to the header keys\n",
    "print('Response media type: ', response.headers['content-type'])\n",
    "print('Response body: ')\n",
    "print()\n",
    "print(response.text)"
   ]
  },
  {
   "cell_type": "markdown",
   "metadata": {},
   "source": [
    "Try again with the URI http://api.open-notify.org/iss-now.json"
   ]
  },
  {
   "cell_type": "markdown",
   "metadata": {},
   "source": [
    "## HTTP GET with content negotiation.  \n",
    "\n",
    "If there is a redirect, requests generates a `.history` attribute that is a list of responses."
   ]
  },
  {
   "cell_type": "code",
   "execution_count": null,
   "metadata": {},
   "outputs": [],
   "source": [
    "import requests\n",
    "\n",
    "uri = 'http://dbpedia.org/resource/Bonobo'\n",
    "headerDict = {'Accept' : 'text/html'}\n",
    "#headerDict = {'Accept' : 'application/ld+json'}\n",
    "response = requests.get(uri, headers=headerDict)\n",
    "if response.history:\n",
    "    for redirect in response.history:\n",
    "        print('Redirect type: ', redirect.status_code, ' from ', redirect.url)\n",
    "print('Dereferenced URL: ', response.url)\n",
    "print('HTTP status code: ', response.status_code)\n",
    "print('Response media type: ', response.headers['content-type'])\n",
    "print('Response body: ')\n",
    "print()\n",
    "print(response.text)"
   ]
  },
  {
   "cell_type": "markdown",
   "metadata": {},
   "source": [
    "Try again with an `Accept` request header of `application/ld+json`"
   ]
  },
  {
   "cell_type": "markdown",
   "metadata": {},
   "source": [
    "## Data from GitHub\n",
    "\n",
    "Remember to use the URL of the raw file, not the data rendered as HTML.  The rendered page in this example is https://github.com/jakevdp/PythonDataScienceHandbook/blob/master/notebooks/data/president_heights.csv\n",
    "\n",
    "This example provides a function `urlToListOfDicts()` that will turn an online CSV file into a list of dictionaries.\n",
    "\n",
    "This script finds the shortest and tallest U.S. presidents (Donald Trump missing from dataset)."
   ]
  },
  {
   "cell_type": "code",
   "execution_count": null,
   "metadata": {},
   "outputs": [],
   "source": [
    "import requests\n",
    "import csv\n",
    "\n",
    "def urlToListOfDicts(url):\n",
    "    r = requests.get(url)\n",
    "    fileText = r.text.split('\\n')\n",
    "    fileRows = csv.DictReader(fileText)\n",
    "    dictData = []\n",
    "    for row in fileRows:\n",
    "        dictData.append(row)\n",
    "    return dictData\n",
    "    \n",
    "uri = 'https://raw.githubusercontent.com/jakevdp/PythonDataScienceHandbook/master/notebooks/data/president_heights.csv'\n",
    "data = urlToListOfDicts(uri)\n",
    "\n",
    "tallHeight = 0\n",
    "shortHeight = 300\n",
    "for president in data:\n",
    "    if int(president['height(cm)']) > tallHeight:\n",
    "        tallGuy = president['name']\n",
    "        tallHeight = int(president['height(cm)'])\n",
    "    if int(president['height(cm)']) < shortHeight:\n",
    "        shortGuy = president['name']\n",
    "        shortHeight = int(president['height(cm)'])\n",
    "\n",
    "print(tallGuy, 'is tallest at', tallHeight, 'cm')\n",
    "print(shortGuy, 'is shortest at', shortHeight, 'cm')\n"
   ]
  },
  {
   "cell_type": "code",
   "execution_count": null,
   "metadata": {},
   "outputs": [],
   "source": []
  },
  {
   "cell_type": "markdown",
   "metadata": {},
   "source": [
    "# APIs\n",
    "\n",
    "## Where's the ISS? API\n",
    "\n",
    "The webbrowser module provides access to the default system browser.  The `.open_new_tab` method opens a new tab (launching the browser if it isn't already open)."
   ]
  },
  {
   "cell_type": "code",
   "execution_count": null,
   "metadata": {},
   "outputs": [],
   "source": [
    "import requests\n",
    "import webbrowser\n",
    "\n",
    "url = 'http://api.open-notify.org/iss-now.json'\n",
    "response = requests.get(url)\n",
    "print('JSON text: ', response.text)\n",
    "print()\n",
    "data = response.json()\n",
    "print('Python data structure: ', data)\n",
    "print()\n",
    "latitude = data['iss_position']['latitude']\n",
    "longitude = data['iss_position']['longitude']\n",
    "zoom = '4'\n",
    "googleMapUrl = 'http://www.google.com/maps/place/'+latitude+','+longitude+'/@'+latitude+','+longitude+','+zoom+'z'\n",
    "print(googleMapUrl)  # not necessary to print this, but useful for debugging\n",
    "success = webbrowser.open_new_tab(googleMapUrl)"
   ]
  },
  {
   "cell_type": "markdown",
   "metadata": {},
   "source": [
    "Generating \"pretty\" JSON"
   ]
  },
  {
   "cell_type": "code",
   "execution_count": null,
   "metadata": {},
   "outputs": [],
   "source": [
    "import requests\n",
    "import json\n",
    "\n",
    "url = 'http://api.open-notify.org/iss-now.json'\n",
    "response = requests.get(url)\n",
    "data = response.json()\n",
    "print('Python data structure: ', data)\n",
    "print()\n",
    "# json.dumps creates a JSON string from a Python data structure\n",
    "# the indent argument sets the indentation spacing and sort_keys alphabetizes the keys\n",
    "prettifiedJson = json.dumps(data, indent=4, sort_keys=True)\n",
    "print('prettified JSON: ')\n",
    "print(prettifiedJson)"
   ]
  },
  {
   "cell_type": "markdown",
   "metadata": {},
   "source": [
    "# Data from a GitHub Gist\n",
    "\n",
    "Putting data in a GitHub Gist is about the easiest and fastest way to make data available to anyone to use in Python.  All you need to do is give them the gist URL.\n",
    "\n",
    "JSON data about Vanderbilt Schools and Colleges:\n",
    "\n",
    "https://gist.github.com/baskaufs/22555ec59675f8790bf6cdd9cb0f2961"
   ]
  },
  {
   "cell_type": "code",
   "execution_count": null,
   "metadata": {},
   "outputs": [],
   "source": [
    "import requests\n",
    "import webbrowser\n",
    "\n",
    "url = 'https://gist.githubusercontent.com/baskaufs/22555ec59675f8790bf6cdd9cb0f2961/raw/6841e723f0356df112a1f75b8993a18bc180c5f4/vandy_schools.json'\n",
    "response = requests.get(url)\n",
    "print('Response media type: ', response.headers['content-type'])\n",
    "data = response.json()\n",
    "# the JSON is an array of objects, which gets translated into a list of dictionaries Python structure\n",
    "# each school is one item in the list\n",
    "\n",
    "schoolName = input('What school do you want to know about? ')\n",
    "for school in data:\n",
    "    if schoolName.lower() in school['label'].lower():\n",
    "        wikidataUrl = 'https://www.wikidata.org/wiki/' + school['wikidataId']\n",
    "        print(school['label'])\n",
    "        print(wikidataUrl)\n",
    "        success = webbrowser.open_new_tab(wikidataUrl)"
   ]
  }
 ],
 "metadata": {
  "kernelspec": {
   "display_name": "Python 3",
   "language": "python",
   "name": "python3"
  },
  "language_info": {
   "codemirror_mode": {
    "name": "ipython",
    "version": 3
   },
   "file_extension": ".py",
   "mimetype": "text/x-python",
   "name": "python",
   "nbconvert_exporter": "python",
   "pygments_lexer": "ipython3",
   "version": "3.7.1"
  }
 },
 "nbformat": 4,
 "nbformat_minor": 2
}
