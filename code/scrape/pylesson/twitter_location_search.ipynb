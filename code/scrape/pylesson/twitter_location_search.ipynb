{
 "cells": [
  {
   "cell_type": "markdown",
   "metadata": {},
   "source": [
    "The code in this cell is for doing the authentication to Twitter.  It should only be run once in each work session because the generated access token can be reused repeatedly.\n",
    "\n",
    "This code is based on the example in [this lesson](https://heardlibrary.github.io/digital-scholarship/script/python/authenticate/#getting-an-access-token-using-oauth-2-client-credentials).\n",
    "\n",
    "If the `requests_oauthlib` module isn't found, open a new terminal window and execute the command:\n",
    "\n",
    "```\n",
    "conda install requests-oauthlib\n",
    "```\n",
    "\n",
    "Be sure to use a dash and not an underscore."
   ]
  },
  {
   "cell_type": "code",
   "execution_count": null,
   "metadata": {},
   "outputs": [],
   "source": [
    "from oauthlib.oauth2 import BackendApplicationClient\n",
    "from requests_oauthlib import OAuth2Session\n",
    "from pathlib import Path\n",
    "\n",
    "# This is the format of the twitter_credentials.txt file. clientKey and clientSecret\n",
    "# are for an application you've created using your developer account. \n",
    "# The keys are not real, they are just to show you how the file should be formatted.\n",
    "# Save file in your current working directory (which may be your home directory).\n",
    "# To force Python to look in your home directory, uncomment the second 'home = ' command.\n",
    "\n",
    "'''\n",
    "clientKey=X09AB1a9upsTOxS0Dd1cA9Ola\n",
    "clientSecret=662cke38slfibkwofqpsag9t9ej5ja18i\n",
    "'''\n",
    "\n",
    "requestTokenUrl = 'https://api.twitter.com/oauth2/token'\n",
    "\n",
    "home = '.'\n",
    "#home = str(Path.home()) # uncomment this line to force Python to look in your home directory\n",
    "credentialsFilename = 'twitter_credentials.txt'\n",
    "credentialsPath = home + '/' + credentialsFilename\n",
    "with open(credentialsPath, 'rt') as fileObject:\n",
    "    lineList = fileObject.read().split('\\n')\n",
    "clientKey = lineList[0].split('=')[1]\n",
    "clientSecret = lineList[1].split('=')[1]\n",
    "\n",
    "# you can uncomment the next two lines if you want to check that your keys were retrieved correctly\n",
    "#print(clientKey)\n",
    "#print(clientSecret)\n",
    "\n",
    "clientObject = BackendApplicationClient(client_id=clientKey)\n",
    "oauth = OAuth2Session(client=clientObject)\n",
    "accessTokenJson = oauth.fetch_token(token_url=requestTokenUrl, client_id=clientKey, client_secret=clientSecret)\n",
    "# access token should be cached/saved and used repeatedly rather than making many requests fo a new token\n",
    "# uncomment the following line to see what the access token is\n",
    "#print(accessTokenJson)\n"
   ]
  },
  {
   "cell_type": "markdown",
   "metadata": {},
   "source": [
    "The code in the following cell actually retrieves data from the Twitter API.  You can re-run it repeatedly for different searches."
   ]
  },
  {
   "cell_type": "code",
   "execution_count": 41,
   "metadata": {},
   "outputs": [
    {
     "name": "stdout",
     "output_type": "stream",
     "text": [
      "What do you want to search for? Vanderbilt\n",
      "People tweeted about that at:\n",
      "36.1437001 -86.8010256\n",
      "36.1426398 -86.8001068\n",
      "36.1460125 -86.8093215\n",
      "36.1395125 -86.8040784\n",
      "36.1460125 -86.8093215\n",
      "36.1371145 -86.8036337\n",
      "36.1468919 -86.7991216\n",
      "36.1457192 -86.8066559\n",
      "36.1437001 -86.8010256\n",
      "36.13861 -86.80604\n",
      "36.1426398 -86.8001068\n",
      "36.1437001 -86.8010256\n",
      "36.1371546 -86.804168\n",
      "36.1457192 -86.8066559\n",
      "\n",
      "Here is one place where they tweeted:\n",
      "http://www.google.com/maps/place/36.1437001,-86.8010256/@36.1437001,-86.8010256,14z\n"
     ]
    }
   ],
   "source": [
    "import requests\n",
    "import json\n",
    "import webbrowser\n",
    "\n",
    "bearerAccessToken = accessTokenJson['access_token']\n",
    "\n",
    "# This is based on the Standard Search API instructions at\n",
    "# https://developer.twitter.com/en/docs/tweets/search/api-reference/get-search-tweets\n",
    "\n",
    "# These values are for near the Eskind Library\n",
    "searchLatitude = '36.143132'\n",
    "searchLongitude = '-86.802463'\n",
    "\n",
    "radius = '1mi'  # search within a one mile radius\n",
    "\n",
    "query = input('What do you want to search for? ')\n",
    "\n",
    "resourceUrl = 'https://api.twitter.com/1.1/search/tweets.json'\n",
    "paramDict = {'q' : query, 'geocode' : searchLatitude + ',' + searchLongitude + ',' + radius}\n",
    "r = requests.get(resourceUrl, headers={'Authorization' : 'Bearer '+ bearerAccessToken}, params = paramDict)\n",
    "data = r.json()\n",
    "#print(json.dumps(data, indent = 2))\n",
    "\n",
    "print('People tweeted about that at:')\n",
    "geocoordinatesList = []\n",
    "for tweet in data['statuses']:\n",
    "    if tweet['geo'] != None: # this line prevents the script from crashing when location wasn't given\n",
    "        latitude = str(tweet['geo']['coordinates'][0])\n",
    "        longitude = str(tweet['geo']['coordinates'][1])\n",
    "        print(latitude, longitude)\n",
    "        geocoordinatesList.append({'latitude': latitude, 'longitude': longitude})\n",
    "print()\n",
    "\n",
    "# plot the first coordinates\n",
    "lat = geocoordinatesList[0]['latitude']\n",
    "lon = geocoordinatesList[0]['longitude']\n",
    "zoom = '14' # larger number is zoomed in more\n",
    "googleMapUrl = 'http://www.google.com/maps/place/'+lat+','+lon+'/@'+lat+','+lon+','+zoom+'z'\n",
    "print('Here is one place where they tweeted:')\n",
    "print(googleMapUrl)\n",
    "status = webbrowser.open_new_tab(googleMapUrl)"
   ]
  },
  {
   "cell_type": "code",
   "execution_count": null,
   "metadata": {},
   "outputs": [],
   "source": []
  },
  {
   "cell_type": "code",
   "execution_count": null,
   "metadata": {},
   "outputs": [],
   "source": []
  }
 ],
 "metadata": {
  "kernelspec": {
   "display_name": "Python 3",
   "language": "python",
   "name": "python3"
  },
  "language_info": {
   "codemirror_mode": {
    "name": "ipython",
    "version": 3
   },
   "file_extension": ".py",
   "mimetype": "text/x-python",
   "name": "python",
   "nbconvert_exporter": "python",
   "pygments_lexer": "ipython3",
   "version": "3.7.1"
  }
 },
 "nbformat": 4,
 "nbformat_minor": 2
}
