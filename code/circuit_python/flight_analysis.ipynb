{
 "cells": [
  {
   "cell_type": "markdown",
   "metadata": {},
   "source": [
    "# Notes\n",
    "\n",
    "For a Python library that does inertial measurement unit (IMU) calculations, see https://github.com/micropython-IMU/micropython-fusion\n",
    "\n",
    "For notes on pitch, roll, and yaw movements, see http://planning.cs.uiuc.edu/node102.html\n"
   ]
  },
  {
   "cell_type": "code",
   "execution_count": null,
   "metadata": {},
   "outputs": [],
   "source": [
    "import pandas as pd\n",
    "import matplotlib.pyplot as plt\n",
    "import numpy as np\n",
    "\n",
    "data_file_name = 'motion.csv' # default filename output from rocket script\n",
    "#data_file_name = 'deck.csv' # change to deck.csv to look at a test data set of throwing a rocket off of a deck\n",
    "flight_data_raw = pd.read_csv(data_file_name)\n",
    "flight_data_raw.columns = ['time', 'alt', 'pitch_a', 'roll_a', 'yaw_a', 'pitch_r', 'roll_r', 'yaw_r']\n",
    "flight_data_raw.set_index('time', inplace=True)\n",
    "\n",
    "flight_data_raw.plot(figsize=(20,10))\n",
    "flight_data_raw.head()"
   ]
  },
  {
   "cell_type": "code",
   "execution_count": null,
   "metadata": {},
   "outputs": [],
   "source": [
    "# Relevant time interval for a test of throwing rocket off of deck (the deck.csv file)\n",
    "start_time = 20\n",
    "end_time = 25\n",
    "\n",
    "flight_data = flight_data_raw.loc[(flight_data_raw.index>start_time) & (flight_data_raw.index<end_time)].copy()\n",
    "flight_data"
   ]
  },
  {
   "cell_type": "code",
   "execution_count": null,
   "metadata": {},
   "outputs": [],
   "source": [
    "fig = plt.figure(figsize=(20,10))\n",
    "ax = fig.add_subplot(1, 1, 1)\n",
    "ax.plot(flight_data.index, flight_data.alt, color='k')\n",
    "ax.set_xlabel('time (s)')\n",
    "ax.set_ylabel('altitude (m)')\n"
   ]
  },
  {
   "cell_type": "code",
   "execution_count": null,
   "metadata": {},
   "outputs": [],
   "source": [
    "fig = plt.figure(figsize=(20,10))\n",
    "ax = fig.add_subplot(1, 1, 1)\n",
    "ax.plot(flight_data.index, flight_data.pitch_a, color='r', label='pitch')\n",
    "ax.plot(flight_data.index, flight_data.roll_a, color='b', label='roll')\n",
    "ax.plot(flight_data.index, flight_data.yaw_a, color='y', label='yaw')\n",
    "ax.set_xlabel('time (s)')\n",
    "ax.set_ylabel('acceleration (m/s^2)')\n",
    "ax.legend(loc='best')\n"
   ]
  },
  {
   "cell_type": "code",
   "execution_count": null,
   "metadata": {},
   "outputs": [],
   "source": [
    "# Estimate the acceleration in the direction of the rocket nose cone.\n",
    "# Assumes the rocket is pointing up.\n",
    "g = 9.8\n",
    "engine_accel = flight_data.roll_a - g\n",
    "\n",
    "fig = plt.figure(figsize=(20,10))\n",
    "ax = fig.add_subplot(1, 1, 1)\n",
    "ax.plot(flight_data.index, engine_accel, color='k')\n",
    "ax.set_xlabel('time (s)')\n",
    "ax.set_ylabel('actual upward acceleration (m/s^2)')\n"
   ]
  },
  {
   "cell_type": "code",
   "execution_count": null,
   "metadata": {},
   "outputs": [],
   "source": [
    "# Calculate net acceleration, i.e. the vector sum of acceleration in any direction.\n",
    "# This value should be zero when in free-fall.\n",
    "net_accel = np.sqrt(flight_data.pitch_a**2 + flight_data.roll_a**2 + flight_data.yaw_a**2)\n",
    "\n",
    "fig = plt.figure(figsize=(20,10))\n",
    "ax = fig.add_subplot(1, 1, 1)\n",
    "ax.plot(flight_data.index, net_accel, color='k')\n",
    "ax.set_xlabel('time (s)')\n",
    "ax.set_ylabel('net acceleration (m/s^2)')\n"
   ]
  },
  {
   "cell_type": "code",
   "execution_count": null,
   "metadata": {},
   "outputs": [],
   "source": [
    "fig = plt.figure(figsize=(20,20))\n",
    "ax1 = fig.add_subplot(3, 1, 1)\n",
    "ax1.plot(flight_data.index, flight_data.alt, color='k')\n",
    "ax1.set_ylabel('altitude (m)')\n",
    "\n",
    "ax2 = fig.add_subplot(3, 1, 2)\n",
    "ax2.plot(flight_data.index, flight_data.pitch_a, color='r', label='pitch')\n",
    "ax2.plot(flight_data.index, flight_data.roll_a, color='b', label='roll')\n",
    "ax2.plot(flight_data.index, flight_data.yaw_a, color='y', label='yaw')\n",
    "ax2.set_ylabel('component acceleration (m/s^2)')\n",
    "ax2.legend(loc='best')\n",
    "\n",
    "ax3 = fig.add_subplot(3, 1, 3)\n",
    "ax3.plot(flight_data.index, net_accel, color='k')\n",
    "ax3.set_ylabel('net acceleration (m/s^2)')\n",
    "ax3.set_xlabel('time (s)')\n"
   ]
  },
  {
   "cell_type": "code",
   "execution_count": null,
   "metadata": {},
   "outputs": [],
   "source": [
    "fig = plt.figure(figsize=(20,10))\n",
    "ax = fig.add_subplot(1, 1, 1)\n",
    "ax.plot(flight_data.index, flight_data.pitch_r, color='r', label='pitch')\n",
    "ax.plot(flight_data.index, flight_data.roll_r, color='b', label='roll')\n",
    "ax.plot(flight_data.index, flight_data.yaw_r, color='y', label='yaw')\n",
    "ax.set_xlabel('time (s)')\n",
    "ax.set_ylabel('rotation (radians/s)')\n",
    "ax.legend(loc='best')\n"
   ]
  },
  {
   "cell_type": "code",
   "execution_count": null,
   "metadata": {},
   "outputs": [],
   "source": [
    "fig = plt.figure(figsize=(20,20))\n",
    "ax1 = fig.add_subplot(2, 1, 1)\n",
    "ax1.plot(flight_data.index, flight_data.alt, color='k')\n",
    "ax1.set_ylabel('altitude (m)')\n",
    "\n",
    "ax2 = fig.add_subplot(2, 1, 2)\n",
    "ax2.plot(flight_data.index, flight_data.pitch_r, color='r', label='pitch')\n",
    "ax2.plot(flight_data.index, flight_data.roll_r, color='b', label='roll')\n",
    "ax2.plot(flight_data.index, flight_data.yaw_r, color='y', label='yaw')\n",
    "ax2.set_ylabel('rotation (radians/s)')\n",
    "ax2.legend(loc='best')\n"
   ]
  },
  {
   "cell_type": "code",
   "execution_count": null,
   "metadata": {},
   "outputs": [],
   "source": []
  }
 ],
 "metadata": {
  "kernelspec": {
   "display_name": "Python 3",
   "language": "python",
   "name": "python3"
  },
  "language_info": {
   "codemirror_mode": {
    "name": "ipython",
    "version": 3
   },
   "file_extension": ".py",
   "mimetype": "text/x-python",
   "name": "python",
   "nbconvert_exporter": "python",
   "pygments_lexer": "ipython3",
   "version": "3.8.5"
  }
 },
 "nbformat": 4,
 "nbformat_minor": 4
}
