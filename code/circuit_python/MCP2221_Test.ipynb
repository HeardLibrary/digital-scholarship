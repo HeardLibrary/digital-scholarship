{
 "cells": [
  {
   "cell_type": "code",
   "execution_count": null,
   "metadata": {},
   "outputs": [],
   "source": [
    "# Python Software Package Installation (one-time only)\n",
    "import sys\n",
    "\n",
    "# Use this line if invoking Python on your OS is done with \"python\"\n",
    "#!{sys.executable} -m pip install adafruit-blinka adafruit-circuitpython-msa301 hidapi\n",
    "\n",
    "# Use this line if invoking Python on your OS is done with \"python3\"\n",
    "!{sys.executable} -m pip3 install adafruit-blinka adafruit-circuitpython-msa301 hidapi\n",
    "\n",
    "# hidapi is a library for communicating with USB and Bluetooth HID devices\n",
    "# adafruit-blinka emulates the CircuitPython API for devices or hosts running CPython or MicroPython\n",
    "# adafruit-circuitpython-msa301 is the library for the Adafruit MSA301 Triple Axis Accelerometer, so not needed for general use\n"
   ]
  },
  {
   "cell_type": "code",
   "execution_count": null,
   "metadata": {},
   "outputs": [],
   "source": [
    "# Set an Environment Variable so Adafruit Blinka knows we're using the MCP2221\n",
    "import os\n",
    "os.environ[\"BLINKA_MCP2221\"] = \"1\""
   ]
  },
  {
   "cell_type": "code",
   "execution_count": null,
   "metadata": {},
   "outputs": [],
   "source": [
    "# Attempt to import a CircuitPython Module\n",
    "import board\n",
    "dir(board)"
   ]
  },
  {
   "cell_type": "code",
   "execution_count": null,
   "metadata": {},
   "outputs": [],
   "source": [
    "# Check for installation of hidapi and look for the MCP2221\n",
    "import hid\n",
    "device_list = hid.enumerate()\n",
    "for device in device_list:\n",
    "    if 'MCP2221' in device['product_string']:\n",
    "        print(device)\n"
   ]
  },
  {
   "cell_type": "code",
   "execution_count": null,
   "metadata": {},
   "outputs": [],
   "source": [
    "# Check for the presence of the MCP2221\n",
    "device = hid.device()\n",
    "device.open(0x04D8, 0x00DD)\n",
    "\n",
    "# If there is an error, unplug and replug the USB"
   ]
  },
  {
   "cell_type": "markdown",
   "metadata": {},
   "source": [
    "# HTS221 temperature/humidity sensor\n",
    "\n"
   ]
  },
  {
   "cell_type": "code",
   "execution_count": null,
   "metadata": {},
   "outputs": [],
   "source": [
    "# one-time installation of the library to drive the sensor\n",
    "import sys\n",
    "\n",
    "#!{sys.executable} -m pip install adafruit-circuitpython-hts221\n",
    "!{sys.executable} -m pip3 install adafruit-circuitpython-hts221\n"
   ]
  },
  {
   "cell_type": "code",
   "execution_count": null,
   "metadata": {},
   "outputs": [],
   "source": [
    "# import modules and initialize the I2C connection with sensor\n",
    "\n",
    "# Set an Environment Variable so Adafruit Blinka knows we're using the MCP2221\n",
    "import os\n",
    "os.environ[\"BLINKA_MCP2221\"] = \"1\"\n",
    "\n",
    "import time\n",
    "import board\n",
    "import hid # needed when using the MCP2221, not sure about other circumstances\n",
    "import busio # contains an interface for using hardware-driven I2C communication from your board\n",
    "import adafruit_hts221\n",
    "\n",
    "# Here is information about the I2C protocol: https://learn.adafruit.com/circuitpython-basics-i2c-and-spi/i2c-devices\n",
    "i2c = busio.I2C(board.SCL, board.SDA) # specify the clock line and data line pins\n"
   ]
  },
  {
   "cell_type": "code",
   "execution_count": null,
   "metadata": {},
   "outputs": [],
   "source": [
    "hts = adafruit_hts221.HTS221(i2c)"
   ]
  },
  {
   "cell_type": "code",
   "execution_count": null,
   "metadata": {},
   "outputs": [],
   "source": [
    "# read the rel humidity and temp every second\n",
    "while True:\n",
    "    print(\"Relative Humidity: %.2f %% rH\" % hts.relative_humidity)\n",
    "    print(\"Temperature: %.2f C\" % hts.temperature)\n",
    "    print(\"\")\n",
    "    time.sleep(1)"
   ]
  },
  {
   "cell_type": "markdown",
   "metadata": {},
   "source": [
    "# Adafruit VCNL4040 Proximity Sensor"
   ]
  },
  {
   "cell_type": "code",
   "execution_count": null,
   "metadata": {},
   "outputs": [],
   "source": [
    "# one-time installation of the library to drive the sensor\n",
    "import sys\n",
    "#!{sys.executable} -m pip install adafruit-circuitpython-vcnl4040\n",
    "!{sys.executable} -m pip3 install adafruit-circuitpython-vcnl4040\n"
   ]
  },
  {
   "cell_type": "code",
   "execution_count": null,
   "metadata": {},
   "outputs": [],
   "source": [
    "# import modules and initialize the I2C connection with sensor\n",
    "\n",
    "# Set an Environment Variable so Adafruit Blinka knows we're using the MCP2221\n",
    "import os\n",
    "os.environ[\"BLINKA_MCP2221\"] = \"1\"\n",
    "\n",
    "import time\n",
    "import board\n",
    "import busio\n",
    "import adafruit_vcnl4040\n",
    "\n",
    "# Was getting a \n",
    "# File \"hid.pyx\", line 122, in hid.device.read  \n",
    "# OSError: read error\n",
    "# The fix according the MCP2221 troubleshooting guide \n",
    "# https://cdn-learn.adafruit.com/downloads/pdf/circuitpython-libraries-on-any-computer-with-mcp2221.pdf?timestamp=1578140414\n",
    "# is to set an environmental variable like this: \n",
    "#os.environ[\"BLINKA_MCP2221_RESET_DELAY\"] = '0.5'\n",
    "# but I don't think it is actually necessary.\n"
   ]
  },
  {
   "cell_type": "code",
   "execution_count": null,
   "metadata": {},
   "outputs": [],
   "source": [
    "i2c = board.I2C()"
   ]
  },
  {
   "cell_type": "code",
   "execution_count": null,
   "metadata": {},
   "outputs": [],
   "source": [
    "i2c = busio.I2C(board.SCL, board.SDA)"
   ]
  },
  {
   "cell_type": "code",
   "execution_count": null,
   "metadata": {},
   "outputs": [],
   "source": [
    "sensor = adafruit_vcnl4040.VCNL4040(i2c)"
   ]
  },
  {
   "cell_type": "code",
   "execution_count": null,
   "metadata": {},
   "outputs": [],
   "source": [
    "# read proximity and lux every second\n",
    "while True:\n",
    "    print(\"Proximity:\", sensor.proximity)\n",
    "    print(\"Light: %d lux\" % sensor.lux)\n",
    "    time.sleep(1.0)\n",
    "    "
   ]
  },
  {
   "cell_type": "markdown",
   "metadata": {},
   "source": [
    "# 128x32 12C OLED STEMMA display (might be called SSD1306)\n",
    "\n",
    "See https://learn.adafruit.com/monochrome-oled-breakouts/python-usage-2 for notes, but the Pillow/Image code doesn't work with Blinka\n",
    "\n",
    "See https://forums.adafruit.com/viewtopic.php?f=19&p=857167 for notes on using with MCP2221"
   ]
  },
  {
   "cell_type": "code",
   "execution_count": null,
   "metadata": {},
   "outputs": [],
   "source": [
    "# one-time installation of the libraries to drive the display\n",
    "import sys\n",
    "!{sys.executable} -m pip install adafruit-circuitpython-ssd1306 adafruit-circuitpython-display_text"
   ]
  },
  {
   "cell_type": "code",
   "execution_count": null,
   "metadata": {},
   "outputs": [],
   "source": [
    "import os\n",
    "os.environ[\"BLINKA_MCP2221\"] = \"1\"\n",
    "\n",
    "import time\n",
    "import board\n",
    "import busio\n",
    "import digitalio # not used?\n",
    "import adafruit_ssd1306\n",
    "import terminalio\n",
    "from adafruit_display_text import label\n",
    "\n",
    "# Change these\n",
    "# to the right size for your display!\n",
    "WIDTH = 128\n",
    "HEIGHT = 32 # Change to 64 if needed\n",
    "BORDER = 5\n",
    "\n",
    "i2c = busio.I2C(board.SCL, board.SDA)\n",
    "oled = adafruit_ssd1306.SSD1306_I2C(WIDTH, HEIGHT, i2c)\n"
   ]
  },
  {
   "cell_type": "code",
   "execution_count": null,
   "metadata": {},
   "outputs": [],
   "source": [
    "# Clear display (black).\n",
    "oled.fill(0)\n",
    "oled.show()\n"
   ]
  },
  {
   "cell_type": "code",
   "execution_count": null,
   "metadata": {},
   "outputs": [],
   "source": [
    "# Fill display (white).\n",
    "oled.fill(1)\n",
    "oled.show()\n"
   ]
  },
  {
   "cell_type": "code",
   "execution_count": null,
   "metadata": {},
   "outputs": [],
   "source": [
    "# Got stuck here because I couldn't get any of the text-displaying libraries to actually do anything"
   ]
  },
  {
   "cell_type": "code",
   "execution_count": null,
   "metadata": {},
   "outputs": [],
   "source": []
  },
  {
   "cell_type": "markdown",
   "metadata": {},
   "source": [
    "# Failed tests"
   ]
  },
  {
   "cell_type": "code",
   "execution_count": null,
   "metadata": {},
   "outputs": [],
   "source": [
    "# Example does not work from https://circuitpython.readthedocs.io/projects/display_text/en/latest/examples.html\n",
    "text = \"Hello world\"\n",
    "text_area = label.Label(terminalio.FONT, text=text)\n",
    "text_area.x = 10\n",
    "text_area.y = 10\n",
    "board.DISPLAY.show(text_area)\n",
    "while True:\n",
    "    pass"
   ]
  },
  {
   "cell_type": "code",
   "execution_count": null,
   "metadata": {},
   "outputs": [],
   "source": [
    "# example for drawing, but Blinka does not support PIL/pillow (does not work)\n",
    "# Create blank image for drawing.\n",
    "# Make sure to create image with mode '1' for 1-bit color.\n",
    "from PIL import Image, ImageDraw, ImageFont\n",
    "\n",
    "image = Image.new(\"1\", (oled.width, oled.height))\n",
    " \n",
    "# Get drawing object to draw on image.\n",
    "draw = ImageDraw.Draw(image)\n",
    " \n",
    "# Draw a white background\n",
    "draw.rectangle((0, 0, oled.width, oled.height), outline=255, fill=255)\n",
    "\n",
    "# Draw a smaller inner rectangle\n",
    "draw.rectangle(\n",
    "    (BORDER, BORDER, oled.width - BORDER - 1, oled.height - BORDER - 1),\n",
    "    outline=0,\n",
    "    fill=0,\n",
    ")"
   ]
  }
 ],
 "metadata": {
  "kernelspec": {
   "display_name": "Python 3",
   "language": "python",
   "name": "python3"
  },
  "language_info": {
   "codemirror_mode": {
    "name": "ipython",
    "version": 3
   },
   "file_extension": ".py",
   "mimetype": "text/x-python",
   "name": "python",
   "nbconvert_exporter": "python",
   "pygments_lexer": "ipython3",
   "version": "3.8.5"
  }
 },
 "nbformat": 4,
 "nbformat_minor": 2
}
