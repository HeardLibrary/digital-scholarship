{
  "cells": [
    {
      "cell_type": "markdown",
      "metadata": {
        "id": "oHKKTWY6euiY"
      },
      "source": [
        "# Python Lesson 1 Practice assignment\n",
        "\n",
        "## General instructions\n",
        "\n",
        "In each of the scripts that you write, for each variable in the script use a meaningful name that follows the [PEP 8 style](https://www.python.org/dev/peps/pep-0008/) (“snake_case”).\n"
      ]
    },
    {
      "cell_type": "markdown",
      "metadata": {
        "id": "ajyUWgdudns3"
      },
      "source": [
        "1. Assign a string to a variable, then print the length of the string."
      ]
    },
    {
      "cell_type": "code",
      "execution_count": null,
      "metadata": {
        "id": "OSkQkUb7cp9V"
      },
      "outputs": [],
      "source": []
    },
    {
      "cell_type": "markdown",
      "metadata": {
        "id": "yDLcMe82d_tQ"
      },
      "source": [
        "2. Task: create code that allows the user to input two numbers, then prints the difference between them. Don’t forget that the `input()` function produces a string that must be turned into a number before subtracting. Write this script two ways: In the first cell, the input strings should be assigned to variables, then converted into numbers using separate statements. In the second cell, the number conversion should be done directly on the output of the `input()` function by nesting the two functions."
      ]
    },
    {
      "cell_type": "code",
      "execution_count": null,
      "metadata": {
        "id": "cOIo_RUber60"
      },
      "outputs": [],
      "source": []
    },
    {
      "cell_type": "code",
      "execution_count": null,
      "metadata": {
        "id": "63iUovqDgPUL"
      },
      "outputs": [],
      "source": []
    },
    {
      "cell_type": "markdown",
      "metadata": {
        "id": "M-a1NodJes9l"
      },
      "source": [
        "3. Create a code cell where the user enters a string. The script concatenates ‘Simon says: ‘ to the front of their string and prints the result for the user. Use a prompt that would be appropriate for a kid's game as an argument for the `input()` function."
      ]
    },
    {
      "cell_type": "code",
      "execution_count": null,
      "metadata": {
        "id": "NEd1btJQlD5C"
      },
      "outputs": [],
      "source": []
    },
    {
      "cell_type": "markdown",
      "metadata": {
        "id": "wvtrWES-lF72"
      },
      "source": [
        "4. Explain what is wrong with the following code. If necessary, use the variable explorer to help you figure it out."
      ]
    },
    {
      "cell_type": "code",
      "execution_count": null,
      "metadata": {
        "id": "HPDE-sx4mCaU"
      },
      "outputs": [],
      "source": [
        "user_number = input('Give me a number: ')\n",
        "doubled_number = user_number * 2\n",
        "print('Your number doubled is:', doubled_number)"
      ]
    },
    {
      "cell_type": "markdown",
      "metadata": {
        "id": "MqqSnqxMmquO"
      },
      "source": [
        "Answer here:\n",
        "\n",
        "Fix the code in the following cell"
      ]
    },
    {
      "cell_type": "code",
      "execution_count": null,
      "metadata": {
        "id": "W7vWrCCrm0wo"
      },
      "outputs": [],
      "source": []
    },
    {
      "cell_type": "markdown",
      "metadata": {
        "id": "hYchRXrwm9x2"
      },
      "source": [
        "5. Create a number guessing game. Set the value of the secret number using an assignment statement. Then let the user enter a number. Print two feedback statements. The first one should tell the user whether the guess was correct (True or False). The second print statement should tell the user whether the guess was too high (True or False). The user will need to re-run the cell with each guess."
      ]
    },
    {
      "cell_type": "code",
      "execution_count": null,
      "metadata": {
        "id": "or1R00Z0nAtO"
      },
      "outputs": [],
      "source": []
    }
  ],
  "metadata": {
    "colab": {
      "provenance": []
    },
    "kernelspec": {
      "display_name": "Python 3",
      "name": "python3"
    },
    "language_info": {
      "name": "python"
    }
  },
  "nbformat": 4,
  "nbformat_minor": 0
}
