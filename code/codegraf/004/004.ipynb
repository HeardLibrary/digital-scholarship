{
 "cells": [
  {
   "cell_type": "markdown",
   "metadata": {},
   "source": [
    "# Assignment\n",
    "\n",
    "The `=` sign is used to assign objects to variables in Python. In Jupyter notebooks and the shell, variable name on a line by itself displays the value of that variable. In a Jupyter notebook, to clear the output of cells, go to the `Cell` menu and select `All Output`, then `Clear`."
   ]
  },
  {
   "cell_type": "code",
   "execution_count": null,
   "metadata": {},
   "outputs": [],
   "source": [
    "character_name = 'Wilma'\n",
    "\n",
    "character_name"
   ]
  },
  {
   "cell_type": "code",
   "execution_count": null,
   "metadata": {},
   "outputs": [],
   "source": [
    "input_voltage = 12.3\n",
    "\n",
    "input_voltage"
   ]
  },
  {
   "cell_type": "code",
   "execution_count": null,
   "metadata": {},
   "outputs": [],
   "source": [
    "matched = False\n",
    "\n",
    "matched"
   ]
  },
  {
   "cell_type": "markdown",
   "metadata": {},
   "source": [
    "Generally spacing between operators and variable names is not important. It is conventional to leave a space between operators and variables.\n",
    "\n",
    "However, indentation level at the left of a line is critical. (More on that later.)\n",
    "\n",
    "Either double quotes `\"` or single quotes `'` can be used to define literal strings, but single quotes are conventional in Python.\n",
    "\n",
    "Blank lines are ignored and can be used to improve readability.\n",
    "\n",
    "Conventional style guidelines for Python are given in the [PEP 8 style guide](https://www.python.org/dev/peps/pep-0008/)"
   ]
  },
  {
   "cell_type": "code",
   "execution_count": null,
   "metadata": {},
   "outputs": [],
   "source": [
    "character_name = 'Wilma'\n",
    "character_name"
   ]
  },
  {
   "cell_type": "code",
   "execution_count": null,
   "metadata": {},
   "outputs": [],
   "source": [
    "character_name='Wilma'\n",
    "\n",
    "character_name"
   ]
  },
  {
   "cell_type": "code",
   "execution_count": null,
   "metadata": {},
   "outputs": [],
   "source": [
    "character_name    =    \"Wilma\"\n",
    "character_name"
   ]
  },
  {
   "cell_type": "markdown",
   "metadata": {},
   "source": [
    "# Built-in functions\n",
    "\n",
    "Common built-in functions are `print()` and `input()`."
   ]
  },
  {
   "cell_type": "code",
   "execution_count": null,
   "metadata": {},
   "outputs": [],
   "source": [
    "# The argument passed into the print() function is printed to the display.\n",
    "# There is no return value\n",
    "\n",
    "print(character_name) # pass in a variable\n",
    "print() # pass in nothing\n",
    "print('Fred') # pass in a literal"
   ]
  },
  {
   "cell_type": "code",
   "execution_count": null,
   "metadata": {},
   "outputs": [],
   "source": [
    "# The argument passed into the input() function is the prompt to the user.\n",
    "# The return value is the string entered by the user from the keyboard.\n",
    "my_character = input('What is the name of the character? ')\n",
    "\n",
    "print(my_character)"
   ]
  },
  {
   "cell_type": "markdown",
   "metadata": {},
   "source": [
    "## Object types\n",
    "\n",
    "At this point we are interested in three types of objects: *string*, *number*, and *boolean*."
   ]
  },
  {
   "cell_type": "code",
   "execution_count": null,
   "metadata": {},
   "outputs": [],
   "source": [
    "# The argument passed into the type function is the object whose type you want to know.\n",
    "# The return value is the type of the object.\n",
    "\n",
    "# The output can be assigned to a variable.\n",
    "the_type = type(\"a word\")\n",
    "print(the_type)"
   ]
  },
  {
   "cell_type": "code",
   "execution_count": null,
   "metadata": {},
   "outputs": [],
   "source": [
    "# A function can be nested inside another function\n",
    "print(type(True))"
   ]
  },
  {
   "cell_type": "code",
   "execution_count": null,
   "metadata": {},
   "outputs": [],
   "source": [
    "# Numbers can be of several types\n",
    "print(type(3))\n",
    "print(type(4.6))"
   ]
  },
  {
   "cell_type": "code",
   "execution_count": null,
   "metadata": {},
   "outputs": [],
   "source": [
    "# Either literal values or variables can be passed into a function\n",
    "\n",
    "# Check the type of variables defined before\n",
    "print(type(character_name))\n",
    "print(type(input_voltage))\n",
    "print(type(matched))"
   ]
  },
  {
   "cell_type": "code",
   "execution_count": null,
   "metadata": {},
   "outputs": [],
   "source": [
    "# What is the type of the output of the input() function?\n",
    "answer = input(\"Input a string or number: \")\n",
    "print(answer)\n",
    "print(type(answer))"
   ]
  },
  {
   "cell_type": "code",
   "execution_count": null,
   "metadata": {},
   "outputs": [],
   "source": [
    "# Variables don't have a fixed type. \n",
    "# Their type is determined by the class of the object you put into them.\n",
    "a_variable = \"word\"\n",
    "print(type(a_variable))\n",
    "\n",
    "a_variable = 45\n",
    "print(type(a_variable))\n",
    "\n",
    "a_variable = True\n",
    "print(type(a_variable))"
   ]
  },
  {
   "cell_type": "markdown",
   "metadata": {},
   "source": [
    "Functions have different requirements for their arguments."
   ]
  },
  {
   "cell_type": "code",
   "execution_count": null,
   "metadata": {},
   "outputs": [],
   "source": [
    "print(max(1, 5, 2))\n",
    "print(max(3, 6, 14, 1, 256, 34))\n",
    "print(max())"
   ]
  },
  {
   "cell_type": "code",
   "execution_count": null,
   "metadata": {},
   "outputs": [],
   "source": [
    "print(len('dog'))\n",
    "print(len('aardvark'))\n",
    "# '' is called the empty string\n",
    "print(len(''))\n",
    "print(len(42))"
   ]
  },
  {
   "cell_type": "code",
   "execution_count": null,
   "metadata": {},
   "outputs": [],
   "source": [
    "# We may be able to turn one kind of object into another.\n",
    "a_string = '42'\n",
    "print(a_string)\n",
    "print(type(a_string))\n",
    "a_number = int(a_string)\n",
    "print(a_number)\n",
    "print(type(a_number))"
   ]
  },
  {
   "cell_type": "code",
   "execution_count": null,
   "metadata": {},
   "outputs": [],
   "source": [
    "response = input('What is your number? ')\n",
    "number = int(response)\n",
    "# You can print several arguments by separating them by commas\n",
    "print('Here is your number, plus 2:', number + 2)"
   ]
  },
  {
   "cell_type": "markdown",
   "metadata": {},
   "source": [
    "# Operations\n",
    "\n",
    "Operations can be performed on objects before they are assigned to a variable. \n",
    "\n",
    "Common math operations are `+`, `-`, `*`, and `/`."
   ]
  },
  {
   "cell_type": "code",
   "execution_count": null,
   "metadata": {},
   "outputs": [],
   "source": [
    "number_widgets = 1\n",
    "answer = number_widgets + 3\n",
    "print(answer)"
   ]
  },
  {
   "cell_type": "markdown",
   "metadata": {},
   "source": [
    "How do these two scripts differ? (Pay attention to the quotes)"
   ]
  },
  {
   "cell_type": "code",
   "execution_count": null,
   "metadata": {},
   "outputs": [],
   "source": [
    "first_number = 325\n",
    "second_number = 145\n",
    "together = first_number + second_number\n",
    "print(together)\n",
    "print(type(together))"
   ]
  },
  {
   "cell_type": "code",
   "execution_count": null,
   "metadata": {},
   "outputs": [],
   "source": [
    "first_number = '325'\n",
    "second_number = '145'\n",
    "together = first_number + second_number\n",
    "print(together)\n",
    "print(type(together))"
   ]
  },
  {
   "cell_type": "markdown",
   "metadata": {},
   "source": [
    "The `+` operator does concatenation when used with strings.\n",
    "\n",
    "Common boolean operations are `==`, `!=`, `>`, `<`, `>=`, and `<=`."
   ]
  },
  {
   "cell_type": "code",
   "execution_count": null,
   "metadata": {},
   "outputs": [],
   "source": [
    "print('dog' == 'cat')"
   ]
  },
  {
   "cell_type": "code",
   "execution_count": null,
   "metadata": {},
   "outputs": [],
   "source": [
    "print('cat' == 'cat')"
   ]
  },
  {
   "cell_type": "code",
   "execution_count": null,
   "metadata": {},
   "outputs": [],
   "source": [
    "print('dog' != 'cat')"
   ]
  },
  {
   "cell_type": "code",
   "execution_count": null,
   "metadata": {},
   "outputs": [],
   "source": [
    "print(3 > 2)"
   ]
  },
  {
   "cell_type": "code",
   "execution_count": null,
   "metadata": {},
   "outputs": [],
   "source": [
    "print(2 > 2)"
   ]
  },
  {
   "cell_type": "code",
   "execution_count": null,
   "metadata": {},
   "outputs": [],
   "source": [
    "print(2 >= 2)"
   ]
  },
  {
   "cell_type": "markdown",
   "metadata": {},
   "source": [
    "Booleans can be assigned to variables like any other kind of object."
   ]
  },
  {
   "cell_type": "code",
   "execution_count": null,
   "metadata": {},
   "outputs": [],
   "source": [
    "# Notice that one `=` is the assignment operator and two `==` is the equivalence operator.\n",
    "same_animal = 'cat' == 'monkey'\n",
    "print(same_animal)"
   ]
  },
  {
   "cell_type": "code",
   "execution_count": null,
   "metadata": {},
   "outputs": [],
   "source": [
    "first_animal = input('What is your first animal? ')\n",
    "second_animal = input('What is your second animal? ')\n",
    "same_animal = first_animal == second_animal\n",
    "print('First animal the same as second animal?', same_animal)"
   ]
  },
  {
   "cell_type": "markdown",
   "metadata": {},
   "source": [
    "# Explain what these scripts do"
   ]
  },
  {
   "cell_type": "code",
   "execution_count": null,
   "metadata": {},
   "outputs": [],
   "source": [
    "name = input(\"What's your name? \")\n",
    "print('Hello ' + name + '! How are you?')"
   ]
  },
  {
   "cell_type": "code",
   "execution_count": null,
   "metadata": {},
   "outputs": [],
   "source": [
    "first_number = float(input('What is your number? '))\n",
    "second_number = 67\n",
    "biggest = max(first_number, second_number, 100)\n",
    "print(biggest)"
   ]
  },
  {
   "cell_type": "code",
   "execution_count": null,
   "metadata": {},
   "outputs": [],
   "source": [
    "name = input('What is your name? ')\n",
    "how_long = len(name)\n",
    "print('Your name is '+ name + '. It is: ')\n",
    "print(how_long)\n",
    "print('characters long.')"
   ]
  },
  {
   "cell_type": "code",
   "execution_count": null,
   "metadata": {},
   "outputs": [],
   "source": [
    "a_number = 16\n",
    "a_number = a_number + 1\n",
    "print(a_number)"
   ]
  },
  {
   "cell_type": "code",
   "execution_count": null,
   "metadata": {},
   "outputs": [],
   "source": [
    "number_widgets = int(input('How many widgets? '))\n",
    "sum = number_widgets + 3\n",
    "too_many = sum > 10\n",
    "print(too_many)"
   ]
  },
  {
   "cell_type": "code",
   "execution_count": null,
   "metadata": {},
   "outputs": [],
   "source": []
  }
 ],
 "metadata": {
  "kernelspec": {
   "display_name": "Python 3",
   "language": "python",
   "name": "python3"
  },
  "language_info": {
   "codemirror_mode": {
    "name": "ipython",
    "version": 3
   },
   "file_extension": ".py",
   "mimetype": "text/x-python",
   "name": "python",
   "nbconvert_exporter": "python",
   "pygments_lexer": "ipython3",
   "version": "3.7.1"
  }
 },
 "nbformat": 4,
 "nbformat_minor": 2
}
