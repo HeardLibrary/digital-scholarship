{
 "cells": [
  {
   "cell_type": "code",
   "execution_count": null,
   "metadata": {},
   "outputs": [],
   "source": [
    "import numpy as np\n",
    "import pandas as pd\n",
    "import matplotlib.pyplot as plt\n",
    "\n",
    "# For reference, see chapter 9 of Python for Data Analysis, 2nd Edition"
   ]
  },
  {
   "cell_type": "markdown",
   "metadata": {},
   "source": [
    "# Line graphs"
   ]
  },
  {
   "cell_type": "code",
   "execution_count": null,
   "metadata": {},
   "outputs": [],
   "source": [
    "url = 'https://github.com/nytimes/covid-19-data/raw/master/us.csv'\n",
    "covid = pd.read_csv(url)\n",
    "covid.tail()"
   ]
  },
  {
   "cell_type": "code",
   "execution_count": null,
   "metadata": {},
   "outputs": [],
   "source": [
    "covid.plot()\n",
    "# covid.plot(kind='line') # .plot() defaults to this specific kind of plot\n",
    "# covid.plot.line() # alternate method of specifying the kind of plot"
   ]
  },
  {
   "cell_type": "code",
   "execution_count": null,
   "metadata": {},
   "outputs": [],
   "source": [
    "covid.set_index(['date']).plot() # sets the index of the dataframe to the date column"
   ]
  },
  {
   "cell_type": "markdown",
   "metadata": {},
   "source": [
    "Fix the dates on the X axis"
   ]
  },
  {
   "cell_type": "code",
   "execution_count": null,
   "metadata": {},
   "outputs": [],
   "source": [
    "# See https://stackoverflow.com/questions/25416955/plot-pandas-dates-in-matplotlib for setting X axis as dates\n",
    "covid['date'] = pd.to_datetime(covid['date'], format = '%Y-%m-%d') # converts string to datetime object\n",
    "covid.set_index(['date'], inplace=True)\n",
    "covid.head()"
   ]
  },
  {
   "cell_type": "code",
   "execution_count": null,
   "metadata": {},
   "outputs": [],
   "source": [
    "covid.plot()"
   ]
  },
  {
   "cell_type": "markdown",
   "metadata": {},
   "source": [
    "## Subplots"
   ]
  },
  {
   "cell_type": "code",
   "execution_count": null,
   "metadata": {},
   "outputs": [],
   "source": [
    "covid.plot(title = 'Covid 19 cases in the U.S.', subplots = True)"
   ]
  },
  {
   "cell_type": "code",
   "execution_count": null,
   "metadata": {},
   "outputs": [],
   "source": [
    "covid.plot(title = 'Covid 19 cases in the U.S.', subplots = True, figsize=(10,10))"
   ]
  },
  {
   "cell_type": "code",
   "execution_count": null,
   "metadata": {},
   "outputs": [],
   "source": [
    "covid.plot(title = 'Covid 19 cases in the U.S.', subplots = True, figsize=(10,10), logy = True)"
   ]
  },
  {
   "cell_type": "markdown",
   "metadata": {},
   "source": [
    "## Scatterplot"
   ]
  },
  {
   "cell_type": "code",
   "execution_count": null,
   "metadata": {},
   "outputs": [],
   "source": [
    "# Scatter plot requires specifying both the X and Y columns as arguments\n",
    "covid.plot.scatter('cases', 'deaths')"
   ]
  },
  {
   "cell_type": "markdown",
   "metadata": {},
   "source": [
    "## Pie chart"
   ]
  },
  {
   "cell_type": "code",
   "execution_count": null,
   "metadata": {},
   "outputs": [],
   "source": [
    "url = 'https://github.com/HeardLibrary/digital-scholarship/raw/master/data/codegraf/co2_state_2016_sector.xlsx'\n",
    "state_co2_sector = pd.read_excel(url)\n",
    "state_co2_sector.set_index('State', inplace=True)\n",
    "state_co2_sector.head()"
   ]
  },
  {
   "cell_type": "code",
   "execution_count": null,
   "metadata": {},
   "outputs": [],
   "source": [
    "az_sector = state_co2_sector.loc['Arizona']\n",
    "az_sector"
   ]
  },
  {
   "cell_type": "code",
   "execution_count": null,
   "metadata": {},
   "outputs": [],
   "source": [
    "az_sector_components = az_sector['Commercial': \"Transportation\"]\n",
    "az_sector_components\n"
   ]
  },
  {
   "cell_type": "code",
   "execution_count": null,
   "metadata": {},
   "outputs": [],
   "source": [
    "az_sector_components.plot(kind = 'pie')"
   ]
  },
  {
   "cell_type": "code",
   "execution_count": null,
   "metadata": {},
   "outputs": [],
   "source": [
    "no_totals = state_co2_sector.copy()\n",
    "no_totals.drop('Total', inplace=True)\n",
    "no_totals.tail()"
   ]
  },
  {
   "cell_type": "code",
   "execution_count": null,
   "metadata": {},
   "outputs": [],
   "source": [
    "decreasing = no_totals.sort_values(by='Total', ascending=False)\n",
    "decreasing.head()"
   ]
  },
  {
   "cell_type": "code",
   "execution_count": null,
   "metadata": {},
   "outputs": [],
   "source": [
    "decreasing.drop(['Total'], axis='columns', inplace=True)\n",
    "decreasing.head()"
   ]
  },
  {
   "cell_type": "code",
   "execution_count": null,
   "metadata": {},
   "outputs": [],
   "source": [
    "decreasing[:3]"
   ]
  },
  {
   "cell_type": "code",
   "execution_count": null,
   "metadata": {},
   "outputs": [],
   "source": [
    "# Transpose so that states will be subplots and sectors will be plot categories\n",
    "decreasing[:3].T.plot(kind='pie', subplots=True, legend=False, figsize=(20,10))"
   ]
  },
  {
   "cell_type": "code",
   "execution_count": null,
   "metadata": {},
   "outputs": [],
   "source": [
    "decreasing.loc[['Texas', 'Alaska', 'Ohio', 'District of Columbia']].T.plot(kind='pie', subplots=True, legend=False, figsize=(20,10))"
   ]
  },
  {
   "cell_type": "markdown",
   "metadata": {},
   "source": [
    "## Bar chart"
   ]
  },
  {
   "cell_type": "code",
   "execution_count": null,
   "metadata": {},
   "outputs": [],
   "source": [
    "totals_by_state = state_co2_sector.Total['Alabama': 'Wyoming']\n",
    "totals_by_state.head()"
   ]
  },
  {
   "cell_type": "code",
   "execution_count": null,
   "metadata": {},
   "outputs": [],
   "source": [
    "totals_by_state.plot(kind = 'barh')"
   ]
  },
  {
   "cell_type": "code",
   "execution_count": null,
   "metadata": {},
   "outputs": [],
   "source": [
    "totals_by_state.sort_index(ascending=False).plot(kind = 'barh', figsize=(10,10))"
   ]
  },
  {
   "cell_type": "markdown",
   "metadata": {},
   "source": [
    "# pyplot from matplotlib"
   ]
  },
  {
   "cell_type": "code",
   "execution_count": null,
   "metadata": {},
   "outputs": [],
   "source": [
    "first_cases = covid[:50]\n",
    "first_cases.head()"
   ]
  },
  {
   "cell_type": "markdown",
   "metadata": {},
   "source": [
    "## Using the plt.plot function"
   ]
  },
  {
   "cell_type": "code",
   "execution_count": null,
   "metadata": {},
   "outputs": [],
   "source": [
    "plt.plot(first_cases.cases, first_cases.deaths)"
   ]
  },
  {
   "cell_type": "code",
   "execution_count": null,
   "metadata": {},
   "outputs": [],
   "source": [
    "plt.scatter(first_cases.cases, first_cases.deaths)"
   ]
  },
  {
   "cell_type": "code",
   "execution_count": null,
   "metadata": {},
   "outputs": [],
   "source": [
    "plt.plot(first_cases.cases, first_cases.deaths, color='k', linestyle='dashed', marker='o')"
   ]
  },
  {
   "cell_type": "code",
   "execution_count": null,
   "metadata": {},
   "outputs": [],
   "source": [
    "# pyplot will accept calculated series in addition to series that are columns from DataFrames\n",
    "thousands_cases = covid['cases']/1000\n",
    "thousands_deaths = covid['deaths']/1000\n",
    "plt.scatter(thousands_cases, thousands_deaths)"
   ]
  },
  {
   "cell_type": "markdown",
   "metadata": {},
   "source": [
    "## Controlling display with figures and subplots"
   ]
  },
  {
   "cell_type": "code",
   "execution_count": null,
   "metadata": {},
   "outputs": [],
   "source": [
    "# Create a figure object\n",
    "fig = plt.figure()\n",
    "\n",
    "# Create 2 subplots with 1 row and 2 columns\n",
    "axes1 = fig.add_subplot(1, 2, 1)\n",
    "axes2 = fig.add_subplot(1, 2, 2)"
   ]
  },
  {
   "cell_type": "code",
   "execution_count": null,
   "metadata": {},
   "outputs": [],
   "source": [
    "# Create a figure object\n",
    "fig = plt.figure()\n",
    "\n",
    "# Create 2 subplots with 2 rows and 1 column\n",
    "axes1 = fig.add_subplot(2, 1, 1)\n",
    "axes2 = fig.add_subplot(2, 1, 2)\n",
    "plt.show() # displays the graph if you aren't using Jupyter notebooks"
   ]
  },
  {
   "cell_type": "markdown",
   "metadata": {},
   "source": [
    "In Jupyter notebooks, plots are reset after every cell, so setup code must be included in a single cell"
   ]
  },
  {
   "cell_type": "code",
   "execution_count": null,
   "metadata": {},
   "outputs": [],
   "source": [
    "# Create a figure object\n",
    "fig = plt.figure(figsize=(10,10))\n",
    "\n",
    "# Create 2 subplots with 2 rows and 1 column\n",
    "axes1 = fig.add_subplot(2, 1, 1)\n",
    "axes2 = fig.add_subplot(2, 1, 2)\n",
    "axes1.plot(first_cases.index, first_cases.cases, color='k', linestyle='dashed', marker='o')\n",
    "axes1.set_title('cases')\n",
    "axes2.plot(first_cases.index, first_cases.deaths, color='r', linestyle='dashed', marker='x')\n",
    "axes2.set_title('deaths')"
   ]
  },
  {
   "cell_type": "markdown",
   "metadata": {},
   "source": [
    "## Plot in a single subplot"
   ]
  },
  {
   "cell_type": "code",
   "execution_count": null,
   "metadata": {},
   "outputs": [],
   "source": [
    "# Create a figure object\n",
    "fig = plt.figure(figsize=(10,10))\n",
    "\n",
    "# Create a single subplot\n",
    "ax = fig.add_subplot(1, 1, 1)\n",
    "ax.plot(first_cases.index, first_cases.cases, color='k', linestyle='dashed', marker='o')\n",
    "ax.plot(first_cases.index, first_cases.deaths, color='r', linestyle='dashed', marker='x')\n",
    "ax.set_title('start of the COVID 19 pandemic in the U.S.')"
   ]
  },
  {
   "cell_type": "markdown",
   "metadata": {},
   "source": [
    "Display as a bar graph (unstacked)"
   ]
  },
  {
   "cell_type": "code",
   "execution_count": null,
   "metadata": {},
   "outputs": [],
   "source": [
    "# Create a figure object\n",
    "fig = plt.figure(figsize=(10,10))\n",
    "\n",
    "# Create a single subplot\n",
    "ax = fig.add_subplot(1, 1, 1)\n",
    "ax.bar(first_cases.index, first_cases.cases, color='k')\n",
    "ax.bar(first_cases.index, first_cases.deaths, color='r')\n",
    "ax.set_title('start of the COVID 19 pandemic in the U.S.')"
   ]
  },
  {
   "cell_type": "markdown",
   "metadata": {},
   "source": [
    "## Creating a plot programatically\n",
    "Stacked bar graph "
   ]
  },
  {
   "cell_type": "code",
   "execution_count": null,
   "metadata": {},
   "outputs": [],
   "source": [
    "# Reload state_co2_sector if necessary\n",
    "url = 'https://github.com/HeardLibrary/digital-scholarship/raw/master/data/codegraf/co2_state_2016_sector.xlsx'\n",
    "state_co2_sector = pd.read_excel(url)\n",
    "state_co2_sector.tail()"
   ]
  },
  {
   "cell_type": "code",
   "execution_count": null,
   "metadata": {},
   "outputs": [],
   "source": [
    "# Extract sector data for the top few states\n",
    "number_of_states = 4\n",
    "top_state_sectors = state_co2_sector.set_index('State').drop('Total').sort_values(by='Total', ascending=False).drop(['Total'], axis='columns')[:number_of_states]\n",
    "top_state_sectors"
   ]
  },
  {
   "cell_type": "code",
   "execution_count": null,
   "metadata": {},
   "outputs": [],
   "source": [
    "# Based on example at https://subscription.packtpub.com/book/big_data_and_business_intelligence/9781849513265/1/ch01lvl1sec17/plotting-stacked-bar-charts\n",
    "# See also https://matplotlib.org/3.1.1/gallery/lines_bars_and_markers/bar_stacked.html\n",
    "\n",
    "# Create a figure object\n",
    "fig = plt.figure(figsize=(15,10))\n",
    "\n",
    "# Create a single subplot\n",
    "ax = fig.add_subplot(1, 1, 1)\n",
    "\n",
    "# Create a numpy array with one element for each row\n",
    "ind = np.arange(len(top_state_sectors))\n",
    "#print(ind)\n",
    "\n",
    "# Extract the row and column labels as numpy arrays from pandas series\n",
    "row_labels = top_state_sectors.index.values\n",
    "column_labels = top_state_sectors.columns.values\n",
    "\n",
    "for sector_number in range(len(top_state_sectors.columns)):\n",
    "    #print(sector_number)\n",
    "    #print(top_state_sectors.iloc[:, :sector_number])\n",
    "    sector_sums = top_state_sectors.iloc[:, :sector_number].sum(axis='columns')\n",
    "    #print(sector_sums)\n",
    "    ax.bar(ind, top_state_sectors.iloc[:, sector_number], bottom=sector_sums)\n",
    "\n",
    "# These functions operate on the most recently active subplot; we have only one in this example\n",
    "plt.xticks(ind, row_labels)\n",
    "plt.legend(column_labels)\n"
   ]
  },
  {
   "cell_type": "markdown",
   "metadata": {},
   "source": [
    "There are many, many types of plots and options. See the [matplotlib gallery](https://matplotlib.org/3.1.1/gallery/index.html) for examples."
   ]
  },
  {
   "cell_type": "markdown",
   "metadata": {},
   "source": [
    "# Practice\n",
    "\n",
    "See [this page](https://github.com/HeardLibrary/digital-scholarship/tree/master/data/codegraf) for information about the dataset."
   ]
  },
  {
   "cell_type": "code",
   "execution_count": null,
   "metadata": {},
   "outputs": [],
   "source": [
    "url = 'data/flight_data_set.csv'\n",
    "flights = pd.read_csv(url)\n",
    "flights.head()"
   ]
  },
  {
   "cell_type": "markdown",
   "metadata": {},
   "source": [
    "Calculate the average values for the carriers and slice out the Minutes of Delay per flight. Create a bar chart of the resulting series."
   ]
  },
  {
   "cell_type": "code",
   "execution_count": null,
   "metadata": {},
   "outputs": [],
   "source": [
    "grouped = flights.groupby(['Carrier Name']).mean()\n",
    "grouped.drop(['Minutes of Delay', 'Number of Flights'], axis='columns', inplace=True)\n",
    "grouped.sort_values(by='Minutes of Delay per Flight', ascending=True).plot(kind='barh', figsize=(20,10))"
   ]
  },
  {
   "cell_type": "markdown",
   "metadata": {},
   "source": [
    "Recreate the plot, but this time replace `NaN` values with zeros."
   ]
  },
  {
   "cell_type": "code",
   "execution_count": null,
   "metadata": {},
   "outputs": [],
   "source": [
    "flights.fillna({'Minutes of Delay per Flight': 0}, inplace=True)\n",
    "grouped = flights.groupby(['Carrier Name']).mean()\n",
    "grouped.drop(['Minutes of Delay', 'Number of Flights'], axis='columns', inplace=True)\n",
    "grouped.sort_values(by='Minutes of Delay per Flight', ascending=True).plot(kind='barh', figsize=(20,10))\n",
    "#grouped.plot(kind='barh', figsize=(20,10))"
   ]
  },
  {
   "cell_type": "markdown",
   "metadata": {},
   "source": [
    "Convert date column to a datetime object and group by Carrier Name."
   ]
  },
  {
   "cell_type": "code",
   "execution_count": null,
   "metadata": {},
   "outputs": [],
   "source": [
    "date_flights = flights.copy()\n",
    "date_flights['Date'] = pd.to_datetime(date_flights['Date'], format = '%m/%d/%Y')\n",
    "grouped = date_flights.groupby(['Carrier Name'])\n",
    "grouped.head()"
   ]
  },
  {
   "cell_type": "markdown",
   "metadata": {},
   "source": [
    "Slice only the Delta data and sum by date. Plot only the Minutes of Delay by date"
   ]
  },
  {
   "cell_type": "code",
   "execution_count": null,
   "metadata": {},
   "outputs": [],
   "source": [
    "delta = grouped.get_group('Delta')\n",
    "time_series = delta.groupby('Date').sum()\n",
    "time_series.drop(['Minutes of Delay per Flight', 'Number of Flights'], axis='columns', inplace=True)\n",
    "print(time_series.head())\n",
    "time_series.plot(kind='line', figsize=(20,10))\n"
   ]
  },
  {
   "cell_type": "markdown",
   "metadata": {},
   "source": [
    "Let's see if this pattern holds across airlines. Group by both Carrier Name and Date rather than selecting only one airline. Limit output to Minutes of Delay data."
   ]
  },
  {
   "cell_type": "code",
   "execution_count": null,
   "metadata": {},
   "outputs": [],
   "source": [
    "date_flights = flights.copy()\n",
    "date_flights['Date'] = pd.to_datetime(date_flights['Date'], format = '%m/%d/%Y')\n",
    "grouped = date_flights.groupby(['Carrier Name', 'Date']).sum()\n",
    "grouped.drop(['Minutes of Delay per Flight', 'Number of Flights'], axis='columns', inplace=True)\n",
    "grouped.head()"
   ]
  },
  {
   "cell_type": "markdown",
   "metadata": {},
   "source": [
    "Unstack Carrier Name so that we get a column for each carrier. Now if we redo the plot, Pandas will plot a line for each carrier."
   ]
  },
  {
   "cell_type": "code",
   "execution_count": null,
   "metadata": {},
   "outputs": [],
   "source": [
    "columned = grouped.unstack('Carrier Name')\n",
    "print(columned.head())\n",
    "columned.plot(kind='line', figsize=(20,10))"
   ]
  },
  {
   "cell_type": "markdown",
   "metadata": {},
   "source": [
    "Let's compare the number of flights across airlines using a bar chart."
   ]
  },
  {
   "cell_type": "code",
   "execution_count": null,
   "metadata": {},
   "outputs": [],
   "source": [
    "grouped = flights.groupby(['Carrier Name']).sum()\n",
    "grouped.drop(['Minutes of Delay per Flight', 'Minutes of Delay'], axis='columns', inplace=True)\n",
    "grouped.plot(kind='bar', figsize=(20,10))"
   ]
  }
 ],
 "metadata": {
  "kernelspec": {
   "display_name": "Python 3",
   "language": "python",
   "name": "python3"
  },
  "language_info": {
   "codemirror_mode": {
    "name": "ipython",
    "version": 3
   },
   "file_extension": ".py",
   "mimetype": "text/x-python",
   "name": "python",
   "nbconvert_exporter": "python",
   "pygments_lexer": "ipython3",
   "version": "3.7.1"
  }
 },
 "nbformat": 4,
 "nbformat_minor": 2
}
