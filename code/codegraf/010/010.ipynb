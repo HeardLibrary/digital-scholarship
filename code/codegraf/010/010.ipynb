{
 "cells": [
  {
   "cell_type": "code",
   "execution_count": null,
   "metadata": {},
   "outputs": [],
   "source": [
    "import pandas as pd\n",
    "\n",
    "# For reference, see chapter 9 of Python for Data Analysis, 3rd Edition\n",
    "# https://wesmckinney.com/book/plotting-and-visualization.html"
   ]
  },
  {
   "cell_type": "markdown",
   "metadata": {},
   "source": [
    "# Plotting directly from pandas\n",
    "\n",
    "pandas has built-in capabilities that allow you to make some simple kinds of graphs directly from DataFrame indices and columns.\n",
    "\n",
    "## Line graphs"
   ]
  },
  {
   "cell_type": "code",
   "execution_count": null,
   "metadata": {},
   "outputs": [],
   "source": [
    "url = 'https://github.com/nytimes/covid-19-data/raw/master/us.csv'\n",
    "covid = pd.read_csv(url)\n",
    "covid.tail()"
   ]
  },
  {
   "cell_type": "code",
   "execution_count": null,
   "metadata": {},
   "outputs": [],
   "source": [
    "covid.plot()\n",
    "# covid.plot(kind='line') # .plot() defaults to this specific kind of plot\n",
    "# covid.plot.line() # alternate method of specifying the kind of plot"
   ]
  },
  {
   "cell_type": "markdown",
   "metadata": {},
   "source": [
    "Convert date strings to datetime objects, then set the date column as the row index."
   ]
  },
  {
   "cell_type": "code",
   "execution_count": null,
   "metadata": {},
   "outputs": [],
   "source": [
    "# See https://stackoverflow.com/questions/25416955/plot-pandas-dates-in-matplotlib for setting X axis as dates\n",
    "covid['date'] = pd.to_datetime(covid['date'], format='%Y-%m-%d') # converts string to datetime object\n",
    "covid = covid.set_index(['date'])\n",
    "covid.head()"
   ]
  },
  {
   "cell_type": "code",
   "execution_count": null,
   "metadata": {},
   "outputs": [],
   "source": [
    "covid.plot()"
   ]
  },
  {
   "cell_type": "markdown",
   "metadata": {},
   "source": [
    "## Scatterplot"
   ]
  },
  {
   "cell_type": "code",
   "execution_count": null,
   "metadata": {},
   "outputs": [],
   "source": [
    "# Scatter plot requires specifying both the X and Y columns as arguments\n",
    "url = 'https://github.com/HeardLibrary/digital-scholarship/raw/master/data/codegraf/falling_cats.csv'\n",
    "cats = pd.read_csv(url)\n",
    "cats.head()\n"
   ]
  },
  {
   "cell_type": "code",
   "execution_count": null,
   "metadata": {},
   "outputs": [],
   "source": [
    "cats.plot.scatter('stories_fallen', 'injury_rate')"
   ]
  },
  {
   "cell_type": "markdown",
   "metadata": {},
   "source": [
    "## Pie chart"
   ]
  },
  {
   "cell_type": "code",
   "execution_count": null,
   "metadata": {},
   "outputs": [],
   "source": [
    "url = 'https://github.com/HeardLibrary/digital-scholarship/raw/master/data/codegraf/co2_state_2016_sector.xlsx'\n",
    "state_co2_sector = pd.read_excel(url)\n",
    "state_co2_sector = state_co2_sector.set_index('State')\n",
    "state_co2_sector.head()"
   ]
  },
  {
   "cell_type": "code",
   "execution_count": null,
   "metadata": {},
   "outputs": [],
   "source": [
    "# Slice the Commercial through Transportation columns for a single row, resulting in a pandas series\n",
    "az_sector_components = state_co2_sector.loc['Arizona', 'Commercial': \"Transportation\"]\n",
    "az_sector_components"
   ]
  },
  {
   "cell_type": "code",
   "execution_count": null,
   "metadata": {},
   "outputs": [],
   "source": [
    "# The series labels will automatically be used as the labels on the chart\n",
    "az_sector_components.plot(kind='pie')"
   ]
  },
  {
   "cell_type": "markdown",
   "metadata": {},
   "source": [
    "## Bar chart"
   ]
  },
  {
   "cell_type": "code",
   "execution_count": null,
   "metadata": {},
   "outputs": [],
   "source": [
    "# Slice the state rows from Alabama through Wyoming for the single Total column, resulting in a pandas series\n",
    "totals_by_state = state_co2_sector.loc['Alabama': 'Wyoming', 'Total']\n",
    "totals_by_state.head()"
   ]
  },
  {
   "cell_type": "code",
   "execution_count": null,
   "metadata": {},
   "outputs": [],
   "source": [
    "# The series labels will automatically be used as the bar chart labels.\n",
    "totals_by_state.sort_index(ascending=False).plot(kind='barh', figsize=(10,10))"
   ]
  },
  {
   "cell_type": "markdown",
   "metadata": {},
   "source": [
    "# pyplot from matplotlib"
   ]
  },
  {
   "cell_type": "markdown",
   "metadata": {},
   "source": [
    "## Controlling display with figures and subplots"
   ]
  },
  {
   "cell_type": "code",
   "execution_count": null,
   "metadata": {},
   "outputs": [],
   "source": [
    "import pandas as pd\n",
    "import matplotlib.pyplot as plt\n",
    "\n",
    "# Create a figure object\n",
    "fig = plt.figure()\n",
    "\n",
    "# Create 2 subplots with 1 row and 2 columns\n",
    "axes1 = fig.add_subplot(1, 2, 1)\n",
    "axes2 = fig.add_subplot(1, 2, 2)"
   ]
  },
  {
   "cell_type": "code",
   "execution_count": null,
   "metadata": {},
   "outputs": [],
   "source": [
    "# Create a figure object\n",
    "fig = plt.figure()\n",
    "\n",
    "# Create 2 subplots with 2 rows and 1 column\n",
    "axes1 = fig.add_subplot(2, 1, 1)\n",
    "axes2 = fig.add_subplot(2, 1, 2)\n",
    "plt.show() # displays the graph if you aren't using Jupyter notebooks"
   ]
  },
  {
   "cell_type": "code",
   "execution_count": null,
   "metadata": {},
   "outputs": [],
   "source": [
    "url = 'https://github.com/nytimes/covid-19-data/raw/master/us.csv'\n",
    "covid = pd.read_csv(url)\n",
    "\n",
    "# Slice the first 50 days of COVID 19 data\n",
    "\n",
    "first_cases = covid.iloc[:50]\n",
    "first_cases.tail()"
   ]
  },
  {
   "cell_type": "markdown",
   "metadata": {},
   "source": [
    "In Jupyter notebooks, plots are reset after every cell, so setup code must be included in a single cell"
   ]
  },
  {
   "cell_type": "code",
   "execution_count": null,
   "metadata": {},
   "outputs": [],
   "source": [
    "# Create a figure object\n",
    "fig = plt.figure(figsize=(10,10))\n",
    "\n",
    "# Create 2 subplots with 2 rows and 1 column\n",
    "axes1 = fig.add_subplot(2, 1, 1)\n",
    "axes2 = fig.add_subplot(2, 1, 2)\n",
    "\n",
    "# .plot() method creates a line plot (points connected by a line)\n",
    "axes1.plot(first_cases.index, first_cases['cases'], color='k', linestyle='dashed', marker='o')\n",
    "axes1.set_title('cases')\n",
    "# For convenience here I used the \"dot\" method for specifying the column instead of specifying it as\n",
    "# an index as I did above.\n",
    "axes2.plot(first_cases.index, first_cases.deaths, color='r', linestyle='dashed', marker='x')\n",
    "axes2.set_title('deaths')"
   ]
  },
  {
   "cell_type": "markdown",
   "metadata": {},
   "source": [
    "## Plot in a single subplot"
   ]
  },
  {
   "cell_type": "code",
   "execution_count": null,
   "metadata": {},
   "outputs": [],
   "source": [
    "# Create a figure object\n",
    "fig = plt.figure(figsize=(10,10))\n",
    "\n",
    "# Create a single subplot\n",
    "ax = fig.add_subplot(1, 1, 1)\n",
    "\n",
    "ax.plot(first_cases.index, first_cases.cases, color='k', linestyle='dashed', marker='o')\n",
    "ax.plot(first_cases.index, first_cases.deaths, color='r', linestyle='dashed', marker='x')\n",
    "\n",
    "# set labels for subplot axes\n",
    "ax.set_xlabel('days since first case')\n",
    "ax.set_ylabel('number of persons')\n",
    "\n",
    "ax.set_title('start of the COVID 19 pandemic in the U.S.')"
   ]
  },
  {
   "cell_type": "markdown",
   "metadata": {},
   "source": [
    "Display as a bar graph (unstacked)"
   ]
  },
  {
   "cell_type": "code",
   "execution_count": null,
   "metadata": {},
   "outputs": [],
   "source": [
    "# Create a figure object\n",
    "fig = plt.figure(figsize=(10,10))\n",
    "\n",
    "# Create a single subplot\n",
    "ax = fig.add_subplot(1, 1, 1)\n",
    "\n",
    "# .bar() method creates a bar plot\n",
    "# Including the plot labels allows the creation of a legend.\n",
    "ax.bar(first_cases.index, first_cases.cases, color='k', label='cases')\n",
    "ax.bar(first_cases.index, first_cases.deaths, color='r', label='deaths')\n",
    "\n",
    "ax.set_xlabel('days since first case')\n",
    "ax.set_ylabel('number of persons')\n",
    "ax.set_title('start of the COVID 19 pandemic in the U.S.')\n",
    "ax.legend() # Display the legend"
   ]
  },
  {
   "cell_type": "markdown",
   "metadata": {},
   "source": [
    "## Scatterplot with best fit curve"
   ]
  },
  {
   "cell_type": "code",
   "execution_count": null,
   "metadata": {},
   "outputs": [],
   "source": [
    "# Reload the falling cats data\n",
    "url = 'https://github.com/HeardLibrary/digital-scholarship/raw/master/data/codegraf/falling_cats.csv'\n",
    "cats = pd.read_csv(url)\n",
    "cats.head()"
   ]
  },
  {
   "cell_type": "code",
   "execution_count": null,
   "metadata": {},
   "outputs": [],
   "source": [
    "# For convenience, extract the column data as pandas Series\n",
    "# We'll use them multiple times later.\n",
    "stories_fallen = cats['stories_fallen']\n",
    "print(stories_fallen)\n",
    "print()\n",
    "injury_rate = cats['injury_rate']\n",
    "print(injury_rate)"
   ]
  },
  {
   "cell_type": "markdown",
   "metadata": {},
   "source": [
    "Recreate the cat scatterplot, this time using `pyplot`."
   ]
  },
  {
   "cell_type": "code",
   "execution_count": null,
   "metadata": {},
   "outputs": [],
   "source": [
    "fig = plt.figure(figsize=(5,5))\n",
    "ax = fig.add_subplot(1, 1, 1)\n",
    "\n",
    "# .scatter() method creates an x,y scatterplot\n",
    "# Pass in the two series as the x and y values.\n",
    "ax.scatter(stories_fallen, injury_rate, color='r')\n",
    "\n",
    "# set labels for subplot axes\n",
    "ax.set_xlabel('stories fallen')\n",
    "ax.set_ylabel('average injury per cat')"
   ]
  },
  {
   "cell_type": "markdown",
   "metadata": {},
   "source": [
    "We can create a best-fit polynomial using numpy"
   ]
  },
  {
   "cell_type": "code",
   "execution_count": null,
   "metadata": {},
   "outputs": [],
   "source": [
    "import numpy as np\n",
    "\n",
    "# Add a second-order polynomial best-fit function using NumPy\n",
    "# In this case, we used second order (parabolic fit) instead of a straight line.\n",
    "z = np.polyfit(stories_fallen, injury_rate, 2)\n",
    "p = np.poly1d(z)\n"
   ]
  },
  {
   "cell_type": "markdown",
   "metadata": {},
   "source": [
    "Recreate the plot, but now add the best fit line (as a line plot) to the subplot."
   ]
  },
  {
   "cell_type": "code",
   "execution_count": null,
   "metadata": {},
   "outputs": [],
   "source": [
    "fig = plt.figure(figsize=(5,5))\n",
    "ax = fig.add_subplot(1, 1, 1)\n",
    "ax.set_xlabel('stories fallen')\n",
    "ax.set_ylabel('average injury per cat')\n",
    "\n",
    "# Create the scatterplot\n",
    "ax.scatter(stories_fallen, injury_rate)\n",
    "\n",
    "# Add the polynomial best fit curve as a dashed line\n",
    "\n",
    "# plot type .plot() is a line plot rather than scatterplot\n",
    "ax.plot(stories_fallen, p(stories_fallen), \"r--\") # r for red, -- for dashed line\n"
   ]
  },
  {
   "cell_type": "code",
   "execution_count": null,
   "metadata": {},
   "outputs": [],
   "source": [
    "# The deviations can be passed in as any of several one-dimensional data objects: list, series, or Numpy array\n",
    "# The deviations must have previously been calculated from the data -- in this case the numbers are just made up.\n",
    "upper_deviation = [0.1, 0.2, 0.3, 0.1, 0.5, 0.2, 0.6]\n",
    "lower_deviation = pd.Series([0.1, 0.4, 0.1, 0.2, 0.5, 0.6, 0.3])\n",
    "\n",
    "fig = plt.figure(figsize=(5,5))\n",
    "ax = fig.add_subplot(1, 1, 1)\n",
    "ax.set_xlabel('stories fallen')\n",
    "ax.set_ylabel('average injury per cat')\n",
    "\n",
    "# change plot type to error bar\n",
    "ax.errorbar(stories_fallen, injury_rate, yerr=[lower_deviation, upper_deviation], fmt='o')\n"
   ]
  },
  {
   "cell_type": "markdown",
   "metadata": {},
   "source": [
    "# Creating multiple graphs programatically\n",
    "\n",
    "## Multiple pie charts\n",
    "\n",
    "We will use some of our pandas DataFrame wrangling skills to prepare data for creating pie charts. We will create multiple charts by looping rather than by manually creating them one at a time."
   ]
  },
  {
   "cell_type": "code",
   "execution_count": null,
   "metadata": {},
   "outputs": [],
   "source": [
    "url = 'https://github.com/HeardLibrary/digital-scholarship/raw/master/data/codegraf/co2_state_2016_sector.xlsx'\n",
    "state_co2_sector = pd.read_excel(url)\n",
    "state_co2_sector = state_co2_sector.set_index('State')\n",
    "state_co2_sector.tail()"
   ]
  },
  {
   "cell_type": "markdown",
   "metadata": {},
   "source": [
    "Drop the last row (totals by sector)"
   ]
  },
  {
   "cell_type": "code",
   "execution_count": null,
   "metadata": {},
   "outputs": [],
   "source": [
    "state_co2_sector = state_co2_sector.drop('Total')\n",
    "state_co2_sector.tail()"
   ]
  },
  {
   "cell_type": "markdown",
   "metadata": {},
   "source": [
    "Sort decending by the state totals"
   ]
  },
  {
   "cell_type": "code",
   "execution_count": null,
   "metadata": {},
   "outputs": [],
   "source": [
    "decreasing = state_co2_sector.sort_values(by='Total', ascending=False)\n",
    "decreasing.head()"
   ]
  },
  {
   "cell_type": "markdown",
   "metadata": {},
   "source": [
    "Delete the total column (no longer needed after sorting)"
   ]
  },
  {
   "cell_type": "code",
   "execution_count": null,
   "metadata": {},
   "outputs": [],
   "source": [
    "decreasing = decreasing.drop(['Total'], axis='columns')\n",
    "decreasing.head()"
   ]
  },
  {
   "cell_type": "markdown",
   "metadata": {},
   "source": [
    "Since the number of states to plot isn't hard-coded in the script and since we are generating multiple plots programatically, the user can chose any number of states to plot.\n",
    "\n",
    "The `.subplots()` method generates a sequence of subplots that can be accessed by their index number. This allows us to generate many subplots with a little bit of code in a loop."
   ]
  },
  {
   "cell_type": "code",
   "execution_count": null,
   "metadata": {},
   "outputs": [],
   "source": [
    "number_of_states = int(input('How many states to plot? '))\n",
    "fig = plt.figure(figsize=(5, 4*number_of_states))\n",
    "ax = fig.subplots(number_of_states, 1)\n",
    "for subplot in range(number_of_states):\n",
    "    ax[subplot].pie(decreasing.iloc[subplot], labels=decreasing.columns)\n",
    "    ax[subplot].set_title(decreasing.index[subplot])\n"
   ]
  },
  {
   "cell_type": "markdown",
   "metadata": {},
   "source": [
    "# Optional\n",
    "\n",
    "This last example is a lot more complicated, but shows more possibilities for plotting."
   ]
  },
  {
   "cell_type": "markdown",
   "metadata": {},
   "source": [
    "## Creating a stacked bar chart \n",
    "\n",
    "One of the deficiencies of pie charts is that they only show the relative fraction of the sectors. A stacked bar chart shows not only the relative fraction of the sectors, but also the overall magnitude. So it's a better visualization type. Unfortunately, it's not easy to create stacked bar charts in Matplotlib."
   ]
  },
  {
   "cell_type": "code",
   "execution_count": null,
   "metadata": {},
   "outputs": [],
   "source": [
    "# Reload state_co2_sector if necessary\n",
    "url = 'https://github.com/HeardLibrary/digital-scholarship/raw/master/data/codegraf/co2_state_2016_sector.xlsx'\n",
    "state_co2_sector = pd.read_excel(url)\n",
    "state_co2_sector.tail()"
   ]
  },
  {
   "cell_type": "code",
   "execution_count": null,
   "metadata": {},
   "outputs": [],
   "source": [
    "# Extract sector data for the top few states\n",
    "number_of_states = 4\n",
    "top_state_sectors = state_co2_sector.set_index('State').drop('Total').sort_values(by='Total', ascending=False).drop(['Total'], axis='columns')[:number_of_states]\n",
    "top_state_sectors"
   ]
  },
  {
   "cell_type": "code",
   "execution_count": null,
   "metadata": {},
   "outputs": [],
   "source": [
    "# Based on example at https://subscription.packtpub.com/book/big_data_and_business_intelligence/9781849513265/1/ch01lvl1sec17/plotting-stacked-bar-charts\n",
    "# See also https://matplotlib.org/3.1.1/gallery/lines_bars_and_markers/bar_stacked.html\n",
    "\n",
    "import numpy as np\n",
    "\n",
    "# Create a figure object\n",
    "fig = plt.figure(figsize=(15,10))\n",
    "\n",
    "# Create a single subplot\n",
    "ax = fig.add_subplot(1, 1, 1)\n",
    "\n",
    "# Create a numpy array with one element for each row\n",
    "ind = np.arange(len(top_state_sectors))\n",
    "#print(ind)\n",
    "\n",
    "# Extract the row and column labels as numpy arrays from pandas series\n",
    "row_labels = top_state_sectors.index.values\n",
    "column_labels = top_state_sectors.columns.values\n",
    "\n",
    "for sector_number in range(len(top_state_sectors.columns)):\n",
    "    #print(sector_number)\n",
    "    #print(top_state_sectors.iloc[:, :sector_number])\n",
    "    sector_sums = top_state_sectors.iloc[:, :sector_number].sum(axis='columns')\n",
    "    #print(sector_sums)\n",
    "    ax.bar(ind, top_state_sectors.iloc[:, sector_number], bottom=sector_sums)\n",
    "\n",
    "# These functions operate on the most recently active subplot; we have only one in this example\n",
    "plt.xticks(ind, row_labels)\n",
    "plt.legend(column_labels)\n"
   ]
  },
  {
   "cell_type": "markdown",
   "metadata": {},
   "source": [
    "There are many, many types of plots and options. See the [matplotlib gallery](https://matplotlib.org/3.1.1/gallery/index.html) for examples. For more complex plot types, it may be easier to use seaborn, a high-level statistical graphics library built on matplotlib. See https://seaborn.pydata.org/ for more information."
   ]
  },
  {
   "cell_type": "markdown",
   "metadata": {},
   "source": [
    "# Practice\n",
    "\n",
    "See [this page](https://github.com/HeardLibrary/digital-scholarship/tree/master/data/codegraf) for information about the dataset."
   ]
  },
  {
   "cell_type": "code",
   "execution_count": null,
   "metadata": {},
   "outputs": [],
   "source": [
    "url = 'data/flight_data_set.csv'\n",
    "flights = pd.read_csv(url)\n",
    "flights.head()"
   ]
  },
  {
   "cell_type": "markdown",
   "metadata": {},
   "source": [
    "Calculate the average values for the carriers and slice out the Minutes of Delay per flight. Create a bar chart of the resulting series."
   ]
  },
  {
   "cell_type": "code",
   "execution_count": null,
   "metadata": {},
   "outputs": [],
   "source": [
    "grouped = flights.groupby(['Carrier Name']).mean()\n",
    "grouped.drop(['Minutes of Delay', 'Number of Flights'], axis='columns', inplace=True)\n",
    "grouped.sort_values(by='Minutes of Delay per Flight', ascending=True).plot(kind='barh', figsize=(20,10))"
   ]
  },
  {
   "cell_type": "markdown",
   "metadata": {},
   "source": [
    "Recreate the plot, but this time replace `NaN` values with zeros."
   ]
  },
  {
   "cell_type": "code",
   "execution_count": null,
   "metadata": {},
   "outputs": [],
   "source": [
    "flights.fillna({'Minutes of Delay per Flight': 0}, inplace=True)\n",
    "grouped = flights.groupby(['Carrier Name']).mean()\n",
    "grouped.drop(['Minutes of Delay', 'Number of Flights'], axis='columns', inplace=True)\n",
    "grouped.sort_values(by='Minutes of Delay per Flight', ascending=True).plot(kind='barh', figsize=(20,10))\n",
    "#grouped.plot(kind='barh', figsize=(20,10))"
   ]
  },
  {
   "cell_type": "markdown",
   "metadata": {},
   "source": [
    "Convert date column to a datetime object and group by Carrier Name."
   ]
  },
  {
   "cell_type": "code",
   "execution_count": null,
   "metadata": {},
   "outputs": [],
   "source": [
    "date_flights = flights.copy()\n",
    "date_flights['Date'] = pd.to_datetime(date_flights['Date'], format = '%m/%d/%Y')\n",
    "grouped = date_flights.groupby(['Carrier Name'])\n",
    "grouped.head()"
   ]
  },
  {
   "cell_type": "markdown",
   "metadata": {},
   "source": [
    "Slice only the Delta data and sum by date. Plot only the Minutes of Delay by date"
   ]
  },
  {
   "cell_type": "code",
   "execution_count": null,
   "metadata": {},
   "outputs": [],
   "source": [
    "delta = grouped.get_group('Delta')\n",
    "time_series = delta.groupby('Date').sum()\n",
    "time_series.drop(['Minutes of Delay per Flight', 'Number of Flights'], axis='columns', inplace=True)\n",
    "print(time_series.head())\n",
    "time_series.plot(kind='line', figsize=(20,10))\n"
   ]
  },
  {
   "cell_type": "markdown",
   "metadata": {},
   "source": [
    "Let's see if this pattern holds across airlines. Group by both Carrier Name and Date rather than selecting only one airline. Limit output to Minutes of Delay data."
   ]
  },
  {
   "cell_type": "code",
   "execution_count": null,
   "metadata": {},
   "outputs": [],
   "source": [
    "date_flights = flights.copy()\n",
    "date_flights['Date'] = pd.to_datetime(date_flights['Date'], format = '%m/%d/%Y')\n",
    "grouped = date_flights.groupby(['Carrier Name', 'Date']).sum()\n",
    "grouped.drop(['Minutes of Delay per Flight', 'Number of Flights'], axis='columns', inplace=True)\n",
    "grouped.head()"
   ]
  },
  {
   "cell_type": "markdown",
   "metadata": {},
   "source": [
    "Unstack Carrier Name so that we get a column for each carrier. Now if we redo the plot, Pandas will plot a line for each carrier."
   ]
  },
  {
   "cell_type": "code",
   "execution_count": null,
   "metadata": {},
   "outputs": [],
   "source": [
    "columned = grouped.unstack('Carrier Name')\n",
    "print(columned.head())\n",
    "columned.plot(kind='line', figsize=(20,10))"
   ]
  },
  {
   "cell_type": "markdown",
   "metadata": {},
   "source": [
    "Let's compare the number of flights across airlines using a bar chart."
   ]
  },
  {
   "cell_type": "code",
   "execution_count": null,
   "metadata": {},
   "outputs": [],
   "source": [
    "grouped = flights.groupby(['Carrier Name']).sum()\n",
    "grouped.drop(['Minutes of Delay per Flight', 'Minutes of Delay'], axis='columns', inplace=True)\n",
    "grouped.plot(kind='bar', figsize=(20,10))"
   ]
  }
 ],
 "metadata": {
  "kernelspec": {
   "display_name": "Python 3",
   "language": "python",
   "name": "python3"
  },
  "language_info": {
   "codemirror_mode": {
    "name": "ipython",
    "version": 3
   },
   "file_extension": ".py",
   "mimetype": "text/x-python",
   "name": "python",
   "nbconvert_exporter": "python",
   "pygments_lexer": "ipython3",
   "version": "3.8.5"
  }
 },
 "nbformat": 4,
 "nbformat_minor": 2
}
