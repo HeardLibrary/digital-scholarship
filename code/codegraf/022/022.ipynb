{
 "cells": [
  {
   "cell_type": "markdown",
   "metadata": {},
   "source": [
    "# CSV reader/writer\n",
    "\n",
    "## CSV flies\n",
    "\n",
    "Run the appropriate code cell for your installation to create a CSV file from a multi-line raw text string:"
   ]
  },
  {
   "cell_type": "code",
   "execution_count": null,
   "metadata": {},
   "outputs": [],
   "source": [
    "# Code for local installation of Jupyter notebooks\n",
    "import os\n",
    "print(os.getcwd())\n",
    "\n",
    "some_text = '''given_name,family_name,username,student_id\n",
    "Jimmy,Zhang,rastaman27,37258\n",
    "Ji,Kim,kimji8,44947\n",
    "Veronica,Fuentes,shakira<3,19846'''\n",
    "with open('students.csv', 'wt', encoding='utf-8') as file_object:\n",
    "    file_object.write(some_text)"
   ]
  },
  {
   "cell_type": "code",
   "execution_count": null,
   "metadata": {},
   "outputs": [],
   "source": [
    "# Code for Colab installation\n",
    "# You will need to mount your Google drive before running the code.\n",
    "# The file will be saved in the root of your Google Drive.\n",
    "\n",
    "google_drive_root = '/content/drive/My Drive/'\n",
    "\n",
    "some_text = '''given_name,family_name,username,student_id\n",
    "Jimmy,Zhang,rastaman27,37258\n",
    "Ji,Kim,kimji8,44947\n",
    "Veronica,Fuentes,shakira<3,19846'''\n",
    "with open(google_drive_root + 'students.csv', 'wt', encoding='utf-8') as file_object:\n",
    "    file_object.write(some_text)"
   ]
  },
  {
   "cell_type": "markdown",
   "metadata": {},
   "source": [
    "For a local installation, the script prints the path where the file is saved. Open the file from within your text editor and examine the form of the text. Notice that each row of the CSV is on a separate line (ended with a newline character). \n",
    "\n",
    "Now open the file using a spreadsheet program. Libre Office is the best one to use, but if you don't have it, you can open it with Excel. Notice how the file is rendered as an editable table rather than as raw text. "
   ]
  },
  {
   "cell_type": "markdown",
   "metadata": {},
   "source": [
    "## Reading CSV files as a list of lists using a csv.reader() object\n",
    "\n",
    "The `csv` module defines the `csv.reader()` object that inputs an iterable file object.  The reader object an iterable object whose items are lists."
   ]
  },
  {
   "cell_type": "code",
   "execution_count": null,
   "metadata": {},
   "outputs": [],
   "source": [
    "import csv\n",
    "\n",
    "with open('students.csv', 'r', newline='', encoding='utf-8') as file_object:\n",
    "    # The reader() object is instantiated and assigned to a variable.\n",
    "    reader_object = csv.reader(file_object)\n",
    "    print(type(reader_object))\n",
    "    print()\n",
    "    \n",
    "    # The reader object is iterable\n",
    "    for row in reader_object:\n",
    "        # each iterated item is a Python list\n",
    "        print(type(row))\n",
    "        print(row)"
   ]
  },
  {
   "cell_type": "markdown",
   "metadata": {},
   "source": [
    "In the following example, the code to read from the CSV file to a list of lists is placed in a function. The file path is passed in as the only argument of the function. The function returns a single object, a list of lists containing the data from the CSV file."
   ]
  },
  {
   "cell_type": "code",
   "execution_count": null,
   "metadata": {},
   "outputs": [],
   "source": [
    "import csv\n",
    "\n",
    "path = '' # uncomment this line for a local installation\n",
    "#path = '/content/drive/My Drive/' # uncomment this line if using Colab\n",
    "\n",
    "# The function takes the file path as an argument and returns a list of lists\n",
    "def read_csv_to_list_of_lists(file_path):\n",
    "    with open(file_path, 'r', newline='', encoding='utf-8') as file_object:\n",
    "        reader_object = csv.reader(file_object)\n",
    "        list_of_lists = []\n",
    "        for row_list in reader_object:\n",
    "            list_of_lists.append(row_list)\n",
    "    return list_of_lists\n",
    "\n",
    "# Main script\n",
    "student_info = read_csv_to_list_of_lists(path + 'students.csv')\n",
    "print(student_info)\n",
    "print()\n",
    "\n",
    "print(student_info[1][2])\n",
    "print()"
   ]
  },
  {
   "cell_type": "code",
   "execution_count": null,
   "metadata": {},
   "outputs": [],
   "source": [
    "# Build a string that contains tabs between each table item and has newlines at the end of each line.\n",
    "output_string = ''\n",
    "for row in range(0,len(student_info)):\n",
    "    for column in  range(0,len(student_info[row])):\n",
    "        output_string += student_info[row][column] + '\\t'\n",
    "    output_string += '\\n'\n",
    "print(output_string)"
   ]
  },
  {
   "cell_type": "markdown",
   "metadata": {},
   "source": [
    "## Writing to CSV files\n",
    "\n",
    "Example writing cartoons.csv"
   ]
  },
  {
   "cell_type": "code",
   "execution_count": null,
   "metadata": {},
   "outputs": [],
   "source": [
    "import csv\n",
    "\n",
    "path = '' # uncomment this line for a local installation\n",
    "#path = '/content/drive/My Drive/' # uncomment this line if using Colab\n",
    "\n",
    "data = [ ['name', 'company', 'nemesis'], ['Mickey Mouse', 'Disney', 'Donald Duck'], ['Road Runner', 'Warner Brothers', 'Wile Ethelbert Coyote'] ]\n",
    "with open(path + 'cartoons.csv', 'w', newline='', encoding='utf-8') as file_object:\n",
    "    writer_object = csv.writer(file_object)\n",
    "    for row in data:\n",
    "        print(row)\n",
    "        writer_object.writerow(row)"
   ]
  },
  {
   "cell_type": "markdown",
   "metadata": {},
   "source": [
    "## Reading CSV files as a list of dictionaries using a csv.DictReader() object\n",
    "\n",
    "The `csv` module contains the `DictReader()` object that turns an iterable file object into an iterable object whose items are dictionaries."
   ]
  },
  {
   "cell_type": "code",
   "execution_count": null,
   "metadata": {},
   "outputs": [],
   "source": [
    "import csv\n",
    "\n",
    "path = '' # uncomment this line for a local installation\n",
    "#path = '/content/drive/My Drive/' # uncomment this line if using Colab\n",
    "\n",
    "with open('cartoons.csv', 'r', newline='', encoding='utf-8') as file_object:\n",
    "    # The DictReader() object is instantiated and assigned to a variable.\n",
    "    reader_object = csv.DictReader(file_object)\n",
    "    # The iterable items in a DictReader object are a special kind of dictionary (OrderedDict).\n",
    "    # But we can use them like regular dictionary if we ignore that they are ordered.\n",
    "    print(type(reader_object))\n",
    "    print()\n",
    "    \n",
    "    # If we want to reuse the row dictionaries, we can add them to a list.\n",
    "    cartoon_table = []\n",
    "    for row_list in reader_object:\n",
    "        print(type(row_list))\n",
    "        print(row_list)\n",
    "        cartoon_table.append(row_list)\n",
    "\n",
    "print()\n",
    "# We refer to items in the row lists by their keys, just as we do for normal dictionaries.\n",
    "# Because each row has its own dictionary, we must specify the row in the first square brackets.\n",
    "print(cartoon_table[1]['name'] + ' works for ' + cartoon_table[1]['company'] + '. Its enemy is ' + cartoon_table[1]['nemesis'])"
   ]
  },
  {
   "cell_type": "code",
   "execution_count": null,
   "metadata": {},
   "outputs": [],
   "source": [
    "for character in cartoon_table:\n",
    "    print('Character name:', character['name'], ' company:', character['company'], ' nemesis:', character['nemesis'])"
   ]
  },
  {
   "cell_type": "markdown",
   "metadata": {},
   "source": [
    "## Template code for CSV-reading function (list of dictionaries)\n",
    "In the following example, the code to read from the CSV file to a list of dictionaries is placed in a function. The file path is passed in as the only argument of the function. The function returns a single object, a list of dictionaries containing the data from the CSV file. The keys for the dictionaries are taken from the header row of the CSV.\n",
    "\n",
    "The main script is a modification of the earlier script that looks up cartoon characters. By using a file rather than hard-coding the characters data, it's easier to include a lot more information and to change it by updating the CSV file as a spreadsheet.\n",
    "\n",
    "You can download a CSV file with around 4000 cartoon characters from [here](https://github.com/HeardLibrary/digital-scholarship/blob/master/code/pylesson/challenge4/cartoons.csv). Right click on the `Raw` button and select `Save file as...`. Save the file in the same directory as your Jupyter notebook if you are using a local installation, or in the root of your Google Drive if using Colab. **Note:** if your browser changes the file extension to `.txt`, you may need to change the format from `text` to `All Files`, then manually change the extension in the dialog from `.txt` to `.csv`.\n",
    "\n",
    "Many of the characters in the file do not have nemeses. You can add them if you know who they are."
   ]
  },
  {
   "cell_type": "code",
   "execution_count": null,
   "metadata": {},
   "outputs": [],
   "source": [
    "import csv\n",
    "\n",
    "path = '' # uncomment this line for a local installation\n",
    "#path = '/content/drive/My Drive/' # uncomment this line if using Colab\n",
    "\n",
    "# The function takes the file path as an argument and returns a list of lists\n",
    "def read_csv_to_list_of_dicts(filename):\n",
    "    with open(filename, 'r', newline='', encoding='utf-8') as file_object:\n",
    "        dict_object = csv.DictReader(file_object)\n",
    "        list_of_dicts = []\n",
    "        for row_dict in dict_object:\n",
    "            list_of_dicts.append(row_dict)\n",
    "    return list_of_dicts\n",
    "\n",
    "# Main script\n",
    "cartoons = read_csv_to_list_of_dicts(path + 'cartoons.csv')\n",
    "name = input(\"What's the character? \")\n",
    "found = False\n",
    "for character in cartoons:\n",
    "    if name.lower() in character['name'].lower():\n",
    "        if character['nemesis'] == '':\n",
    "            print(\"I don't know the nemesis of \" + character['name'])\n",
    "        else:\n",
    "            print(character['name'] + \" doesn't like \" + character['nemesis'])\n",
    "        found = True\n",
    "if not found:\n",
    "    print(\"Sorry, I don't know that character.\")"
   ]
  },
  {
   "cell_type": "markdown",
   "metadata": {},
   "source": [
    "## Template code for CSV-writing functions (from list of dictionaries)\n",
    "\n",
    "Note that the functions do not return anything since they output to a file. \n",
    "\n",
    "The file path will need to be adjusted if you want to save the file somewhere other than in the directory in which the notebook is running.\n",
    "\n",
    "The first function requires you to explicitly provide the field names. Use it if every dictionary does not contain every field."
   ]
  },
  {
   "cell_type": "code",
   "execution_count": null,
   "metadata": {},
   "outputs": [],
   "source": [
    "import csv\n",
    "\n",
    "def write_dicts_to_csv_fieldnames(list_of_dicts, file_path, field_names):\n",
    "    with open(file_path, 'w', newline='', encoding='utf-8') as csv_file_object:\n",
    "        writer = csv.DictWriter(csv_file_object, fieldnames=field_names)\n",
    "        writer.writeheader()\n",
    "        for row_dict in list_of_dicts:\n",
    "            writer.writerow(row_dict)\n",
    "\n",
    "field_names = ['name', 'company', 'nemesis']\n",
    "data = [ {'name': 'Mickey Mouse', 'company': 'Disney', 'nemesis': 'Donald Duck'}, {'name': 'Road Runner', 'company': 'Warner Brothers', 'nemesis': 'Wile Ethelbert Coyote'} ]\n",
    "path = 'mini-cartoon-table.csv'\n",
    "write_dicts_to_csv_fieldnames(data, path, field_names)"
   ]
  },
  {
   "cell_type": "markdown",
   "metadata": {},
   "source": [
    "The second function gets the field names from the keys in the first dictionary in the list. Use it if all dictionaries have the same keys."
   ]
  },
  {
   "cell_type": "code",
   "execution_count": null,
   "metadata": {},
   "outputs": [],
   "source": [
    "import csv\n",
    "\n",
    "def write_dicts_to_csv(list_of_dicts, file_path):\n",
    "    field_names = list_of_dicts[0].keys()\n",
    "    with open(file_path, 'w', newline='', encoding='utf-8') as csv_file_object:\n",
    "        writer = csv.DictWriter(csv_file_object, fieldnames=field_names)\n",
    "        writer.writeheader()\n",
    "        for row_dict in list_of_dicts:\n",
    "            writer.writerow(row_dict)\n",
    "\n",
    "data = [ {'name': 'Mickey Mouse', 'company': 'Disney', 'nemesis': 'Donald Duck'}, {'name': 'Road Runner', 'company': 'Warner Brothers', 'nemesis': 'Wile Ethelbert Coyote'} ]\n",
    "path = 'another-cartoon-table.csv'\n",
    "write_dicts_to_csv(data, path)"
   ]
  },
  {
   "cell_type": "markdown",
   "metadata": {},
   "source": [
    "## Reading CSV files from the Internet\n",
    "\n",
    "The Nashville schools data in this exercise comes from [here](https://github.com/HeardLibrary/digital-scholarship/blob/master/data/gis/wg/Metro_Nashville_Schools.csv).\n",
    "\n",
    "Reading a CSV file from a URL into a list of lists"
   ]
  },
  {
   "cell_type": "code",
   "execution_count": null,
   "metadata": {},
   "outputs": [],
   "source": [
    "import requests\n",
    "import csv\n",
    "\n",
    "def url_csv_to_list_of_lists(url):\n",
    "    r = requests.get(url)\n",
    "    file_text = r.text.splitlines()\n",
    "    file_rows = csv.reader(file_text)\n",
    "    list_of_lists = []\n",
    "    for row in file_rows:\n",
    "        list_of_lists.append(row)\n",
    "    return list_of_lists\n",
    "        \n",
    "# Main script\n",
    "url = 'https://raw.githubusercontent.com/HeardLibrary/digital-scholarship/master/data/gis/wg/Metro_Nashville_Schools.csv'\n",
    "schools_data = url_csv_to_list_of_lists(url)\n",
    "\n",
    "# print the IDs and names of all of the schools\n",
    "print(schools_data[0][2] + '\\t' + schools_data[0][3])\n",
    "for school in range(1, len(schools_data)):\n",
    "    print(schools_data[school][2] + '\\t' + schools_data[school][3])"
   ]
  },
  {
   "cell_type": "markdown",
   "metadata": {},
   "source": [
    "Reading a CSV file from a URL into a list of dictionaries"
   ]
  },
  {
   "cell_type": "code",
   "execution_count": null,
   "metadata": {},
   "outputs": [],
   "source": [
    "import requests\n",
    "import csv\n",
    "\n",
    "def url_csv_to_list_of_dicts(url):\n",
    "    r = requests.get(url)\n",
    "    file_text = r.text.splitlines()\n",
    "    file_rows = csv.DictReader(file_text)\n",
    "    list_of_dicts = []\n",
    "    for row in file_rows:\n",
    "        list_of_dicts.append(row)\n",
    "    return list_of_dicts\n",
    "\n",
    "# Main script\n",
    "url = 'https://raw.githubusercontent.com/HeardLibrary/digital-scholarship/master/data/gis/wg/Metro_Nashville_Schools.csv'\n",
    "schools_data = url_csv_to_list_of_dicts(url)\n",
    "\n",
    "# use the dictionary to look up a school ID\n",
    "school_name = input(\"What's the name of the school? \")\n",
    "found = False\n",
    "for school in schools_data:\n",
    "    if school_name.lower() in school['School Name'].lower():\n",
    "        print('The ID number for', school['School Name'], 'is: ' + school['School ID'])\n",
    "        found = True\n",
    "if not found:\n",
    "    print(\"I couldn't find that school.\")\n"
   ]
  },
  {
   "cell_type": "code",
   "execution_count": null,
   "metadata": {},
   "outputs": [],
   "source": []
  }
 ],
 "metadata": {
  "kernelspec": {
   "display_name": "Python 3",
   "language": "python",
   "name": "python3"
  },
  "language_info": {
   "codemirror_mode": {
    "name": "ipython",
    "version": 3
   },
   "file_extension": ".py",
   "mimetype": "text/x-python",
   "name": "python",
   "nbconvert_exporter": "python",
   "pygments_lexer": "ipython3",
   "version": "3.7.1"
  }
 },
 "nbformat": 4,
 "nbformat_minor": 2
}
