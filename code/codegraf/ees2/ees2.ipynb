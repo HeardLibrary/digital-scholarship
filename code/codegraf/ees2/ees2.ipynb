{
  "cells": [
    {
      "cell_type": "markdown",
      "metadata": {
        "id": "wKwLGL5HvPUq"
      },
      "source": [
        "# Importing from the Standard Library\n",
        "\n",
        "## math module\n",
        "\n",
        "The documentation for the `math` module is [here](https://docs.python.org/3/library/math.html)\n",
        "\n",
        "Importing a single function from a module"
      ]
    },
    {
      "cell_type": "code",
      "execution_count": null,
      "metadata": {
        "id": "CKebisMfvPUr"
      },
      "outputs": [],
      "source": [
        "from math import sqrt"
      ]
    },
    {
      "cell_type": "code",
      "execution_count": null,
      "metadata": {
        "id": "eCZSK6bBvPUv"
      },
      "outputs": [],
      "source": [
        "answer = sqrt(2)\n",
        "print(answer)"
      ]
    },
    {
      "cell_type": "markdown",
      "metadata": {
        "id": "cuqz5W_OvPUx"
      },
      "source": [
        "Importing the entire module"
      ]
    },
    {
      "cell_type": "code",
      "execution_count": null,
      "metadata": {
        "id": "fE3tqZjovPUy"
      },
      "outputs": [],
      "source": [
        "import math"
      ]
    },
    {
      "cell_type": "code",
      "execution_count": null,
      "metadata": {
        "id": "ZvgGCPVSvPU1"
      },
      "outputs": [],
      "source": [
        "pi = math.pi # modules can include constants (unchanging variable values)\n",
        "print(pi)\n",
        "answer = math.cos(pi)\n",
        "print(answer)"
      ]
    },
    {
      "cell_type": "markdown",
      "metadata": {
        "id": "hMyPvOlXvPU3"
      },
      "source": [
        "Abbreviating an imported module"
      ]
    },
    {
      "cell_type": "code",
      "execution_count": null,
      "metadata": {
        "id": "TEpFJhF6vPU3"
      },
      "outputs": [],
      "source": [
        "import math as m"
      ]
    },
    {
      "cell_type": "code",
      "execution_count": null,
      "metadata": {
        "id": "R0HPDYwovPU6"
      },
      "outputs": [],
      "source": [
        "answer = m.log10(1000)\n",
        "print(answer)"
      ]
    },
    {
      "cell_type": "code",
      "execution_count": null,
      "metadata": {
        "id": "3WBUx6UgvPU8"
      },
      "outputs": [],
      "source": [
        "# The same function can be referenced multiple ways\n",
        "# depending on how it was previously imported\n",
        "print(sqrt(2))\n",
        "print(math.sqrt(2))\n",
        "print(m.sqrt(2))"
      ]
    },
    {
      "cell_type": "markdown",
      "metadata": {},
      "source": [
        "## Practice\n",
        "\n",
        "The `math` module includes the `radians()` function that will convert from degrees to radians. Import the radians function from the `math` module, then use it to convert 180 degrees to radians. Print the answer."
      ]
    },
    {
      "cell_type": "code",
      "execution_count": null,
      "metadata": {},
      "outputs": [],
      "source": []
    },
    {
      "cell_type": "markdown",
      "metadata": {
        "id": "aIAdOBK_vPU-"
      },
      "source": [
        "## time module\n",
        "\n",
        "[documentation](https://docs.python.org/3/library/time.html)"
      ]
    },
    {
      "cell_type": "code",
      "execution_count": null,
      "metadata": {
        "id": "NNiPWCDnvPU_"
      },
      "outputs": [],
      "source": [
        "# Import the time module\n",
        "import time"
      ]
    },
    {
      "cell_type": "code",
      "execution_count": null,
      "metadata": {
        "id": "XqhYdM2HvPVB"
      },
      "outputs": [],
      "source": [
        "# Print current local time as a formatted string\n",
        "# \"Local time\" may be ambiguous if running in the cloud!\n",
        "print(time.strftime('%H:%M:%S'))\n",
        "print(\"I'm going to go to sleep for 3 seconds!\")\n",
        "# Suspend execution for 3 seconds\n",
        "time.sleep(3)\n",
        "print(\"I'm awake!\")\n",
        "print(time.strftime('%H:%M:%S'))"
      ]
    },
    {
      "cell_type": "markdown",
      "metadata": {},
      "source": [
        "## Practice\n",
        "\n",
        "The `time()` function from the `time` module gives the number of seconds since the start of the day January 1, 1970. Import the `time` module as `t`, then print the number of seconds since January 1, 1970."
      ]
    },
    {
      "cell_type": "code",
      "execution_count": null,
      "metadata": {},
      "outputs": [],
      "source": []
    },
    {
      "cell_type": "markdown",
      "metadata": {
        "id": "RXItMngAD-YK"
      },
      "source": [
        "## requests module\n",
        "\n",
        "[documentation](https://docs.python-requests.org/en/latest/)\n",
        "\n",
        "To determine whether you need to install the `requests` module, run the code in the following cell. If you get an error, you need to install the module using the code in the cell after that."
      ]
    },
    {
      "cell_type": "code",
      "execution_count": null,
      "metadata": {},
      "outputs": [],
      "source": [
        "import requests"
      ]
    },
    {
      "cell_type": "code",
      "execution_count": null,
      "metadata": {},
      "outputs": [],
      "source": [
        "# Only run the code in this cell if you get an error message when running the previous cell.\n",
        "# If the command doesn't work, you may need to change it from `pip` to `pip3`, depending\n",
        "# on your Python installation and computer's operating system.\n",
        "\n",
        "%pip install requests\n",
        "\n",
        "# Once you have successfully installed the requests module, run the code cell above\n",
        "# again to see if you can successfully load the requests module."
      ]
    },
    {
      "cell_type": "code",
      "execution_count": null,
      "metadata": {
        "id": "087cY1fTEWVL"
      },
      "outputs": [],
      "source": [
        "import requests\n",
        "url = 'https://raw.githubusercontent.com/Veraticus/cryptolalia/master/test/fixtures/Declaration%20of%20Independence.txt'\n",
        "reply = requests.get(url)\n",
        "print(type(reply))"
      ]
    },
    {
      "cell_type": "code",
      "execution_count": null,
      "metadata": {
        "id": "QzdThYLyEcDt"
      },
      "outputs": [],
      "source": [
        "print(reply.text)\n",
        "print()\n",
        "print(reply.status_code) # 200 = OK, 404 = not found"
      ]
    },
    {
      "cell_type": "markdown",
      "metadata": {
        "id": "y4PnphuLvPVL"
      },
      "source": [
        "# Methods\n",
        "\n",
        "## String methods\n",
        "\n",
        "[documentation](https://docs.python.org/3/library/string.html)\n",
        "\n",
        "These methods operate on the built-in string class `str`.\n",
        "\n",
        "`.upper()`, `.lower()`, and `.title()` methods have no arguments. They return a string."
      ]
    },
    {
      "cell_type": "code",
      "execution_count": null,
      "metadata": {
        "id": "2iYJW7TRvPVL"
      },
      "outputs": [],
      "source": [
        "my_message = 'Do not yell at me, Steve!'\n",
        "shouting = my_message.upper()\n",
        "print(shouting)\n",
        "ee_cummings = my_message.lower()\n",
        "print(ee_cummings)\n",
        "my_book = my_message.title()\n",
        "print(my_book)"
      ]
    },
    {
      "cell_type": "markdown",
      "metadata": {},
      "source": [
        "## Practice\n",
        "\n",
        "Digital Object Identifiers (DOIs) are supposed to be expressed in all lower case. But they are often mistakenly given with some or all capital letters. Assign the incorrectly capitalized DOI string `10.2307/J.Ctvpj7Dsk.12` to a variable, convert it to all lower case, then concatenate the `doi_domain` given in the starter code below to the lower case string and print the result. The result should show up as a clickable link in the notebook environment."
      ]
    },
    {
      "cell_type": "code",
      "execution_count": null,
      "metadata": {},
      "outputs": [],
      "source": [
        "doi_domain = 'https://doi.org/'"
      ]
    },
    {
      "cell_type": "markdown",
      "metadata": {
        "id": "grQoNqVoI_um"
      },
      "source": [
        "# Lists\n",
        "\n",
        "## Instantiating a list"
      ]
    },
    {
      "cell_type": "code",
      "execution_count": null,
      "metadata": {
        "id": "8C21JqNvI_un"
      },
      "outputs": [],
      "source": [
        "# Create an instance of a list\n",
        "basket = ['apple', 'orange', 'banana', 'lemon', 'lime']\n",
        "\n",
        "print(basket)\n",
        "print(len(basket))\n",
        "print(type(basket))\n",
        "print()\n",
        "print(basket[1])  # remember that Python uses zero-based indices\n",
        "print(type(basket[1]))"
      ]
    },
    {
      "cell_type": "code",
      "execution_count": null,
      "metadata": {
        "id": "ptAgcr3VI_uq"
      },
      "outputs": [],
      "source": [
        "# Create a list of numbers\n",
        "favorite_numbers = [42, 3.14159, 2.71828, -13]\n",
        "\n",
        "print(favorite_numbers)\n",
        "print(len(favorite_numbers))\n",
        "print(type(favorite_numbers))\n",
        "print()\n",
        "\n",
        "print(favorite_numbers[0])\n",
        "print(type(favorite_numbers[0]))\n",
        "print()\n",
        "\n",
        "print(favorite_numbers[1])\n",
        "print(type(favorite_numbers[1]))"
      ]
    },
    {
      "cell_type": "markdown",
      "metadata": {},
      "source": [
        "## Practice\n",
        "\n",
        "Create a list of the four cardinal directions (`north`, `south`, etc.). Print the whole list, then print the second item on the list."
      ]
    },
    {
      "cell_type": "code",
      "execution_count": null,
      "metadata": {},
      "outputs": [],
      "source": []
    },
    {
      "cell_type": "markdown",
      "metadata": {
        "id": "NeXFcalNI_ut"
      },
      "source": [
        "## Output of functions or methods\n"
      ]
    },
    {
      "cell_type": "markdown",
      "metadata": {
        "id": "ochhnpoBI_uw"
      },
      "source": [
        "`sample()` function from random module\n",
        "\n",
        "[`random` module documentation](https://docs.python.org/3.3/library/random.html)"
      ]
    },
    {
      "cell_type": "code",
      "execution_count": null,
      "metadata": {
        "id": "cBi8CxIvI_uw"
      },
      "outputs": [],
      "source": [
        "import random\n",
        "\n",
        "population = int(input('How many items in hat? '))\n",
        "n = int(input('How many items to draw from hat? '))\n",
        "# sample without replacement\n",
        "pull_from_hat = random.sample(range(population), n) # first argument is a range object, second is number of samples\n",
        "print(pull_from_hat)"
      ]
    },
    {
      "cell_type": "markdown",
      "metadata": {
        "id": "dtoEFtdsI_uz"
      },
      "source": [
        "`.split()` string method"
      ]
    },
    {
      "cell_type": "code",
      "execution_count": null,
      "metadata": {
        "id": "xzemBOZsI_uz"
      },
      "outputs": [],
      "source": [
        "my_sentence = 'It was a dark and stormy night.'\n",
        "words_list = my_sentence.split(' ')\n",
        "print(words_list)"
      ]
    },
    {
      "cell_type": "markdown",
      "metadata": {
        "id": "4KAB1KcuFWST"
      },
      "source": [
        "Using Declaration of Independence data from the web:"
      ]
    },
    {
      "cell_type": "code",
      "execution_count": null,
      "metadata": {
        "id": "ikaT9t8NFboQ"
      },
      "outputs": [],
      "source": [
        "path = 'https://raw.githubusercontent.com/Veraticus/cryptolalia/master/test/fixtures/Declaration%20of%20Independence.txt'\n",
        "response = requests.get(path)\n",
        "file_text = response.text\n",
        "lower_case = file_text.lower() # Turn all of the text into lower case\n",
        "lower_case.split('\\n') # Split by newlines to get each line as a list item."
      ]
    },
    {
      "cell_type": "markdown",
      "metadata": {},
      "source": [
        "## Practice\n",
        "\n",
        "Split the phone number by dashes, then print the area code."
      ]
    },
    {
      "cell_type": "code",
      "execution_count": null,
      "metadata": {},
      "outputs": [],
      "source": [
        "phone_number = '615-343-1234'"
      ]
    },
    {
      "cell_type": "markdown",
      "metadata": {
        "id": "B0JZ-WnSI_u2"
      },
      "source": [
        "## Slicing lists"
      ]
    },
    {
      "cell_type": "code",
      "execution_count": null,
      "metadata": {
        "id": "tW4wxoQuI_u2"
      },
      "outputs": [],
      "source": [
        "basket = ['apple', 'orange', 'banana', 'lemon', 'lime']\n",
        "\n",
        "a_slice = basket[1:4]\n",
        "\n",
        "print(a_slice)"
      ]
    },
    {
      "cell_type": "code",
      "execution_count": null,
      "metadata": {
        "id": "6Fw73a9uI_u5"
      },
      "outputs": [],
      "source": [
        "# Slicing from the beginning\n",
        "print(basket[:4])"
      ]
    },
    {
      "cell_type": "code",
      "execution_count": null,
      "metadata": {
        "id": "4fAoaMRhI_u_"
      },
      "outputs": [],
      "source": [
        "# Slicing to the end\n",
        "print(basket[2:])"
      ]
    },
    {
      "cell_type": "code",
      "execution_count": null,
      "metadata": {
        "id": "AqEy_mE3I_vB"
      },
      "outputs": [],
      "source": [
        "# Slice relative to the end\n",
        "print(basket[-2:])"
      ]
    },
    {
      "cell_type": "code",
      "execution_count": null,
      "metadata": {
        "id": "DSuhHSLJI_vD"
      },
      "outputs": [],
      "source": [
        "# What is the difference here:\n",
        "print(basket[0])\n",
        "print(basket[0:1])\n",
        "# Check the types"
      ]
    },
    {
      "cell_type": "code",
      "execution_count": null,
      "metadata": {
        "id": "jVNGSeg1I_vG"
      },
      "outputs": [],
      "source": [
        "# Slicing a string\n",
        "a_word = 'Mississippi'\n",
        "word_piece = a_word[1:4]\n",
        "print(word_piece)"
      ]
    },
    {
      "cell_type": "markdown",
      "metadata": {},
      "source": [
        "## Practice\n",
        "\n",
        "Slice the weekdays (non-weekend days) from the list and print the new list."
      ]
    },
    {
      "cell_type": "code",
      "execution_count": null,
      "metadata": {},
      "outputs": [],
      "source": [
        "day_list = ['Sunday', 'Monday', 'Tuesday', 'Wednesday', 'Thursday', 'Friday', 'Saturday']"
      ]
    },
    {
      "cell_type": "markdown",
      "metadata": {
        "id": "WIcj_NLFI_vJ"
      },
      "source": [
        "## Things to do with a list\n",
        "\n"
      ]
    },
    {
      "cell_type": "code",
      "execution_count": null,
      "metadata": {
        "id": "ZegvkKn1I_vJ"
      },
      "outputs": [],
      "source": [
        "import random as r\n",
        "\n",
        "# Create some lists to play with\n",
        "cards = ['Ac', '2c', 'Jc', 'Qc', 'Kc', 'Ah', '2h', '3h']\n",
        "day_list = ['Sunday', 'Monday', 'Tuesday', 'Wednesday', 'Thursday', 'Friday', 'Saturday']"
      ]
    },
    {
      "cell_type": "markdown",
      "metadata": {
        "id": "Gg3dTvKdI_vL"
      },
      "source": [
        "**Randomize** a list. Use the `shuffle()` function from the `random` module.\n",
        "\n",
        "Pass in the list to be randomized as the argument.\n",
        "\n",
        "There is no return value."
      ]
    },
    {
      "cell_type": "code",
      "execution_count": null,
      "metadata": {
        "id": "lgFcMnYWI_vM"
      },
      "outputs": [],
      "source": [
        "# Shuffle acts on the list object. It does not return a list.\n",
        "r.shuffle(cards)\n",
        "print(cards)"
      ]
    },
    {
      "cell_type": "markdown",
      "metadata": {
        "id": "QXRDRY7sI_vO"
      },
      "source": [
        "**Sort** a list. Use the `.sort()` list method.\n",
        "\n",
        "No argument is required.\n",
        "\n",
        "There is no return value"
      ]
    },
    {
      "cell_type": "code",
      "execution_count": null,
      "metadata": {
        "id": "fbzH5wr_I_vO"
      },
      "outputs": [],
      "source": [
        "# Sort acts on the list item. It does not return a list.\n",
        "day_list.sort()\n",
        "print(day_list)"
      ]
    },
    {
      "cell_type": "markdown",
      "metadata": {
        "id": "D_TFu0QcFsb6"
      },
      "source": [
        "Sort the words in the Declaration of Independence. (Rerun the earlier cell if the value of `lower_case` hasn't yet been established.)"
      ]
    },
    {
      "cell_type": "code",
      "execution_count": null,
      "metadata": {
        "id": "hdVewZERFx8a"
      },
      "outputs": [],
      "source": [
        "sorted_words = lower_case.split(' ') # Split by spaces to get each word as a list item.\n",
        "print(sorted_words)\n",
        "sorted_words.sort()\n",
        "print(sorted_words)"
      ]
    },
    {
      "cell_type": "markdown",
      "metadata": {
        "id": "t6AmVo4oI_vQ"
      },
      "source": [
        "Pick a **random item** from a list. Use the `choice()` function from the `random` module.\n",
        "\n",
        "The list to pick from is passed in as an argument.\n",
        "\n",
        "The return value is the selected list item."
      ]
    },
    {
      "cell_type": "code",
      "execution_count": null,
      "metadata": {
        "id": "0QMDUbg_I_vQ"
      },
      "outputs": [],
      "source": [
        "# Choice returns a single item from a list\n",
        "print(day_list)\n",
        "picked_day = r.choice(day_list)\n",
        "print(picked_day)"
      ]
    },
    {
      "cell_type": "markdown",
      "metadata": {},
      "source": [
        "## Practice\n",
        "\n",
        "Randomize the numbers from 0 to 10 and print the resulting list. Then sort them back into numeric order and print the list."
      ]
    },
    {
      "cell_type": "code",
      "execution_count": null,
      "metadata": {},
      "outputs": [],
      "source": [
        "import random as r\n",
        "numbers = [0, 1, 2, 3, 4, 5, 6, 7, 8, 9, 10]"
      ]
    },
    {
      "cell_type": "markdown",
      "metadata": {
        "id": "ROUqUNe1I_vS"
      },
      "source": [
        "## Editing lists\n",
        "\n",
        "**Note:** the order in which you run the cells makes a difference."
      ]
    },
    {
      "cell_type": "code",
      "execution_count": null,
      "metadata": {
        "id": "hnkFHwxOI_vT"
      },
      "outputs": [],
      "source": [
        "basket = ['apple', 'orange', 'banana', 'lemon', 'lime']\n",
        "print(basket)"
      ]
    },
    {
      "cell_type": "code",
      "execution_count": null,
      "metadata": {
        "id": "aiOHmf4_I_vV"
      },
      "outputs": [],
      "source": [
        "basket[1] = 'tangerine'\n",
        "print(basket)"
      ]
    },
    {
      "cell_type": "code",
      "execution_count": null,
      "metadata": {
        "id": "wLKK56s3I_vX"
      },
      "outputs": [],
      "source": [
        "basket.remove('banana')\n",
        "print(basket)"
      ]
    },
    {
      "cell_type": "code",
      "execution_count": null,
      "metadata": {
        "id": "VRsCWuFUI_vZ"
      },
      "outputs": [],
      "source": [
        "basket.append('durian')\n",
        "print(basket)"
      ]
    },
    {
      "cell_type": "code",
      "execution_count": null,
      "metadata": {
        "id": "RBKJSWFlI_vb"
      },
      "outputs": [],
      "source": [
        "del basket[0]\n",
        "print(basket)"
      ]
    },
    {
      "cell_type": "code",
      "execution_count": null,
      "metadata": {
        "id": "wzm_AVAvI_vd"
      },
      "outputs": [],
      "source": [
        "lunch_bag = ['sandwich', 'cookie']\n",
        "lunch = lunch_bag + basket\n",
        "print(lunch)"
      ]
    },
    {
      "cell_type": "markdown",
      "metadata": {},
      "source": [
        "## Practice\n",
        "\n",
        "Add `hamster` to the end of the list. Then remove `cat` from the list."
      ]
    },
    {
      "cell_type": "code",
      "execution_count": null,
      "metadata": {},
      "outputs": [],
      "source": [
        "my_pets = ['snake', 'cat', 'dog', 'fish']"
      ]
    },
    {
      "cell_type": "markdown",
      "metadata": {
        "id": "UMgQ41H41WwK"
      },
      "source": [
        "# Optional content\n",
        "\n",
        "Not required for class, but goes with the optional videos"
      ]
    },
    {
      "cell_type": "markdown",
      "metadata": {
        "id": "EujUXIgavPVD"
      },
      "source": [
        "## os module\n",
        "\n",
        "[documetation](https://docs.python.org/3/library/os.html)"
      ]
    },
    {
      "cell_type": "code",
      "execution_count": null,
      "metadata": {
        "id": "aBciKXXtvPVD"
      },
      "outputs": [],
      "source": [
        "import os"
      ]
    },
    {
      "cell_type": "code",
      "execution_count": null,
      "metadata": {
        "id": "loulrm52vPVG"
      },
      "outputs": [],
      "source": [
        "working_directory = os.getcwd()\n",
        "print(working_directory)\n",
        "print(os.listdir()) # no argument gets working directory\n",
        "print(os.listdir(working_directory + '/Documents'))"
      ]
    },
    {
      "cell_type": "markdown",
      "metadata": {
        "id": "QaSIly4ZvPVN"
      },
      "source": [
        "## datetime module\n",
        "\n",
        "The `datetime` module is part of the Standard Library.\n",
        "\n",
        "[documentation](https://docs.python.org/3/library/datetime.html)\n",
        "\n",
        "We introduce two new kinds of objects: date and datetime."
      ]
    },
    {
      "cell_type": "code",
      "execution_count": null,
      "metadata": {
        "id": "fajikpxjvPVN"
      },
      "outputs": [],
      "source": [
        "import datetime"
      ]
    },
    {
      "cell_type": "code",
      "execution_count": null,
      "metadata": {
        "id": "gz4tO6EavPVP"
      },
      "outputs": [],
      "source": [
        "# Instantiate two date objects, numeric arguments required.\n",
        "sep_11 = datetime.date(2001,9,11)\n",
        "this_day = datetime.date.today() # method sets the date value as today\n",
        "print(type(sep_11))"
      ]
    },
    {
      "cell_type": "code",
      "execution_count": null,
      "metadata": {
        "id": "UpJ-uTNYvPVR"
      },
      "outputs": [],
      "source": [
        "print(sep_11.isoformat()) # use ISO 8601 format\n",
        "print(sep_11.weekday()) # numeric value; Monday is 0\n",
        "print(sep_11.strftime('%A')) # '%A' is a string format code for the day\n",
        "print()\n",
        "print(this_day.isoformat())\n",
        "print(this_day.weekday())\n",
        "print(this_day.strftime('%A'))"
      ]
    },
    {
      "cell_type": "code",
      "execution_count": null,
      "metadata": {
        "id": "eI1w_YrIvPVU"
      },
      "outputs": [],
      "source": [
        "# Instantiate a dateTime object\n",
        "# The dateTime will be expressed as Universal Coordinated Time (UTC)\n",
        "# a.k.a. Greenwich Mean Time (GMT)\n",
        "right_now = datetime.datetime.utcnow()\n",
        "print(type(right_now))"
      ]
    },
    {
      "cell_type": "code",
      "execution_count": null,
      "metadata": {
        "id": "EUIys1y0vPVX"
      },
      "outputs": [],
      "source": [
        "print(right_now.isoformat())\n",
        "# See the datetime module documentation for the string format codes\n",
        "print(right_now.strftime('%B %d, %Y %I:%M %p'))"
      ]
    }
  ],
  "metadata": {
    "colab": {
      "provenance": []
    },
    "kernelspec": {
      "display_name": "Python 3",
      "language": "python",
      "name": "python3"
    },
    "language_info": {
      "codemirror_mode": {
        "name": "ipython",
        "version": 3
      },
      "file_extension": ".py",
      "mimetype": "text/x-python",
      "name": "python",
      "nbconvert_exporter": "python",
      "pygments_lexer": "ipython3",
      "version": "3.7.1"
    }
  },
  "nbformat": 4,
  "nbformat_minor": 0
}
