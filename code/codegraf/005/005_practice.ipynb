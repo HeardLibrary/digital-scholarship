{
  "cells": [
    {
      "cell_type": "markdown",
      "metadata": {
        "id": "IUYHSwatZre0"
      },
      "source": [
        "# Python Lesson 2 Practice assignment\n"
      ]
    },
    {
      "cell_type": "markdown",
      "metadata": {
        "id": "lEhFDxa-Z3i1"
      },
      "source": [
        "1. Import the value of `pi` from the math module so that you don't have to specify the module name when you want to use the value. . Write a script to calculate the circumference of a circle with a diameter of 3. If you don't remember how to calculate circumference, Google it."
      ]
    },
    {
      "cell_type": "code",
      "execution_count": null,
      "metadata": {
        "id": "zMKtKhCSZOYi"
      },
      "outputs": [],
      "source": []
    },
    {
      "cell_type": "markdown",
      "metadata": {
        "id": "skYsCZYpaPwY"
      },
      "source": [
        "2. Modify the previous script to allow the user to input their own diameter. Don't forget that the `input()` function returns strings, not numbers."
      ]
    },
    {
      "cell_type": "code",
      "execution_count": null,
      "metadata": {
        "id": "6xfGuuv_aStb"
      },
      "outputs": [],
      "source": []
    },
    {
      "cell_type": "markdown",
      "metadata": {
        "id": "BHKDQqoUaZSt"
      },
      "source": [
        "3. When describing angles, Python measures angles in radians, where 180 degrees = pi radian. That is, divide the angle in degrees by 180, then multiply by pi. Import the `cos()` function from the math module so that you don't have to specify the module name when you want to use the function. Since most people aren't familiar with radians, write a script that will allow a user to input an angle in degrees, convert the degrees to radians, then calculate the cosine of the input angle. Test your script with 45 degrees, whose cosine is 0.70710678118 ."
      ]
    },
    {
      "cell_type": "code",
      "execution_count": null,
      "metadata": {
        "id": "cm7nfKWqazG2"
      },
      "outputs": [],
      "source": []
    },
    {
      "cell_type": "markdown",
      "metadata": {
        "id": "h33-p1sqbYCC"
      },
      "source": [
        "4. Rewrite the previous script, but this time import the `radians()` function from the `math` module and nest it inside the `cos()` function to do the conversion."
      ]
    },
    {
      "cell_type": "code",
      "execution_count": null,
      "metadata": {
        "id": "e6LTAZUucDZQ"
      },
      "outputs": [],
      "source": []
    },
    {
      "cell_type": "markdown",
      "metadata": {
        "id": "bMtFUDDEcEFF"
      },
      "source": [
        "5. **Case insensitivity**. It is often useful to check a user's input without concern for capitalization. The easiest way to do that is to convert what the user entered into all lower case, then check for equivalence with an all lower-case string. Write a script that lets the user input a string, then print the boolean result for comparing whether their string was equal to the string `sister` with any kind of capitalization."
      ]
    },
    {
      "cell_type": "code",
      "execution_count": null,
      "metadata": {
        "id": "dHUBsIZScVqj"
      },
      "outputs": [],
      "source": []
    },
    {
      "cell_type": "markdown",
      "metadata": {
        "id": "nmtkAciicXlA"
      },
      "source": [
        "6. The `time()` funtion (no arguments) from the `time` module gives the number of seconds since the midnight before January 1, 1970. Determine how long it takes the user to enter something (or just press the `Enter`/`return` key) by finding the difference in time from before the input statement and after it. You can turn this into a reaction time tester by having one person click the run button and another person press the `Enter` key as soon as they see or hear the first person click the run icon. You can also see how long it takes Python to execute a code block by putting your two `time` assignment statements at the beginning and end of a code block."
      ]
    },
    {
      "cell_type": "code",
      "execution_count": null,
      "metadata": {
        "id": "T_AF2trydJat"
      },
      "outputs": [],
      "source": []
    }
  ],
  "metadata": {
    "colab": {
      "provenance": []
    },
    "kernelspec": {
      "display_name": "Python 3",
      "name": "python3"
    },
    "language_info": {
      "name": "python"
    }
  },
  "nbformat": 4,
  "nbformat_minor": 0
}
