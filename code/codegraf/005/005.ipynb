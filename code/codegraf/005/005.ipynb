{
 "cells": [
  {
   "cell_type": "markdown",
   "metadata": {},
   "source": [
    "# Importing from the Standard Library\n",
    "\n",
    "## math module\n",
    "\n",
    "The documentation for the `math` module is [here](https://docs.python.org/3/library/math.html)\n",
    "\n",
    "Importing a single function from a module"
   ]
  },
  {
   "cell_type": "code",
   "execution_count": null,
   "metadata": {},
   "outputs": [],
   "source": [
    "from math import sqrt"
   ]
  },
  {
   "cell_type": "code",
   "execution_count": null,
   "metadata": {},
   "outputs": [],
   "source": [
    "answer = sqrt(2)\n",
    "print(answer)"
   ]
  },
  {
   "cell_type": "markdown",
   "metadata": {},
   "source": [
    "Importing the entire module"
   ]
  },
  {
   "cell_type": "code",
   "execution_count": null,
   "metadata": {},
   "outputs": [],
   "source": [
    "import math"
   ]
  },
  {
   "cell_type": "code",
   "execution_count": null,
   "metadata": {},
   "outputs": [],
   "source": [
    "pi = math.pi # modules can include constants (unchanging variable values)\n",
    "print(pi)\n",
    "answer = math.cos(pi)\n",
    "print(answer)"
   ]
  },
  {
   "cell_type": "markdown",
   "metadata": {},
   "source": [
    "Abbreviating an imported module"
   ]
  },
  {
   "cell_type": "code",
   "execution_count": null,
   "metadata": {},
   "outputs": [],
   "source": [
    "import math as m"
   ]
  },
  {
   "cell_type": "code",
   "execution_count": null,
   "metadata": {},
   "outputs": [],
   "source": [
    "answer = m.log10(1000)\n",
    "print(answer)"
   ]
  },
  {
   "cell_type": "code",
   "execution_count": null,
   "metadata": {},
   "outputs": [],
   "source": [
    "# The same function can be referenced multiple ways\n",
    "# depending on how it was previously imported\n",
    "print(sqrt(2))\n",
    "print(math.sqrt(2))\n",
    "print(m.sqrt(2))"
   ]
  },
  {
   "cell_type": "markdown",
   "metadata": {},
   "source": [
    "## time module\n",
    "\n",
    "[documentation](https://docs.python.org/3/library/time.html)"
   ]
  },
  {
   "cell_type": "code",
   "execution_count": null,
   "metadata": {},
   "outputs": [],
   "source": [
    "# Import the time module\n",
    "import time"
   ]
  },
  {
   "cell_type": "code",
   "execution_count": null,
   "metadata": {},
   "outputs": [],
   "source": [
    "# Print current local time as a formatted string\n",
    "# \"Local time\" may be ambiguous if running in the cloud!\n",
    "print(time.strftime('%H:%M:%S'))\n",
    "print(\"I'm going to go to sleep for 3 seconds!\")\n",
    "# Suspend execution for 3 seconds\n",
    "time.sleep(3)\n",
    "print(\"I'm awake!\")\n",
    "print(time.strftime('%H:%M:%S'))"
   ]
  },
  {
   "cell_type": "markdown",
   "metadata": {},
   "source": [
    "## os module\n",
    "\n",
    "[documetation](https://docs.python.org/3/library/os.html)"
   ]
  },
  {
   "cell_type": "code",
   "execution_count": null,
   "metadata": {},
   "outputs": [],
   "source": [
    "import os"
   ]
  },
  {
   "cell_type": "code",
   "execution_count": null,
   "metadata": {},
   "outputs": [],
   "source": [
    "working_directory = os.getcwd()\n",
    "print(working_directory)\n",
    "print(os.listdir()) # no argument gets working directory\n",
    "print(os.listdir(working_directory + '/Documents'))"
   ]
  },
  {
   "cell_type": "markdown",
   "metadata": {},
   "source": [
    "# Methods\n",
    "\n",
    "## String methods\n",
    "\n",
    "[documentation](https://docs.python.org/3/library/string.html)\n",
    "\n",
    "These methods operate on the built-in string class `str`.\n",
    "\n",
    "`.upper()`, `.lower()`, and `.title()` methods have no arguments. They return a string."
   ]
  },
  {
   "cell_type": "code",
   "execution_count": null,
   "metadata": {},
   "outputs": [],
   "source": [
    "my_message = 'Do not yell at me, Steve!'\n",
    "shouting = my_message.upper()\n",
    "print(shouting)\n",
    "ee_cummings = my_message.lower()\n",
    "print(ee_cummings)\n",
    "my_book = my_message.title()\n",
    "print(my_book)"
   ]
  },
  {
   "cell_type": "markdown",
   "metadata": {},
   "source": [
    "## datetime module\n",
    "\n",
    "The `datetime` module is part of the Standard Library.\n",
    "\n",
    "[documentation](https://docs.python.org/3/library/datetime.html)\n",
    "\n",
    "We introduce two new kinds of objects: date and datetime."
   ]
  },
  {
   "cell_type": "code",
   "execution_count": null,
   "metadata": {},
   "outputs": [],
   "source": [
    "import datetime"
   ]
  },
  {
   "cell_type": "code",
   "execution_count": null,
   "metadata": {},
   "outputs": [],
   "source": [
    "# Instantiate two date objects, numeric arguments required.\n",
    "sep_11 = datetime.date(2001,9,11)\n",
    "this_day = datetime.date.today() # method sets the date value as today\n",
    "print(type(sep_11))"
   ]
  },
  {
   "cell_type": "code",
   "execution_count": null,
   "metadata": {},
   "outputs": [],
   "source": [
    "print(sep_11.isoformat()) # use ISO 8601 format\n",
    "print(sep_11.weekday()) # numeric value; Monday is 0\n",
    "print(sep_11.strftime('%A')) # '%A' is a string format code for the day\n",
    "print()\n",
    "print(this_day.isoformat())\n",
    "print(this_day.weekday())\n",
    "print(this_day.strftime('%A'))"
   ]
  },
  {
   "cell_type": "code",
   "execution_count": null,
   "metadata": {},
   "outputs": [],
   "source": [
    "# Instantiate a dateTime object\n",
    "# The dateTime will be expressed as Universal Coordinated Time (UTC)\n",
    "# a.k.a. Greenwich Mean Time (GMT)\n",
    "right_now = datetime.datetime.utcnow()\n",
    "print(type(right_now))"
   ]
  },
  {
   "cell_type": "code",
   "execution_count": null,
   "metadata": {},
   "outputs": [],
   "source": [
    "print(right_now.isoformat())\n",
    "# See the datetime module documentation for the string format codes\n",
    "print(right_now.strftime('%B %d, %Y %I:%M %p'))"
   ]
  },
  {
   "cell_type": "markdown",
   "metadata": {},
   "source": [
    "# Practice"
   ]
  },
  {
   "cell_type": "code",
   "execution_count": null,
   "metadata": {},
   "outputs": [],
   "source": [
    "# Import the time.sleep() function to use without a prefix\n",
    "# Make the script sleep for 1 second\n"
   ]
  },
  {
   "cell_type": "code",
   "execution_count": null,
   "metadata": {},
   "outputs": [],
   "source": [
    "# Import the datetime module abbreviated as 'dt'\n",
    "# Instantiate now as a date and dateTime using the abbreviation.\n"
   ]
  }
 ],
 "metadata": {
  "kernelspec": {
   "display_name": "Python 3",
   "language": "python",
   "name": "python3"
  },
  "language_info": {
   "codemirror_mode": {
    "name": "ipython",
    "version": 3
   },
   "file_extension": ".py",
   "mimetype": "text/x-python",
   "name": "python",
   "nbconvert_exporter": "python",
   "pygments_lexer": "ipython3",
   "version": "3.7.1"
  }
 },
 "nbformat": 4,
 "nbformat_minor": 2
}
