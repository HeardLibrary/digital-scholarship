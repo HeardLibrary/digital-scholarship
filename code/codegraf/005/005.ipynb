{
  "nbformat": 4,
  "nbformat_minor": 0,
  "metadata": {
    "kernelspec": {
      "display_name": "Python 3",
      "language": "python",
      "name": "python3"
    },
    "language_info": {
      "codemirror_mode": {
        "name": "ipython",
        "version": 3
      },
      "file_extension": ".py",
      "mimetype": "text/x-python",
      "name": "python",
      "nbconvert_exporter": "python",
      "pygments_lexer": "ipython3",
      "version": "3.7.1"
    },
    "colab": {
      "provenance": []
    }
  },
  "cells": [
    {
      "cell_type": "markdown",
      "metadata": {
        "id": "wKwLGL5HvPUq"
      },
      "source": [
        "# Importing from the Standard Library\n",
        "\n",
        "## math module\n",
        "\n",
        "The documentation for the `math` module is [here](https://docs.python.org/3/library/math.html)\n",
        "\n",
        "Importing a single function from a module"
      ]
    },
    {
      "cell_type": "code",
      "metadata": {
        "id": "CKebisMfvPUr"
      },
      "source": [
        "from math import sqrt"
      ],
      "execution_count": null,
      "outputs": []
    },
    {
      "cell_type": "code",
      "metadata": {
        "id": "eCZSK6bBvPUv"
      },
      "source": [
        "answer = sqrt(2)\n",
        "print(answer)"
      ],
      "execution_count": null,
      "outputs": []
    },
    {
      "cell_type": "markdown",
      "metadata": {
        "id": "cuqz5W_OvPUx"
      },
      "source": [
        "Importing the entire module"
      ]
    },
    {
      "cell_type": "code",
      "metadata": {
        "id": "fE3tqZjovPUy"
      },
      "source": [
        "import math"
      ],
      "execution_count": null,
      "outputs": []
    },
    {
      "cell_type": "code",
      "metadata": {
        "id": "ZvgGCPVSvPU1"
      },
      "source": [
        "pi = math.pi # modules can include constants (unchanging variable values)\n",
        "print(pi)\n",
        "answer = math.cos(pi)\n",
        "print(answer)"
      ],
      "execution_count": null,
      "outputs": []
    },
    {
      "cell_type": "markdown",
      "metadata": {
        "id": "hMyPvOlXvPU3"
      },
      "source": [
        "Abbreviating an imported module"
      ]
    },
    {
      "cell_type": "code",
      "metadata": {
        "id": "TEpFJhF6vPU3"
      },
      "source": [
        "import math as m"
      ],
      "execution_count": null,
      "outputs": []
    },
    {
      "cell_type": "code",
      "metadata": {
        "id": "R0HPDYwovPU6"
      },
      "source": [
        "answer = m.log10(1000)\n",
        "print(answer)"
      ],
      "execution_count": null,
      "outputs": []
    },
    {
      "cell_type": "code",
      "metadata": {
        "id": "3WBUx6UgvPU8"
      },
      "source": [
        "# The same function can be referenced multiple ways\n",
        "# depending on how it was previously imported\n",
        "print(sqrt(2))\n",
        "print(math.sqrt(2))\n",
        "print(m.sqrt(2))"
      ],
      "execution_count": null,
      "outputs": []
    },
    {
      "cell_type": "markdown",
      "source": [
        "## Practice\n",
        "\n",
        "The `math` module includes the `radians()` function that will convert from degrees to radians. Import the radians function from the `math` module, then use it to convert 180 degrees to radians. Print the answer."
      ],
      "metadata": {
        "id": "JC9tmfu15czX"
      }
    },
    {
      "cell_type": "code",
      "source": [],
      "metadata": {
        "id": "yUB4ZSlRDZZc"
      },
      "execution_count": null,
      "outputs": []
    },
    {
      "cell_type": "markdown",
      "metadata": {
        "id": "aIAdOBK_vPU-"
      },
      "source": [
        "## time module\n",
        "\n",
        "[documentation](https://docs.python.org/3/library/time.html)"
      ]
    },
    {
      "cell_type": "code",
      "metadata": {
        "id": "NNiPWCDnvPU_"
      },
      "source": [
        "# Import the time module\n",
        "import time"
      ],
      "execution_count": null,
      "outputs": []
    },
    {
      "cell_type": "code",
      "metadata": {
        "id": "XqhYdM2HvPVB"
      },
      "source": [
        "# Print current local time as a formatted string\n",
        "# \"Local time\" may be ambiguous if running in the cloud!\n",
        "print(time.strftime('%H:%M:%S'))\n",
        "print(\"I'm going to go to sleep for 3 seconds!\")\n",
        "# Suspend execution for 3 seconds\n",
        "time.sleep(3)\n",
        "print(\"I'm awake!\")\n",
        "print(time.strftime('%H:%M:%S'))"
      ],
      "execution_count": null,
      "outputs": []
    },
    {
      "cell_type": "markdown",
      "metadata": {
        "id": "EujUXIgavPVD"
      },
      "source": [
        "## os module\n",
        "\n",
        "[documetation](https://docs.python.org/3/library/os.html)"
      ]
    },
    {
      "cell_type": "code",
      "metadata": {
        "id": "aBciKXXtvPVD"
      },
      "source": [
        "import os"
      ],
      "execution_count": null,
      "outputs": []
    },
    {
      "cell_type": "code",
      "metadata": {
        "id": "loulrm52vPVG"
      },
      "source": [
        "working_directory = os.getcwd()\n",
        "print(working_directory)\n",
        "print(os.listdir()) # no argument gets working directory\n",
        "print(os.listdir(working_directory + '/Documents'))"
      ],
      "execution_count": null,
      "outputs": []
    },
    {
      "cell_type": "markdown",
      "source": [
        "## Practice\n",
        "\n",
        "The `time()` function from the `time` module gives the number of seconds since the start of the day January 1, 1970. Import the `time` module as `t`, then print the number of seconds since January 1, 1970. "
      ],
      "metadata": {
        "id": "j9lz5v5vDi4p"
      }
    },
    {
      "cell_type": "code",
      "source": [],
      "metadata": {
        "id": "yvPoPkuuFBoQ"
      },
      "execution_count": null,
      "outputs": []
    },
    {
      "cell_type": "markdown",
      "metadata": {
        "id": "y4PnphuLvPVL"
      },
      "source": [
        "# Methods\n",
        "\n",
        "## String methods\n",
        "\n",
        "[documentation](https://docs.python.org/3/library/string.html)\n",
        "\n",
        "These methods operate on the built-in string class `str`.\n",
        "\n",
        "`.upper()`, `.lower()`, and `.title()` methods have no arguments. They return a string."
      ]
    },
    {
      "cell_type": "code",
      "metadata": {
        "id": "2iYJW7TRvPVL"
      },
      "source": [
        "my_message = 'Do not yell at me, Steve!'\n",
        "shouting = my_message.upper()\n",
        "print(shouting)\n",
        "ee_cummings = my_message.lower()\n",
        "print(ee_cummings)\n",
        "my_book = my_message.title()\n",
        "print(my_book)"
      ],
      "execution_count": null,
      "outputs": []
    },
    {
      "cell_type": "markdown",
      "source": [
        "## Practice\n",
        "\n",
        "Digital Object Identifiers (DOIs) are supposed to be expressed in all lower case. But they are often mistakenly given with some or all capital letters. Assign the incorrectly capitalized DOI string `10.2307/J.Ctvpj7Dsk.12` to a variable, convert it to all lower case, then concatenate the `doi_domain` given in the starter code below to the lower case string and print the result. The result should show up as a clickable link in the notebook environment."
      ],
      "metadata": {
        "id": "9PTNuu4lF3dc"
      }
    },
    {
      "cell_type": "code",
      "source": [
        "\n",
        "doi_domain = 'https://doi.org/'\n"
      ],
      "metadata": {
        "id": "ePDLTpGiHF-s"
      },
      "execution_count": null,
      "outputs": []
    },
    {
      "cell_type": "markdown",
      "metadata": {
        "id": "QaSIly4ZvPVN"
      },
      "source": [
        "# Optional content\n",
        "\n",
        "## datetime module\n",
        "\n",
        "The `datetime` module is part of the Standard Library.\n",
        "\n",
        "[documentation](https://docs.python.org/3/library/datetime.html)\n",
        "\n",
        "We introduce two new kinds of objects from the `datetime` module: `date` and `datetime`."
      ]
    },
    {
      "cell_type": "code",
      "metadata": {
        "id": "fajikpxjvPVN"
      },
      "source": [
        "import datetime"
      ],
      "execution_count": null,
      "outputs": []
    },
    {
      "cell_type": "code",
      "metadata": {
        "id": "gz4tO6EavPVP"
      },
      "source": [
        "# Instantiate two date objects, numeric arguments required.\n",
        "sep_11 = datetime.date(2001,9,11)\n",
        "this_day = datetime.date.today() # method sets the date value as today\n",
        "print(type(sep_11))"
      ],
      "execution_count": null,
      "outputs": []
    },
    {
      "cell_type": "code",
      "metadata": {
        "id": "UpJ-uTNYvPVR"
      },
      "source": [
        "print(sep_11.isoformat()) # use ISO 8601 format\n",
        "print(sep_11.weekday()) # numeric value; Monday is 0\n",
        "print(sep_11.strftime('%A')) # '%A' is a string format code for the day\n",
        "print()\n",
        "print(this_day.isoformat())\n",
        "print(this_day.weekday())\n",
        "print(this_day.strftime('%A'))"
      ],
      "execution_count": null,
      "outputs": []
    },
    {
      "cell_type": "code",
      "metadata": {
        "id": "eI1w_YrIvPVU"
      },
      "source": [
        "# Instantiate a dateTime object\n",
        "# The dateTime will be expressed as Universal Coordinated Time (UTC)\n",
        "# a.k.a. Greenwich Mean Time (GMT)\n",
        "right_now = datetime.datetime.utcnow()\n",
        "print(type(right_now))"
      ],
      "execution_count": null,
      "outputs": []
    },
    {
      "cell_type": "code",
      "metadata": {
        "id": "EUIys1y0vPVX"
      },
      "source": [
        "print(right_now.isoformat())\n",
        "# See the datetime module documentation for the string format codes\n",
        "print(right_now.strftime('%B %d, %Y %I:%M %p'))"
      ],
      "execution_count": null,
      "outputs": []
    }
  ]
}