{
 "cells": [
  {
   "cell_type": "code",
   "execution_count": null,
   "metadata": {},
   "outputs": [],
   "source": [
    "import numpy as np\n",
    "import pandas as pd\n",
    "import matplotlib.pyplot as plt\n",
    "\n",
    "# For reference, see chapter 9 of Python for Data Analysis, 2nd Edition"
   ]
  },
  {
   "cell_type": "markdown",
   "metadata": {},
   "source": [
    "# Line graphs"
   ]
  },
  {
   "cell_type": "code",
   "execution_count": null,
   "metadata": {},
   "outputs": [],
   "source": [
    "url = 'https://github.com/nytimes/covid-19-data/raw/master/us.csv'\n",
    "covid = pd.read_csv(url)\n",
    "covid.tail()"
   ]
  },
  {
   "cell_type": "code",
   "execution_count": null,
   "metadata": {},
   "outputs": [],
   "source": [
    "covid.plot()\n",
    "# covid.plot(kind='line') # .plot() defaults to this specific kind of plot\n",
    "# covid.plot.line() # alternate method of specifying the kind of plot"
   ]
  },
  {
   "cell_type": "markdown",
   "metadata": {},
   "source": [
    "Fix the dates on the X axis"
   ]
  },
  {
   "cell_type": "code",
   "execution_count": null,
   "metadata": {},
   "outputs": [],
   "source": [
    "covid['date'] = pd.to_datetime(covid['date'], format = '%Y-%m-%d') # converts string to datetime object\n",
    "covid.set_index(['date'], inplace=True)\n",
    "covid.head()"
   ]
  },
  {
   "cell_type": "code",
   "execution_count": null,
   "metadata": {},
   "outputs": [],
   "source": [
    "covid.plot()"
   ]
  },
  {
   "cell_type": "markdown",
   "metadata": {},
   "source": [
    "# pyplot from matplotlib"
   ]
  },
  {
   "cell_type": "code",
   "execution_count": null,
   "metadata": {},
   "outputs": [],
   "source": [
    "first_cases = covid[:50]\n",
    "first_cases.head()"
   ]
  },
  {
   "cell_type": "markdown",
   "metadata": {},
   "source": [
    "## Controlling display with figures and subplots"
   ]
  },
  {
   "cell_type": "markdown",
   "metadata": {},
   "source": [
    "In Jupyter notebooks, plots are reset after every cell, so setup code must be included in a single cell"
   ]
  },
  {
   "cell_type": "code",
   "execution_count": null,
   "metadata": {},
   "outputs": [],
   "source": [
    "# Create a figure object\n",
    "fig = plt.figure(figsize=(10,10))\n",
    "\n",
    "# Create 2 subplots with 2 rows and 1 column\n",
    "axes1 = fig.add_subplot(2, 1, 1)\n",
    "axes2 = fig.add_subplot(2, 1, 2)\n",
    "axes1.plot(first_cases.index, first_cases.cases, color='k', linestyle='dashed', marker='o')\n",
    "axes1.set_title('cases')\n",
    "axes2.plot(first_cases.index, first_cases.deaths, color='r', linestyle='dashed', marker='x')\n",
    "axes2.set_title('deaths')"
   ]
  },
  {
   "cell_type": "markdown",
   "metadata": {},
   "source": [
    "## Plot in a single subplot"
   ]
  },
  {
   "cell_type": "markdown",
   "metadata": {},
   "source": [
    "Display as a bar graph (unstacked)"
   ]
  },
  {
   "cell_type": "code",
   "execution_count": null,
   "metadata": {},
   "outputs": [],
   "source": [
    "# Create a figure object\n",
    "fig = plt.figure(figsize=(10,10))\n",
    "\n",
    "# Create a single subplot\n",
    "ax = fig.add_subplot(1, 1, 1)\n",
    "ax.bar(first_cases.index, first_cases.cases, color='k')\n",
    "ax.bar(first_cases.index, first_cases.deaths, color='r')\n",
    "ax.set_title('start of the COVID 19 pandemic in the U.S.')"
   ]
  },
  {
   "cell_type": "markdown",
   "metadata": {},
   "source": [
    "## Creating a plot programatically\n",
    "Stacked bar graph "
   ]
  },
  {
   "cell_type": "code",
   "execution_count": null,
   "metadata": {},
   "outputs": [],
   "source": [
    "# Reload state_co2_sector if necessary\n",
    "url = 'https://github.com/HeardLibrary/digital-scholarship/raw/master/data/codegraf/co2_state_2016_sector.xlsx'\n",
    "state_co2_sector = pd.read_excel(url)\n",
    "# Extract sector data for the top few states\n",
    "number_of_states = 4\n",
    "top_state_sectors = state_co2_sector.set_index('State').drop('Total').sort_values(by='Total', ascending=False).drop(['Total'], axis='columns')[:number_of_states]\n",
    "top_state_sectors.head()"
   ]
  },
  {
   "cell_type": "code",
   "execution_count": null,
   "metadata": {
    "scrolled": true
   },
   "outputs": [],
   "source": [
    "# Based on example at https://subscription.packtpub.com/book/big_data_and_business_intelligence/9781849513265/1/ch01lvl1sec17/plotting-stacked-bar-charts\n",
    "# See also https://matplotlib.org/3.1.1/gallery/lines_bars_and_markers/bar_stacked.html\n",
    "\n",
    "# Create a figure object\n",
    "fig = plt.figure(figsize=(15,10))\n",
    "\n",
    "# Create a single subplot\n",
    "ax = fig.add_subplot(1, 1, 1)\n",
    "\n",
    "# Create a numpy array with one element for each row\n",
    "ind = np.arange(len(top_state_sectors))\n",
    "#print(ind)\n",
    "\n",
    "# Extract the row and column labels as numpy arrays from pandas series\n",
    "row_labels = top_state_sectors.index.values\n",
    "column_labels = top_state_sectors.columns.values\n",
    "\n",
    "for sector_number in range(len(top_state_sectors.columns)):\n",
    "    #print(sector_number)\n",
    "    #print(top_state_sectors.iloc[:, :sector_number])\n",
    "    sector_sums = top_state_sectors.iloc[:, :sector_number].sum(axis='columns')\n",
    "    #print(sector_sums)\n",
    "    ax.bar(ind, top_state_sectors.iloc[:, sector_number], bottom=sector_sums)\n",
    "\n",
    "# These functions operate on the most recently active subplot; we have only one in this example\n",
    "plt.xticks(ind, row_labels)\n",
    "plt.legend(column_labels)\n"
   ]
  },
  {
   "cell_type": "code",
   "execution_count": null,
   "metadata": {},
   "outputs": [],
   "source": []
  }
 ],
 "metadata": {
  "kernelspec": {
   "display_name": "Python 3",
   "language": "python",
   "name": "python3"
  },
  "language_info": {
   "codemirror_mode": {
    "name": "ipython",
    "version": 3
   },
   "file_extension": ".py",
   "mimetype": "text/x-python",
   "name": "python",
   "nbconvert_exporter": "python",
   "pygments_lexer": "ipython3",
   "version": "3.8.5"
  }
 },
 "nbformat": 4,
 "nbformat_minor": 2
}
