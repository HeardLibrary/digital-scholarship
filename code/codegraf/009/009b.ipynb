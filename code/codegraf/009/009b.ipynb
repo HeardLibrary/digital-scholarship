{
 "cells": [
  {
   "cell_type": "code",
   "execution_count": null,
   "metadata": {},
   "outputs": [],
   "source": [
    "import pandas as pd"
   ]
  },
  {
   "cell_type": "markdown",
   "metadata": {},
   "source": [
    "# Rearranging data\n",
    "\n",
    "Run the following cell to regenerate data manipulated in the previous lesson"
   ]
  },
  {
   "cell_type": "code",
   "execution_count": null,
   "metadata": {},
   "outputs": [],
   "source": [
    "url = 'https://github.com/HeardLibrary/digital-scholarship/raw/master/data/codegraf/co2_state_2016_sector.xlsx'\n",
    "state_co2_sector = pd.read_excel(url)\n",
    "state_co2_sector.set_index('State', inplace=True)\n",
    "state_co2_sector.drop('Total', inplace=True)\n",
    "\n",
    "url = 'https://github.com/HeardLibrary/digital-scholarship/raw/master/data/codegraf/co2_state_2016_fuel.xlsx'\n",
    "state_co2_fuel = pd.read_excel(url)\n",
    "state_co2_fuel.set_index('State', inplace=True)\n",
    "\n",
    "state_co2_fuel.drop('Total', inplace=True)\n",
    "state_co2_fuel.sort_values(by='Total mmt', ascending=False, inplace=True)\n",
    "state_co2_fuel_fractions = state_co2_fuel.loc[:, 'Coal fraction': 'Natural Gas fraction']\n",
    "\n",
    "top_state_co2_fuel = state_co2_fuel.iloc[:4]\n",
    "top_state_co2_fuel_fraction = state_co2_fuel.iloc[:4].loc[:, 'Coal fraction': 'Natural Gas fraction']\n",
    "\n",
    "url = 'https://github.com/HeardLibrary/digital-scholarship/raw/master/data/codegraf/co2_data.xlsx'\n",
    "state_co2 = pd.read_excel(url)"
   ]
  },
  {
   "cell_type": "markdown",
   "metadata": {},
   "source": [
    "## Transposing a data frame\n",
    "\n",
    "Use the `.transpose()` or short form `.T` to switch rows and columns."
   ]
  },
  {
   "cell_type": "code",
   "execution_count": null,
   "metadata": {},
   "outputs": [],
   "source": [
    "top_state_co2_fuel_fraction"
   ]
  },
  {
   "cell_type": "code",
   "execution_count": null,
   "metadata": {},
   "outputs": [],
   "source": [
    "top_state_co2_fuel_fraction.T"
   ]
  },
  {
   "cell_type": "markdown",
   "metadata": {},
   "source": [
    "## Grouping data\n",
    "\n",
    "Grouping data allows us to pull out particular group members and summarize data by group."
   ]
  },
  {
   "cell_type": "code",
   "execution_count": null,
   "metadata": {},
   "outputs": [],
   "source": [
    "state_co2.head()"
   ]
  },
  {
   "cell_type": "code",
   "execution_count": null,
   "metadata": {},
   "outputs": [],
   "source": [
    "co2_state_grouped = state_co2.groupby(['State'])\n",
    "co2_state_grouped.get_group(('Texas'))"
   ]
  },
  {
   "cell_type": "code",
   "execution_count": null,
   "metadata": {},
   "outputs": [],
   "source": [
    "# Calculate sum of all sectors by state\n",
    "co2_state_grouped.sum()"
   ]
  },
  {
   "cell_type": "code",
   "execution_count": null,
   "metadata": {},
   "outputs": [],
   "source": [
    "co2_sector_grouped = state_co2.groupby(['Sector'])\n",
    "co2_sector_grouped.get_group(('Industrial')).head()"
   ]
  },
  {
   "cell_type": "code",
   "execution_count": null,
   "metadata": {},
   "outputs": [],
   "source": [
    "# Calculate sum of all states by sector\n",
    "total_co2_sector = co2_sector_grouped.sum()\n",
    "total_co2_sector"
   ]
  },
  {
   "cell_type": "code",
   "execution_count": null,
   "metadata": {},
   "outputs": [],
   "source": [
    "# Transpose, then sum\n",
    "print(total_co2_sector.T)\n",
    "total_co2_sector.T.sum()\n",
    "# Notice that since the sum is one-dimensional, the output is a series, not a DataFrame."
   ]
  },
  {
   "cell_type": "code",
   "execution_count": null,
   "metadata": {},
   "outputs": [],
   "source": [
    "# Calculate average instead of sum\n",
    "total_co2_sector.T.mean()"
   ]
  },
  {
   "cell_type": "markdown",
   "metadata": {},
   "source": [
    "## Changing the DataFrame organization"
   ]
  },
  {
   "cell_type": "code",
   "execution_count": null,
   "metadata": {},
   "outputs": [],
   "source": [
    "state_co2.head()"
   ]
  },
  {
   "cell_type": "code",
   "execution_count": null,
   "metadata": {},
   "outputs": [],
   "source": [
    "double_label = state_co2.copy().set_index(['Sector', 'State'])\n",
    "double_label.head()"
   ]
  },
  {
   "cell_type": "code",
   "execution_count": null,
   "metadata": {},
   "outputs": [],
   "source": [
    "year_total = double_label.sum(axis='columns')\n",
    "year_total.head(12)\n",
    "# The data are one-dimensional, so the result is a series with two labels"
   ]
  },
  {
   "cell_type": "code",
   "execution_count": null,
   "metadata": {},
   "outputs": [],
   "source": [
    "column_df = year_total.unstack('Sector')\n",
    "column_df.head()"
   ]
  },
  {
   "cell_type": "markdown",
   "metadata": {},
   "source": [
    "## Changing between wide and long formats\n",
    "\n",
    "Data organized as above is said to be in \"wide\" format. Wide tables are often easier to edit and review. But many statistical analyses and visualizations require the data to be in \"long\" (or \"tall\") format. Data in long format are also part of making data \"tidy\" (see [this page](https://cran.r-project.org/web/packages/tidyr/vignettes/tidy-data.html) for more). \n",
    "\n",
    "Pandas has built-in functions and methods to change transform DataFrames between \"long\" and \"wide\" forms.\n",
    "\n",
    "The `pd.melt()` function can be used to trandform wide data into long. Data to be used as *grouping variables* (a.k.a. *factors* or \"group indicators\") must be in columns rather than index labels."
   ]
  },
  {
   "cell_type": "code",
   "execution_count": null,
   "metadata": {},
   "outputs": [],
   "source": [
    "# Change State from an index label to a regular column.\n",
    "wide = column_df.reset_index('State')\n",
    "wide.head()"
   ]
  },
  {
   "cell_type": "markdown",
   "metadata": {},
   "source": [
    "The arguments of the `pd.melt()` function are the DataFrame name followed by a list of columns to be used as grouping variables. Remaining columns are data values for the combinations of grouping variables."
   ]
  },
  {
   "cell_type": "code",
   "execution_count": null,
   "metadata": {},
   "outputs": [],
   "source": [
    "long = pd.melt(wide, ['State'])\n",
    "long"
   ]
  },
  {
   "cell_type": "markdown",
   "metadata": {},
   "source": [
    "To transform a long DataFrame to a wide one, we can use the `.pivot()` method. The first two arguments passed into the method are the row and column indices. The third argument is the column to be used as the data values.\n",
    "\n",
    "Any long table can be turned wide in two ways."
   ]
  },
  {
   "cell_type": "code",
   "execution_count": null,
   "metadata": {},
   "outputs": [],
   "source": [
    "state_wide = long.pivot('State', 'Sector', 'value')\n",
    "state_wide.head()"
   ]
  },
  {
   "cell_type": "code",
   "execution_count": null,
   "metadata": {},
   "outputs": [],
   "source": [
    "sector_wide = long.pivot('Sector', 'State', 'value')\n",
    "sector_wide.head()"
   ]
  },
  {
   "cell_type": "markdown",
   "metadata": {},
   "source": [
    "# Joins\n",
    "\n",
    "Read in the two files that can be joined by the `State` key columns."
   ]
  },
  {
   "cell_type": "code",
   "execution_count": null,
   "metadata": {},
   "outputs": [],
   "source": [
    "url = 'https://github.com/HeardLibrary/digital-scholarship/raw/master/data/codegraf/co2_state_2016_sector.xlsx'\n",
    "state_co2_sector = pd.read_excel(url)\n",
    "state_co2_sector.head()"
   ]
  },
  {
   "cell_type": "code",
   "execution_count": null,
   "metadata": {},
   "outputs": [],
   "source": [
    "url = 'https://github.com/HeardLibrary/digital-scholarship/raw/master/data/codegraf/census_by_state_2000.csv'\n",
    "state_population = pd.read_csv(url)\n",
    "state_population.head()"
   ]
  },
  {
   "cell_type": "markdown",
   "metadata": {},
   "source": [
    "Notice that the population DataFrame has leading spaces in its `State` column. This needs to be fixed or the strings will not match when we do the join."
   ]
  },
  {
   "cell_type": "code",
   "execution_count": null,
   "metadata": {},
   "outputs": [],
   "source": [
    "state_co2_sector.State[0]"
   ]
  },
  {
   "cell_type": "code",
   "execution_count": null,
   "metadata": {},
   "outputs": [],
   "source": [
    "state_population.State[0]"
   ]
  },
  {
   "cell_type": "code",
   "execution_count": null,
   "metadata": {},
   "outputs": [],
   "source": [
    "# The .strip() method removes leading and trailing whitespace\n",
    "state_population['State'] = state_population['State'].str.strip()\n",
    "state_population.State[0]"
   ]
  },
  {
   "cell_type": "markdown",
   "metadata": {},
   "source": [
    "Notice that the `Population` column values in the population DataFrame are strings, not numbers. That's because they contain commas."
   ]
  },
  {
   "cell_type": "code",
   "execution_count": null,
   "metadata": {},
   "outputs": [],
   "source": [
    "state_population.Population[0]"
   ]
  },
  {
   "cell_type": "code",
   "execution_count": null,
   "metadata": {},
   "outputs": [],
   "source": [
    "# Get rid of the commas by replacing them with nothing. Then change the type from string to integer.\n",
    "state_population['Population'] = state_population['Population'].str.replace(',', '').astype(int)\n",
    "state_population.Population[0]"
   ]
  },
  {
   "cell_type": "markdown",
   "metadata": {},
   "source": [
    "Notice the difference between the outer and inner joins at the bottom of the table (Total row)."
   ]
  },
  {
   "cell_type": "code",
   "execution_count": null,
   "metadata": {},
   "outputs": [],
   "source": [
    "state_data_outer = pd.merge(state_co2_sector, state_population, on=['State'], how='outer')\n",
    "state_data_outer.set_index('State', inplace=True)\n",
    "state_data_outer.tail()"
   ]
  },
  {
   "cell_type": "code",
   "execution_count": null,
   "metadata": {},
   "outputs": [],
   "source": [
    "state_data = pd.merge(state_co2_sector, state_population, on=['State'], how='inner')\n",
    "state_data.set_index('State', inplace=True)\n",
    "state_data.tail()"
   ]
  },
  {
   "cell_type": "markdown",
   "metadata": {},
   "source": [
    "It is now easy to carry out calculations involving data from the two original tables. We can also save the merged table as a spreadsheet if we want."
   ]
  },
  {
   "cell_type": "code",
   "execution_count": null,
   "metadata": {},
   "outputs": [],
   "source": [
    "# Calculate the per capita metric tons of CO2 emitted for each state\n",
    "state_data.Residential * 1000000 / state_data.Population"
   ]
  },
  {
   "cell_type": "code",
   "execution_count": null,
   "metadata": {},
   "outputs": [],
   "source": [
    "# Write data to an Excel file in the current working directory\n",
    "state_data.to_excel('state_data.xlsx')"
   ]
  },
  {
   "cell_type": "code",
   "execution_count": null,
   "metadata": {},
   "outputs": [],
   "source": []
  }
 ],
 "metadata": {
  "kernelspec": {
   "display_name": "Python 3",
   "language": "python",
   "name": "python3"
  },
  "language_info": {
   "codemirror_mode": {
    "name": "ipython",
    "version": 3
   },
   "file_extension": ".py",
   "mimetype": "text/x-python",
   "name": "python",
   "nbconvert_exporter": "python",
   "pygments_lexer": "ipython3",
   "version": "3.7.1"
  }
 },
 "nbformat": 4,
 "nbformat_minor": 2
}
