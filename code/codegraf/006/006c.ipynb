{
 "cells": [
  {
   "cell_type": "markdown",
   "metadata": {},
   "source": [
    "# Conditional execution\n",
    "\n",
    "## if statement\n",
    "\n",
    "After running the following example, try changing the boolean value of `is_friday` from `False` to `True` and run it again. Notice that `False` is not the string `'False'` because it is not in quotes."
   ]
  },
  {
   "cell_type": "code",
   "execution_count": null,
   "metadata": {},
   "outputs": [],
   "source": [
    "is_friday = False\n",
    "\n",
    "if is_friday:\n",
    "    print('Woopie! ')\n",
    "    print('TGIF !')"
   ]
  },
  {
   "cell_type": "markdown",
   "metadata": {},
   "source": [
    "In the following example, the value of `is_mickey` is evaluated as a boolean object. The boolean value is then used to determin whether to execute the code block following the `if` statement. Try both code blocks with the existing name, then change the value of `name` to `Mickey Mouse`."
   ]
  },
  {
   "cell_type": "code",
   "execution_count": null,
   "metadata": {},
   "outputs": [],
   "source": [
    "name = 'Fred Flintstone'\n",
    "\n",
    "# Evaluate the boolean value of is_micky based on the comparison of name and 'Mickey Mouse'\n",
    "is_micky = name == 'Mickey Mouse'\n",
    "print(name)\n",
    "print(is_micky)"
   ]
  },
  {
   "cell_type": "code",
   "execution_count": null,
   "metadata": {},
   "outputs": [],
   "source": [
    "if is_micky:\n",
    "    print('You are a Disney character')\n",
    "print('That is all!')"
   ]
  },
  {
   "cell_type": "markdown",
   "metadata": {},
   "source": [
    "Try this example (the next two code blocks) with different names."
   ]
  },
  {
   "cell_type": "code",
   "execution_count": null,
   "metadata": {},
   "outputs": [],
   "source": [
    "name = input('What is the name of the character? ')\n",
    "is_micky = name == 'Mickey Mouse'\n",
    "print(name)\n",
    "print(is_micky)"
   ]
  },
  {
   "cell_type": "code",
   "execution_count": null,
   "metadata": {},
   "outputs": [],
   "source": [
    "if is_micky:\n",
    "    print('You are a Disney character')\n",
    "print('That is all!')"
   ]
  },
  {
   "cell_type": "markdown",
   "metadata": {},
   "source": [
    "Previous example with simplified code. In this example, we evaluate the boolean value directly in the `if` statement itself rather than doing it earlier and assigning its value to a variable."
   ]
  },
  {
   "cell_type": "code",
   "execution_count": null,
   "metadata": {},
   "outputs": [],
   "source": [
    "name = input('What is the name of the character? ')\n",
    "print(name)\n",
    "\n",
    "if name == 'Mickey Mouse':\n",
    "    print('You are a Disney character')\n",
    "print('That is all!')"
   ]
  },
  {
   "cell_type": "markdown",
   "metadata": {},
   "source": [
    "This example is not very satisfying because if the character is not Mickey Mouse, there is no specific reaction wo what they typed. That might be confusing to the user."
   ]
  },
  {
   "cell_type": "markdown",
   "metadata": {},
   "source": [
    "## if … else …\n",
    "\n",
    "Run the code, then try changing the value to `True`"
   ]
  },
  {
   "cell_type": "code",
   "execution_count": null,
   "metadata": {},
   "outputs": [],
   "source": [
    "is_friday = False\n",
    "\n",
    "if is_friday:\n",
    "    print('TGIF !')\n",
    "else:\n",
    "    print('Too bad, have a nice day anyway.')"
   ]
  },
  {
   "cell_type": "markdown",
   "metadata": {},
   "source": [
    "In this example, we solve the problem with the earlier code by defining a code block that should be executed if the evaluated condition is `False`."
   ]
  },
  {
   "cell_type": "code",
   "execution_count": null,
   "metadata": {},
   "outputs": [],
   "source": [
    "name = input('What is the name of the character? ')\n",
    "print(name)\n",
    "\n",
    "if name == 'Mickey Mouse':\n",
    "    print('You are a Disney character')\n",
    "    print('You are almost ready to go out of copyright!')\n",
    "else:\n",
    "    print('You are not a Disney character')\n",
    "print('That is all?')"
   ]
  },
  {
   "cell_type": "markdown",
   "metadata": {},
   "source": [
    "## if … elif … else …\n",
    "\n",
    "Example:"
   ]
  },
  {
   "cell_type": "code",
   "execution_count": null,
   "metadata": {},
   "outputs": [],
   "source": [
    "name = input('What is the name of the character? ')\n",
    "print(name)\n",
    "\n",
    "if name == 'Mickey Mouse':\n",
    "    print('You are a Disney character')\n",
    "    print('You are a mouse')\n",
    "elif name == 'Donald Duck':\n",
    "    print('You are a Disney character')\n",
    "    print('You are not a mouse')\n",
    "elif name == 'Minnie Mouse':\n",
    "    print('You are a Disney character')\n",
    "    print('Your boyfriend is getting old')\n",
    "else:\n",
    "    print('You are not a Disney character')\n",
    "print(\"That's all folks!\")"
   ]
  },
  {
   "cell_type": "markdown",
   "metadata": {},
   "source": [
    "# Flags\n",
    "\n",
    "Sometimes we use a programming device called a *flag* to keep track of the state of some condition. In Python, it is convenient for a flag to contain a boolean and for the name of the flag to be some indication of the state that is being tracked. For example, if our script is monitoring the status of a door, we might use the variable name `door_open`, and assign it a value of `True` or `False`. \n",
    "\n",
    "A typical use of a flag is to determine that a certain condition happened or never happened during a loop. In this example, we want to check a list of numbers and report if any of them were even. Try making some of them even or none of them even. When you are clear about how the code works, you can delete `print(number % 2)` or \"comment it out\" (make it stop working by putting a `#` in front of it)."
   ]
  },
  {
   "cell_type": "code",
   "execution_count": null,
   "metadata": {},
   "outputs": [],
   "source": [
    "numbers = [3, 4, 453, 99, 19, 50]\n",
    "was_an_even = False\n",
    "\n",
    "for number in numbers:\n",
    "    # The % (modulo) operator gives the remainder after a division.\n",
    "    # Even numbers have no remainder when divided by 2.\n",
    "    print(number % 2)\n",
    "    if number % 2 == 0:\n",
    "        was_an_even = True\n",
    "\n",
    "if was_an_even:\n",
    "    print('At least one of your numbers was even')\n",
    "else:\n",
    "    print('None of your numbers was even')"
   ]
  },
  {
   "cell_type": "markdown",
   "metadata": {},
   "source": [
    "When using a flag, we set the flag to the boolean state that indicates that the condition never happened. Then when it happens in the code, we change the value to the boolean state that indicates that it did happen. Note that the naming of the flag can indicate change whether we expect the state to be true or false. For example, we could change the name of the flag in the code above like this:"
   ]
  },
  {
   "cell_type": "code",
   "execution_count": null,
   "metadata": {},
   "outputs": [],
   "source": [
    "numbers = [3, 4, 453, 99, 19, 50]\n",
    "no_evens = True\n",
    "\n",
    "for number in numbers:\n",
    "    if number % 2 == 0:\n",
    "        no_evens = False\n",
    "\n",
    "if no_evens:\n",
    "    print('None of your numbers was even')\n",
    "else:\n",
    "    print('At least one of your numbers was even')"
   ]
  },
  {
   "cell_type": "markdown",
   "metadata": {},
   "source": [
    "Here is a more complicated example where we want to know if there were no matches when we checked a list of items. In this case, we only care about giving feedback if we got all the way through the list without a match."
   ]
  },
  {
   "cell_type": "code",
   "execution_count": null,
   "metadata": {},
   "outputs": [],
   "source": [
    "character_name = ['Mickey Mouse', 'Donald Duck', 'Minnie Mouse', 'Fred Flinstone', 'Daffy Duck', 'Elmo Jetson']\n",
    "character_company = ['Disney', 'Disney', 'Disney', 'Hanna-Barbera', 'Warner Brothers', 'Hanna-Barbera']\n",
    "\n",
    "no_characters = True\n",
    "my_company = input('What film company do you want to check? ')\n",
    "\n",
    "for company_number in range(len(character_company)): # if no starting number given, 0 is assumed.\n",
    "    if character_company[company_number] == my_company:\n",
    "        no_characters = False\n",
    "        print(character_name[company_number], 'works at', character_company[company_number])\n",
    "        \n",
    "if no_characters:\n",
    "    print('No characters work for your company')\n"
   ]
  },
  {
   "cell_type": "markdown",
   "metadata": {},
   "source": [
    "# try ... except ...\n",
    "\n",
    "One kind of error we can encounter is when the user entered something that was not a number in a circumstance where a number is required. Try entering numeric and non-numeric characters in this example without error trapping."
   ]
  },
  {
   "cell_type": "code",
   "execution_count": null,
   "metadata": {},
   "outputs": [],
   "source": [
    "from math import pi\n",
    "typed_in = input('What is the diameter of your circle? ')\n",
    "diameter = float(typed_in)\n",
    "print('The circumference is:', diameter * pi)"
   ]
  },
  {
   "cell_type": "markdown",
   "metadata": {},
   "source": [
    "Now try again with this script:"
   ]
  },
  {
   "cell_type": "code",
   "execution_count": null,
   "metadata": {},
   "outputs": [],
   "source": [
    "from math import pi\n",
    "typed_in = input('What is the diameter of your circle? ')\n",
    "try:\n",
    "    diameter = float(typed_in)\n",
    "    print('The circumference is:', diameter * pi)\n",
    "except:\n",
    "    print(\"Sorry, you didn't enter a number.\")"
   ]
  },
  {
   "cell_type": "markdown",
   "metadata": {},
   "source": [
    "Now try running this code, first with a valid part number, then with a part number that is not in the catalog."
   ]
  },
  {
   "cell_type": "code",
   "execution_count": null,
   "metadata": {},
   "outputs": [],
   "source": [
    "catalog = {'1008':'widget', '2149':'flange', '19x5':'smoke shifter', '992':'poiuyt'}\n",
    "part_number = input(\"What part do you want to order? \")\n",
    "print('You have ordered a ' + catalog[part_number])"
   ]
  },
  {
   "cell_type": "code",
   "execution_count": null,
   "metadata": {},
   "outputs": [],
   "source": [
    "catalog = {'1008':'widget', '2149':'flange', '19x5':'smoke shifter', '992':'poiuyt'}\n",
    "part_number = input(\"What part do you want to order? \")\n",
    "try:\n",
    "    print('You have ordered a ' + catalog[part_number])\n",
    "except:\n",
    "    print(\"Sorry, that part isn't available.\")\n",
    "print(\"It's been a pleasure doing business with you!\")"
   ]
  },
  {
   "cell_type": "code",
   "execution_count": null,
   "metadata": {},
   "outputs": [],
   "source": []
  }
 ],
 "metadata": {
  "kernelspec": {
   "display_name": "Python 3",
   "language": "python",
   "name": "python3"
  },
  "language_info": {
   "codemirror_mode": {
    "name": "ipython",
    "version": 3
   },
   "file_extension": ".py",
   "mimetype": "text/x-python",
   "name": "python",
   "nbconvert_exporter": "python",
   "pygments_lexer": "ipython3",
   "version": "3.7.1"
  }
 },
 "nbformat": 4,
 "nbformat_minor": 2
}
