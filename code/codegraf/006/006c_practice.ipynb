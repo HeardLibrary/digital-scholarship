{
  "cells": [
    {
      "cell_type": "markdown",
      "metadata": {
        "id": "3MAOz1R6v_jH"
      },
      "source": [
        "## Python Lesson 5 Practice assignment\n"
      ]
    },
    {
      "cell_type": "markdown",
      "metadata": {
        "id": "p8ZiU21WwQ5q"
      },
      "source": [
        "1. Yale University has an awesome website known as “Is it chicken tenders day?”. The website is at <http://www.isitchickentendersday.com/> and you can read about it [here](https://yaledailynews.com/blog/2011/09/08/is-it-chicken-tenders-day-question-answered-in-new-website/). Using the website, you can determine whether it is chicken tenders day (i.e. Thursday) in the Yale residential dining halls. The `date` object from the `datetime` module has a method that determines the day of the week as a number (0=Monday, 1=Tuesday, etc.). It’s `date.today().weekday()`. From the `datetime` module import the `date` object. Begin your script by printing the question “Is it chicken tenders day?”. Then use `if` and `else` to print `yes` if it’s chicken tenders day and `no` for any other day."
      ]
    },
    {
      "cell_type": "code",
      "execution_count": null,
      "metadata": {
        "id": "7yxkMyFewcQi"
      },
      "outputs": [],
      "source": []
    },
    {
      "cell_type": "markdown",
      "metadata": {
        "id": "q-zlhUxOxZa_"
      },
      "source": [
        "2. Create a list containing the names of the days of the week. Start with Monday and end with Sunday to match the numbering produced by the `.weekday()` method. Modify the program above by adding a line to tell the user what the day of the week is today. You can use the output of the `.weekday()` method as the index number when referring to your list."
      ]
    },
    {
      "cell_type": "code",
      "execution_count": null,
      "metadata": {
        "id": "ZmVLKYVpxjwh"
      },
      "outputs": [],
      "source": []
    },
    {
      "cell_type": "markdown",
      "metadata": {
        "id": "SEV0notUxmOK"
      },
      "source": [
        "3. The Colab system contains some sample data in a subdirectory of the default directory in which notebooks operate. You can view those files by clicking on the little file folder in the upper left of the window, then clicking on the `sample_data` folder. If you are running this code in a different environment than Colab, you should change the path to a directory within your current working directory where there is a file containing text. The starter code in the cell below opens one of the files, then reads the text of the file into a variable called `text`. Modify the script so that a user can enter the name of the file they would like to view. Using `try ... except ...`, handle a `No such file or directory` error that would occur if the file name the user inputs does not exist. Test your script by entering a real and a nonsense file name."
      ]
    },
    {
      "cell_type": "code",
      "execution_count": null,
      "metadata": {
        "id": "NFOvDMB-0lgD"
      },
      "outputs": [],
      "source": [
        "import os\n",
        "\n",
        "# Find out what you current working directory is\n",
        "print(os.getcwd())\n",
        "\n",
        "filename = 'README.md'\n",
        "path = 'sample_data/' + filename\n",
        "with open(path, 'rt', encoding='utf-8') as file_object:\n",
        "    text = file_object.read()\n",
        "print(text)"
      ]
    },
    {
      "cell_type": "markdown",
      "metadata": {
        "id": "2X5WKDbMCUi6"
      },
      "source": [
        "4. In the optional section on flags, an example was given for looking up cartoon characters in a list. The code below contains the first part of that script. Try running the script. As the `for` loop iterates through each character, if the character name the user entered matches, the name and company are printed. However, if the loop goes all the way through the list without a match, nothing is printed. Use an `if ... in ...` statement to check whether the character they entered is in the list before starting the `for` loop. If the character is in the list, then run the loop. If the character is not in the list, print a message saying that the character cannot be found."
      ]
    },
    {
      "cell_type": "code",
      "execution_count": null,
      "metadata": {
        "id": "4EaHVFeJCoju"
      },
      "outputs": [],
      "source": [
        "character_name = ['Mickey Mouse', 'Donald Duck', 'Minnie Mouse', 'Fred Flinstone', 'Daffy Duck', 'Elmo Jetson']\n",
        "character_company = ['Disney', 'Disney', 'Disney', 'Hanna-Barbera', 'Warner Brothers', 'Hanna-Barbera']\n",
        "\n",
        "my_character_name = input('What character do you want to find the company for? ')\n",
        "\n",
        "for character_number in range(len(character_name)):\n",
        "    if character_name[character_number] == my_character_name:\n",
        "        print(character_name[character_number], 'works at', character_company[character_number])\n",
        "\n"
      ]
    },
    {
      "cell_type": "markdown",
      "metadata": {
        "id": "AvGpxc4yF-n4"
      },
      "source": [
        "5. In the [example Colab notebook](https://drive.google.com/file/d/1ecKhoDFevC_M9mFSDPDu0fGujyQH43Iu/view?usp=sharing), the second script uses data from an API to make a map showing where the International Space Station is currently located. The cell below uses the first part of that code to create a function that returns a tuple containing first the latitude, then the longitude. The line after the function definitions shows how to unpack the values returned by the function into the variables `lat` and `lon`. Modify this script to use a `for` loop to check the position ten times. Each time the position is checked, print the geocordinates and use `if ... else ...` statements to print whether the station is in the northern (positive latitude) or southern (negative latitude) hemisphere and whether it is in the eastern (positive longitude) or western (negative longitude) hemisphere. Then wait 60 seconds before continuing with the next iteration of the loop. If you forget how to make the script sleep for a certain number of seconds, review [this information](https://heardlibrary.github.io/digital-scholarship/script/codegraf/005/#the-time-module-2m28s). For testing purposes, you might want to start with a delay shorter than one minute. Note: if you run this code in a Python installation other than Colab, you may need to install the `requests` library."
      ]
    },
    {
      "cell_type": "code",
      "execution_count": null,
      "metadata": {
        "id": "y-ptZ-MjGFIp"
      },
      "outputs": [],
      "source": [
        "import requests\n",
        "\n",
        "def get_iss_location():\n",
        "    response = requests.get('http://api.open-notify.org/iss-now.json')\n",
        "    data = response.json()\n",
        "    latitude = data['iss_position']['latitude']\n",
        "    longitude = data['iss_position']['longitude']\n",
        "    return latitude, longitude\n",
        "\n",
        "lat, lon = get_iss_location()\n",
        "print('latitude:', lat, '  longitude:', lon)\n"
      ]
    },
    {
      "cell_type": "markdown",
      "metadata": {
        "id": "PH701kxgJXEN"
      },
      "source": [
        "6. Modify your code from the previous exercise. At the beginning of the script, create two empty lists, one called `latitudes` and the other called `longitudes`. Ask the user how many seconds to wait between each data collection time. This time, as the loop iterates, don't print the hemisphere. Instead, append the latitude to the `latitudes` list and append the longitude to the `longitudes` list. Wait the specified length of time before starting the next iteration. When the script is done, print the two lists. Note: you don't have to define the function again in this cell if you've already run it in the cell above.\n",
        "\n",
        "The data collected aren't that useful if just put into lists. It would be much better to store them in tabular form and save them in a spreadsheet. If you want to learn how to do that, check out [the lesson on pandas](https://heardlibrary.github.io/digital-scholarship/script/codegraf/008/), one of the intermediate lesson series that comes after this one."
      ]
    },
    {
      "cell_type": "code",
      "execution_count": null,
      "metadata": {
        "id": "2N9pvDAJKuTT"
      },
      "outputs": [],
      "source": []
    }
  ],
  "metadata": {
    "colab": {
      "provenance": []
    },
    "kernelspec": {
      "display_name": "Python 3",
      "name": "python3"
    },
    "language_info": {
      "codemirror_mode": {
        "name": "ipython",
        "version": 3
      },
      "file_extension": ".py",
      "mimetype": "text/x-python",
      "name": "python",
      "nbconvert_exporter": "python",
      "pygments_lexer": "ipython3",
      "version": "3.8.5"
    }
  },
  "nbformat": 4,
  "nbformat_minor": 0
}
