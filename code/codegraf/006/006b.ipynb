{
  "cells": [
    {
      "cell_type": "markdown",
      "metadata": {
        "id": "rWjug8uWM5J7"
      },
      "source": [
        "# Loops\n",
        "\n",
        "## Iterating using `for`\n",
        "\n",
        "Example"
      ]
    },
    {
      "cell_type": "code",
      "execution_count": null,
      "metadata": {
        "id": "oTlRwfneM5J8"
      },
      "outputs": [],
      "source": [
        "basket = ['apple', 'orange', 'banana', 'lemon', 'lime']\n",
        "for fruit in basket:\n",
        "    print('I ate one ' + fruit)\n",
        "print(\"I'm full now!\")"
      ]
    },
    {
      "cell_type": "code",
      "execution_count": null,
      "metadata": {
        "id": "LywOIKW3M5J-"
      },
      "outputs": [],
      "source": [
        "word = 'supercalifragilisticexpialidocious'\n",
        "print('Spell it out!')\n",
        "for letter in word:\n",
        "    print(letter)\n",
        "print('That wore me out.')"
      ]
    },
    {
      "cell_type": "markdown",
      "source": [
        "## Practice\n",
        "\n",
        "Print the number of characters in each string in the list below. Recall that the `len()` function returns the number of characters in a string."
      ],
      "metadata": {
        "id": "DKoevI7sAYig"
      }
    },
    {
      "cell_type": "code",
      "source": [
        "words = ['fabulous',' a','uncle', 'unbelievable','!@#$%^&*']\n"
      ],
      "metadata": {
        "id": "8SA5pkLeA5j6"
      },
      "execution_count": null,
      "outputs": []
    },
    {
      "cell_type": "markdown",
      "metadata": {
        "id": "G6n21D7LM5KA"
      },
      "source": [
        "## Ranges\n",
        "\n",
        "Examples"
      ]
    },
    {
      "cell_type": "code",
      "execution_count": null,
      "metadata": {
        "id": "JMTSIkNwM5KA"
      },
      "outputs": [],
      "source": [
        "# Example explained in the video\n",
        "for number in range(1, 11):\n",
        "    the_square = number**2\n",
        "    the_area = the_square * 3.14159\n",
        "    print(number, '\\t', the_area)\n",
        "print(\"Those are the areas of all the circles!\")"
      ]
    },
    {
      "cell_type": "code",
      "execution_count": null,
      "metadata": {
        "id": "rvOHHsRwM5KB"
      },
      "outputs": [],
      "source": [
        "for count in range(1,11):\n",
        "    print(count)"
      ]
    },
    {
      "cell_type": "code",
      "execution_count": null,
      "metadata": {
        "id": "73yPyXt2M5KC"
      },
      "outputs": [],
      "source": [
        "print('Prepare to launch!')\n",
        "for count_down in range(10, 0, -1):\n",
        "    print(count_down)\n",
        "print('Lift off!')"
      ]
    },
    {
      "cell_type": "code",
      "execution_count": null,
      "metadata": {
        "id": "vkGCd4lkM5KD"
      },
      "outputs": [],
      "source": [
        "cheer = ''\n",
        "for skipper in range(2, 10, 2):\n",
        "    cheer = cheer + str(skipper) + ', '\n",
        "cheer = cheer + 'who do we appreciate?'\n",
        "print(cheer)"
      ]
    },
    {
      "cell_type": "code",
      "execution_count": null,
      "metadata": {
        "id": "sZz_BFKcM5KE"
      },
      "outputs": [],
      "source": [
        "basket = ['apple', 'orange', 'banana', 'lemon', 'lime']\n",
        "print(\"Here's a list of the fruit in the basket:\")\n",
        "for fruit_number in range(0, len(basket)):\n",
        "    print(str(fruit_number + 1) + ' ' + basket[fruit_number])\n",
        "print('You can see that there are ' + str(len(basket)) + ' fruits in the basket.')"
      ]
    },
    {
      "cell_type": "markdown",
      "source": [
        "## Practice\n",
        "\n",
        "Write a for loop that counts from 10 to 100 by tens and prints the number."
      ],
      "metadata": {
        "id": "fRa2o83ZBQia"
      }
    },
    {
      "cell_type": "code",
      "source": [],
      "metadata": {
        "id": "ydePskYo6udn"
      },
      "execution_count": null,
      "outputs": []
    },
    {
      "cell_type": "markdown",
      "metadata": {
        "id": "ha4oHiEfM5KF"
      },
      "source": [
        "## Looping with `while`\n",
        "\n",
        "Examples"
      ]
    },
    {
      "cell_type": "code",
      "execution_count": null,
      "metadata": {
        "id": "lVM-jcqCM5KG"
      },
      "outputs": [],
      "source": [
        "power = 0 # must have an initial value\n",
        "exponent = 0\n",
        "print('exponent\\tpower')\n",
        "while power < 100:\n",
        "    power = 2**exponent\n",
        "    print(exponent, '\\t', power)\n",
        "    exponent += 1 # incrementing is critical for the loop to end\n",
        "print(\"Those are the powers of two.\")\n"
      ]
    },
    {
      "cell_type": "code",
      "execution_count": null,
      "metadata": {
        "id": "zCIHH8SLM5KG"
      },
      "outputs": [],
      "source": [
        "string = input('Try pressing only the Enter key ')\n",
        "print(string)\n",
        "print(len(string))"
      ]
    },
    {
      "cell_type": "code",
      "execution_count": null,
      "metadata": {
        "id": "rZhbu1r1M5KG"
      },
      "outputs": [],
      "source": [
        "print('Enter your list items and press Enter when done')\n",
        "item = 'something'\n",
        "word_list = []\n",
        "\n",
        "while item != '': # check for the empty string\n",
        "    item = input('Next item: ')\n",
        "    word_list.append(item)\n",
        "\n",
        "# remove the final empty string\n",
        "del word_list[len(word_list)-1] # remove by deleting last item\n",
        "#word_list = word_list[:len(word_list)-1] # alternate way to remove by slicing first through next-to-last item\n",
        "#word_list.remove('') # alternate method to remove empty string by specifying it in remove method\n",
        "print('Your list is:', word_list)    "
      ]
    },
    {
      "cell_type": "markdown",
      "source": [
        "## Practice\n",
        "\n",
        "The method `.isalpha()` returns `True` if all characters in a string are alphabetic and returns `False` if any character is not alphabetic. \n",
        "\n",
        "Use a `while` loop enclosing an input statement that stops executing when the user enters a string that contains a non-alphabetic character. After the loop terminates, print the string. NOTE: remember that you will have to create the string that you are checking with some value before you start the loop. That has already been done for you in the first line."
      ],
      "metadata": {
        "id": "o37VX9ud7LaZ"
      }
    },
    {
      "cell_type": "code",
      "source": [
        "test_string = 'letters'\n"
      ],
      "metadata": {
        "id": "LI6QwK09-jpE"
      },
      "execution_count": null,
      "outputs": []
    },
    {
      "cell_type": "markdown",
      "source": [
        "## Optional shortcuts\n",
        "\n",
        "**Ranges starting with zero**\n",
        "\n",
        "Count from 0 to 10"
      ],
      "metadata": {
        "id": "AUbFXw54qE8q"
      }
    },
    {
      "cell_type": "code",
      "source": [
        "for count in range(11):\n",
        "    print(count)"
      ],
      "metadata": {
        "id": "c9SAEoa3qQgZ"
      },
      "execution_count": null,
      "outputs": []
    },
    {
      "cell_type": "markdown",
      "source": [
        "Step through the indices of all items in a list"
      ],
      "metadata": {
        "id": "HAbjYY6jqgFk"
      }
    },
    {
      "cell_type": "code",
      "source": [
        "my_list = \"apple\", \"banana\", \"grape\"\n",
        "for count in range(len(my_list)):\n",
        "    print(my_list[count])"
      ],
      "metadata": {
        "id": "KP5p2eHuqoSo"
      },
      "execution_count": null,
      "outputs": []
    },
    {
      "cell_type": "markdown",
      "source": [
        "**The enumerate() function**\n",
        "\n",
        "Print a numbered list."
      ],
      "metadata": {
        "id": "9D1uF93Lqx8k"
      }
    },
    {
      "cell_type": "code",
      "source": [
        "basket = ['apple', 'orange', 'banana', 'lemon', 'lime']\n",
        "print(\"Here's a list of the fruit in the basket:\")\n",
        "for fruit_number, fruit in enumerate(basket):\n",
        "    print(fruit_number, fruit)\n",
        "print('You can see that there are', len(basket), 'fruits in the basket.')"
      ],
      "metadata": {
        "id": "yY-DhLSoq7P8"
      },
      "execution_count": null,
      "outputs": []
    },
    {
      "cell_type": "markdown",
      "source": [
        "Number the list starting with 1."
      ],
      "metadata": {
        "id": "J6lKy9xCq-wi"
      }
    },
    {
      "cell_type": "code",
      "source": [
        "basket = ['apple', 'orange', 'banana', 'lemon', 'lime']\n",
        "print(\"Here's a list of the fruit in the basket:\")\n",
        "for fruit_number, fruit in enumerate(basket, start=1):\n",
        "    print(fruit_number, fruit)\n",
        "print('You can see that there are', len(basket), 'fruits in the basket.')"
      ],
      "metadata": {
        "id": "EWtxDt0PrBet"
      },
      "execution_count": null,
      "outputs": []
    },
    {
      "cell_type": "markdown",
      "source": [
        "**List comprehensions**\n",
        "\n",
        "Generate a list of the squares of numbers from 0 to 10."
      ],
      "metadata": {
        "id": "tKZAyhU5rG18"
      }
    },
    {
      "cell_type": "code",
      "source": [
        "squares = [n**2 for n in range(11)]\n",
        "print(squares)"
      ],
      "metadata": {
        "id": "eCiDaGg9rPhC"
      },
      "execution_count": null,
      "outputs": []
    },
    {
      "cell_type": "markdown",
      "source": [
        "Generate a list of lowercase first initials"
      ],
      "metadata": {
        "id": "UdYZlgW3rgpW"
      }
    },
    {
      "cell_type": "code",
      "source": [
        "name = 'John Paul Jones'\n",
        "name_list = name.split(' ')\n",
        "initials_list = [name_string[0].lower() for name_string in name_list]\n",
        "print(initials_list)"
      ],
      "metadata": {
        "id": "BdDAePMvrkG3"
      },
      "execution_count": null,
      "outputs": []
    },
    {
      "cell_type": "markdown",
      "source": [
        "Generate lower case initials for any name"
      ],
      "metadata": {
        "id": "gXzPgnXqrpSH"
      }
    },
    {
      "cell_type": "code",
      "source": [
        "name = input('What is your name? ')\n",
        "name_list = name.split(' ')\n",
        "initials_list = [name_string[0].lower() for name_string in name_list]\n",
        "print('Your initials are:', ''.join(initials_list))"
      ],
      "metadata": {
        "id": "P-uyqLcRrtV1"
      },
      "execution_count": null,
      "outputs": []
    },
    {
      "cell_type": "markdown",
      "metadata": {
        "id": "syItFOkWM5KH"
      },
      "source": [
        "# Aside: applying methods sequentially"
      ]
    },
    {
      "cell_type": "code",
      "execution_count": null,
      "metadata": {
        "id": "KA8TW7MKM5KH"
      },
      "outputs": [],
      "source": [
        "my_sentence = 'And it was a dark and stormy night and I got sick.'"
      ]
    },
    {
      "cell_type": "code",
      "execution_count": null,
      "metadata": {
        "id": "utKlaUOHM5KI"
      },
      "outputs": [],
      "source": [
        "print(my_sentence)\n",
        "\n",
        "# Turn the sentence to all lower case. Output type is a string.\n",
        "lower_sentence = my_sentence.lower()\n",
        "print(lower_sentence)\n",
        "\n",
        "# Split the sentence at the spaces. Output type is a list.\n",
        "words_list = lower_sentence.split(' ')\n",
        "print(words_list)\n",
        "\n",
        "# Count the number of occurrences of \"and\" in the list. Output type is an integer number.\n",
        "number = words_list.count('and')\n",
        "print(number)"
      ]
    },
    {
      "cell_type": "code",
      "execution_count": null,
      "metadata": {
        "id": "h6vgrl6iM5KJ"
      },
      "outputs": [],
      "source": [
        "# Methods are applied sequentially from left to right.\n",
        "number = my_sentence.lower().split(' ').count('and')\n",
        "print(number)"
      ]
    }
  ],
  "metadata": {
    "kernelspec": {
      "display_name": "Python 3",
      "language": "python",
      "name": "python3"
    },
    "language_info": {
      "codemirror_mode": {
        "name": "ipython",
        "version": 3
      },
      "file_extension": ".py",
      "mimetype": "text/x-python",
      "name": "python",
      "nbconvert_exporter": "python",
      "pygments_lexer": "ipython3",
      "version": "3.8.5"
    },
    "colab": {
      "provenance": []
    }
  },
  "nbformat": 4,
  "nbformat_minor": 0
}