{
 "cells": [
  {
   "cell_type": "markdown",
   "metadata": {},
   "source": [
    "# Loops\n",
    "\n",
    "## Iterating using `for`\n",
    "\n",
    "Example"
   ]
  },
  {
   "cell_type": "code",
   "execution_count": null,
   "metadata": {},
   "outputs": [],
   "source": [
    "basket = ['apple', 'orange', 'banana', 'lemon', 'lime']\n",
    "for fruit in basket:\n",
    "    print('I ate one ' + fruit)\n",
    "print(\"I'm full now!\")"
   ]
  },
  {
   "cell_type": "code",
   "execution_count": null,
   "metadata": {},
   "outputs": [],
   "source": [
    "word = 'supercalifragilisticexpialidocious'\n",
    "print('Spell it out!')\n",
    "for letter in word:\n",
    "    print(letter)\n",
    "print('That wore me out.')"
   ]
  },
  {
   "cell_type": "markdown",
   "metadata": {},
   "source": [
    "## Ranges\n",
    "\n",
    "Examples"
   ]
  },
  {
   "cell_type": "code",
   "execution_count": null,
   "metadata": {},
   "outputs": [],
   "source": [
    "# Example explained in the video\n",
    "for number in range(1, 11):\n",
    "    the_square = number**2\n",
    "    the_area = the_square * 3.14159\n",
    "    print(number, '\\t', the_area)\n",
    "print(\"Those are the areas of all the circles!\")"
   ]
  },
  {
   "cell_type": "code",
   "execution_count": null,
   "metadata": {},
   "outputs": [],
   "source": [
    "for count in range(1,11):\n",
    "    print(count)"
   ]
  },
  {
   "cell_type": "code",
   "execution_count": null,
   "metadata": {},
   "outputs": [],
   "source": [
    "print('Prepare to launch!')\n",
    "for count_down in range(10, 0, -1):\n",
    "    print(count_down)\n",
    "print('Lift off!')"
   ]
  },
  {
   "cell_type": "code",
   "execution_count": null,
   "metadata": {},
   "outputs": [],
   "source": [
    "cheer = ''\n",
    "for skipper in range(2, 10, 2):\n",
    "    cheer = cheer + str(skipper) + ', '\n",
    "cheer = cheer + 'who do we appreciate?'\n",
    "print(cheer)"
   ]
  },
  {
   "cell_type": "code",
   "execution_count": null,
   "metadata": {},
   "outputs": [],
   "source": [
    "basket = ['apple', 'orange', 'banana', 'lemon', 'lime']\n",
    "print(\"Here's a list of the fruit in the basket:\")\n",
    "for fruit_number in range(0, len(basket)):\n",
    "    print(str(fruit_number + 1) + ' ' + basket[fruit_number])\n",
    "print('You can see that there are ' + str(len(basket)) + ' fruits in the basket.')"
   ]
  },
  {
   "cell_type": "markdown",
   "metadata": {},
   "source": [
    "## Looping with `while`\n",
    "\n",
    "Examples"
   ]
  },
  {
   "cell_type": "code",
   "execution_count": null,
   "metadata": {},
   "outputs": [],
   "source": [
    "power = 0 # must have an initial value\n",
    "exponent = 0\n",
    "print('exponent\\tpower')\n",
    "while power < 100:\n",
    "    power = 2**exponent\n",
    "    exponent += 1 # incrementing is critical for the loop to end\n",
    "    print(exponent, '\\t', power)\n",
    "print(\"Those are the powers of two.\")\n"
   ]
  },
  {
   "cell_type": "code",
   "execution_count": null,
   "metadata": {},
   "outputs": [],
   "source": [
    "string = input('Try pressing only the Enter key ')\n",
    "print(string)\n",
    "print(len(string))"
   ]
  },
  {
   "cell_type": "code",
   "execution_count": null,
   "metadata": {},
   "outputs": [],
   "source": [
    "print('Enter your list items and press Enter when done')\n",
    "item = 'something'\n",
    "word_list = []\n",
    "\n",
    "while item != '': # check for the empty string\n",
    "    item = input('Next item: ')\n",
    "    word_list.append(item)\n",
    "\n",
    "# remove the final empty string\n",
    "del word_list[len(word_list)-1] # remove by deleting last item\n",
    "#word_list = word_list[:len(word_list)-1] # alternate way to remove by slicing first through next-to-last item\n",
    "#word_list.remove('') # alternate method to remove empty string by specifying it in remove method\n",
    "print('Your list is:', word_list)    "
   ]
  },
  {
   "cell_type": "markdown",
   "metadata": {},
   "source": [
    "# Aside: applying methods sequentially"
   ]
  },
  {
   "cell_type": "code",
   "execution_count": null,
   "metadata": {},
   "outputs": [],
   "source": [
    "my_sentence = 'And it was a dark and stormy night and I got sick.'"
   ]
  },
  {
   "cell_type": "code",
   "execution_count": null,
   "metadata": {},
   "outputs": [],
   "source": [
    "print(my_sentence)\n",
    "\n",
    "# Turn the sentence to all lower case. Output type is a string.\n",
    "lower_sentence = my_sentence.lower()\n",
    "print(lower_sentence)\n",
    "\n",
    "# Split the sentence at the spaces. Output type is a list.\n",
    "words_list = lower_sentence.split(' ')\n",
    "print(words_list)\n",
    "\n",
    "# Count the number of occurrences of \"and\" in the list. Output type is an integer number.\n",
    "number = words_list.count('and')\n",
    "print(number)"
   ]
  },
  {
   "cell_type": "code",
   "execution_count": null,
   "metadata": {},
   "outputs": [],
   "source": [
    "# Methods are applied sequentially from left to right.\n",
    "number = my_sentence.lower().split(' ').count('and')\n",
    "print(number)"
   ]
  },
  {
   "cell_type": "code",
   "execution_count": null,
   "metadata": {},
   "outputs": [],
   "source": []
  }
 ],
 "metadata": {
  "kernelspec": {
   "display_name": "Python 3",
   "language": "python",
   "name": "python3"
  },
  "language_info": {
   "codemirror_mode": {
    "name": "ipython",
    "version": 3
   },
   "file_extension": ".py",
   "mimetype": "text/x-python",
   "name": "python",
   "nbconvert_exporter": "python",
   "pygments_lexer": "ipython3",
   "version": "3.8.5"
  }
 },
 "nbformat": 4,
 "nbformat_minor": 2
}
