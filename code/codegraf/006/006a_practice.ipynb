{
  "cells": [
    {
      "cell_type": "markdown",
      "metadata": {
        "id": "IUYHSwatZre0"
      },
      "source": [
        "## Python Lesson 3 Practice assignment\n"
      ]
    },
    {
      "cell_type": "markdown",
      "metadata": {
        "id": "lEhFDxa-Z3i1"
      },
      "source": [
        "1. Assign a URL (including the `http://` or `https://` part) to a variable, then use the `.split()` method to break the URL into pieces based on the position of `/` characters. Note: select and copy a URL from the URL bar of a browser to get the full URL. What is the index number for the list item that contains the domain name (e.g. `vanderbilt.edu` or `calendar.google.com`)? Write your answer as a comment in your code. Write an expression for the domain name, and print it."
      ]
    },
    {
      "cell_type": "code",
      "execution_count": null,
      "metadata": {
        "id": "zMKtKhCSZOYi"
      },
      "outputs": [],
      "source": []
    },
    {
      "cell_type": "markdown",
      "metadata": {
        "id": "czGfV3YI7Ba6"
      },
      "source": [
        "2. If you have a domain name like `vanderbilt.edu`, `www.library.vanderbilt.edu`, or `calendar.google.com`, how can you determine how many parts it has that are separated by periods (dots)? (Hint: first split it into a list.) In the code cell, use a general expression for the last part of any domain name (`com`, `edu`, `org`, etc.) to print that last part for a domain name input by the user. (Hint: how can you determine the index number of the last item in a list?)\n",
        "\n",
        "Edit this cell and write your answer to the question here:\n",
        "\n",
        "\n",
        "Put the code you write in the following cell."
      ]
    },
    {
      "cell_type": "code",
      "execution_count": null,
      "metadata": {
        "id": "y39ScsDe8YTf"
      },
      "outputs": [],
      "source": []
    },
    {
      "cell_type": "markdown",
      "metadata": {
        "id": "fazwLqVS8lPq"
      },
      "source": [
        "3. Write a script that instantiates the fruit basket list, allows a user to type in a fruit, then add the fruit they typed in to the end of the list."
      ]
    },
    {
      "cell_type": "code",
      "execution_count": null,
      "metadata": {
        "id": "qvroZrAf8eus"
      },
      "outputs": [],
      "source": []
    },
    {
      "cell_type": "markdown",
      "metadata": {
        "id": "RYcBGn6Z8px4"
      },
      "source": [
        "4. Modify the previous script to pick a random fruit from the list, remove it from the list, tell the user that they can’t have that fruit, then print the new list without the fruit you removed."
      ]
    },
    {
      "cell_type": "code",
      "execution_count": null,
      "metadata": {
        "id": "wp-tnUE99Rao"
      },
      "outputs": [],
      "source": []
    },
    {
      "cell_type": "markdown",
      "metadata": {
        "id": "2lAqOgiN9ZX5"
      },
      "source": [
        "5. Let the user type their full name with spaces between the name parts. Split the name into parts. For the first and last name, extract the first letter of each, convert them to lower case, and concatenate those initials into a single string. Print the resulting string and tell the user that it is their initials."
      ]
    },
    {
      "cell_type": "code",
      "execution_count": null,
      "metadata": {
        "id": "Gf8vyocQ9ee_"
      },
      "outputs": [],
      "source": []
    },
    {
      "cell_type": "markdown",
      "metadata": {
        "id": "T6Vtd1Dv9kcK"
      },
      "source": [
        "6. Create a dictionary where the keys are the names of months and the values are the number of days in that month. Allow a user to enter the name of a month and print the number of days in that month. Create appropriate prompts and print statements so the user knows what to do and can interpret the response."
      ]
    },
    {
      "cell_type": "code",
      "execution_count": null,
      "metadata": {
        "id": "L7wvYUnd9p8s"
      },
      "outputs": [],
      "source": []
    },
    {
      "cell_type": "markdown",
      "metadata": {
        "id": "HBcSMKh_-umO"
      },
      "source": [
        "## Optional challenge problems\n",
        "\n",
        "For extra practice, but not required"
      ]
    },
    {
      "cell_type": "markdown",
      "metadata": {
        "id": "En7tSsiB-8aE"
      },
      "source": [
        "Extra 1. The following code cell creates a dictionary that is a catolog of items. Create another dictionary with exactly the same items and keys, but for which the values are prices as decimal numbers. Let the user type in a catalog number, then print the name of the item and its price. Prepend a dollar sign $ to the price before printing, but don’t include the dollar sign in the dictionary."
      ]
    },
    {
      "cell_type": "code",
      "execution_count": null,
      "metadata": {
        "id": "cHo1WgAZ-6rz"
      },
      "outputs": [],
      "source": [
        "catalog = {'1008':'widget', '2149':'flange', '19x5':'smoke shifter', '992':'poiuyt'}\n"
      ]
    },
    {
      "cell_type": "markdown",
      "metadata": {
        "id": "8TpJmUeQ_SIv"
      },
      "source": [
        "Extra 2. Modify the last program to convert the price of the selected item to euros (you may need to look up the exchange rate). Add an additional statement to print the price in euros, prepending the Unicode string for the euro sign (`\\u20AC`) to the numeric price. Make the print statement work so that there is no space between the euro sign and the price."
      ]
    },
    {
      "cell_type": "code",
      "execution_count": null,
      "metadata": {
        "id": "BGVS_4cV_gn3"
      },
      "outputs": [],
      "source": []
    }
  ],
  "metadata": {
    "colab": {
      "provenance": []
    },
    "kernelspec": {
      "display_name": "Python 3",
      "name": "python3"
    },
    "language_info": {
      "name": "python"
    }
  },
  "nbformat": 4,
  "nbformat_minor": 0
}
