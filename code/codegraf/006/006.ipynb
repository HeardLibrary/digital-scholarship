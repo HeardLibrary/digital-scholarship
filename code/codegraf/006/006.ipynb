{
 "cells": [
  {
   "cell_type": "markdown",
   "metadata": {},
   "source": [
    "# Lists\n",
    "\n",
    "## Instantiating a list"
   ]
  },
  {
   "cell_type": "code",
   "execution_count": null,
   "metadata": {},
   "outputs": [],
   "source": [
    "# Create an instance of a list\n",
    "basket = ['apple', 'orange', 'banana', 'lemon', 'lime']\n",
    "\n",
    "print(basket)\n",
    "print(len(basket))\n",
    "print(type(basket))\n",
    "print()\n",
    "print(basket[1])  # remember that Python uses zero-based indices\n",
    "print(type(basket[1]))"
   ]
  },
  {
   "cell_type": "code",
   "execution_count": null,
   "metadata": {},
   "outputs": [],
   "source": [
    "# Create a list of numbers\n",
    "favorite_numbers = [42, 3.14159, 2.71828, -13]\n",
    "\n",
    "print(favorite_numbers)\n",
    "print(len(favorite_numbers))\n",
    "print(type(favorite_numbers))\n",
    "print()\n",
    "\n",
    "print(favorite_numbers[0])\n",
    "print(type(favorite_numbers[0]))\n",
    "print()\n",
    "\n",
    "print(favorite_numbers[1])\n",
    "print(type(favorite_numbers[1]))"
   ]
  },
  {
   "cell_type": "markdown",
   "metadata": {},
   "source": [
    "## Output of functions or methods\n",
    "\n",
    "`listdir()` (list directory) function from `os` module."
   ]
  },
  {
   "cell_type": "code",
   "execution_count": null,
   "metadata": {},
   "outputs": [],
   "source": [
    "from os import listdir\n",
    "\n",
    "items_in_working_directory = listdir() # no argument for current working directory\n",
    "print(items_in_working_directory)"
   ]
  },
  {
   "cell_type": "markdown",
   "metadata": {},
   "source": [
    "`sample()` function from random module\n",
    "\n",
    "[`random` module documentation](https://docs.python.org/3.3/library/random.html)"
   ]
  },
  {
   "cell_type": "code",
   "execution_count": null,
   "metadata": {},
   "outputs": [],
   "source": [
    "import random\n",
    "\n",
    "population = int(input('How many items in hat? '))\n",
    "n = int(input('How many items to draw from hat? '))\n",
    "# sample without replacement\n",
    "pull_from_hat = random.sample(range(population), n) # first argument is a range object, second is number of samples\n",
    "print(pull_from_hat)"
   ]
  },
  {
   "cell_type": "markdown",
   "metadata": {},
   "source": [
    "`.split()` string method"
   ]
  },
  {
   "cell_type": "code",
   "execution_count": null,
   "metadata": {},
   "outputs": [],
   "source": [
    "my_sentence = 'It was a dark and stormy night.'\n",
    "words_list = my_sentence.split(' ')\n",
    "print(words_list)"
   ]
  },
  {
   "cell_type": "markdown",
   "metadata": {},
   "source": [
    "## Slicing lists"
   ]
  },
  {
   "cell_type": "code",
   "execution_count": null,
   "metadata": {},
   "outputs": [],
   "source": [
    "basket = ['apple', 'orange', 'banana', 'lemon', 'lime']\n",
    "\n",
    "a_slice = basket[1:4]\n",
    "\n",
    "print(a_slice)"
   ]
  },
  {
   "cell_type": "code",
   "execution_count": null,
   "metadata": {},
   "outputs": [],
   "source": [
    "# Slicing from the beginning\n",
    "print(basket[:4])"
   ]
  },
  {
   "cell_type": "code",
   "execution_count": null,
   "metadata": {},
   "outputs": [],
   "source": [
    "# Slicing to the end\n",
    "print(basket[2:])"
   ]
  },
  {
   "cell_type": "code",
   "execution_count": null,
   "metadata": {},
   "outputs": [],
   "source": [
    "# Slice relative to the end\n",
    "print(basket[-2:])"
   ]
  },
  {
   "cell_type": "code",
   "execution_count": null,
   "metadata": {},
   "outputs": [],
   "source": [
    "# What is the difference here:\n",
    "print(basket[0])\n",
    "print(basket[0:1])\n",
    "# Check the types"
   ]
  },
  {
   "cell_type": "code",
   "execution_count": null,
   "metadata": {},
   "outputs": [],
   "source": [
    "# Slicing a string\n",
    "a_word = 'Mississippi'\n",
    "word_piece = a_word[1:4]\n",
    "print(word_piece)"
   ]
  },
  {
   "cell_type": "markdown",
   "metadata": {},
   "source": [
    "## Things to do with a list\n",
    "\n"
   ]
  },
  {
   "cell_type": "code",
   "execution_count": null,
   "metadata": {},
   "outputs": [],
   "source": [
    "import random as r\n",
    "\n",
    "# Create some lists to play with\n",
    "cards = ['Ac', '2c', 'Jc', 'Qc', 'Kc', 'Ah', '2h', '3h']\n",
    "day_list = ['Sunday', 'Monday', 'Tuesday', 'Wednesday', 'Thursday', 'Friday', 'Saturday']"
   ]
  },
  {
   "cell_type": "markdown",
   "metadata": {},
   "source": [
    "**Randomize** a list. Use the `shuffle()` function from the `random` module.\n",
    "\n",
    "Pass in the list to be randomized as the argument.\n",
    "\n",
    "There is no return value."
   ]
  },
  {
   "cell_type": "code",
   "execution_count": null,
   "metadata": {},
   "outputs": [],
   "source": [
    "# Shuffle acts on the list object. It does not return a list.\n",
    "r.shuffle(cards)\n",
    "print(cards)"
   ]
  },
  {
   "cell_type": "markdown",
   "metadata": {},
   "source": [
    "**Sort** a list. Use the `.sort()` list method. \n",
    "\n",
    "No argument is required.\n",
    "\n",
    "There is no return value"
   ]
  },
  {
   "cell_type": "code",
   "execution_count": null,
   "metadata": {},
   "outputs": [],
   "source": [
    "# Sort acts on the list item. It does not return a list.\n",
    "day_list.sort()\n",
    "print(day_list)"
   ]
  },
  {
   "cell_type": "markdown",
   "metadata": {},
   "source": [
    "Pick a **random item** from a list. Use the `choice()` function from the `random` module.\n",
    "\n",
    "The list to pick from is passed in as an argument.\n",
    "\n",
    "The return value is the selected list item."
   ]
  },
  {
   "cell_type": "code",
   "execution_count": null,
   "metadata": {},
   "outputs": [],
   "source": [
    "# Choice returns a single item from a list\n",
    "print(day_list)\n",
    "picked_day = r.choice(day_list)\n",
    "print(picked_day)"
   ]
  },
  {
   "cell_type": "markdown",
   "metadata": {},
   "source": [
    "## Editing lists\n",
    "\n",
    "**Note:** the order in which you run the cells makes a difference."
   ]
  },
  {
   "cell_type": "code",
   "execution_count": null,
   "metadata": {},
   "outputs": [],
   "source": [
    "basket = ['apple', 'orange', 'banana', 'lemon', 'lime']\n",
    "print(basket)"
   ]
  },
  {
   "cell_type": "code",
   "execution_count": null,
   "metadata": {},
   "outputs": [],
   "source": [
    "basket[1] = 'tangerine'\n",
    "print(basket)"
   ]
  },
  {
   "cell_type": "code",
   "execution_count": null,
   "metadata": {},
   "outputs": [],
   "source": [
    "basket.remove('banana')\n",
    "print(basket)"
   ]
  },
  {
   "cell_type": "code",
   "execution_count": null,
   "metadata": {},
   "outputs": [],
   "source": [
    "basket.append('durian')\n",
    "print(basket)"
   ]
  },
  {
   "cell_type": "code",
   "execution_count": null,
   "metadata": {},
   "outputs": [],
   "source": [
    "del basket[0]\n",
    "print(basket)"
   ]
  },
  {
   "cell_type": "code",
   "execution_count": null,
   "metadata": {},
   "outputs": [],
   "source": [
    "lunch_bag = ['sandwich', 'cookie']\n",
    "lunch = lunch_bag + basket\n",
    "print(lunch)"
   ]
  },
  {
   "cell_type": "markdown",
   "metadata": {},
   "source": [
    "# Loops\n",
    "\n",
    "## Iterating using `for`\n",
    "\n",
    "Example"
   ]
  },
  {
   "cell_type": "code",
   "execution_count": null,
   "metadata": {},
   "outputs": [],
   "source": [
    "basket = ['apple', 'orange', 'banana', 'lemon', 'lime']\n",
    "for fruit in basket:\n",
    "    print('I ate one ' + fruit)\n",
    "print(\"I'm full now!\")"
   ]
  },
  {
   "cell_type": "code",
   "execution_count": null,
   "metadata": {},
   "outputs": [],
   "source": [
    "word = 'supercalifragilisticexpialidocious'\n",
    "print('Spell it out!')\n",
    "for letter in word:\n",
    "    print(letter)\n",
    "print('That wore me out.')"
   ]
  },
  {
   "cell_type": "markdown",
   "metadata": {},
   "source": [
    "## Ranges\n",
    "\n",
    "Examples"
   ]
  },
  {
   "cell_type": "code",
   "execution_count": null,
   "metadata": {},
   "outputs": [],
   "source": [
    "# Example explained in the video\n",
    "for number in range(1, 11):\n",
    "    the_square = number**2\n",
    "    the_area = the_square * 3.14159\n",
    "    print(number, '\\t', the_area)\n",
    "print(\"Those are the areas of all the circles!\")"
   ]
  },
  {
   "cell_type": "code",
   "execution_count": null,
   "metadata": {},
   "outputs": [],
   "source": [
    "for count in range(1,11):\n",
    "    print(count)"
   ]
  },
  {
   "cell_type": "code",
   "execution_count": null,
   "metadata": {},
   "outputs": [],
   "source": [
    "print('Prepare to launch!')\n",
    "for countDown in range(10,0,-1):\n",
    "    print(countDown)\n",
    "print('Lift off!')"
   ]
  },
  {
   "cell_type": "code",
   "execution_count": null,
   "metadata": {},
   "outputs": [],
   "source": [
    "cheer = ''\n",
    "for skipper in range(2, 10, 2):\n",
    "    cheer = cheer + str(skipper) + ', '\n",
    "cheer = cheer + 'who do we appreciate?'\n",
    "print(cheer)"
   ]
  },
  {
   "cell_type": "code",
   "execution_count": null,
   "metadata": {},
   "outputs": [],
   "source": [
    "basket = ['apple', 'orange', 'banana', 'lemon', 'lime']\n",
    "print(\"Here's a list of the fruit in the basket:\")\n",
    "for fruit_number in range(0, len(basket)):\n",
    "    print(str(fruit_number+1) + ' ' + basket[fruit_number])\n",
    "print('You can see that there are ' + str(len(basket)) + ' fruits in the basket.')"
   ]
  },
  {
   "cell_type": "markdown",
   "metadata": {},
   "source": [
    "## Looping with `while`\n",
    "\n",
    "Examples"
   ]
  },
  {
   "cell_type": "code",
   "execution_count": null,
   "metadata": {},
   "outputs": [],
   "source": [
    "power = 0 # must have an initial value\n",
    "exponent = 0\n",
    "print('exponent\\tpower')\n",
    "while power < 100:\n",
    "    power = 2**exponent\n",
    "    exponent += 1 # incrementing is critical for the loop to end\n",
    "    print(exponent, '\\t', power)\n",
    "print(\"Those are the powers of two.\")\n"
   ]
  },
  {
   "cell_type": "code",
   "execution_count": null,
   "metadata": {},
   "outputs": [],
   "source": [
    "string = input('Try pressing only the Enter key ')\n",
    "print(string)\n",
    "print(len(string))"
   ]
  },
  {
   "cell_type": "code",
   "execution_count": null,
   "metadata": {},
   "outputs": [],
   "source": [
    "print('Enter your list items and press Enter when done')\n",
    "item = 'something'\n",
    "word_list = []\n",
    "\n",
    "while item != '': # check for the empty string\n",
    "    item = input('Next item: ')\n",
    "    word_list.append(item)\n",
    "\n",
    "# remove the final empty string\n",
    "del word_list[len(word_list)-1]\n",
    "#word_list = word_list[:len(word_list)] # alternate way to remove by slicing\n",
    "print('Your list is:', word_list)    "
   ]
  },
  {
   "cell_type": "markdown",
   "metadata": {},
   "source": [
    "# Aside: applying methods sequentially"
   ]
  },
  {
   "cell_type": "code",
   "execution_count": null,
   "metadata": {},
   "outputs": [],
   "source": [
    "my_sentence = 'And it was a dark and stormy night and I got sick.'"
   ]
  },
  {
   "cell_type": "code",
   "execution_count": null,
   "metadata": {},
   "outputs": [],
   "source": [
    "print(my_sentence)\n",
    "\n",
    "# Turn the sentence to all lower case. Output type is a string.\n",
    "lower_sentence = my_sentence.lower()\n",
    "print(lower_sentence)\n",
    "\n",
    "# Split the sentence at the spaces. Output type is a list.\n",
    "words_list = lower_sentence.split(' ')\n",
    "print(words_list)\n",
    "\n",
    "# Count the number of occurrences of \"and\" in the list. Output type is an integer number.\n",
    "number = words_list.count('and')\n",
    "print(number)"
   ]
  },
  {
   "cell_type": "code",
   "execution_count": null,
   "metadata": {},
   "outputs": [],
   "source": [
    "# Methods are applied sequentially from left to right.\n",
    "number = my_sentence.lower().split(' ').count('and')\n",
    "print(number)"
   ]
  },
  {
   "cell_type": "code",
   "execution_count": null,
   "metadata": {},
   "outputs": [],
   "source": []
  }
 ],
 "metadata": {
  "kernelspec": {
   "display_name": "Python 3",
   "language": "python",
   "name": "python3"
  },
  "language_info": {
   "codemirror_mode": {
    "name": "ipython",
    "version": 3
   },
   "file_extension": ".py",
   "mimetype": "text/x-python",
   "name": "python",
   "nbconvert_exporter": "python",
   "pygments_lexer": "ipython3",
   "version": "3.7.1"
  }
 },
 "nbformat": 4,
 "nbformat_minor": 2
}
