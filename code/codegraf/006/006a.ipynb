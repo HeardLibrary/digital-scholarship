{
 "cells": [
  {
   "cell_type": "markdown",
   "metadata": {},
   "source": [
    "# Lists\n",
    "\n",
    "## Instantiating a list"
   ]
  },
  {
   "cell_type": "code",
   "execution_count": null,
   "metadata": {},
   "outputs": [],
   "source": [
    "# Create an instance of a list\n",
    "basket = ['apple', 'orange', 'banana', 'lemon', 'lime']\n",
    "\n",
    "print(basket)\n",
    "print(len(basket))\n",
    "print(type(basket))\n",
    "print()\n",
    "print(basket[1])  # remember that Python uses zero-based indices\n",
    "print(type(basket[1]))"
   ]
  },
  {
   "cell_type": "code",
   "execution_count": null,
   "metadata": {},
   "outputs": [],
   "source": [
    "# Create a list of numbers\n",
    "favorite_numbers = [42, 3.14159, 2.71828, -13]\n",
    "\n",
    "print(favorite_numbers)\n",
    "print(len(favorite_numbers))\n",
    "print(type(favorite_numbers))\n",
    "print()\n",
    "\n",
    "print(favorite_numbers[0])\n",
    "print(type(favorite_numbers[0]))\n",
    "print()\n",
    "\n",
    "print(favorite_numbers[1])\n",
    "print(type(favorite_numbers[1]))"
   ]
  },
  {
   "cell_type": "markdown",
   "metadata": {},
   "source": [
    "## Output of functions or methods\n",
    "\n",
    "`listdir()` (list directory) function from `os` module."
   ]
  },
  {
   "cell_type": "code",
   "execution_count": null,
   "metadata": {},
   "outputs": [],
   "source": [
    "from os import listdir\n",
    "\n",
    "items_in_working_directory = listdir() # no argument for current working directory\n",
    "print(items_in_working_directory)"
   ]
  },
  {
   "cell_type": "markdown",
   "metadata": {},
   "source": [
    "`sample()` function from random module\n",
    "\n",
    "[`random` module documentation](https://docs.python.org/3.3/library/random.html)"
   ]
  },
  {
   "cell_type": "code",
   "execution_count": null,
   "metadata": {},
   "outputs": [],
   "source": [
    "import random\n",
    "\n",
    "population = int(input('How many items in hat? '))\n",
    "n = int(input('How many items to draw from hat? '))\n",
    "# sample without replacement\n",
    "pull_from_hat = random.sample(range(population), n) # first argument is a range object, second is number of samples\n",
    "print(pull_from_hat)"
   ]
  },
  {
   "cell_type": "markdown",
   "metadata": {},
   "source": [
    "`.split()` string method"
   ]
  },
  {
   "cell_type": "code",
   "execution_count": null,
   "metadata": {},
   "outputs": [],
   "source": [
    "my_sentence = 'It was a dark and stormy night.'\n",
    "words_list = my_sentence.split(' ')\n",
    "print(words_list)"
   ]
  },
  {
   "cell_type": "markdown",
   "metadata": {},
   "source": [
    "## Slicing lists"
   ]
  },
  {
   "cell_type": "code",
   "execution_count": null,
   "metadata": {},
   "outputs": [],
   "source": [
    "basket = ['apple', 'orange', 'banana', 'lemon', 'lime']\n",
    "\n",
    "a_slice = basket[1:4]\n",
    "\n",
    "print(a_slice)"
   ]
  },
  {
   "cell_type": "code",
   "execution_count": null,
   "metadata": {},
   "outputs": [],
   "source": [
    "# Slicing from the beginning\n",
    "print(basket[:4])"
   ]
  },
  {
   "cell_type": "code",
   "execution_count": null,
   "metadata": {},
   "outputs": [],
   "source": [
    "# Slicing to the end\n",
    "print(basket[2:])"
   ]
  },
  {
   "cell_type": "code",
   "execution_count": null,
   "metadata": {},
   "outputs": [],
   "source": [
    "# Slice relative to the end\n",
    "print(basket[-2:])"
   ]
  },
  {
   "cell_type": "code",
   "execution_count": null,
   "metadata": {},
   "outputs": [],
   "source": [
    "# What is the difference here:\n",
    "print(basket[0])\n",
    "print(basket[0:1])\n",
    "# Check the types"
   ]
  },
  {
   "cell_type": "code",
   "execution_count": null,
   "metadata": {},
   "outputs": [],
   "source": [
    "# Slicing a string\n",
    "a_word = 'Mississippi'\n",
    "word_piece = a_word[1:4]\n",
    "print(word_piece)"
   ]
  },
  {
   "cell_type": "markdown",
   "metadata": {},
   "source": [
    "## Things to do with a list\n",
    "\n"
   ]
  },
  {
   "cell_type": "code",
   "execution_count": null,
   "metadata": {},
   "outputs": [],
   "source": [
    "import random as r\n",
    "\n",
    "# Create some lists to play with\n",
    "cards = ['Ac', '2c', 'Jc', 'Qc', 'Kc', 'Ah', '2h', '3h']\n",
    "day_list = ['Sunday', 'Monday', 'Tuesday', 'Wednesday', 'Thursday', 'Friday', 'Saturday']"
   ]
  },
  {
   "cell_type": "markdown",
   "metadata": {},
   "source": [
    "**Randomize** a list. Use the `shuffle()` function from the `random` module.\n",
    "\n",
    "Pass in the list to be randomized as the argument.\n",
    "\n",
    "There is no return value."
   ]
  },
  {
   "cell_type": "code",
   "execution_count": null,
   "metadata": {},
   "outputs": [],
   "source": [
    "# Shuffle acts on the list object. It does not return a list.\n",
    "r.shuffle(cards)\n",
    "print(cards)"
   ]
  },
  {
   "cell_type": "markdown",
   "metadata": {},
   "source": [
    "**Sort** a list. Use the `.sort()` list method. \n",
    "\n",
    "No argument is required.\n",
    "\n",
    "There is no return value"
   ]
  },
  {
   "cell_type": "code",
   "execution_count": null,
   "metadata": {},
   "outputs": [],
   "source": [
    "# Sort acts on the list item. It does not return a list.\n",
    "day_list.sort()\n",
    "print(day_list)"
   ]
  },
  {
   "cell_type": "markdown",
   "metadata": {},
   "source": [
    "Pick a **random item** from a list. Use the `choice()` function from the `random` module.\n",
    "\n",
    "The list to pick from is passed in as an argument.\n",
    "\n",
    "The return value is the selected list item."
   ]
  },
  {
   "cell_type": "code",
   "execution_count": null,
   "metadata": {},
   "outputs": [],
   "source": [
    "# Choice returns a single item from a list\n",
    "print(day_list)\n",
    "picked_day = r.choice(day_list)\n",
    "print(picked_day)"
   ]
  },
  {
   "cell_type": "markdown",
   "metadata": {},
   "source": [
    "## Editing lists\n",
    "\n",
    "**Note:** the order in which you run the cells makes a difference."
   ]
  },
  {
   "cell_type": "code",
   "execution_count": null,
   "metadata": {},
   "outputs": [],
   "source": [
    "basket = ['apple', 'orange', 'banana', 'lemon', 'lime']\n",
    "print(basket)"
   ]
  },
  {
   "cell_type": "code",
   "execution_count": null,
   "metadata": {},
   "outputs": [],
   "source": [
    "basket[1] = 'tangerine'\n",
    "print(basket)"
   ]
  },
  {
   "cell_type": "code",
   "execution_count": null,
   "metadata": {},
   "outputs": [],
   "source": [
    "basket.remove('banana')\n",
    "print(basket)"
   ]
  },
  {
   "cell_type": "code",
   "execution_count": null,
   "metadata": {},
   "outputs": [],
   "source": [
    "basket.append('durian')\n",
    "print(basket)"
   ]
  },
  {
   "cell_type": "code",
   "execution_count": null,
   "metadata": {},
   "outputs": [],
   "source": [
    "del basket[0]\n",
    "print(basket)"
   ]
  },
  {
   "cell_type": "code",
   "execution_count": null,
   "metadata": {},
   "outputs": [],
   "source": [
    "lunch_bag = ['sandwich', 'cookie']\n",
    "lunch = lunch_bag + basket\n",
    "print(lunch)"
   ]
  },
  {
   "cell_type": "markdown",
   "metadata": {},
   "source": [
    "# Dictionaries\n",
    "\n",
    "## Instantiating a dictionary\n",
    "\n",
    "Examples"
   ]
  },
  {
   "cell_type": "code",
   "execution_count": null,
   "metadata": {},
   "outputs": [],
   "source": [
    "catalog = {'1008':'widget', '2149':'flange', '19x5':'smoke shifter', '992':'poiuyt'}\n",
    "profile = {'name':'Mickey Mouse', 'company':'Disney', 'animated':True, 'fingers':8}\n",
    "\n",
    "print(catalog['2149'])\n",
    "print(profile['name'])"
   ]
  },
  {
   "cell_type": "code",
   "execution_count": null,
   "metadata": {},
   "outputs": [],
   "source": [
    "# The key can be a string variable rather than a literal\n",
    "characteristic = 'animated'\n",
    "print(profile[characteristic])\n",
    "\n",
    "trait = input('What do you want to know about the character? ')\n",
    "print(\"The character's\", trait, 'is', profile[trait])"
   ]
  },
  {
   "cell_type": "markdown",
   "metadata": {},
   "source": [
    "## Editing a dictionary"
   ]
  },
  {
   "cell_type": "code",
   "execution_count": null,
   "metadata": {},
   "outputs": [],
   "source": [
    "my_dict = {}\n",
    "my_dict['name'] = input('What is the character name? ')\n",
    "print(my_dict)\n",
    "my_dict['company'] = input('Who does the character work for? ')\n",
    "print(my_dict)\n",
    "my_dict['fingers'] = int(input('How many fingers does the character have? '))\n",
    "print(my_dict)"
   ]
  },
  {
   "cell_type": "code",
   "execution_count": null,
   "metadata": {},
   "outputs": [],
   "source": [
    "print(catalog)\n",
    "\n",
    "catalog['2149'] = 'thingamajig'\n",
    "print(catalog)\n",
    "\n",
    "del catalog['1008']\n",
    "print(catalog)"
   ]
  },
  {
   "cell_type": "code",
   "execution_count": null,
   "metadata": {},
   "outputs": [],
   "source": []
  }
 ],
 "metadata": {
  "kernelspec": {
   "display_name": "Python 3",
   "language": "python",
   "name": "python3"
  },
  "language_info": {
   "codemirror_mode": {
    "name": "ipython",
    "version": 3
   },
   "file_extension": ".py",
   "mimetype": "text/x-python",
   "name": "python",
   "nbconvert_exporter": "python",
   "pygments_lexer": "ipython3",
   "version": "3.7.1"
  }
 },
 "nbformat": 4,
 "nbformat_minor": 2
}
