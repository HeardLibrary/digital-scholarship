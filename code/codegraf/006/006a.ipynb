{
  "nbformat": 4,
  "nbformat_minor": 0,
  "metadata": {
    "kernelspec": {
      "display_name": "Python 3",
      "language": "python",
      "name": "python3"
    },
    "language_info": {
      "codemirror_mode": {
        "name": "ipython",
        "version": 3
      },
      "file_extension": ".py",
      "mimetype": "text/x-python",
      "name": "python",
      "nbconvert_exporter": "python",
      "pygments_lexer": "ipython3",
      "version": "3.7.1"
    },
    "colab": {
      "provenance": []
    }
  },
  "cells": [
    {
      "cell_type": "markdown",
      "metadata": {
        "id": "grQoNqVoI_um"
      },
      "source": [
        "# Lists\n",
        "\n",
        "## Instantiating a list"
      ]
    },
    {
      "cell_type": "code",
      "metadata": {
        "id": "8C21JqNvI_un"
      },
      "source": [
        "# Create an instance of a list\n",
        "basket = ['apple', 'orange', 'banana', 'lemon', 'lime']\n",
        "\n",
        "print(basket)\n",
        "print(len(basket))\n",
        "print(type(basket))\n",
        "print()\n",
        "print(basket[1])  # remember that Python uses zero-based indices\n",
        "print(type(basket[1]))"
      ],
      "execution_count": null,
      "outputs": []
    },
    {
      "cell_type": "code",
      "metadata": {
        "id": "ptAgcr3VI_uq"
      },
      "source": [
        "# Create a list of numbers\n",
        "favorite_numbers = [42, 3.14159, 2.71828, -13]\n",
        "\n",
        "print(favorite_numbers)\n",
        "print(len(favorite_numbers))\n",
        "print(type(favorite_numbers))\n",
        "print()\n",
        "\n",
        "print(favorite_numbers[0])\n",
        "print(type(favorite_numbers[0]))\n",
        "print()\n",
        "\n",
        "print(favorite_numbers[1])\n",
        "print(type(favorite_numbers[1]))"
      ],
      "execution_count": null,
      "outputs": []
    },
    {
      "cell_type": "markdown",
      "source": [
        "## Practice\n",
        "\n",
        "Create a list of the four cardinal directions (`north`, `south`, etc.). Print the whole list, then print the second item on the list."
      ],
      "metadata": {
        "id": "4tpM9Hmlw0vH"
      }
    },
    {
      "cell_type": "code",
      "source": [],
      "metadata": {
        "id": "5JpOuwLbxI9P"
      },
      "execution_count": null,
      "outputs": []
    },
    {
      "cell_type": "markdown",
      "metadata": {
        "id": "NeXFcalNI_ut"
      },
      "source": [
        "## Output of functions or methods\n",
        "\n",
        "`listdir()` (list directory) function from `os` module."
      ]
    },
    {
      "cell_type": "code",
      "metadata": {
        "id": "3swlrmiQI_ut"
      },
      "source": [
        "from os import listdir\n",
        "\n",
        "items_in_working_directory = listdir() # no argument for current working directory\n",
        "print(items_in_working_directory)"
      ],
      "execution_count": null,
      "outputs": []
    },
    {
      "cell_type": "markdown",
      "metadata": {
        "id": "ochhnpoBI_uw"
      },
      "source": [
        "`sample()` function from random module\n",
        "\n",
        "[`random` module documentation](https://docs.python.org/3.3/library/random.html)"
      ]
    },
    {
      "cell_type": "code",
      "metadata": {
        "id": "cBi8CxIvI_uw"
      },
      "source": [
        "import random\n",
        "\n",
        "population = int(input('How many items in hat? '))\n",
        "n = int(input('How many items to draw from hat? '))\n",
        "# sample without replacement\n",
        "pull_from_hat = random.sample(range(population), n) # first argument is a range object, second is number of samples\n",
        "print(pull_from_hat)"
      ],
      "execution_count": null,
      "outputs": []
    },
    {
      "cell_type": "markdown",
      "metadata": {
        "id": "dtoEFtdsI_uz"
      },
      "source": [
        "`.split()` string method"
      ]
    },
    {
      "cell_type": "code",
      "metadata": {
        "id": "xzemBOZsI_uz"
      },
      "source": [
        "my_sentence = 'It was a dark and stormy night.'\n",
        "words_list = my_sentence.split(' ')\n",
        "print(words_list)"
      ],
      "execution_count": null,
      "outputs": []
    },
    {
      "cell_type": "markdown",
      "source": [
        "## Practice\n",
        "\n",
        "Split the phone number by dashes, then print the area code."
      ],
      "metadata": {
        "id": "IbnU1mYzyzt-"
      }
    },
    {
      "cell_type": "code",
      "source": [
        "phone_number = '615-343-1234'\n"
      ],
      "metadata": {
        "id": "JOUok73ry_zS"
      },
      "execution_count": null,
      "outputs": []
    },
    {
      "cell_type": "markdown",
      "metadata": {
        "id": "B0JZ-WnSI_u2"
      },
      "source": [
        "## Slicing lists"
      ]
    },
    {
      "cell_type": "code",
      "metadata": {
        "id": "tW4wxoQuI_u2"
      },
      "source": [
        "basket = ['apple', 'orange', 'banana', 'lemon', 'lime']\n",
        "\n",
        "a_slice = basket[1:4]\n",
        "\n",
        "print(a_slice)"
      ],
      "execution_count": null,
      "outputs": []
    },
    {
      "cell_type": "code",
      "metadata": {
        "id": "6Fw73a9uI_u5"
      },
      "source": [
        "# Slicing from the beginning\n",
        "print(basket[:4])"
      ],
      "execution_count": null,
      "outputs": []
    },
    {
      "cell_type": "code",
      "metadata": {
        "id": "4fAoaMRhI_u_"
      },
      "source": [
        "# Slicing to the end\n",
        "print(basket[2:])"
      ],
      "execution_count": null,
      "outputs": []
    },
    {
      "cell_type": "code",
      "metadata": {
        "id": "AqEy_mE3I_vB"
      },
      "source": [
        "# Slice relative to the end\n",
        "print(basket[-2:])"
      ],
      "execution_count": null,
      "outputs": []
    },
    {
      "cell_type": "code",
      "metadata": {
        "id": "DSuhHSLJI_vD"
      },
      "source": [
        "# What is the difference here:\n",
        "print(basket[0])\n",
        "print(basket[0:1])\n",
        "# Check the types"
      ],
      "execution_count": null,
      "outputs": []
    },
    {
      "cell_type": "code",
      "metadata": {
        "id": "jVNGSeg1I_vG"
      },
      "source": [
        "# Slicing a string\n",
        "a_word = 'Mississippi'\n",
        "word_piece = a_word[1:4]\n",
        "print(word_piece)"
      ],
      "execution_count": null,
      "outputs": []
    },
    {
      "cell_type": "markdown",
      "source": [
        "## Practice\n",
        "\n",
        "Slice the weekdays (non-weekend days) from the list and print the new list."
      ],
      "metadata": {
        "id": "iO_pfIt7zLzY"
      }
    },
    {
      "cell_type": "code",
      "source": [
        "day_list = ['Sunday', 'Monday', 'Tuesday', 'Wednesday', 'Thursday', 'Friday', 'Saturday']\n"
      ],
      "metadata": {
        "id": "KkMsEkXizmJ-"
      },
      "execution_count": null,
      "outputs": []
    },
    {
      "cell_type": "markdown",
      "metadata": {
        "id": "WIcj_NLFI_vJ"
      },
      "source": [
        "## Things to do with a list\n",
        "\n"
      ]
    },
    {
      "cell_type": "code",
      "metadata": {
        "id": "ZegvkKn1I_vJ"
      },
      "source": [
        "import random as r\n",
        "\n",
        "# Create some lists to play with\n",
        "cards = ['Ac', '2c', 'Jc', 'Qc', 'Kc', 'Ah', '2h', '3h']\n",
        "day_list = ['Sunday', 'Monday', 'Tuesday', 'Wednesday', 'Thursday', 'Friday', 'Saturday']"
      ],
      "execution_count": null,
      "outputs": []
    },
    {
      "cell_type": "markdown",
      "metadata": {
        "id": "Gg3dTvKdI_vL"
      },
      "source": [
        "**Randomize** a list. Use the `shuffle()` function from the `random` module.\n",
        "\n",
        "Pass in the list to be randomized as the argument.\n",
        "\n",
        "There is no return value."
      ]
    },
    {
      "cell_type": "code",
      "metadata": {
        "id": "lgFcMnYWI_vM"
      },
      "source": [
        "# Shuffle acts on the list object. It does not return a list.\n",
        "r.shuffle(cards)\n",
        "print(cards)"
      ],
      "execution_count": null,
      "outputs": []
    },
    {
      "cell_type": "markdown",
      "metadata": {
        "id": "QXRDRY7sI_vO"
      },
      "source": [
        "**Sort** a list. Use the `.sort()` list method. \n",
        "\n",
        "No argument is required.\n",
        "\n",
        "There is no return value"
      ]
    },
    {
      "cell_type": "code",
      "metadata": {
        "id": "fbzH5wr_I_vO"
      },
      "source": [
        "# Sort acts on the list item. It does not return a list.\n",
        "day_list.sort()\n",
        "print(day_list)"
      ],
      "execution_count": null,
      "outputs": []
    },
    {
      "cell_type": "markdown",
      "metadata": {
        "id": "t6AmVo4oI_vQ"
      },
      "source": [
        "Pick a **random item** from a list. Use the `choice()` function from the `random` module.\n",
        "\n",
        "The list to pick from is passed in as an argument.\n",
        "\n",
        "The return value is the selected list item."
      ]
    },
    {
      "cell_type": "code",
      "metadata": {
        "id": "0QMDUbg_I_vQ"
      },
      "source": [
        "# Choice returns a single item from a list\n",
        "print(day_list)\n",
        "picked_day = r.choice(day_list)\n",
        "print(picked_day)"
      ],
      "execution_count": null,
      "outputs": []
    },
    {
      "cell_type": "markdown",
      "source": [
        "## Practice\n",
        "\n",
        "Randomize the numbers from 0 to 10 and print the resulting list. Then sort them back into numeric order and print the list."
      ],
      "metadata": {
        "id": "86klto500FtW"
      }
    },
    {
      "cell_type": "code",
      "source": [
        "import random as r\n",
        "numbers = [0, 1, 2, 3, 4, 5, 6, 7, 8, 9, 10]\n"
      ],
      "metadata": {
        "id": "0-eRk64Q0WPJ"
      },
      "execution_count": null,
      "outputs": []
    },
    {
      "cell_type": "markdown",
      "metadata": {
        "id": "ROUqUNe1I_vS"
      },
      "source": [
        "## Editing lists\n",
        "\n",
        "**Note:** the order in which you run the cells makes a difference."
      ]
    },
    {
      "cell_type": "code",
      "metadata": {
        "id": "hnkFHwxOI_vT"
      },
      "source": [
        "basket = ['apple', 'orange', 'banana', 'lemon', 'lime']\n",
        "print(basket)"
      ],
      "execution_count": null,
      "outputs": []
    },
    {
      "cell_type": "code",
      "metadata": {
        "id": "aiOHmf4_I_vV"
      },
      "source": [
        "basket[1] = 'tangerine'\n",
        "print(basket)"
      ],
      "execution_count": null,
      "outputs": []
    },
    {
      "cell_type": "code",
      "metadata": {
        "id": "wLKK56s3I_vX"
      },
      "source": [
        "basket.remove('banana')\n",
        "print(basket)"
      ],
      "execution_count": null,
      "outputs": []
    },
    {
      "cell_type": "code",
      "metadata": {
        "id": "VRsCWuFUI_vZ"
      },
      "source": [
        "basket.append('durian')\n",
        "print(basket)"
      ],
      "execution_count": null,
      "outputs": []
    },
    {
      "cell_type": "code",
      "metadata": {
        "id": "RBKJSWFlI_vb"
      },
      "source": [
        "del basket[0]\n",
        "print(basket)"
      ],
      "execution_count": null,
      "outputs": []
    },
    {
      "cell_type": "code",
      "metadata": {
        "id": "wzm_AVAvI_vd"
      },
      "source": [
        "lunch_bag = ['sandwich', 'cookie']\n",
        "lunch = lunch_bag + basket\n",
        "print(lunch)"
      ],
      "execution_count": null,
      "outputs": []
    },
    {
      "cell_type": "markdown",
      "source": [
        "## Practice\n",
        "\n",
        "Add `hamster` to the end of the list. Then remove `cat` from the list."
      ],
      "metadata": {
        "id": "PoxR4G1o04PL"
      }
    },
    {
      "cell_type": "code",
      "source": [
        "my_pets = ['snake', 'cat', 'dog', 'fish']\n"
      ],
      "metadata": {
        "id": "upzMFegx1B2N"
      },
      "execution_count": null,
      "outputs": []
    },
    {
      "cell_type": "markdown",
      "metadata": {
        "id": "bV8-xYpmI_vf"
      },
      "source": [
        "# Dictionaries\n",
        "\n",
        "## Instantiating a dictionary\n",
        "\n",
        "Examples"
      ]
    },
    {
      "cell_type": "code",
      "metadata": {
        "id": "h9fUAda2I_vf"
      },
      "source": [
        "catalog = {'1008':'widget', '2149':'flange', '19x5':'smoke shifter', '992':'poiuyt'}\n",
        "profile = {'name':'Mickey Mouse', 'company':'Disney', 'animated':True, 'fingers':8}\n",
        "\n",
        "print(catalog['2149'])\n",
        "print(profile['name'])"
      ],
      "execution_count": null,
      "outputs": []
    },
    {
      "cell_type": "code",
      "metadata": {
        "id": "liDR9n3ZI_vh"
      },
      "source": [
        "# The key can be a string variable rather than a literal\n",
        "characteristic = 'animated'\n",
        "print(profile[characteristic])\n",
        "\n",
        "trait = input('What do you want to know about the character? ')\n",
        "print(\"The character's\", trait, 'is', profile[trait])"
      ],
      "execution_count": null,
      "outputs": []
    },
    {
      "cell_type": "markdown",
      "metadata": {
        "id": "eaQ8-j_GI_vl"
      },
      "source": [
        "## Editing a dictionary"
      ]
    },
    {
      "cell_type": "code",
      "metadata": {
        "id": "n9gi3JLhI_vl"
      },
      "source": [
        "my_dict = {}\n",
        "my_dict['name'] = input('What is the character name? ')\n",
        "print(my_dict)\n",
        "my_dict['company'] = input('Who does the character work for? ')\n",
        "print(my_dict)\n",
        "my_dict['fingers'] = int(input('How many fingers does the character have? '))\n",
        "print(my_dict)"
      ],
      "execution_count": null,
      "outputs": []
    },
    {
      "cell_type": "code",
      "metadata": {
        "id": "xOIHe_5xI_vo"
      },
      "source": [
        "print(catalog)\n",
        "\n",
        "catalog['2149'] = 'thingamajig'\n",
        "print(catalog)\n",
        "\n",
        "del catalog['1008']\n",
        "print(catalog)"
      ],
      "execution_count": null,
      "outputs": []
    },
    {
      "cell_type": "markdown",
      "source": [
        "## Practice\n",
        "\n",
        "The starter code has some data retrieved from the Twitter API for a tweet. Print the text of the tweet, then change the vanlue of the `lang` key to Spanish (language code `es`) and print the dictionary."
      ],
      "metadata": {
        "id": "8Oa9_J2Q1T_d"
      }
    },
    {
      "cell_type": "code",
      "metadata": {
        "id": "lfeeJH5QI_vq"
      },
      "source": [
        "tweet = {'created_at':'Wed Sep 18 14:08:54 +0000 2019', 'text':'RT @wnprwheelhouse: @wnprharriet кричать @wnpr !','lang':'ru'}\n"
      ],
      "execution_count": null,
      "outputs": []
    }
  ]
}