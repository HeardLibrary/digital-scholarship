{
  "cells": [
    {
      "cell_type": "markdown",
      "metadata": {
        "id": "-CtqNXAIMs88"
      },
      "source": [
        "# Assignment\n",
        "\n",
        "The `=` sign is used to assign objects to variables in Python. In Jupyter notebooks and the shell, variable name on a line by itself displays the value of that variable. In a Jupyter notebook running in VS Code, to clear the output of cells, select `Clear All Outputs` from the options at the top of the notebook."
      ]
    },
    {
      "cell_type": "code",
      "execution_count": null,
      "metadata": {
        "id": "bUVideMJMs89"
      },
      "outputs": [],
      "source": [
        "character_name = 'Wilma'\n",
        "\n",
        "character_name"
      ]
    },
    {
      "cell_type": "code",
      "execution_count": null,
      "metadata": {
        "id": "o3I14_MXMs9A"
      },
      "outputs": [],
      "source": [
        "input_voltage = 12.3\n",
        "\n",
        "input_voltage"
      ]
    },
    {
      "cell_type": "code",
      "execution_count": null,
      "metadata": {
        "id": "r8S70025Ms9D"
      },
      "outputs": [],
      "source": [
        "matched = False\n",
        "\n",
        "matched"
      ]
    },
    {
      "cell_type": "markdown",
      "metadata": {
        "id": "KOWAGAZOMs9F"
      },
      "source": [
        "Generally spacing between operators and variable names is not important. It is conventional to leave a space between operators and variables.\n",
        "\n",
        "However, indentation level at the left of a line is critical. (More on that later.)\n",
        "\n",
        "Either double quotes `\"` or single quotes `'` can be used to define literal strings, but single quotes are conventional in Python.\n",
        "\n",
        "Blank lines are ignored and can be used to improve readability.\n",
        "\n",
        "Conventional style guidelines for Python are given in the [PEP 8 style guide](https://www.python.org/dev/peps/pep-0008/)"
      ]
    },
    {
      "cell_type": "code",
      "execution_count": null,
      "metadata": {
        "id": "I_m3s-mCMs9G"
      },
      "outputs": [],
      "source": [
        "character_name = 'Wilma'\n",
        "character_name"
      ]
    },
    {
      "cell_type": "code",
      "execution_count": null,
      "metadata": {
        "id": "mm_mzLQkMs9I"
      },
      "outputs": [],
      "source": [
        "character_name='Wilma'\n",
        "\n",
        "character_name"
      ]
    },
    {
      "cell_type": "code",
      "execution_count": null,
      "metadata": {
        "id": "wqM-mlVZMs9M"
      },
      "outputs": [],
      "source": [
        "character_name    =    \"Wilma\"\n",
        "character_name"
      ]
    },
    {
      "cell_type": "markdown",
      "metadata": {
        "id": "cS-fD1ZtMs9O"
      },
      "source": [
        "# Built-in functions\n",
        "\n",
        "Common built-in functions are `print()` and `input()`."
      ]
    },
    {
      "cell_type": "code",
      "execution_count": null,
      "metadata": {
        "id": "qmfFZc1TMs9P"
      },
      "outputs": [],
      "source": [
        "# The argument passed into the print() function is printed to the display.\n",
        "# There is no return value\n",
        "\n",
        "print(character_name) # pass in a variable\n",
        "print() # pass in nothing\n",
        "print('Fred') # pass in a literal"
      ]
    },
    {
      "cell_type": "code",
      "execution_count": null,
      "metadata": {
        "id": "_3AqffsiMs9R"
      },
      "outputs": [],
      "source": [
        "# The argument passed into the input() function is the prompt to the user.\n",
        "# The return value is the string entered by the user from the keyboard.\n",
        "my_character = input('What is the name of the character? ')\n",
        "\n",
        "print(my_character)"
      ]
    },
    {
      "cell_type": "markdown",
      "metadata": {},
      "source": [
        "## Practice\n",
        "\n",
        "In the cell below, write a statement that uses the `input` function to prompt the user to enter their phone number. Assign the returned value to an appropriately named variable that uses snake_case. Pass that variable as an argument into the `print` function to display what they entered."
      ]
    },
    {
      "cell_type": "code",
      "execution_count": null,
      "metadata": {},
      "outputs": [],
      "source": []
    },
    {
      "cell_type": "markdown",
      "metadata": {
        "id": "ptszSxwuMs9T"
      },
      "source": [
        "## Object types\n",
        "\n",
        "At this point we are interested in three types of objects: *string*, *number*, and *boolean*."
      ]
    },
    {
      "cell_type": "code",
      "execution_count": null,
      "metadata": {
        "id": "a3wi7xm8Ms9U"
      },
      "outputs": [],
      "source": [
        "# The argument passed into the type function is the object whose type you want to know.\n",
        "# The return value is the type of the object.\n",
        "\n",
        "# The output can be assigned to a variable.\n",
        "the_type = type(\"a word\")\n",
        "print(the_type)"
      ]
    },
    {
      "cell_type": "code",
      "execution_count": null,
      "metadata": {
        "id": "iSnbMW-dMs9W"
      },
      "outputs": [],
      "source": [
        "# A function can be nested inside another function\n",
        "print(type(True))"
      ]
    },
    {
      "cell_type": "code",
      "execution_count": null,
      "metadata": {
        "id": "IFF56ZcuMs9Z"
      },
      "outputs": [],
      "source": [
        "# Numbers can be of several types\n",
        "print(type(3))\n",
        "print(type(4.6))"
      ]
    },
    {
      "cell_type": "code",
      "execution_count": null,
      "metadata": {
        "id": "5egbj9GCMs9b"
      },
      "outputs": [],
      "source": [
        "# Either literal values or variables can be passed into a function\n",
        "\n",
        "# Check the type of variables defined before\n",
        "print(type(character_name))\n",
        "print(type(input_voltage))\n",
        "print(type(matched))"
      ]
    },
    {
      "cell_type": "code",
      "execution_count": null,
      "metadata": {
        "id": "lxpTtYdHMs9e"
      },
      "outputs": [],
      "source": [
        "# What is the type of the output of the input() function?\n",
        "answer = input(\"Input a string or number: \")\n",
        "print(answer)\n",
        "print(type(answer))"
      ]
    },
    {
      "cell_type": "code",
      "execution_count": null,
      "metadata": {
        "id": "Gp23rpBcMs9g"
      },
      "outputs": [],
      "source": [
        "# Variables don't have a fixed type.\n",
        "# Their type is determined by the class of the object you put into them.\n",
        "a_variable = \"word\"\n",
        "print(type(a_variable))\n",
        "\n",
        "a_variable = 45\n",
        "print(type(a_variable))\n",
        "\n",
        "a_variable = True\n",
        "print(type(a_variable))"
      ]
    },
    {
      "cell_type": "markdown",
      "metadata": {
        "id": "SdpDcqFjMs9i"
      },
      "source": [
        "Functions have different requirements for their arguments."
      ]
    },
    {
      "cell_type": "code",
      "execution_count": null,
      "metadata": {
        "id": "6I66op7JMs9j"
      },
      "outputs": [],
      "source": [
        "print(max(1, 5, 2))\n",
        "print(max(3, 6, 14, 1, 256, 34))\n",
        "print(max())"
      ]
    },
    {
      "cell_type": "code",
      "execution_count": null,
      "metadata": {
        "id": "pY-8roK5Ms9o"
      },
      "outputs": [],
      "source": [
        "print(len('dog'))\n",
        "print(len('aardvark'))\n",
        "# '' is called the empty string\n",
        "print(len(''))\n",
        "print(len(42))"
      ]
    },
    {
      "cell_type": "code",
      "execution_count": null,
      "metadata": {
        "id": "j5O3pUdAMs9r"
      },
      "outputs": [],
      "source": [
        "# We may be able to turn one kind of object into another.\n",
        "a_string = '42'\n",
        "print(a_string)\n",
        "print(type(a_string))\n",
        "a_number = int(a_string)\n",
        "print(a_number)\n",
        "print(type(a_number))"
      ]
    },
    {
      "cell_type": "code",
      "execution_count": null,
      "metadata": {
        "id": "EnLwIoFWMs9t"
      },
      "outputs": [],
      "source": [
        "response = input('What is your number? ')\n",
        "number = int(response)\n",
        "# You can print several arguments by separating them by commas\n",
        "print('Here is your number, plus 2:', number + 2)"
      ]
    },
    {
      "cell_type": "markdown",
      "metadata": {},
      "source": [
        "## Practice\n",
        "\n",
        "In the first code cells below, assign `'True'` as a literal string to an appropriately named varible. Pass this variable as the argument of the `type` function to verify its type. (You don't need to use the print statement if you put the type function as the last line of the cell. Its value will automatically be displayed.)\n",
        "\n",
        "Then in the second code cell, assign `True` as a boolean to a differently named variable. Pass it into the `type` function and display the resulting returned value.\n",
        "\n",
        "In Colab, open the `Variables` explorer on the upper left (click on `{x}`). In VS Code, click on the `Variables` item at the top of the screen. Verify your results. NOTE: if the explorer is too cluttered, you can clear the environment in Colab by resetting the Runtime. From the `Runtime` menu, select `Reset runtime`. In VS Code, click `Restart` at the top of the page."
      ]
    },
    {
      "cell_type": "code",
      "execution_count": null,
      "metadata": {},
      "outputs": [],
      "source": []
    },
    {
      "cell_type": "code",
      "execution_count": null,
      "metadata": {},
      "outputs": [],
      "source": []
    },
    {
      "cell_type": "markdown",
      "metadata": {
        "id": "QIXpgloeMs9w"
      },
      "source": [
        "# Operations\n",
        "\n",
        "Operations can be performed on objects before they are assigned to a variable.\n",
        "\n",
        "Common math operations are `+`, `-`, `*`, and `/`."
      ]
    },
    {
      "cell_type": "code",
      "execution_count": null,
      "metadata": {
        "id": "1gothMbTMs9w"
      },
      "outputs": [],
      "source": [
        "number_widgets = 1\n",
        "answer = number_widgets + 3\n",
        "print(answer)"
      ]
    },
    {
      "cell_type": "markdown",
      "metadata": {
        "id": "fCvn_dWHMs9y"
      },
      "source": [
        "How do these two scripts differ? (Pay attention to the quotes)"
      ]
    },
    {
      "cell_type": "code",
      "execution_count": null,
      "metadata": {
        "id": "qmQNt8pFMs9z"
      },
      "outputs": [],
      "source": [
        "first_number = 325\n",
        "second_number = 145\n",
        "together = first_number + second_number\n",
        "print(together)\n",
        "print(type(together))"
      ]
    },
    {
      "cell_type": "code",
      "execution_count": null,
      "metadata": {
        "id": "2cWqgA4hMs90"
      },
      "outputs": [],
      "source": [
        "first_number = '325'\n",
        "second_number = '145'\n",
        "together = first_number + second_number\n",
        "print(together)\n",
        "print(type(together))"
      ]
    },
    {
      "cell_type": "markdown",
      "metadata": {
        "id": "82a-XrDKMs92"
      },
      "source": [
        "The `+` operator does concatenation when used with strings.\n",
        "\n",
        "Common boolean operations are `==`, `!=`, `>`, `<`, `>=`, and `<=`."
      ]
    },
    {
      "cell_type": "code",
      "execution_count": null,
      "metadata": {
        "id": "SQKjvjeOMs92"
      },
      "outputs": [],
      "source": [
        "print('dog' == 'cat')"
      ]
    },
    {
      "cell_type": "code",
      "execution_count": null,
      "metadata": {
        "id": "9JFFrfOsMs94"
      },
      "outputs": [],
      "source": [
        "print('cat' == 'cat')"
      ]
    },
    {
      "cell_type": "code",
      "execution_count": null,
      "metadata": {
        "id": "g_B7EejOMs96"
      },
      "outputs": [],
      "source": [
        "print('dog' != 'cat')"
      ]
    },
    {
      "cell_type": "code",
      "execution_count": null,
      "metadata": {
        "id": "W5SV0mYyMs9-"
      },
      "outputs": [],
      "source": [
        "print(3 > 2)"
      ]
    },
    {
      "cell_type": "code",
      "execution_count": null,
      "metadata": {
        "id": "3FodFdBEMs9_"
      },
      "outputs": [],
      "source": [
        "print(2 > 2)"
      ]
    },
    {
      "cell_type": "code",
      "execution_count": null,
      "metadata": {
        "id": "pQ42yN5WMs-B"
      },
      "outputs": [],
      "source": [
        "print(2 >= 2)"
      ]
    },
    {
      "cell_type": "markdown",
      "metadata": {
        "id": "jZOPNHvxMs-D"
      },
      "source": [
        "Booleans can be assigned to variables like any other kind of object."
      ]
    },
    {
      "cell_type": "code",
      "execution_count": null,
      "metadata": {
        "id": "VPlX-CH0Ms-D"
      },
      "outputs": [],
      "source": [
        "# Notice that one `=` is the assignment operator and two `==` is the equivalence operator.\n",
        "same_animal = 'cat' == 'monkey'\n",
        "print(same_animal)"
      ]
    },
    {
      "cell_type": "code",
      "execution_count": null,
      "metadata": {
        "id": "j-YM6RHUMs-G"
      },
      "outputs": [],
      "source": [
        "first_animal = input('What is your first animal? ')\n",
        "second_animal = input('What is your second animal? ')\n",
        "same_animal = first_animal == second_animal\n",
        "print('First animal the same as second animal?', same_animal)"
      ]
    },
    {
      "cell_type": "markdown",
      "metadata": {},
      "source": [
        "## Practice\n",
        "\n",
        "In the cell below, assign the area code `'615'` as a string to the variable `area_code`. Use the `input` function to ask the user to enter their phone number and store the returned value in a variable called `local_number`. Concatenate `area_code`, a dash (`-`), and `local_number` and assign the result to the variable `phone_number`. Use the `print` function to display the result, using two arguments: the literal string `'Your phone number is:'` and the variable `phone_number`."
      ]
    },
    {
      "cell_type": "code",
      "execution_count": null,
      "metadata": {},
      "outputs": [],
      "source": []
    },
    {
      "cell_type": "markdown",
      "metadata": {
        "id": "on8Ok4HLMs-H"
      },
      "source": [
        "# Optional practice with video help.\n",
        "\n",
        "Predict and explain what these scripts do before you try running them."
      ]
    },
    {
      "cell_type": "code",
      "execution_count": null,
      "metadata": {
        "id": "0v-Bed7gMs-I"
      },
      "outputs": [],
      "source": [
        "name = input(\"What's your name? \")\n",
        "print('Hello ' + name + '! How are you?')"
      ]
    },
    {
      "cell_type": "code",
      "execution_count": null,
      "metadata": {
        "id": "MzylVyg0Ms-K"
      },
      "outputs": [],
      "source": [
        "first_number = float(input('What is your number? '))\n",
        "second_number = 67.\n",
        "biggest = max(first_number, second_number, 100.)\n",
        "print(biggest)"
      ]
    },
    {
      "cell_type": "code",
      "execution_count": null,
      "metadata": {
        "id": "EtEJN2AFMs-L"
      },
      "outputs": [],
      "source": [
        "name = input('What is your name? ')\n",
        "how_long = len(name)\n",
        "print('Your name is '+ name + '. It is: ')\n",
        "print(how_long)\n",
        "print('characters long.')"
      ]
    },
    {
      "cell_type": "code",
      "execution_count": null,
      "metadata": {
        "id": "gPtzDKrzMs-N"
      },
      "outputs": [],
      "source": [
        "a_number = 16\n",
        "a_number = a_number + 1\n",
        "print(a_number)"
      ]
    },
    {
      "cell_type": "code",
      "execution_count": null,
      "metadata": {
        "id": "-rmSAJfWMs-P"
      },
      "outputs": [],
      "source": [
        "number_widgets = int(input('How many widgets? '))\n",
        "sum = number_widgets + 3\n",
        "too_many = sum > 10\n",
        "print(too_many)"
      ]
    },
    {
      "cell_type": "code",
      "execution_count": null,
      "metadata": {
        "id": "x_sPQ7xtMs-R"
      },
      "outputs": [],
      "source": []
    }
  ],
  "metadata": {
    "colab": {
      "provenance": []
    },
    "kernelspec": {
      "display_name": "Python 3",
      "language": "python",
      "name": "python3"
    },
    "language_info": {
      "codemirror_mode": {
        "name": "ipython",
        "version": 3
      },
      "file_extension": ".py",
      "mimetype": "text/x-python",
      "name": "python",
      "nbconvert_exporter": "python",
      "pygments_lexer": "ipython3",
      "version": "3.7.1"
    }
  },
  "nbformat": 4,
  "nbformat_minor": 0
}
