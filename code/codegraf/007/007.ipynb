{
 "cells": [
  {
   "cell_type": "markdown",
   "metadata": {},
   "source": [
    "# Review lists and for loops"
   ]
  },
  {
   "cell_type": "code",
   "execution_count": null,
   "metadata": {},
   "outputs": [],
   "source": [
    "# Assign a list of prices\n",
    "price_list = [3.89, 14.78, 20.01, 99.62, 0.47]\n",
    "print(price_list)\n",
    "print(type(price_list))"
   ]
  },
  {
   "cell_type": "code",
   "execution_count": null,
   "metadata": {},
   "outputs": [],
   "source": [
    "euro_conversion_factor = 0.93\n",
    "\n",
    "# Use a for loop to multiply each item by the conversion factor\n",
    "euro_list = []\n",
    "for price in price_list:\n",
    "    euro_list.append(price * euro_conversion_factor)\n",
    "\n",
    "print(euro_list)"
   ]
  },
  {
   "cell_type": "markdown",
   "metadata": {},
   "source": [
    "# NumPy\n",
    "\n",
    "ndarrays must contain only one type of object."
   ]
  },
  {
   "cell_type": "code",
   "execution_count": null,
   "metadata": {},
   "outputs": [],
   "source": [
    "# This is the standard import style for the NumPy module\n",
    "import numpy as np"
   ]
  },
  {
   "cell_type": "code",
   "execution_count": null,
   "metadata": {},
   "outputs": [],
   "source": [
    "# Turn the list into a NumPy N-dimensional array (ndarray) object\n",
    "price_array = np.array(price_list)\n",
    "print(price_array)\n",
    "print(type(price_array))"
   ]
  },
  {
   "cell_type": "markdown",
   "metadata": {},
   "source": [
    "## Vectorized computation"
   ]
  },
  {
   "cell_type": "code",
   "execution_count": null,
   "metadata": {},
   "outputs": [],
   "source": [
    "# Multiply each array element by a constant factor\n",
    "euro_array = price_array * euro_conversion_factor\n",
    "print(euro_array)\n",
    "print(type(euro_array))"
   ]
  },
  {
   "cell_type": "code",
   "execution_count": null,
   "metadata": {},
   "outputs": [],
   "source": [
    "# Pairwise addition of two ndarrays\n",
    "price_increase_list = [0.58, 2.95, 1.66, 12.40, 0.04]\n",
    "price_increase_array = np.array([0.58, 2.95, 1.66, 12.40, 0.04])\n",
    "print(price_array)\n",
    "print(price_increase_array)\n",
    "print(price_array + price_increase_array)"
   ]
  },
  {
   "cell_type": "code",
   "execution_count": null,
   "metadata": {},
   "outputs": [],
   "source": [
    "# Try to add together two lists\n",
    "print(price_list)\n",
    "print(price_increase_list)\n",
    "print(price_list + price_increase_list) # a for loop would be required"
   ]
  },
  {
   "cell_type": "markdown",
   "metadata": {},
   "source": [
    "## Dimensions"
   ]
  },
  {
   "cell_type": "code",
   "execution_count": null,
   "metadata": {},
   "outputs": [],
   "source": [
    "# Create an ndarray of sales data for 5 years\n",
    "annual_sales_cars = [34506, 35446, 40190, 43824, 46456]\n",
    "annual_sales_trucks = [45369, 46894, 43901, 44870, 45978]\n",
    "annual_sales_suvs = [21554, 28745, 34369, 43593, 53982]\n",
    "\n",
    "annual_sales_array = np.array([annual_sales_cars, annual_sales_trucks, annual_sales_suvs])\n",
    "print(annual_sales_array)"
   ]
  },
  {
   "cell_type": "code",
   "execution_count": null,
   "metadata": {},
   "outputs": [],
   "source": [
    "print(price_array.ndim)\n",
    "print(price_array.shape)\n",
    "print(price_array.dtype)\n",
    "print()\n",
    "print(annual_sales_array.ndim)\n",
    "print(annual_sales_array.shape)\n",
    "print(annual_sales_array.dtype)"
   ]
  },
  {
   "cell_type": "markdown",
   "metadata": {
    "slideshow": {
     "slide_type": "slide"
    }
   },
   "source": [
    "## Indexing"
   ]
  },
  {
   "cell_type": "code",
   "execution_count": null,
   "metadata": {},
   "outputs": [],
   "source": [
    "annual_sales_trucks = [45369, 46894, 43901, 44870, 45978]\n",
    "trucks = np.array(annual_sales_trucks)\n",
    "print(trucks)\n",
    "\n",
    "# Indexing and slicing similar to lists\n",
    "print(trucks[4])\n",
    "print(trucks[2:4])\n",
    "print(trucks[1:])\n",
    "print(trucks[:])"
   ]
  },
  {
   "cell_type": "markdown",
   "metadata": {},
   "source": [
    "## Two-dimensional indexing\n",
    "\n",
    "<img src=\"https://learning.oreilly.com/library/view/python-for-data/9781491957653/assets/pyda_0401.png\" width=\"300\" height=\"300\">\n",
    "\n",
    "Image from \"Python for data analysis: data wrangling with pandas, NumPy, and IPython\" by Wes McKinney, Chapter 4"
   ]
  },
  {
   "cell_type": "code",
   "execution_count": null,
   "metadata": {},
   "outputs": [],
   "source": [
    "print(annual_sales_array)"
   ]
  },
  {
   "cell_type": "code",
   "execution_count": null,
   "metadata": {},
   "outputs": [],
   "source": [
    "print(annual_sales_array[0, 2])"
   ]
  },
  {
   "cell_type": "code",
   "execution_count": null,
   "metadata": {},
   "outputs": [],
   "source": [
    "print(annual_sales_array[0])"
   ]
  },
  {
   "cell_type": "code",
   "execution_count": null,
   "metadata": {},
   "outputs": [],
   "source": [
    "print(annual_sales_array[:, 2])"
   ]
  },
  {
   "cell_type": "markdown",
   "metadata": {},
   "source": [
    "## Calculations with `ndarrays`"
   ]
  },
  {
   "cell_type": "code",
   "execution_count": null,
   "metadata": {},
   "outputs": [],
   "source": [
    "# Convert annual sales to daily sales\n",
    "daily_sales_array = annual_sales_array/365\n",
    "print(daily_sales_array/365)"
   ]
  },
  {
   "cell_type": "code",
   "execution_count": null,
   "metadata": {},
   "outputs": [],
   "source": [
    "print(daily_sales_array.dtype)"
   ]
  },
  {
   "cell_type": "code",
   "execution_count": null,
   "metadata": {},
   "outputs": [],
   "source": [
    "print(trucks)"
   ]
  },
  {
   "cell_type": "code",
   "execution_count": null,
   "metadata": {},
   "outputs": [],
   "source": [
    "# Vectorized conditions\n",
    "assessment = np.where(trucks >= 45000, 'good year', 'bad year')\n",
    "print(assessment)"
   ]
  },
  {
   "cell_type": "code",
   "execution_count": null,
   "metadata": {},
   "outputs": [],
   "source": [
    "print(assessment.dtype)"
   ]
  },
  {
   "cell_type": "code",
   "execution_count": null,
   "metadata": {},
   "outputs": [],
   "source": [
    "print(np.where(trucks >= trucks[0], 'increase', 'decrease'))"
   ]
  },
  {
   "cell_type": "markdown",
   "metadata": {},
   "source": [
    "# Image examples\n",
    "\n",
    "Still images are a type of two-dimensional array where every element is the same kind of object."
   ]
  },
  {
   "cell_type": "code",
   "execution_count": null,
   "metadata": {},
   "outputs": [],
   "source": [
    "# Import modules for images and plotting\n",
    "import skimage.data as data\n",
    "import matplotlib.pyplot as plt\n",
    "%matplotlib inline"
   ]
  },
  {
   "cell_type": "code",
   "execution_count": null,
   "metadata": {},
   "outputs": [],
   "source": [
    "# use a built-in image\n",
    "camera = data.camera()\n",
    "print(type(camera))\n",
    "\n",
    "# 0 is black, 255 is white. Grayscale is between the two\n",
    "print(camera)"
   ]
  },
  {
   "cell_type": "code",
   "execution_count": null,
   "metadata": {},
   "outputs": [],
   "source": [
    "plt.imshow(camera, cmap='gray')\n",
    "plt.show();"
   ]
  },
  {
   "cell_type": "markdown",
   "metadata": {},
   "source": [
    "## Creating a negative"
   ]
  },
  {
   "cell_type": "code",
   "execution_count": null,
   "metadata": {},
   "outputs": [],
   "source": [
    "inverse_camera = 255 - camera\n",
    "print(inverse_camera)"
   ]
  },
  {
   "cell_type": "code",
   "execution_count": null,
   "metadata": {},
   "outputs": [],
   "source": [
    "plt.imshow(inverse_camera, cmap='gray')\n",
    "plt.show();"
   ]
  },
  {
   "cell_type": "markdown",
   "metadata": {},
   "source": [
    "## Thresholding (black and white)"
   ]
  },
  {
   "cell_type": "code",
   "execution_count": null,
   "metadata": {},
   "outputs": [],
   "source": [
    "threshold_camera = data.camera()\n",
    "\n",
    "# Set pixels less that mid-gray to black\n",
    "threshold_camera[threshold_camera < 128] = 0\n",
    "# Set remaining pixels to white\n",
    "threshold_camera[threshold_camera > 0] = 255\n",
    "print(threshold_camera)\n",
    "\n",
    "plt.imshow(threshold_camera, cmap='gray')\n",
    "plt.show();"
   ]
  },
  {
   "cell_type": "code",
   "execution_count": null,
   "metadata": {},
   "outputs": [],
   "source": [
    "# Alternative method using np.where()\n",
    "threshold_camera = np.where(camera < 128, 0, 255)\n",
    "#threshold_camera = np.where(camera < 200, camera + 55, 255)\n",
    "print(threshold_camera)\n",
    "\n",
    "plt.imshow(threshold_camera, cmap='gray')\n",
    "plt.show();"
   ]
  },
  {
   "cell_type": "code",
   "execution_count": null,
   "metadata": {},
   "outputs": [],
   "source": []
  }
 ],
 "metadata": {
  "kernelspec": {
   "display_name": "Python 3",
   "language": "python",
   "name": "python3"
  },
  "language_info": {
   "codemirror_mode": {
    "name": "ipython",
    "version": 3
   },
   "file_extension": ".py",
   "mimetype": "text/x-python",
   "name": "python",
   "nbconvert_exporter": "python",
   "pygments_lexer": "ipython3",
   "version": "3.7.1"
  }
 },
 "nbformat": 4,
 "nbformat_minor": 2
}
