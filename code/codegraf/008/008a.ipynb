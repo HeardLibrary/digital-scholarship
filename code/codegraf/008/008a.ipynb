{
 "cells": [
  {
   "cell_type": "markdown",
   "metadata": {},
   "source": [
    "# Pandas data frames\n",
    "\n",
    "## References\n",
    "\n",
    "[pandas website](https://pandas.pydata.org/)\n",
    "\n",
    "Includes link to pdf for *pandas: powerful Python data analysis toolkit*, free online alternative to *Python for Data Analysis* by Wes McKinney "
   ]
  },
  {
   "cell_type": "markdown",
   "metadata": {},
   "source": [
    "## Setup\n",
    "\n",
    "This is the standard import statement for pandas:"
   ]
  },
  {
   "cell_type": "code",
   "execution_count": 1,
   "metadata": {
    "colab": {},
    "colab_type": "code",
    "id": "j6JE8Q1LPYt_"
   },
   "outputs": [],
   "source": [
    "import pandas as pd"
   ]
  },
  {
   "cell_type": "markdown",
   "metadata": {},
   "source": [
    "## Series\n",
    "\n",
    "Recall lists from basic Python"
   ]
  },
  {
   "cell_type": "code",
   "execution_count": 2,
   "metadata": {},
   "outputs": [],
   "source": [
    "group_list = ['reptile', 'arachnid', 'annelid', 'insect']\n",
    "animal_list = ['lizard', 'spider', 'worm', 'bee']\n",
    "number_legs_list = [4, 8, 0, 6]"
   ]
  },
  {
   "cell_type": "code",
   "execution_count": 19,
   "metadata": {},
   "outputs": [
    {
     "data": {
      "text/plain": [
       "['lizard', 'spider', 'worm']"
      ]
     },
     "execution_count": 19,
     "metadata": {},
     "output_type": "execute_result"
    }
   ],
   "source": [
    "new_list = [animal for animal in animal_list if animal > 'cat']\n",
    "new_list"
   ]
  },
  {
   "cell_type": "markdown",
   "metadata": {},
   "source": [
    "Series are one-dimensional pandas data structures"
   ]
  },
  {
   "cell_type": "code",
   "execution_count": 3,
   "metadata": {},
   "outputs": [
    {
     "name": "stdout",
     "output_type": "stream",
     "text": [
      "0    lizard\n",
      "1    spider\n",
      "2      worm\n",
      "3       bee\n",
      "dtype: object\n",
      "<class 'pandas.core.series.Series'>\n"
     ]
    }
   ],
   "source": [
    "animal_series = pd.Series(animal_list)\n",
    "print(animal_series)\n",
    "print(type(animal_series))"
   ]
  },
  {
   "cell_type": "markdown",
   "metadata": {},
   "source": [
    "Series are build from an `ndarray` and a `range()`-like *RangeIndex*"
   ]
  },
  {
   "cell_type": "code",
   "execution_count": 4,
   "metadata": {},
   "outputs": [
    {
     "name": "stdout",
     "output_type": "stream",
     "text": [
      "['lizard' 'spider' 'worm' 'bee']\n",
      "<class 'numpy.ndarray'>\n",
      "RangeIndex(start=0, stop=4, step=1)\n",
      "<class 'pandas.core.indexes.range.RangeIndex'>\n"
     ]
    }
   ],
   "source": [
    "print(animal_series.values)\n",
    "print(type(animal_series.values))\n",
    "print(animal_series.index)\n",
    "print(type(animal_series.index))"
   ]
  },
  {
   "cell_type": "markdown",
   "metadata": {},
   "source": [
    "Create series from other lists. Use series in vectorized operations."
   ]
  },
  {
   "cell_type": "code",
   "execution_count": 5,
   "metadata": {},
   "outputs": [
    {
     "name": "stdout",
     "output_type": "stream",
     "text": [
      "0     reptile: lizard\n",
      "1    arachnid: spider\n",
      "2       annelid: worm\n",
      "3         insect: bee\n",
      "dtype: object\n"
     ]
    }
   ],
   "source": [
    "group_series = pd.Series(group_list)\n",
    "number_legs_series = pd.Series(number_legs_list)\n",
    "con = group_series + ': ' + animal_series\n",
    "print(con)"
   ]
  },
  {
   "cell_type": "markdown",
   "metadata": {},
   "source": [
    "Series can be assigned labels"
   ]
  },
  {
   "cell_type": "code",
   "execution_count": 6,
   "metadata": {},
   "outputs": [
    {
     "name": "stdout",
     "output_type": "stream",
     "text": [
      "lizard     reptile\n",
      "spider    arachnid\n",
      "worm       annelid\n",
      "bee         insect\n",
      "dtype: object\n",
      "\n",
      "lizard    4\n",
      "spider    8\n",
      "worm      0\n",
      "bee       6\n",
      "dtype: int64\n"
     ]
    }
   ],
   "source": [
    "labeled_groups = pd.Series(group_list, index = animal_list)\n",
    "labeled_legs = pd.Series(number_legs_list, index = animal_list)\n",
    "print(labeled_groups)\n",
    "print()\n",
    "print(labeled_legs)"
   ]
  },
  {
   "cell_type": "code",
   "execution_count": 7,
   "metadata": {},
   "outputs": [
    {
     "name": "stdout",
     "output_type": "stream",
     "text": [
      "['reptile' 'arachnid' 'annelid' 'insect']\n",
      "<class 'numpy.ndarray'>\n",
      "\n",
      "Index(['lizard', 'spider', 'worm', 'bee'], dtype='object')\n",
      "<class 'pandas.core.indexes.base.Index'>\n"
     ]
    }
   ],
   "source": [
    "print(labeled_groups.values)\n",
    "print(type(labeled_groups.values))\n",
    "print()\n",
    "print(labeled_groups.index)\n",
    "print(type(labeled_groups.index))"
   ]
  },
  {
   "cell_type": "markdown",
   "metadata": {},
   "source": [
    "Series values can be identified by either position (zero-based) or label."
   ]
  },
  {
   "cell_type": "code",
   "execution_count": 8,
   "metadata": {},
   "outputs": [
    {
     "name": "stdout",
     "output_type": "stream",
     "text": [
      "arachnid\n",
      "insect\n"
     ]
    }
   ],
   "source": [
    "print(labeled_groups[1])\n",
    "print(labeled_groups['bee'])"
   ]
  },
  {
   "cell_type": "markdown",
   "metadata": {},
   "source": [
    "Series can be sliced like lists or `ndarrays`, but also by their labels (but inclusive of end of range)."
   ]
  },
  {
   "cell_type": "code",
   "execution_count": 9,
   "metadata": {},
   "outputs": [
    {
     "name": "stdout",
     "output_type": "stream",
     "text": [
      "spider    8\n",
      "worm      0\n",
      "dtype: int64\n",
      "\n",
      "worm       annelid\n",
      "spider    arachnid\n",
      "lizard     reptile\n",
      "dtype: object\n",
      "\n",
      "lizard     reptile\n",
      "spider    arachnid\n",
      "worm       annelid\n",
      "dtype: object\n"
     ]
    }
   ],
   "source": [
    "print(labeled_legs[1:3])\n",
    "print()\n",
    "print(labeled_groups[ ['worm', 'spider', 'lizard'] ])\n",
    "print()\n",
    "print(labeled_groups['lizard': 'worm'])"
   ]
  },
  {
   "cell_type": "markdown",
   "metadata": {},
   "source": [
    "Labels carry over to derivative series"
   ]
  },
  {
   "cell_type": "code",
   "execution_count": null,
   "metadata": {},
   "outputs": [],
   "source": [
    "photos = labeled_legs * 2\n",
    "print(photos)"
   ]
  },
  {
   "cell_type": "code",
   "execution_count": null,
   "metadata": {},
   "outputs": [],
   "source": [
    "new_groups = labeled_groups.loc['spider':'bee']"
   ]
  },
  {
   "cell_type": "code",
   "execution_count": null,
   "metadata": {},
   "outputs": [],
   "source": [
    "new_groups.iloc[1:2]"
   ]
  },
  {
   "cell_type": "code",
   "execution_count": null,
   "metadata": {},
   "outputs": [],
   "source": [
    "new_groups.index"
   ]
  },
  {
   "cell_type": "code",
   "execution_count": null,
   "metadata": {},
   "outputs": [],
   "source": [
    "new_groups.iloc[1] = 'wormy'"
   ]
  },
  {
   "cell_type": "code",
   "execution_count": null,
   "metadata": {},
   "outputs": [],
   "source": [
    "new_groups"
   ]
  },
  {
   "cell_type": "code",
   "execution_count": 10,
   "metadata": {},
   "outputs": [
    {
     "data": {
      "text/plain": [
       "lizard     reptile\n",
       "spider    arachnid\n",
       "worm       annelid\n",
       "bee         insect\n",
       "dtype: object"
      ]
     },
     "execution_count": 10,
     "metadata": {},
     "output_type": "execute_result"
    }
   ],
   "source": [
    "labeled_groups"
   ]
  },
  {
   "cell_type": "code",
   "execution_count": 11,
   "metadata": {},
   "outputs": [],
   "source": [
    "labeled_groups = labeled_groups.sort_values()"
   ]
  },
  {
   "cell_type": "code",
   "execution_count": 12,
   "metadata": {},
   "outputs": [
    {
     "data": {
      "text/plain": [
       "worm       annelid\n",
       "spider    arachnid\n",
       "bee         insect\n",
       "lizard     reptile\n",
       "dtype: object"
      ]
     },
     "execution_count": 12,
     "metadata": {},
     "output_type": "execute_result"
    }
   ],
   "source": [
    "labeled_groups"
   ]
  },
  {
   "cell_type": "code",
   "execution_count": 13,
   "metadata": {},
   "outputs": [
    {
     "data": {
      "text/plain": [
       "bee         insect\n",
       "lizard     reptile\n",
       "spider    arachnid\n",
       "worm       annelid\n",
       "dtype: object"
      ]
     },
     "execution_count": 13,
     "metadata": {},
     "output_type": "execute_result"
    }
   ],
   "source": []
  },
  {
   "cell_type": "markdown",
   "metadata": {},
   "source": [
    "# Data frames\n",
    "\n",
    "Data frames are two-dimensional data structures composed of series with shared indices.\n",
    "\n",
    "Data frames can be created from a dictionary of lists."
   ]
  },
  {
   "cell_type": "code",
   "execution_count": null,
   "metadata": {},
   "outputs": [],
   "source": [
    "# Create a standard Python dictionary\n",
    "data_dict = {'group': group_list, 'number legs': number_legs_list}\n",
    "\n",
    "# First argument is the dictionary, second argument is a list containing the index labels.\n",
    "organism_info = pd.DataFrame(data_dict, index = animal_list)\n",
    "print(organism_info)\n",
    "\n",
    "# Direct output of a data frame (vs. print function) has nice formatting in Jupyter notebooks\n",
    "organism_info"
   ]
  },
  {
   "cell_type": "markdown",
   "metadata": {},
   "source": [
    "Select a column by its name string. Output is a series."
   ]
  },
  {
   "cell_type": "code",
   "execution_count": null,
   "metadata": {},
   "outputs": [],
   "source": [
    "print(organism_info['group'])\n",
    "print()\n",
    "print(type(organism_info['group']))"
   ]
  },
  {
   "cell_type": "markdown",
   "metadata": {},
   "source": [
    "Dot notation is an option if header string is a valid Python object name"
   ]
  },
  {
   "cell_type": "code",
   "execution_count": null,
   "metadata": {},
   "outputs": [],
   "source": [
    "print(organism_info.group)"
   ]
  },
  {
   "cell_type": "markdown",
   "metadata": {},
   "source": [
    "Select a row using `.loc` with the index label and `.iloc` with the index integer. Output is a series."
   ]
  },
  {
   "cell_type": "code",
   "execution_count": null,
   "metadata": {},
   "outputs": [],
   "source": [
    "print(organism_info.loc['worm'])\n",
    "print()\n",
    "print(organism_info.iloc[0])"
   ]
  },
  {
   "cell_type": "code",
   "execution_count": null,
   "metadata": {},
   "outputs": [],
   "source": [
    "organism_info.iat[2, 1]\n",
    "organism_info.at['spider', 'group']"
   ]
  },
  {
   "cell_type": "markdown",
   "metadata": {},
   "source": [
    "# Reading data from a file path\n",
    "\n",
    "Mechanism depends on the kind of environment you are running.\n",
    "\n",
    "In some environments, knowing the current working directory (using `os` module) is helpful."
   ]
  },
  {
   "cell_type": "code",
   "execution_count": null,
   "metadata": {},
   "outputs": [],
   "source": [
    "import os\n",
    "working_directory = os.getcwd()\n",
    "print(working_directory)"
   ]
  },
  {
   "cell_type": "markdown",
   "metadata": {},
   "source": [
    "We'll assume your file is in a subdirectory of your working directory and the subdirectory is named `data`. See videos for variations in creating and accessing this directory. \n",
    "\n",
    "We will load a file containing 2016 CO2 emmisions for each state by fuel type. Go to [this link](https://github.com/HeardLibrary/digital-scholarship/blob/master/data/codegraf/co2_state_2016_fuel.xlsx) and click the download button. Save the downloaded file in your data directory. For source information about the file, see [this page](https://github.com/HeardLibrary/digital-scholarship/tree/master/data/codegraf). "
   ]
  },
  {
   "cell_type": "code",
   "execution_count": null,
   "metadata": {},
   "outputs": [],
   "source": [
    "filename = 'co2_state_2016_fuel.xlsx'\n",
    "path = working_directory + '/data/' + filename\n",
    "fuel_type = pd.read_excel(path)\n",
    "fuel_type"
   ]
  },
  {
   "cell_type": "markdown",
   "metadata": {},
   "source": [
    "Large tables can be abbreviated using `.head()` with number of rows to display as the argument. 5 rows default if no argument."
   ]
  },
  {
   "cell_type": "code",
   "execution_count": null,
   "metadata": {
    "colab": {},
    "colab_type": "code",
    "id": "KlCEr3cZVOo0"
   },
   "outputs": [],
   "source": [
    "fuel_type.head()"
   ]
  },
  {
   "cell_type": "markdown",
   "metadata": {},
   "source": [
    "Data frames do not automatically have assigned index labels. We can use one of the series as the labels."
   ]
  },
  {
   "cell_type": "code",
   "execution_count": null,
   "metadata": {},
   "outputs": [],
   "source": [
    "fuel_type['State']"
   ]
  },
  {
   "cell_type": "markdown",
   "metadata": {},
   "source": [
    "Assign the series as the data frame's index"
   ]
  },
  {
   "cell_type": "code",
   "execution_count": null,
   "metadata": {},
   "outputs": [],
   "source": [
    "fuel_type.index = fuel_type['State']\n",
    "fuel_type.head()"
   ]
  },
  {
   "cell_type": "markdown",
   "metadata": {},
   "source": [
    "The state is now both the index label for the table and one of the columns."
   ]
  },
  {
   "cell_type": "code",
   "execution_count": null,
   "metadata": {},
   "outputs": [],
   "source": [
    "fuel_type.loc['Ohio']"
   ]
  },
  {
   "cell_type": "markdown",
   "metadata": {},
   "source": [
    "## Fuctions for reading and writing from files\n",
    "\n",
    "`pd.read_csv()` read from a CSV file into a data frame.\n",
    "\n",
    "`pd.to_csv()` write from a data frame to a CSV file.\n",
    "\n",
    "`pd.read_excel()` read from an Excel file into a data frame.\n",
    "\n",
    "`pd.to_excel()` write from a data frame to an Excel file.\n",
    "\n",
    "For details about reading from particular sheets in an Excel file, delimiters other than commas, etc. see the [pandas User Guide](https://pandas.pydata.org/docs/user_guide/io.html)."
   ]
  },
  {
   "cell_type": "markdown",
   "metadata": {},
   "source": [
    "## Reading data from a file via a URL\n",
    "\n",
    "The same functions as above can be used to read from a file via an Internet URL."
   ]
  },
  {
   "cell_type": "code",
   "execution_count": null,
   "metadata": {
    "colab": {},
    "colab_type": "code",
    "id": "j9hbgvpcTvxH"
   },
   "outputs": [],
   "source": [
    "schools = pd.read_csv('https://github.com/HeardLibrary/digital-scholarship/raw/master/data/gis/wg/Metro_Nashville_Schools.csv')"
   ]
  },
  {
   "cell_type": "markdown",
   "metadata": {},
   "source": [
    "Examining data from a large file can be challenging. Abbreviated views of data frames are possible."
   ]
  },
  {
   "cell_type": "code",
   "execution_count": null,
   "metadata": {},
   "outputs": [],
   "source": [
    "schools.head()"
   ]
  },
  {
   "cell_type": "markdown",
   "metadata": {},
   "source": [
    "The missing data indicator in pandas is `NaN` (\"not a number\") borrowed from basic Python. Empty cells read into a data frame are represented as `NaN`."
   ]
  },
  {
   "cell_type": "code",
   "execution_count": null,
   "metadata": {},
   "outputs": [],
   "source": [
    "schools.columns"
   ]
  },
  {
   "cell_type": "code",
   "execution_count": null,
   "metadata": {},
   "outputs": [],
   "source": [
    "schools['School Name']"
   ]
  },
  {
   "cell_type": "markdown",
   "metadata": {},
   "source": [
    "# Views vs. copies\n",
    "\n",
    "This is an advanced topic that can be skipped if you wish."
   ]
  },
  {
   "cell_type": "code",
   "execution_count": null,
   "metadata": {},
   "outputs": [],
   "source": [
    "school_names = schools['School Name']\n",
    "school_names"
   ]
  },
  {
   "cell_type": "code",
   "execution_count": null,
   "metadata": {},
   "outputs": [],
   "source": [
    "type(school_names)"
   ]
  },
  {
   "cell_type": "code",
   "execution_count": null,
   "metadata": {},
   "outputs": [],
   "source": [
    "school_names.index"
   ]
  },
  {
   "cell_type": "code",
   "execution_count": null,
   "metadata": {},
   "outputs": [],
   "source": [
    "school_names[1] = 'Judd Street School'\n",
    "school_names"
   ]
  },
  {
   "cell_type": "code",
   "execution_count": null,
   "metadata": {},
   "outputs": [],
   "source": [
    "schools"
   ]
  },
  {
   "cell_type": "code",
   "execution_count": null,
   "metadata": {},
   "outputs": [],
   "source": [
    "school_names_copy = schools['School Name'].copy()\n",
    "school_names_copy"
   ]
  },
  {
   "cell_type": "code",
   "execution_count": null,
   "metadata": {},
   "outputs": [],
   "source": [
    "school_names_copy[2] = 'Pleasant Hill Academy'\n",
    "school_names_copy"
   ]
  },
  {
   "cell_type": "code",
   "execution_count": null,
   "metadata": {},
   "outputs": [],
   "source": [
    "schools"
   ]
  }
 ],
 "metadata": {
  "colab": {
   "collapsed_sections": [],
   "name": "file_test.ipynb",
   "provenance": []
  },
  "kernelspec": {
   "display_name": "Python 3",
   "language": "python",
   "name": "python3"
  },
  "language_info": {
   "codemirror_mode": {
    "name": "ipython",
    "version": 3
   },
   "file_extension": ".py",
   "mimetype": "text/x-python",
   "name": "python",
   "nbconvert_exporter": "python",
   "pygments_lexer": "ipython3",
   "version": "3.8.5"
  }
 },
 "nbformat": 4,
 "nbformat_minor": 1
}
