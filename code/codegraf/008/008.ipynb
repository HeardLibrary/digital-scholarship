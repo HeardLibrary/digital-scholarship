{
 "cells": [
  {
   "cell_type": "markdown",
   "metadata": {},
   "source": [
    "# Pandas Series\n",
    "\n",
    "## References\n",
    "\n",
    "[pandas website](https://pandas.pydata.org/)\n",
    "\n",
    "Includes link to pdf for *pandas: powerful Python data analysis toolkit*, free online alternative to *Python for Data Analysis* by Wes McKinney "
   ]
  },
  {
   "cell_type": "markdown",
   "metadata": {},
   "source": [
    "## Setup\n",
    "\n",
    "This is the standard import statement for pandas:"
   ]
  },
  {
   "cell_type": "code",
   "execution_count": null,
   "metadata": {
    "colab": {},
    "colab_type": "code",
    "id": "j6JE8Q1LPYt_"
   },
   "outputs": [],
   "source": [
    "import pandas as pd"
   ]
  },
  {
   "cell_type": "markdown",
   "metadata": {},
   "source": [
    "# Series\n",
    "\n",
    "Basic Python has 2 built-in one-dimensional data structures: dictionaries and lists.\n",
    "\n",
    "Here's an example of a dictionary:"
   ]
  },
  {
   "cell_type": "code",
   "execution_count": null,
   "metadata": {},
   "outputs": [],
   "source": [
    "states_dict = {'OH': 'Ohio', 'TN': 'Tennessee', 'AZ': 'Arizona', 'PA': 'Pennsylvania', 'AK': 'Alaska'}\n",
    "print(states_dict)"
   ]
  },
  {
   "cell_type": "markdown",
   "metadata": {},
   "source": [
    "Dictionary items are addressable by key, but not by integer index because they are unordered."
   ]
  },
  {
   "cell_type": "code",
   "execution_count": null,
   "metadata": {},
   "outputs": [],
   "source": [
    "print(states_dict['TN'])"
   ]
  },
  {
   "cell_type": "code",
   "execution_count": null,
   "metadata": {},
   "outputs": [],
   "source": [
    "print(states_dict[2])"
   ]
  },
  {
   "cell_type": "markdown",
   "metadata": {},
   "source": [
    "Lists are ordered, but don't have labels."
   ]
  },
  {
   "cell_type": "code",
   "execution_count": null,
   "metadata": {},
   "outputs": [],
   "source": [
    "animal_list = ['lizard', 'spider', 'worm', 'bee']\n",
    "print(animal_list)"
   ]
  },
  {
   "cell_type": "markdown",
   "metadata": {},
   "source": [
    "List items are addressable by integer index, but not by label."
   ]
  },
  {
   "cell_type": "code",
   "execution_count": null,
   "metadata": {},
   "outputs": [],
   "source": [
    "print(animal_list[2])"
   ]
  },
  {
   "cell_type": "code",
   "execution_count": null,
   "metadata": {},
   "outputs": [],
   "source": [
    "print(animal_list['reptile'])"
   ]
  },
  {
   "cell_type": "markdown",
   "metadata": {},
   "source": [
    "Series are one-dimensional pandas data structures that are sort of a hybrid of dictionaries and lists. They are ordered, but they also are labeled.\n",
    "\n",
    "We can create an instance of a Series by passing a dictionary as an argument into `pd.Series()`:"
   ]
  },
  {
   "cell_type": "code",
   "execution_count": null,
   "metadata": {},
   "outputs": [],
   "source": [
    "states_series = pd.Series(states_dict)\n",
    "print(states_series)"
   ]
  },
  {
   "cell_type": "markdown",
   "metadata": {},
   "source": [
    "When a Series is displayed, the label index is shown on the left and the Series items are shown on the right.\n",
    "\n",
    "We can refer to items in a Series by either position (using an integer index) or by their name (using the label index for the item). Integer indexing is zero-based as with everything else in Python."
   ]
  },
  {
   "cell_type": "code",
   "execution_count": null,
   "metadata": {},
   "outputs": [],
   "source": [
    "print(states_series[2])\n",
    "print(states_series['TN'])"
   ]
  },
  {
   "cell_type": "markdown",
   "metadata": {},
   "source": [
    "Series item 2 is the third item in the Series since we start counting with zero.\n",
    "\n",
    "There is an alternate way of referring to Series items by position that makes the indexing system explicit. `.loc[]` locates items by label index, and `.iloc[]` locates items by integer index. WARNING: One gotcha here is that the \"i\" in \"iloc\" should be thought of as referring to \"integer\", NOT \"index\". In pandas, when the term \"index\" is used by itself, it refers to the label index, not the integer index.\n",
    "\n",
    "Specifying a single index in `.loc[]` or `.iloc[]` returns a single value from the Series. In this case the values are strings, so the type of the returned value is string."
   ]
  },
  {
   "cell_type": "code",
   "execution_count": null,
   "metadata": {},
   "outputs": [],
   "source": [
    "print(states_series.iloc[2])\n",
    "print(states_series.loc['TN'])\n",
    "print(type(states_series.loc['TN']))"
   ]
  },
  {
   "cell_type": "markdown",
   "metadata": {},
   "source": [
    "## Why do we care about Series?\n",
    "\n",
    "There doesn't immediately seem to be a big advantage of using a panda Series over generic Python data structures like lists and dictionaries. However, they can be important in two ways:\n",
    "\n",
    "1. Using them can make operations much faster because they are built from NumPy arrays.\n",
    "2. Their behavior is similar to the more commonly used pandas DataFrames, but Series are simpler and therefore easier to understand.\n",
    "\n",
    "We can see how Series are constructed by dissecting them into their values and label index parts."
   ]
  },
  {
   "cell_type": "code",
   "execution_count": null,
   "metadata": {},
   "outputs": [],
   "source": [
    "print(states_series.values)\n",
    "print(type(states_series.values))\n",
    "print(states_series.index)\n",
    "print(type(states_series.index))"
   ]
  },
  {
   "cell_type": "markdown",
   "metadata": {},
   "source": [
    "From this we see that the values in the series are actually a NumPy array.\n",
    "\n",
    "Both the values and the label indices are iterable, so we can use them in `for` loops."
   ]
  },
  {
   "cell_type": "code",
   "execution_count": null,
   "metadata": {},
   "outputs": [],
   "source": [
    "for state_name in states_series.values:\n",
    "    print(state_name)\n",
    "    print(type(state_name))"
   ]
  },
  {
   "cell_type": "code",
   "execution_count": null,
   "metadata": {},
   "outputs": [],
   "source": [
    "for state_abbrev in states_series.index:\n",
    "    print(state_abbrev)\n",
    "    print(type(state_abbrev))"
   ]
  },
  {
   "cell_type": "markdown",
   "metadata": {},
   "source": [
    "However, because series are based on NumPy arrays, they can also be used in vectorized operations, so it's really kind of dumb (and slower) to use them in `for` loops."
   ]
  },
  {
   "cell_type": "code",
   "execution_count": null,
   "metadata": {},
   "outputs": [],
   "source": [
    "# Perform manipulation using a for loop\n",
    "result = []\n",
    "for state_name in states_series.values:\n",
    "    result.append(state_name + ' State')\n",
    "print(result)\n",
    "print(type(result))"
   ]
  },
  {
   "cell_type": "code",
   "execution_count": null,
   "metadata": {},
   "outputs": [],
   "source": [
    "# Perform manipulation as a vectorized operation\n",
    "result = states_series + ' State'\n",
    "print(result)\n",
    "print(type(result))"
   ]
  },
  {
   "cell_type": "markdown",
   "metadata": {},
   "source": [
    "Notice that the result of the vectorized operation is another Series that shares the same respective label indices as the original Series."
   ]
  },
  {
   "cell_type": "markdown",
   "metadata": {},
   "source": [
    "## Slicing a Series\n",
    "\n",
    "We can use `.iloc[]` to slice a Series by integer position in a manner similar to the way we slice lists in basic Python. We use a range of positions, separated by a colon, inside of the square brackets instead of a single number as we did to retrieve one value. As with lists, the last item in the range is not included. That is, the range `1:4` includes items 1 through 3, but not 4.\n",
    "\n",
    "The resulting slice is also a Series, and the label indices remain associated with the sliced values in the resulting Series.\n"
   ]
  },
  {
   "cell_type": "code",
   "execution_count": null,
   "metadata": {},
   "outputs": [],
   "source": [
    "print(states_series)\n",
    "print()\n",
    "print(states_series.iloc[1:4])"
   ]
  },
  {
   "cell_type": "markdown",
   "metadata": {},
   "source": [
    "We can explicitly specify the items we want by using a list of integer indices inside the square brackets. The order of the items in the resulting Series will be the order they were specified in the list."
   ]
  },
  {
   "cell_type": "code",
   "execution_count": null,
   "metadata": {},
   "outputs": [],
   "source": [
    "print(states_series.iloc[ [1, 3, 0] ])"
   ]
  },
  {
   "cell_type": "markdown",
   "metadata": {},
   "source": [
    "Series can also be sliced by a range of their labels using `.loc()` (but inclusive of end of range)."
   ]
  },
  {
   "cell_type": "code",
   "execution_count": null,
   "metadata": {},
   "outputs": [],
   "source": [
    "print(states_series)\n",
    "print()\n",
    "print(states_series.loc['TN':'PA'])"
   ]
  },
  {
   "cell_type": "markdown",
   "metadata": {},
   "source": [
    "Notice that the end of the range (`PA`) was included in the slice.\n",
    "\n",
    "We can also slice by specifying a list of label indices to be included."
   ]
  },
  {
   "cell_type": "code",
   "execution_count": null,
   "metadata": {},
   "outputs": [],
   "source": [
    "print(states_series.loc[ ['TN', 'AK', 'OH'] ])"
   ]
  },
  {
   "cell_type": "markdown",
   "metadata": {},
   "source": [
    "## Slicing by condition\n",
    "\n",
    "Evaluating a condition involving the Series is a vectorized operation, so the result will be a Series of booleans corresponding to whether each the values in the series meets the condition. The following is a vectorized boolian operation on the `states_series` Series."
   ]
  },
  {
   "cell_type": "code",
   "execution_count": null,
   "metadata": {},
   "outputs": [],
   "source": [
    "states_series == 'Tennessee'"
   ]
  },
  {
   "cell_type": "markdown",
   "metadata": {},
   "source": [
    "Some googling and StackOverflow may be required to find out how to set up the condition you want. For example, here's how to check if a value starts with a particular string."
   ]
  },
  {
   "cell_type": "code",
   "execution_count": null,
   "metadata": {},
   "outputs": [],
   "source": [
    "states_series.str.startswith('A')"
   ]
  },
  {
   "cell_type": "markdown",
   "metadata": {},
   "source": [
    "In addition to explicitly locating items in the Series using `.loc[]`, we can also locate items by condition. If we insert a conditional expression inside the square brackets, the resulting slice will include any items for which the condition is `True`."
   ]
  },
  {
   "cell_type": "code",
   "execution_count": null,
   "metadata": {},
   "outputs": [],
   "source": [
    "print(states_series.loc[states_series == 'Tennessee'])"
   ]
  },
  {
   "cell_type": "code",
   "execution_count": null,
   "metadata": {},
   "outputs": [],
   "source": [
    "print(states_series.loc[states_series.str.startswith('A')])"
   ]
  },
  {
   "cell_type": "markdown",
   "metadata": {},
   "source": [
    "Notice that the result of slicing by condition using `.loc[]` is a series, even if the result contains only a single item."
   ]
  },
  {
   "cell_type": "markdown",
   "metadata": {},
   "source": [
    "# Slices vs. copies\n",
    "\n",
    "One important feature of Python that becomes important at this point is that using the assignment operator does not actually make a copy of the object on the right. Instead, the assignment operator assigns a name to the object. "
   ]
  },
  {
   "cell_type": "code",
   "execution_count": null,
   "metadata": {},
   "outputs": [],
   "source": [
    "first_number = 3\n",
    "second_number = first_number\n",
    "second_number = 6\n",
    "print(first_number)"
   ]
  },
  {
   "cell_type": "markdown",
   "metadata": {},
   "source": [
    "In the example above, we might think that changing the value of `second_number` doesn't affect the value of `first_number` because we made a copy of `first_number`, leaving `first_number` unaffected. But try this:"
   ]
  },
  {
   "cell_type": "code",
   "execution_count": null,
   "metadata": {},
   "outputs": [],
   "source": [
    "first_list = ['dog', 'cat', 'bird']\n",
    "print('first list:', first_list)\n",
    "second_list = first_list\n",
    "second_list[1] = 'horse'\n",
    "print('second list:', second_list)\n",
    "print('first list now:', first_list)"
   ]
  },
  {
   "cell_type": "markdown",
   "metadata": {},
   "source": [
    "What's going on here? After the assignment statement in the third line, when we change `second_list`, our changes also indirectly affect `first_list`. The reason is that in the third line the assignment statement applies an additional name to the list object, but it doesn't make a separate copy of the list. Both `first_list` and `second_list` refer to the same list object, so changing one of them also changes the other. Because lists are mutable (changeable) objects, \n",
    "\n",
    "```\n",
    "second_list[1] = 'horse'\n",
    "```\n",
    "\n",
    "affects both lists.\n",
    "\n",
    "In the earlier example, `first_number` is the name applied an immutable (unchangeable) integer object (`3`). \n",
    "\n",
    "```\n",
    "second_number = first_number\n",
    "```\n",
    "\n",
    "applies a new name to the integer `3`. But \n",
    "\n",
    "```\n",
    "second_number = 6\n",
    "```\n",
    "\n",
    "cannot change the integer object `3` into `6` because `3` is immutable. Rather, it re-assigns the name `second_number` to a different object, the integer `6`.\n",
    "\n",
    "The important thing here is that assignment statements do not create a copy of mutable objects. Changing the linked object will affect the original object unless copying is made explicit, as in this example:"
   ]
  },
  {
   "cell_type": "code",
   "execution_count": null,
   "metadata": {},
   "outputs": [],
   "source": [
    "first_list = ['dog', 'cat', 'bird']\n",
    "print('first list:', first_list)\n",
    "second_list = first_list.copy()\n",
    "second_list[1] = 'horse'\n",
    "print('second list:', second_list)\n",
    "print('first list now:', first_list)"
   ]
  },
  {
   "cell_type": "markdown",
   "metadata": {},
   "source": [
    "In this example, the name `second_list` is explicitly assigned to a copy of `first_list` rather than `first_list` itself. So changes made to `second_list` have no effect on `first_list`.\n",
    "\n",
    "We have to be careful about this if we want to make modifications to slices. "
   ]
  },
  {
   "cell_type": "code",
   "execution_count": null,
   "metadata": {},
   "outputs": [],
   "source": [
    "states_series = pd.Series({'OH': 'Ohio', 'TN': 'Tennessee', 'AZ': 'Arizona', 'PA': 'Pennsylvania', 'AK': 'Alaska'})\n",
    "print(states_series)\n",
    "print()\n",
    "states_slice = states_series.loc['TN':'PA']\n",
    "states_slice['AZ'] = 'The Grand Canyon State'\n",
    "print(states_slice)\n",
    "print()\n",
    "print(states_series)"
   ]
  },
  {
   "cell_type": "markdown",
   "metadata": {},
   "source": [
    "In the example above, even though the modification was made on the slice, it affected the original series. To avoid this, we need to make the assignment to a copy of the slice."
   ]
  },
  {
   "cell_type": "code",
   "execution_count": null,
   "metadata": {},
   "outputs": [],
   "source": [
    "states_series = pd.Series({'OH': 'Ohio', 'TN': 'Tennessee', 'AZ': 'Arizona', 'PA': 'Pennsylvania', 'AK': 'Alaska'})\n",
    "print(states_series)\n",
    "print()\n",
    "states_slice = states_series.loc['TN':'PA'].copy()\n",
    "states_slice['AZ'] = 'The Grand Canyon State'\n",
    "print(states_slice)\n",
    "print()\n",
    "print(states_series)"
   ]
  },
  {
   "cell_type": "markdown",
   "metadata": {},
   "source": [
    "## Making changes \"stick\"\n",
    "\n",
    "When you perform a sort on a Python list using the `.sort()` method, nothing is returned. Rather, the sort is performed \"in place\" on the list, replacing the original list with the sorted one. "
   ]
  },
  {
   "cell_type": "code",
   "execution_count": null,
   "metadata": {},
   "outputs": [],
   "source": [
    "day_list = ['Sunday', 'Monday', 'Tuesday', 'Wednesday', 'Thursday', 'Friday', 'Saturday']\n",
    "day_list.sort() # Sort the list, nothing is returned (and therefore nothing is displayed when the cell is run)"
   ]
  },
  {
   "cell_type": "code",
   "execution_count": null,
   "metadata": {},
   "outputs": [],
   "source": [
    "# Display the current condition of the list (sorted=alphabetized)\n",
    "day_list"
   ]
  },
  {
   "cell_type": "markdown",
   "metadata": {},
   "source": [
    "You can sort a pandas Series by its values using `.sort_values()`. If the values are strings, they will be alphabetized. In contrast to a list sort, the `.sort_values()` method does return something: a `view` of the series in sorted form. Because a value is being returned, the view is displayed below the cell when it is run."
   ]
  },
  {
   "cell_type": "code",
   "execution_count": null,
   "metadata": {
    "scrolled": true
   },
   "outputs": [],
   "source": [
    "states_series.sort_values()"
   ]
  },
  {
   "cell_type": "markdown",
   "metadata": {},
   "source": [
    "However, the sorted view of Series was only displayed and not assigned to anything. The original Series was not changed, as we can see by displaying it:"
   ]
  },
  {
   "cell_type": "code",
   "execution_count": null,
   "metadata": {
    "scrolled": true
   },
   "outputs": [],
   "source": [
    "states_series"
   ]
  },
  {
   "cell_type": "markdown",
   "metadata": {},
   "source": [
    "To make the change (i.e. the sort of the Series) permanent, we can save the sorted series under a different name by assigning a copy of the view to the new name. If we don't use the `.copy()` method, then the newly named sorted series will still be a view of the original Series and changes we make to the sorted Series would affect the original Series."
   ]
  },
  {
   "cell_type": "code",
   "execution_count": null,
   "metadata": {},
   "outputs": [],
   "source": [
    "sorted_series = states_series.sort_values().copy()\n",
    "sorted_series"
   ]
  },
  {
   "cell_type": "markdown",
   "metadata": {},
   "source": [
    "If we want the sorted series to replace the original one, re-assign the original name to the sorted series."
   ]
  },
  {
   "cell_type": "code",
   "execution_count": null,
   "metadata": {},
   "outputs": [],
   "source": [
    "state_series = states_series.sort_values()\n",
    "state_series"
   ]
  },
  {
   "cell_type": "markdown",
   "metadata": {},
   "source": [
    "This pattern (assigning the original name of the object to a modified view) is probably the best way to apply changes that we make to a pandas data object without creating a new copy of it. It's useful if we add or delete rows or columns, sort, change values, etc.\n",
    "\n",
    "Another option is to perform the operation using the `inplace=True` argument, rather than assigning the result to a different variable."
   ]
  },
  {
   "cell_type": "code",
   "execution_count": null,
   "metadata": {},
   "outputs": [],
   "source": [
    "states_series = pd.Series({'OH': 'Ohio', 'TN': 'Tennessee', 'AZ': 'Arizona', 'PA': 'Pennsylvania', 'AK': 'Alaska'})\n",
    "print(states_series)\n",
    "print()\n",
    "states_series.sort_values(inplace=True)\n",
    "print(states_series)"
   ]
  },
  {
   "cell_type": "markdown",
   "metadata": {},
   "source": [
    "Notice that when the `inplace=True` argument is used, the method does not return anything. Instead, it applies the change to the original object.\n",
    "\n",
    "*Note: as of October 2022, there is some discussion about deprecating the* `inplace` *argument since it is considered to have some unintended pitfalls.*\n",
    "\n",
    "There are several ways to change the type of sort. The keyword `ascending=False` can be used to reverse the direction of the sort (reverse alphabetical order for strings, largest to smallest for numbers)."
   ]
  },
  {
   "cell_type": "code",
   "execution_count": null,
   "metadata": {},
   "outputs": [],
   "source": [
    "states_series = pd.Series({'OH': 'Ohio', 'TN': 'Tennessee', 'AZ': 'Arizona', 'PA': 'Pennsylvania', 'AK': 'Alaska'})\n",
    "print(states_series)\n",
    "print()\n",
    "print(states_series.sort_values(ascending=False))\n"
   ]
  },
  {
   "cell_type": "markdown",
   "metadata": {},
   "source": [
    "The sort can also be performed on the label index rather than on the values if you use `.sort_index()`"
   ]
  },
  {
   "cell_type": "code",
   "execution_count": null,
   "metadata": {
    "scrolled": true
   },
   "outputs": [],
   "source": [
    "states_series = pd.Series({'AZ': 'Arizona', 'AR': 'Arkansas', 'AL': 'Alabama', 'IA': 'Iowa', 'ID': 'Idaho'})\n",
    "print(states_series.sort_values())\n",
    "print()\n",
    "print(states_series.sort_index())\n"
   ]
  },
  {
   "cell_type": "markdown",
   "metadata": {},
   "source": [
    "# Optional: Series without explicit label indices\n",
    "\n",
    "If we construct a Series from a list rather than a dictionary, pandas will generate label indices from a sequence of integers starting with zero. "
   ]
  },
  {
   "cell_type": "code",
   "execution_count": null,
   "metadata": {},
   "outputs": [],
   "source": [
    "animal_list = ['lizard', 'spider', 'worm', 'bee']\n",
    "animal_series = pd.Series(animal_list)\n",
    "print(animal_series)"
   ]
  },
  {
   "cell_type": "markdown",
   "metadata": {},
   "source": [
    "At this point, the positional integer index and the label index for a particular item will be the same. So using `.loc()` and `.iloc()` will produce the same result"
   ]
  },
  {
   "cell_type": "code",
   "execution_count": null,
   "metadata": {},
   "outputs": [],
   "source": [
    "print(animal_series.loc[2])\n",
    "print(animal_series.iloc[2])"
   ]
  },
  {
   "cell_type": "markdown",
   "metadata": {},
   "source": [
    "However, if we create a slice of the original Series, the positional integer indexing for the slice will begin with zero, but the label indices for items in the slice will be the same as in the original Series"
   ]
  },
  {
   "cell_type": "code",
   "execution_count": null,
   "metadata": {},
   "outputs": [],
   "source": [
    "animal_slice = animal_series.iloc[2:]\n",
    "print(animal_slice)"
   ]
  },
  {
   "cell_type": "code",
   "execution_count": null,
   "metadata": {},
   "outputs": [],
   "source": [
    "print(animal_slice.iloc[0])\n",
    "print(animal_slice.loc[2])"
   ]
  },
  {
   "cell_type": "markdown",
   "metadata": {},
   "source": [
    "To avoid this comfusion, it's convenient to assign some kind of unique non-integer identifiers to the Series items. Here's an example:"
   ]
  },
  {
   "cell_type": "code",
   "execution_count": null,
   "metadata": {},
   "outputs": [],
   "source": [
    "id_animal_series = pd.Series(animal_list, index=['a', 'b', 'c', 'd'])\n",
    "print(id_animal_series)"
   ]
  },
  {
   "cell_type": "code",
   "execution_count": null,
   "metadata": {},
   "outputs": [],
   "source": [
    "id_animal_slice = id_animal_series.iloc[2:]\n",
    "print(id_animal_slice)"
   ]
  },
  {
   "cell_type": "code",
   "execution_count": null,
   "metadata": {},
   "outputs": [],
   "source": [
    "print(id_animal_slice.iloc[0])\n",
    "print(id_animal_slice.loc['c'])"
   ]
  },
  {
   "cell_type": "markdown",
   "metadata": {},
   "source": [
    "# Practice exercises\n",
    "\n",
    "The first cell queries Wikidata to get the labels of artworks from the Vanderbilt Fine Arts Gallery that have their images in Wikimedia Commons. It returns a list of URLs and a list of labels for the works.\n",
    "\n",
    "**Note:** If you installed stand-alone Jupyter notebooks, you may need to install the `requests` module. If you are using an Anaconda installation or Colab, that module should already be installed."
   ]
  },
  {
   "cell_type": "code",
   "execution_count": null,
   "metadata": {},
   "outputs": [],
   "source": [
    "import requests\n",
    "\n",
    "def get_wikidata():\n",
    "    query_string = '''select distinct ?qid ?label where {\n",
    "  ?qid wdt:P195 wd:Q18563658. # must be in the collection Vanderbilt University Fine Arts Gallery\n",
    "  ?qid wdt:P18 ?image. # item must be depicted in Wikimedia Commons\n",
    "  ?qid rdfs:label ?label. # get the label\n",
    "  filter(lang(?label)='en') # filter the labels to include only English\n",
    "  }'''\n",
    "    \n",
    "    response = requests.get('https://query.wikidata.org/sparql', params={'query' : query_string}, headers={'Accept': 'application/sparql-results+json'})\n",
    "    data = response.json()\n",
    "    results = data['results']['bindings']\n",
    "    \n",
    "    urls = []\n",
    "    labels = []\n",
    "    for result in results:\n",
    "        urls.append(result['qid']['value'])\n",
    "        labels.append(result['label']['value'])\n",
    "    return urls, labels\n",
    "\n",
    "urls, labels = get_wikidata()"
   ]
  },
  {
   "cell_type": "code",
   "execution_count": null,
   "metadata": {},
   "outputs": [],
   "source": [
    "import pandas as pd\n",
    "labels_series = pd.Series(labels, index=urls)\n",
    "labels_series.head()"
   ]
  },
  {
   "cell_type": "code",
   "execution_count": null,
   "metadata": {},
   "outputs": [],
   "source": []
  },
  {
   "cell_type": "code",
   "execution_count": null,
   "metadata": {},
   "outputs": [],
   "source": []
  }
 ],
 "metadata": {
  "colab": {
   "collapsed_sections": [],
   "name": "file_test.ipynb",
   "provenance": []
  },
  "kernelspec": {
   "display_name": "Python 3",
   "language": "python",
   "name": "python3"
  },
  "language_info": {
   "codemirror_mode": {
    "name": "ipython",
    "version": 3
   },
   "file_extension": ".py",
   "mimetype": "text/x-python",
   "name": "python",
   "nbconvert_exporter": "python",
   "pygments_lexer": "ipython3",
   "version": "3.8.5"
  }
 },
 "nbformat": 4,
 "nbformat_minor": 1
}
