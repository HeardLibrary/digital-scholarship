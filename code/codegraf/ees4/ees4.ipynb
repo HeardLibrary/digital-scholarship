{
  "cells": [
    {
      "cell_type": "markdown",
      "metadata": {},
      "source": [
        "# Loops\n",
        "\n",
        "## Iterating using `for`\n",
        "\n",
        "Examples"
      ]
    },
    {
      "cell_type": "code",
      "execution_count": null,
      "metadata": {},
      "outputs": [],
      "source": [
        "basket = ['apple', 'orange', 'banana', 'lemon', 'lime']\n",
        "for fruit in basket:\n",
        "    print('I ate one ' + fruit)\n",
        "print(\"I'm full now!\")\n"
      ]
    },
    {
      "cell_type": "code",
      "execution_count": null,
      "metadata": {},
      "outputs": [],
      "source": [
        "word = 'supercalifragilisticexpialidocious'\n",
        "print('Spell it out!')\n",
        "for letter in word:\n",
        "    print(letter)\n",
        "print('That wore me out.')\n"
      ]
    },
    {
      "cell_type": "markdown",
      "metadata": {},
      "source": [
        "## Practice\n",
        "\n",
        "Print the number of characters in each string in the list below. Recall that the `len()` function returns the number of characters in a string."
      ]
    },
    {
      "cell_type": "code",
      "execution_count": null,
      "metadata": {},
      "outputs": [],
      "source": [
        "words = ['fabulous',' a','uncle', 'unbelievable','!@#$%^&*']\n"
      ]
    },
    {
      "cell_type": "markdown",
      "metadata": {},
      "source": [
        "## Building a sequence with a for loop\n",
        "\n",
        "The pattern of creating an empty thing and then adding a sequence of items to it in a loop is a common one. \n",
        "\n",
        "```\n",
        "sequence = sequence + item\n",
        "```\n",
        "\n",
        "can be replaced with \n",
        "\n",
        "```\n",
        "sequence += item\n",
        "```\n",
        "\n",
        "Code with explicit concatenation:"
      ]
    },
    {
      "cell_type": "code",
      "execution_count": null,
      "metadata": {},
      "outputs": [],
      "source": [
        "list_of_words = ['The ', 'quick ', 'brown ', 'fox ', 'jumps ', 'over ', 'the ', 'lazy ', 'dog ']\n",
        "sentence = ''\n",
        "for word in list_of_words:\n",
        "    sentence = sentence + word # Concatenate the word to the sentence\n",
        "print(sentence + '!')\n"
      ]
    },
    {
      "cell_type": "markdown",
      "metadata": {},
      "source": [
        "Code with shorthand:\n"
      ]
    },
    {
      "cell_type": "code",
      "execution_count": null,
      "metadata": {},
      "outputs": [],
      "source": [
        "sentence = ''\n",
        "for word in list_of_words:\n",
        "    sentence += word\n",
        "print(sentence + '!')"
      ]
    },
    {
      "cell_type": "markdown",
      "metadata": {},
      "source": [
        "Same strategy, but doing creating a total by summing a list of numbers:\n"
      ]
    },
    {
      "cell_type": "code",
      "execution_count": null,
      "metadata": {},
      "outputs": [],
      "source": [
        "total = 0\n",
        "for number in [3, 5, 7, 9]:\n",
        "    total += number\n",
        "print('The total is', total)"
      ]
    },
    {
      "cell_type": "markdown",
      "metadata": {},
      "source": [
        "Using a `range()` object to create a list from user input:\n"
      ]
    },
    {
      "cell_type": "code",
      "execution_count": null,
      "metadata": {},
      "outputs": [],
      "source": [
        "bird_list = []\n",
        "for i in range(4):\n",
        "    bird = input('Enter a bird name: ')\n",
        "    bird_list.append(bird)\n",
        "print('Your bird list is:', bird_list)"
      ]
    },
    {
      "cell_type": "markdown",
      "metadata": {},
      "source": [
        "# Iterating through rows in a DataFrame\n",
        "\n",
        "One of the main purposes of pandas is to make it possible to perform operations on entire columns using vectorized operations. However, there are some situations where it makes sense to iterate through each row in the DataFrame and deal with values one row at a time. These situations would include complex operations that require multiple lines of code to describe, or actions that must happen sequentially, such as retrieving data from a URL.\n",
        "\n",
        "Our example will use information about websites"
      ]
    },
    {
      "cell_type": "code",
      "execution_count": null,
      "metadata": {},
      "outputs": [],
      "source": [
        "websites = {\n",
        "    'name': {'alphabet': 'Google', 'vu': 'Vanderbilt', 'fake': 'Obsolete Website'}, \n",
        "    'url': {'alphabet': 'https://www.google.com/', 'vu': 'https://www.vanderbilt.edu/', 'fake': 'https://example.org/fake_url'},\n",
        "    'status': {'alphabet': 'unknown', 'vu': 'unknown', 'fake': 'unknown'}\n",
        "           }\n",
        "websites_df = pd.DataFrame(websites)\n",
        "websites_df"
      ]
    },
    {
      "cell_type": "markdown",
      "metadata": {},
      "source": [
        "To generate an iterable object from the DataFrame we use the `.iterrows()` method. Iterating using a `for` loop generates a tuple consisting of the label index and the data from the row, in the form of a Series."
      ]
    },
    {
      "cell_type": "code",
      "execution_count": null,
      "metadata": {},
      "outputs": [],
      "source": [
        "for label_index, website_series in websites_df.iterrows():\n",
        "    print(label_index)\n",
        "    print()\n",
        "    print(website_series)\n",
        "    print()\n",
        "    print()"
      ]
    },
    {
      "cell_type": "markdown",
      "metadata": {},
      "source": [
        "To access a value from the row Series, we can use direct indexing by providing the column label index."
      ]
    },
    {
      "cell_type": "code",
      "execution_count": null,
      "metadata": {},
      "outputs": [],
      "source": [
        "for label_index, website_series in websites_df.iterrows():\n",
        "    print(website_series['url'])\n",
        "    print()"
      ]
    },
    {
      "cell_type": "markdown",
      "metadata": {},
      "source": [
        "Iterating will allow us to check the status of each website one at a time."
      ]
    },
    {
      "cell_type": "code",
      "execution_count": null,
      "metadata": {},
      "outputs": [],
      "source": [
        "import requests\n",
        "for label_index, website_series in websites_df.iterrows():\n",
        "    response = requests.get(website_series['url'])\n",
        "    # HTTP status code 200 means the website is up, 404 means it's down.\n",
        "    print(label_index, website_series['url'], response.status_code)\n",
        "    # Assign the status to the status column in the DataFrame\n",
        "    websites_df.loc[label_index, 'status'] = response.status_code\n",
        "\n",
        "# Print the updated DataFrame\n",
        "websites_df"
      ]
    },
    {
      "cell_type": "markdown",
      "metadata": {},
      "source": [
        "## Practice\n",
        "\n",
        "Use the .head() method to assign the first 10 rows of the schools DataFrame to a new DataFrame called `schools_subset`. Then iterate through the rows of `schools_subset` and print the `School Name` and `Zip Code` for each row."
      ]
    },
    {
      "cell_type": "code",
      "execution_count": null,
      "metadata": {},
      "outputs": [],
      "source": []
    },
    {
      "cell_type": "markdown",
      "metadata": {
        "id": "2JxNu-W7eIOg"
      },
      "source": [
        "# Conditional execution\n",
        "\n",
        "## if statement\n",
        "\n",
        "After running the following example, try changing the boolean value of `is_friday` from `False` to `True` and run it again. Notice that `False` is not the string `'False'` because it is not in quotes."
      ]
    },
    {
      "cell_type": "code",
      "execution_count": 1,
      "metadata": {
        "id": "SPbp576UeIOi"
      },
      "outputs": [],
      "source": [
        "is_friday = False\n",
        "\n",
        "if is_friday:\n",
        "    print('Woopie! ')\n",
        "    print('TGIF !')"
      ]
    },
    {
      "cell_type": "markdown",
      "metadata": {
        "id": "mhk8ky1HeIOk"
      },
      "source": [
        "In the following example, the value of `is_mickey` is evaluated as a boolean object. The boolean value is then used to determin whether to execute the code block following the `if` statement. Try both code blocks with the existing name, then change the value of `name` to `Mickey Mouse`."
      ]
    },
    {
      "cell_type": "code",
      "execution_count": null,
      "metadata": {
        "id": "SllY6Y-EeIOm"
      },
      "outputs": [],
      "source": [
        "name = 'Fred Flintstone'\n",
        "\n",
        "# Evaluate the boolean value of is_micky based on the comparison of name and 'Mickey Mouse'\n",
        "is_micky = name == 'Mickey Mouse'\n",
        "print(name)\n",
        "print(is_micky)"
      ]
    },
    {
      "cell_type": "code",
      "execution_count": null,
      "metadata": {
        "id": "yveU1QxKeIOn"
      },
      "outputs": [],
      "source": [
        "if is_micky:\n",
        "    print('You are a Disney character')\n",
        "print('That is all!')"
      ]
    },
    {
      "cell_type": "markdown",
      "metadata": {
        "id": "PSthInMveIOr"
      },
      "source": [
        "In this example, we evaluate the boolean value directly in the `if` statement itself rather than doing it earlier and assigning its value to a variable."
      ]
    },
    {
      "cell_type": "code",
      "execution_count": null,
      "metadata": {
        "id": "NMSgsjCeeIOr"
      },
      "outputs": [],
      "source": [
        "name = input('What is the name of the character? ')\n",
        "print(name)\n",
        "\n",
        "if name == 'Mickey Mouse':\n",
        "    print('You are a Disney character')\n",
        "print('That is all!')"
      ]
    },
    {
      "cell_type": "markdown",
      "metadata": {
        "id": "UAC647-2eIOs"
      },
      "source": [
        "This example is not very satisfying because if the character is not Mickey Mouse, there is no specific reaction wo what they typed. That might be confusing to the user."
      ]
    },
    {
      "cell_type": "markdown",
      "metadata": {
        "id": "I4JDBhbFeIOs"
      },
      "source": [
        "## if … else …\n",
        "\n",
        "Run the code, then try changing the value to `True`"
      ]
    },
    {
      "cell_type": "code",
      "execution_count": null,
      "metadata": {
        "id": "qXNREZh1eIOt"
      },
      "outputs": [],
      "source": [
        "is_friday = False\n",
        "\n",
        "if is_friday:\n",
        "    print('TGIF !')\n",
        "else:\n",
        "    print('Too bad, have a nice day anyway.')"
      ]
    },
    {
      "cell_type": "markdown",
      "metadata": {
        "id": "jArnLceleIOv"
      },
      "source": [
        "In this example, we solve the problem with the earlier code by defining a code block that should be executed if the evaluated condition is `False`."
      ]
    },
    {
      "cell_type": "code",
      "execution_count": null,
      "metadata": {
        "id": "WVmgUhgNeIOv"
      },
      "outputs": [],
      "source": [
        "name = input('What is the name of the character? ')\n",
        "print(name)\n",
        "\n",
        "if name == 'Mickey Mouse':\n",
        "    print('You are a Disney character')\n",
        "    print('You are out of copyright!')\n",
        "else:\n",
        "    print('You are not a Disney character')\n",
        "print('That is all?')"
      ]
    },
    {
      "cell_type": "markdown",
      "metadata": {
        "id": "-t4wRD41eIOv"
      },
      "source": [
        "## if … elif … else …\n",
        "\n",
        "Example:"
      ]
    },
    {
      "cell_type": "code",
      "execution_count": null,
      "metadata": {
        "id": "wcm_v4DteIOv"
      },
      "outputs": [],
      "source": [
        "name = input('What is the name of the character? ')\n",
        "print(name)\n",
        "\n",
        "if name == 'Mickey Mouse':\n",
        "    print('You are a Disney character')\n",
        "    print('You are a mouse')\n",
        "elif name == 'Donald Duck':\n",
        "    print('You are a Disney character')\n",
        "    print('You are not a mouse')\n",
        "elif name == 'Minnie Mouse':\n",
        "    print('You are a Disney character')\n",
        "    print('Your boyfriend is getting old')\n",
        "else:\n",
        "    print('You are not a Disney character')\n",
        "print(\"That's all folks!\")"
      ]
    },
    {
      "cell_type": "markdown",
      "metadata": {},
      "source": [
        "## Practice\n",
        "\n",
        "Let the user enter an integer number, then test whether it is greater than zero. If it is, print that it is a positive number. Use `elif` and `else` to state whether the integer the user input is a negative number or zero. \n",
        "\n",
        "Don't forget to convert the input from a string to an integer using the `int()` function.\n",
        "\n",
        "Some starter code is provided in the cell below."
      ]
    },
    {
      "cell_type": "code",
      "execution_count": null,
      "metadata": {},
      "outputs": [],
      "source": [
        "user_number = int(input('Enter your choice of an integer: '))\n",
        "if user_number > 0:\n"
      ]
    },
    {
      "cell_type": "markdown",
      "metadata": {
        "id": "qiJ1g20_eIO0"
      },
      "source": [
        "# try ... except ...\n",
        "\n",
        "Try entering numeric and non-numeric characters in this example without error trapping."
      ]
    },
    {
      "cell_type": "code",
      "execution_count": null,
      "metadata": {
        "id": "ZH6_Ij0ieIO0"
      },
      "outputs": [],
      "source": [
        "from math import pi\n",
        "typed_in = input('What is the diameter of your circle? ')\n",
        "diameter = float(typed_in)\n",
        "print('The circumference is:', diameter * pi)"
      ]
    },
    {
      "cell_type": "markdown",
      "metadata": {
        "id": "1eciXXrieIO0"
      },
      "source": [
        "Now try again with this script:"
      ]
    },
    {
      "cell_type": "code",
      "execution_count": null,
      "metadata": {
        "id": "Z2QnfmNheIO0"
      },
      "outputs": [],
      "source": [
        "from math import pi\n",
        "typed_in = input('What is the diameter of your circle? ')\n",
        "try:\n",
        "    diameter = float(typed_in)\n",
        "    print('The circumference is:', diameter * pi)\n",
        "except:\n",
        "    print(\"Sorry, you didn't enter a number.\")"
      ]
    },
    {
      "cell_type": "markdown",
      "metadata": {
        "id": "eyktuc0heIO1"
      },
      "source": [
        "Now try running these two code blocks, first with a valid part number, then with a part number that is not in the catalog. The second block has error trapping; the first does not."
      ]
    },
    {
      "cell_type": "code",
      "execution_count": null,
      "metadata": {
        "id": "DDVYQ35_eIO1"
      },
      "outputs": [],
      "source": [
        "catalog = {'1008':'widget', '2149':'flange', '19x5':'smoke shifter', '992':'poiuyt'}\n",
        "part_number = input(\"What part do you want to order? \")\n",
        "print('You have ordered a ' + catalog[part_number])"
      ]
    },
    {
      "cell_type": "code",
      "execution_count": null,
      "metadata": {
        "id": "zdvRJR-yeIO1"
      },
      "outputs": [],
      "source": [
        "catalog = {'1008':'widget', '2149':'flange', '19x5':'smoke shifter', '992':'poiuyt'}\n",
        "part_number = input(\"What part do you want to order? \")\n",
        "try:\n",
        "    print('You have ordered a ' + catalog[part_number])\n",
        "except:\n",
        "    print(\"Sorry, that part isn't available.\")\n",
        "print(\"It's been a pleasure doing business with you!\")"
      ]
    },
    {
      "cell_type": "markdown",
      "metadata": {},
      "source": [
        "## Practice\n",
        "\n",
        "One possible problem is a \"division by zero\" error. Fix the following script to prevent a division by zero error using `try ... except ...` and print a warning if an error occurs."
      ]
    },
    {
      "cell_type": "code",
      "execution_count": null,
      "metadata": {},
      "outputs": [],
      "source": [
        "print(\"Let's divide 100 by some integer number!\")\n",
        "user_number = int(input('Enter the number you want to divide by: '))\n",
        "\n",
        "print(100/user_number)"
      ]
    },
    {
      "cell_type": "markdown",
      "metadata": {
        "id": "ziT8sP9C_kLQ"
      },
      "source": [
        "# Matplotlib"
      ]
    },
    {
      "cell_type": "code",
      "execution_count": 2,
      "metadata": {
        "id": "gB3GuCPIB1Nx"
      },
      "outputs": [],
      "source": [
        "import matplotlib.pyplot as plt\n",
        "\n",
        "injury_rate = [0.7, 1.0, 1.9, 2.0, 2.3, 2.4, 1.0]\n",
        "stories_fallen = [2, 3, 4, 5, 6, 8, 11]\n"
      ]
    },
    {
      "cell_type": "code",
      "execution_count": 3,
      "metadata": {
        "id": "6UroHaUg_th3"
      },
      "outputs": [
        {
          "data": {
            "image/png": "[encoded data removed]",
            "text/plain": [
              "<Figure size 432x288 with 2 Axes>"
            ]
          },
          "metadata": {
            "needs_background": "light"
          },
          "output_type": "display_data"
        }
      ],
      "source": [
        "# Create a figure object\n",
        "fig = plt.figure()\n",
        "\n",
        "# Create 2 subplots with 1 row and 2 columns\n",
        "ax1 = fig.add_subplot(1, 2, 1)\n",
        "ax2 = fig.add_subplot(1, 2, 2)\n",
        "plt.show() # displays the plot if you aren't using a Jupyter notebook\n"
      ]
    },
    {
      "cell_type": "markdown",
      "metadata": {},
      "source": [
        "Important note: when used in Jupyter notebooks, Matplotlib plots must be developed within a single code cell."
      ]
    },
    {
      "cell_type": "code",
      "execution_count": 4,
      "metadata": {
        "id": "pF67IoP-A79o"
      },
      "outputs": [
        {
          "data": {
            "image/png": "[encoded data removed]",
            "text/plain": [
              "<Figure size 432x288 with 2 Axes>"
            ]
          },
          "metadata": {
            "needs_background": "light"
          },
          "output_type": "display_data"
        }
      ],
      "source": [
        "# Create a figure object\n",
        "fig = plt.figure()\n",
        "\n",
        "# Create 2 subplots with 2 rows and 1 column\n",
        "ax1 = fig.add_subplot(2, 1, 1)\n",
        "ax2 = fig.add_subplot(2, 1, 2)\n"
      ]
    },
    {
      "cell_type": "code",
      "execution_count": 5,
      "metadata": {
        "id": "JXcAOP0AAwJG"
      },
      "outputs": [
        {
          "data": {
            "text/plain": [
              "<matplotlib.collections.PathCollection at 0x7fcb40137670>"
            ]
          },
          "execution_count": 5,
          "metadata": {},
          "output_type": "execute_result"
        },
        {
          "data": {
            "image/png": "[encoded data removed]",
            "text/plain": [
              "<Figure size 360x360 with 1 Axes>"
            ]
          },
          "metadata": {
            "needs_background": "light"
          },
          "output_type": "display_data"
        }
      ],
      "source": [
        "# Create a 5x5 figure object\n",
        "fig = plt.figure(figsize=(5,5))\n",
        "\n",
        "# Create a single subplot\n",
        "ax = fig.add_subplot(1, 1, 1)\n",
        "# Plot type .scatter() is a dot plot (scatterplot)\n",
        "ax.scatter(stories_fallen, injury_rate)\n"
      ]
    },
    {
      "cell_type": "code",
      "execution_count": 6,
      "metadata": {
        "id": "cxB89wJnDHY7"
      },
      "outputs": [
        {
          "data": {
            "text/plain": [
              "Text(0, 0.5, 'average injury per cat')"
            ]
          },
          "execution_count": 6,
          "metadata": {},
          "output_type": "execute_result"
        },
        {
          "data": {
            "image/png": "[encoded data removed]",
            "text/plain": [
              "<Figure size 360x360 with 1 Axes>"
            ]
          },
          "metadata": {
            "needs_background": "light"
          },
          "output_type": "display_data"
        }
      ],
      "source": [
        "# Improve the plot\n",
        "fig = plt.figure(figsize=(5,5))\n",
        "ax = fig.add_subplot(1, 1, 1)\n",
        "ax.scatter(stories_fallen, injury_rate, color='r')\n",
        "\n",
        "# set labels for subplot axes\n",
        "ax.set_xlabel('stories fallen')\n",
        "ax.set_ylabel('average injury per cat')"
      ]
    },
    {
      "cell_type": "code",
      "execution_count": 7,
      "metadata": {
        "id": "tIMbbbQGD9Z-"
      },
      "outputs": [
        {
          "data": {
            "text/plain": [
              "[<matplotlib.lines.Line2D at 0x7fcb88442520>]"
            ]
          },
          "execution_count": 7,
          "metadata": {},
          "output_type": "execute_result"
        },
        {
          "data": {
            "image/png": "[encoded data removed]",
            "text/plain": [
              "<Figure size 360x360 with 1 Axes>"
            ]
          },
          "metadata": {
            "needs_background": "light"
          },
          "output_type": "display_data"
        }
      ],
      "source": [
        "import numpy as np\n",
        "\n",
        "fig = plt.figure(figsize=(5,5))\n",
        "ax = fig.add_subplot(1, 1, 1)\n",
        "ax.scatter(stories_fallen, injury_rate)\n",
        "\n",
        "ax.set_xlabel('stories fallen')\n",
        "ax.set_ylabel('average injury per cat')\n",
        "\n",
        "# Add a second-order polynomial best-fit curve using NumPy\n",
        "z = np.polyfit(stories_fallen, injury_rate, 2)\n",
        "p = np.poly1d(z)\n",
        "# plot type .plot() is a line plot rather than scatterplot\n",
        "ax.plot(stories_fallen, p(stories_fallen), \"r--\") # r for red, -- for dashed line\n"
      ]
    },
    {
      "cell_type": "code",
      "execution_count": 8,
      "metadata": {
        "id": "Ql2j5e-TFccc"
      },
      "outputs": [
        {
          "data": {
            "text/plain": [
              "Text(0, 0.5, 'average injury per cat')"
            ]
          },
          "execution_count": 8,
          "metadata": {},
          "output_type": "execute_result"
        },
        {
          "data": {
            "image/png": "[encoded data removed]",
            "text/plain": [
              "<Figure size 360x360 with 1 Axes>"
            ]
          },
          "metadata": {
            "needs_background": "light"
          },
          "output_type": "display_data"
        }
      ],
      "source": [
        "fig = plt.figure(figsize=(5,5))\n",
        "ax = fig.add_subplot(1, 1, 1)\n",
        "# change plot type to bar plot\n",
        "ax.bar(stories_fallen, injury_rate)\n",
        "\n",
        "ax.set_xlabel('stories fallen')\n",
        "ax.set_ylabel('average injury per cat')\n"
      ]
    },
    {
      "cell_type": "code",
      "execution_count": 9,
      "metadata": {
        "id": "BW1fU6iiGf5H"
      },
      "outputs": [
        {
          "data": {
            "text/plain": [
              "Text(0, 0.5, 'average injury per cat')"
            ]
          },
          "execution_count": 9,
          "metadata": {},
          "output_type": "execute_result"
        },
        {
          "data": {
            "image/png": "[encoded data removed]",
            "text/plain": [
              "<Figure size 360x360 with 1 Axes>"
            ]
          },
          "metadata": {
            "needs_background": "light"
          },
          "output_type": "display_data"
        }
      ],
      "source": [
        "upper_deviation = [0.1, 0.2, 0.3, 0.1, 0.5, 0.2, 0.6]\n",
        "lower_deviation = [0.1, 0.4, 0.1, 0.2, 0.5, 0.6, 0.3]\n",
        "\n",
        "fig = plt.figure(figsize=(5,5))\n",
        "ax = fig.add_subplot(1, 1, 1)\n",
        "# change plot type to error bar\n",
        "ax.errorbar(stories_fallen, injury_rate, yerr=[lower_deviation, upper_deviation], fmt='o')\n",
        "\n",
        "ax.set_xlabel('stories fallen')\n",
        "ax.set_ylabel('average injury per cat')\n"
      ]
    },
    {
      "cell_type": "markdown",
      "metadata": {
        "id": "3POeaGp9eIO1"
      },
      "source": [
        "# if ... in ... (optional)\n",
        "\n",
        " Experiment with testing whether items are included in iterable objects."
      ]
    },
    {
      "cell_type": "code",
      "execution_count": null,
      "metadata": {
        "id": "QZmV-HIreIO2"
      },
      "outputs": [],
      "source": [
        "test = int(input())\n",
        "if test in range(0,5):\n",
        "    print(True)\n",
        "else:\n",
        "    print(False)"
      ]
    },
    {
      "cell_type": "code",
      "execution_count": null,
      "metadata": {
        "id": "DEFFFhk8eIO2"
      },
      "outputs": [],
      "source": [
        "animal = input()\n",
        "if animal in ['dog', 'cat', 'snake', 'bird']:\n",
        "    print(True)\n",
        "else:\n",
        "    print(False)"
      ]
    },
    {
      "cell_type": "markdown",
      "metadata": {
        "id": "gnvLxUKheIO3"
      },
      "source": [
        "We can prevent the error in the catalog example from occurring by first checking whether the key exists in the dictionary using the dictionary method `.keys()` and an `if...in...` statement."
      ]
    },
    {
      "cell_type": "code",
      "execution_count": null,
      "metadata": {
        "id": "yCZ6e1AOeIO3"
      },
      "outputs": [],
      "source": [
        "catalog = {'1008':'widget', '2149':'flange', '19x5':'smoke shifter', '992':'poiuyt'}\n",
        "print(catalog.keys())\n",
        "\n",
        "part_number = input(\"What part do you want to order? \")\n",
        "if part_number in catalog.keys():\n",
        "    print('You have ordered a ' + catalog[part_number])\n",
        "else:\n",
        "    print(\"Sorry, that part isn't available.\")\n",
        "print(\"It's been a pleasure doing business with you!\")"
      ]
    },
    {
      "cell_type": "markdown",
      "metadata": {
        "id": "pV8vVFGyeIO3"
      },
      "source": [
        "# Tuples (optional)\n",
        "\n",
        "Experiment with the following code cells. Notice that tuples are created with parentheses, not square brackets like lists or curly brackets like dictionaries."
      ]
    },
    {
      "cell_type": "code",
      "execution_count": null,
      "metadata": {
        "id": "UElmWlfQeIO3"
      },
      "outputs": [],
      "source": [
        "animals = ('dog', 'cat', 'snake', 'bird')\n",
        "print(animals)\n",
        "print(type(animals))\n",
        "print(animals[0])\n",
        "print(animals[3])"
      ]
    },
    {
      "cell_type": "markdown",
      "metadata": {
        "id": "gdwug0lPeIO3"
      },
      "source": [
        "The `.items()` dictionary method produces an iterable object composed of tuples."
      ]
    },
    {
      "cell_type": "code",
      "execution_count": null,
      "metadata": {
        "id": "5oPQ_E4weIO3"
      },
      "outputs": [],
      "source": [
        "catalog = {'1008':'widget', '2149':'flange', '19x5':'smoke shifter', '992':'poiuyt'}\n",
        "print(catalog.items())\n",
        "for item in catalog.items():\n",
        "    print(item, type(item))"
      ]
    },
    {
      "cell_type": "markdown",
      "metadata": {
        "id": "csZ2zY26eIO3"
      },
      "source": [
        "We can print the catalog by iterating through all of the key/value pairs using the `.items()` dictionary method. The user will then be able to see the possible choices.\n",
        "\n",
        "The two parts of the item tuple can be referenced by indices."
      ]
    },
    {
      "cell_type": "code",
      "execution_count": null,
      "metadata": {
        "id": "WAy6zIUXeIO4"
      },
      "outputs": [],
      "source": [
        "catalog = {'1008':'widget', '2149':'flange', '19x5':'smoke shifter', '992':'poiuyt'}\n",
        "\n",
        "for item in catalog.items():\n",
        "    print(item) # comment out this line after you see structure of the iterated tuples\n",
        "    print(item[0], item[1])\n",
        "print()\n",
        "\n",
        "part_number = input(\"Enter the number of the part you want to order: \")\n",
        "print()\n",
        "if part_number in catalog.keys():\n",
        "    print('You have ordered a ' + catalog[part_number])\n",
        "else:\n",
        "    print(\"Sorry, that part isn't available.\")\n",
        "print(\"It's been a pleasure doing business with you!\")"
      ]
    },
    {
      "cell_type": "markdown",
      "metadata": {
        "id": "S6AueUI2eIO4"
      },
      "source": [
        "The series of items in a tuple can be unpacked into a series of variables as in the following code"
      ]
    },
    {
      "cell_type": "code",
      "execution_count": null,
      "metadata": {
        "id": "zkX8cTm5eIO4"
      },
      "outputs": [],
      "source": [
        "# tuple literals can be generated by putting a sequence of items in parentheses\n",
        "number, string = (1, 'xyz')\n",
        "print(number, string)"
      ]
    },
    {
      "cell_type": "markdown",
      "metadata": {
        "id": "oeGl1lXfeIO5"
      },
      "source": [
        "We can asign each part of the iterator tuple to a separate variable using the following code."
      ]
    },
    {
      "cell_type": "code",
      "execution_count": null,
      "metadata": {
        "id": "tbhCME08eIO5"
      },
      "outputs": [],
      "source": [
        "catalog = {'1008':'widget', '2149':'flange', '19x5':'smoke shifter', '992':'poiuyt'}\n",
        "print('number', 'part')\n",
        "print('-----------')\n",
        "for number, part in catalog.items():\n",
        "    print(number, part)\n",
        "print()\n",
        "\n",
        "part_number = input(\"Enter the number of the part you want to order: \")\n",
        "print()\n",
        "if part_number in catalog.keys():\n",
        "    print('You have ordered a ' + catalog[part_number])\n",
        "else:\n",
        "    print(\"Sorry, that part isn't available.\")\n",
        "print(\"It's been a pleasure doing business with you!\")"
      ]
    },
    {
      "cell_type": "code",
      "execution_count": null,
      "metadata": {
        "id": "YPSX_SCzeIO5"
      },
      "outputs": [],
      "source": []
    }
  ],
  "metadata": {
    "colab": {
      "provenance": []
    },
    "kernelspec": {
      "display_name": "Python 3",
      "language": "python",
      "name": "python3"
    },
    "language_info": {
      "codemirror_mode": {
        "name": "ipython",
        "version": 3
      },
      "file_extension": ".py",
      "mimetype": "text/x-python",
      "name": "python",
      "nbconvert_exporter": "python",
      "pygments_lexer": "ipython3",
      "version": "3.8.5"
    }
  },
  "nbformat": 4,
  "nbformat_minor": 0
}
