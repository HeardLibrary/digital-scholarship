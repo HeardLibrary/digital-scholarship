{
  "cells": [
    {
      "cell_type": "markdown",
      "metadata": {
        "id": "zN05IqpfJhj7"
      },
      "source": [
        "# Python Lesson 3 Practice Assignment"
      ]
    },
    {
      "cell_type": "markdown",
      "metadata": {
        "id": "BNdYqS4jmKae"
      },
      "source": [
        "1. Create a dictionary where the keys are the names of months and the values are the number of days in that month. Allow a user to enter the name of a month and print the number of days in that month. Create appropriate prompts and print statements so the user knows what to do and can interpret the response."
      ]
    },
    {
      "cell_type": "code",
      "execution_count": null,
      "metadata": {
        "id": "2DkVQ9qyl7MM"
      },
      "outputs": [],
      "source": []
    },
    {
      "cell_type": "markdown",
      "metadata": {
        "id": "Vp8JnbYGmPqK"
      },
      "source": [
        "2. Using the statement that creates the dictionary that is a catolog of items (below), create another dictionary with exactly the same items and keys, but for which the values are prices as decimal numbers. Let the user type in a catalog number, then print the name of the item and its price. Prepend a dollar sign `$` to the price before printing, but don’t include the dollar sign in the dictionary."
      ]
    },
    {
      "cell_type": "code",
      "execution_count": null,
      "metadata": {
        "id": "aXrJZenqmXBz"
      },
      "outputs": [],
      "source": [
        "catalog = {'1008':'widget', '2149':'flange', '19x5':'smoke shifter', '992':'poiuyt'}\n"
      ]
    },
    {
      "cell_type": "markdown",
      "metadata": {
        "id": "nMH9zpRWmX_C"
      },
      "source": [
        "3. Modify the last program to convert the price of the selected item to euros (you may need to look up the exchange rate). Add an additional statement to print the price in euros, prepending the Unicode string for the euro sign (`\\u20AC`) to the numeric price. Make the print statement work so that there is no space between the euro sign and the price."
      ]
    },
    {
      "cell_type": "code",
      "execution_count": null,
      "metadata": {
        "id": "cjIz7SCrmb2G"
      },
      "outputs": [],
      "source": []
    },
    {
      "cell_type": "markdown",
      "metadata": {},
      "source": [
        "4. Convert the catalog dictionary in problem 2 to a pandas Series. Using `.loc`, print the name of the item with catalog number `19x5`. Then, using `.iloc`, print the name of the second item in the list."
      ]
    },
    {
      "cell_type": "code",
      "execution_count": null,
      "metadata": {},
      "outputs": [],
      "source": [
        "import pandas as pd\n"
      ]
    },
    {
      "cell_type": "markdown",
      "metadata": {},
      "source": [
        "5. Convert the two dictionaries in problem 2 to a pandas DataFrame using `pd.DataFrame`. Display the DataFrame below the cell in tabular form."
      ]
    },
    {
      "cell_type": "code",
      "execution_count": null,
      "metadata": {},
      "outputs": [],
      "source": []
    },
    {
      "cell_type": "markdown",
      "metadata": {},
      "source": [
        "6. Using the DataFrame you just created, print the Series for the price column. Then print the Series for the catalog number 2149 row."
      ]
    },
    {
      "cell_type": "code",
      "execution_count": null,
      "metadata": {},
      "outputs": [],
      "source": []
    },
    {
      "cell_type": "markdown",
      "metadata": {
        "id": "KFePud4QffsM"
      },
      "source": [
        "7. The second line of code below reads in a CSV containing climate data: the average precipitation and temperature for months the year 1879 in Mesa, Arizona. Display the first 6 rows of the DataFrame below the cell in tabular form. \n",
        "\n",
        "In the following code cell, print the following:\n",
        "- the data for March 1879 (as a Series).\n",
        "- the average temperture for July 1879.\n"
      ]
    },
    {
      "cell_type": "code",
      "execution_count": null,
      "metadata": {
        "id": "atDG3hlpf45z"
      },
      "outputs": [],
      "source": [
        "import pandas as pd\n",
        "climate = pd.read_csv('https://github.com/HeardLibrary/digital-scholarship/raw/master/data/codegraf/mesa_climate.csv')\n",
        "\n",
        "# Set the row index to be the 'month' column\n",
        "climate = climate.set_index('month')\n"
      ]
    },
    {
      "cell_type": "code",
      "execution_count": null,
      "metadata": {},
      "outputs": [],
      "source": []
    }
  ],
  "metadata": {
    "colab": {
      "provenance": []
    },
    "kernelspec": {
      "display_name": "Python 3",
      "name": "python3"
    },
    "language_info": {
      "codemirror_mode": {
        "name": "ipython",
        "version": 3
      },
      "file_extension": ".py",
      "mimetype": "text/x-python",
      "name": "python",
      "nbconvert_exporter": "python",
      "pygments_lexer": "ipython3",
      "version": "3.8.5"
    }
  },
  "nbformat": 4,
  "nbformat_minor": 0
}
