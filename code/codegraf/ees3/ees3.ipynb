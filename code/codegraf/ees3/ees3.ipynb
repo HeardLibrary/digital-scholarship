{
  "cells": [
    {
      "cell_type": "markdown",
      "metadata": {
        "id": "bV8-xYpmI_vf"
      },
      "source": [
        "# Dictionaries\n",
        "\n",
        "## Instantiating a dictionary\n",
        "\n",
        "Examples"
      ]
    },
    {
      "cell_type": "code",
      "execution_count": null,
      "metadata": {
        "id": "h9fUAda2I_vf"
      },
      "outputs": [],
      "source": [
        "catalog = {'1008':'widget', '2149':'flange', '19x5':'smoke shifter', '992':'poiuyt'}\n",
        "profile = {'name':'Mickey Mouse', 'company':'Disney', 'animated':True, 'fingers':8}\n",
        "\n",
        "print(catalog['2149'])\n",
        "print(profile['name'])"
      ]
    },
    {
      "cell_type": "code",
      "execution_count": null,
      "metadata": {
        "id": "liDR9n3ZI_vh"
      },
      "outputs": [],
      "source": [
        "# The key can be a string variable rather than a literal\n",
        "characteristic = 'animated'\n",
        "print(profile[characteristic])\n",
        "\n",
        "trait = input('What do you want to know about the character? ')\n",
        "print(\"The character's\", trait, 'is', profile[trait])"
      ]
    },
    {
      "cell_type": "markdown",
      "metadata": {
        "id": "eaQ8-j_GI_vl"
      },
      "source": [
        "## Editing a dictionary"
      ]
    },
    {
      "cell_type": "code",
      "execution_count": null,
      "metadata": {
        "id": "n9gi3JLhI_vl"
      },
      "outputs": [],
      "source": [
        "my_dict = {}\n",
        "my_dict['name'] = input('What is the character name? ')\n",
        "print(my_dict)\n",
        "my_dict['company'] = input('Who does the character work for? ')\n",
        "print(my_dict)\n",
        "my_dict['fingers'] = int(input('How many fingers does the character have? '))\n",
        "print(my_dict)"
      ]
    },
    {
      "cell_type": "code",
      "execution_count": null,
      "metadata": {
        "id": "xOIHe_5xI_vo"
      },
      "outputs": [],
      "source": [
        "print(catalog)\n",
        "\n",
        "catalog['2149'] = 'thingamajig'\n",
        "print(catalog)\n",
        "\n",
        "del catalog['1008']\n",
        "print(catalog)"
      ]
    },
    {
      "cell_type": "markdown",
      "metadata": {},
      "source": [
        "## Practice\n",
        "\n",
        "The starter code has some data retrieved from the Twitter API for a tweet. Print the text of the tweet, then change the vanlue of the `lang` key to Spanish (language code `es`) and print the dictionary."
      ]
    },
    {
      "cell_type": "code",
      "execution_count": null,
      "metadata": {},
      "outputs": [],
      "source": [
        "tweet = {'created_at':'Wed Sep 18 14:08:54 +0000 2019', 'text':'RT @wnprwheelhouse: @wnprharriet кричать @wnpr !','lang':'ru'}\n"
      ]
    },
    {
      "cell_type": "markdown",
      "metadata": {
        "id": "5ze3Fflgc-m_"
      },
      "source": [
        "# Complex data structures\n",
        "\n",
        "## Lists of lists\n"
      ]
    },
    {
      "cell_type": "code",
      "execution_count": null,
      "metadata": {
        "id": "qxD_PuuZc-nA"
      },
      "outputs": [],
      "source": [
        "first_row = [3, 5, 7, 9]\n",
        "second_row = [4, 11, -1, 5]\n",
        "third_row = [-99, 0, 45, 0]\n",
        "data = [first_row, second_row, third_row]\n",
        "print(data)"
      ]
    },
    {
      "cell_type": "code",
      "execution_count": null,
      "metadata": {
        "id": "sXmJv0Uvc-nF"
      },
      "outputs": [],
      "source": [
        "print(len(data))"
      ]
    },
    {
      "cell_type": "code",
      "execution_count": null,
      "metadata": {
        "id": "p2wGcKDtc-nH"
      },
      "outputs": [],
      "source": [
        "print(data[1])\n",
        "print(len(data[1]))"
      ]
    },
    {
      "cell_type": "code",
      "execution_count": null,
      "metadata": {
        "id": "_9IaLfrdc-nK"
      },
      "outputs": [],
      "source": [
        "data = [[3, 5, 7, 9], [4, 11, -1, 5], [-99, 0, 45, 0]]\n",
        "print(data[2][0])"
      ]
    },
    {
      "cell_type": "markdown",
      "metadata": {
        "id": "ir88yn5Ac-nd"
      },
      "source": [
        "## Lists of dictionaries"
      ]
    },
    {
      "cell_type": "code",
      "execution_count": null,
      "metadata": {
        "id": "w5hcJQo2c-ne"
      },
      "outputs": [],
      "source": [
        "characters = [{'name':'Mickey Mouse', 'company':'Disney', 'gender': 'male'}, {'name':'Daisy Duck', 'company':'Disney', 'gender': 'female'}, {'name':'Daffy Duck', 'company':'Warner Brothers', 'gender': 'male'},  {'name':'Fred Flintstone', 'company':'Hanna Barbera', 'gender': 'male'}, {'name':'WALL-E', 'company':'Pixar', 'gender': 'neutral'}, {'name':'Fiona', 'company':'DreamWorks', 'gender': 'female'}]\n",
        "print(characters[1]['company'])\n",
        "print(characters[0]['name'])\n",
        "print(characters[4]['gender'])"
      ]
    },
    {
      "cell_type": "markdown",
      "metadata": {},
      "source": [
        "# Pandas\n",
        "\n",
        "Standard import statement for pandas"
      ]
    },
    {
      "cell_type": "code",
      "execution_count": null,
      "metadata": {},
      "outputs": [],
      "source": [
        "import pandas as pd\n",
        "\n",
        "# Create a dictionary to use for experiments\n",
        "states_dict = {'OH': 'Ohio', 'TN': 'Tennessee', 'AZ': 'Arizona', 'PA': 'Pennsylvania', 'AK': 'Alaska'}\n",
        "print(states_dict)"
      ]
    },
    {
      "cell_type": "markdown",
      "metadata": {},
      "source": [
        "## pandas Series\n",
        "\n",
        "Series are one-dimensional pandas data structures that are sort of a hybrid of dictionaries and lists. They are ordered, but they also are labeled.\n",
        "\n",
        "We can create an instance of a Series by passing a dictionary as an argument into `pd.Series()`:"
      ]
    },
    {
      "cell_type": "code",
      "execution_count": null,
      "metadata": {},
      "outputs": [],
      "source": [
        "states_series = pd.Series(states_dict)\n",
        "print(states_series)"
      ]
    },
    {
      "cell_type": "markdown",
      "metadata": {},
      "source": [
        "When a Series is displayed, the label index is shown on the left and the Series items are shown on the right.\n",
        "\n",
        "We can refer to items in a Series by either position (using an integer index) or by their name (using the label index for the item). Integer indexing is zero-based as with everything else in Python."
      ]
    },
    {
      "cell_type": "code",
      "execution_count": null,
      "metadata": {},
      "outputs": [],
      "source": [
        "print(states_series[2])\n",
        "print(states_series['TN'])"
      ]
    },
    {
      "cell_type": "markdown",
      "metadata": {},
      "source": [
        "Series item 2 is the third item in the Series since we start counting with zero.\n",
        "\n",
        "There is an alternate way of referring to Series items by position that makes the indexing system explicit. `.loc[]` locates items by label index, and `.iloc[]` locates items by integer index. WARNING: One gotcha here is that the \"i\" in \"iloc\" should be thought of as referring to \"integer\", NOT \"index\". In pandas, when the term \"index\" is used by itself, it refers to the label index, not the integer index.\n",
        "\n",
        "Specifying a single index in `.loc[]` or `.iloc[]` returns a single value from the Series. In this case the values are strings, so the type of the returned value is string."
      ]
    },
    {
      "cell_type": "code",
      "execution_count": null,
      "metadata": {},
      "outputs": [],
      "source": [
        "print(states_series.iloc[2])\n",
        "print(states_series.loc['TN'])\n",
        "print(type(states_series.loc['TN']))"
      ]
    },
    {
      "cell_type": "markdown",
      "metadata": {},
      "source": [
        "## pandas DataFrames\n",
        "\n",
        "DataFrames are two-dimensional data structures composed of Series with shared indices.\n",
        "\n",
        "DataFrames can be created from a dictionary of Series."
      ]
    },
    {
      "cell_type": "code",
      "execution_count": null,
      "metadata": {},
      "outputs": [],
      "source": [
        "text_series = pd.Series({'OH': 'Ohio', 'TN': 'Tennessee', 'AZ': 'Arizona', 'PA': 'Pennsylvania', 'AK': 'Alaska'})\n",
        "capital_series = pd.Series({'OH': 'Columbus', 'TN': 'Nashville', 'AZ': 'Phoenix', 'PA': 'Harrisburg', 'AK': 'Juneau'})\n",
        "population_series = pd.Series({'OH': 11799448, 'TN': 6910840, 'AZ': 7151502, 'PA': 13002700, 'AK': 733391})\n",
        "print(text_series)\n",
        "print()\n",
        "print(capital_series)\n",
        "print()\n",
        "print(population_series)\n",
        "\n",
        "states_dict = {'text': text_series, 'capital': capital_series, 'population': population_series}\n",
        "states_df = pd.DataFrame(states_dict)"
      ]
    },
    {
      "cell_type": "markdown",
      "metadata": {},
      "source": [
        "When created in this way, the dictionary keys are used as the column headers (column label indices) and each series becomes a column. The label indices of the series are shared by all of the rows as the row label indices.\n",
        "\n",
        "When you print a pandas DataFrame, you get a text representation. If the name is given as the last line of the notebook cell, it's displayed in a \"prettier\" form."
      ]
    },
    {
      "cell_type": "code",
      "execution_count": null,
      "metadata": {},
      "outputs": [],
      "source": [
        "print(states_df)\n",
        "states_df"
      ]
    },
    {
      "cell_type": "markdown",
      "metadata": {},
      "source": [
        "## Specifying a column\n",
        "\n",
        "We can specify a column by using its column header as the label index in square brackets. The resulting column is a pandas Series."
      ]
    },
    {
      "cell_type": "code",
      "execution_count": null,
      "metadata": {},
      "outputs": [],
      "source": [
        "print(states_df['capital'])\n",
        "print()\n",
        "print(type(states_df['capital']))"
      ]
    },
    {
      "cell_type": "markdown",
      "metadata": {},
      "source": [
        "## Specifying a row\n",
        "\n",
        "Select a row using `.loc` with the label index and `.iloc` with the integer position. The resulting output is a series, with the column labels as its label indices."
      ]
    },
    {
      "cell_type": "code",
      "execution_count": null,
      "metadata": {},
      "outputs": [],
      "source": [
        "print(states_df.loc['AZ'])\n",
        "print()\n",
        "print(states_df.iloc[1])"
      ]
    },
    {
      "cell_type": "markdown",
      "metadata": {},
      "source": [
        "## Specifying a cell\n",
        "\n",
        "Select a cell using `.loc` with the label index and column label. The resulting output is the type of data containted in the cell."
      ]
    },
    {
      "cell_type": "code",
      "execution_count": null,
      "metadata": {},
      "outputs": [],
      "source": [
        "print(states_df.loc['PA', 'population'])\n",
        "print(type(states_df.loc['PA', 'population']))\n",
        "print(states_df.loc['AK', 'capital'])\n",
        "print(type(states_df.loc['AK', 'capital']))"
      ]
    },
    {
      "cell_type": "markdown",
      "metadata": {},
      "source": [
        "## Practice\n",
        "\n",
        "Print the expressions for the following:\n",
        "- The population column\n",
        "- The row for Tennessee, using the label index\n",
        "- The row for Alaska, using the integer index\n",
        "- The capital of Pennsylvania"
      ]
    },
    {
      "cell_type": "code",
      "execution_count": null,
      "metadata": {},
      "outputs": [],
      "source": []
    },
    {
      "cell_type": "markdown",
      "metadata": {},
      "source": [
        "# Loading a DataFrame from a file\n",
        "\n",
        "Although there are a number of ways to build a pandas DataFrame from simpler Python objects, most of the time we will create them from data that are already in tablular form in a file. \n",
        "\n",
        "You can load a CSV file by passing in its URL as the argument of the `.read_csv()` function. Since the `School ID` column is a unique identifier for each row, we can use it as the index column."
      ]
    },
    {
      "cell_type": "code",
      "execution_count": null,
      "metadata": {},
      "outputs": [],
      "source": [
        "schools_df = pd.read_csv('https://raw.githubusercontent.com/HeardLibrary/digital-scholarship/master/data/gis/wg/Metro_Nashville_Schools.csv')\n",
        "# Set the row label index to be the School ID column\n",
        "schools_df = schools_df.set_index('School ID')\n",
        "schools_df"
      ]
    },
    {
      "cell_type": "markdown",
      "metadata": {},
      "source": [
        "If a DataFrame is large, it will be difficult to examine the whole thing at once. We can use several methods to view characteristics of the DataFrame.\n",
        "\n",
        "The `.head()` method will display the first 5 rows of the DataFrame. You can pass in a different number of rows to display as an argument. "
      ]
    },
    {
      "cell_type": "code",
      "execution_count": null,
      "metadata": {},
      "outputs": [],
      "source": [
        "schools_df.head()"
      ]
    },
    {
      "cell_type": "markdown",
      "metadata": {},
      "source": [
        "## Practice\n",
        "\n",
        "Print the `School Name` column. Then print the first 3 rows of the DataFrame."
      ]
    },
    {
      "cell_type": "code",
      "execution_count": null,
      "metadata": {},
      "outputs": [],
      "source": [
        "print(schools_df['School Name'])"
      ]
    },
    {
      "cell_type": "markdown",
      "metadata": {},
      "source": [
        "## Vectorized operations\n",
        "\n",
        "Pandas Series and DataFrames support vectorized operations, which means that operations are applied to every item in the Series or DataFrame at once. \n",
        "\n",
        "We can calculate the total number of students in each school by adding the `Male` and `Female` columns together."
      ]
    },
    {
      "cell_type": "code",
      "execution_count": null,
      "metadata": {},
      "outputs": [],
      "source": [
        "total_students = schools_df['Male'] + schools_df['Female']\n",
        "print(total_students)\n",
        "\n",
        "# Create a DataFram to make the answers easier to read.\n",
        "summary_df = pd.DataFrame({'male': schools_df['Male'], 'female': schools_df['Female'], 'total': total_students})\n",
        "summary_df"
      ]
    },
    {
      "cell_type": "markdown",
      "metadata": {},
      "source": [
        "## Practice\n",
        "\n",
        "Calculate the percentage of male students in each school and print the series."
      ]
    },
    {
      "cell_type": "code",
      "execution_count": null,
      "metadata": {},
      "outputs": [],
      "source": []
    },
    {
      "cell_type": "markdown",
      "metadata": {
        "id": "RnDCdlT-deVL"
      },
      "source": [
        "# Loops\n",
        "\n",
        "## Iterating using `for`\n",
        "\n",
        "Example"
      ]
    },
    {
      "cell_type": "code",
      "execution_count": null,
      "metadata": {
        "id": "1GUi6-pDdeVO"
      },
      "outputs": [],
      "source": [
        "basket = ['apple', 'orange', 'banana', 'lemon', 'lime']\n",
        "for fruit in basket:\n",
        "    print('I ate one ' + fruit)\n",
        "print(\"I'm full now!\")"
      ]
    },
    {
      "cell_type": "code",
      "execution_count": null,
      "metadata": {
        "id": "48MgC-k4deVR"
      },
      "outputs": [],
      "source": [
        "word = 'supercalifragilisticexpialidocious'\n",
        "print('Spell it out!')\n",
        "for letter in word:\n",
        "    print(letter)\n",
        "print('That wore me out.')"
      ]
    },
    {
      "cell_type": "markdown",
      "metadata": {},
      "source": [
        "## Building a sequence with a for loop\n",
        "\n",
        "The pattern of creating an empty thing and then adding a sequence of items to it in a loop is a common one. \n",
        "\n",
        "```\n",
        "sequence = sequence + item\n",
        "```\n",
        "\n",
        "can be replaced with \n",
        "\n",
        "```\n",
        "sequence += item\n",
        "```\n",
        "\n",
        "Code with explicit concatenation:"
      ]
    },
    {
      "cell_type": "code",
      "execution_count": null,
      "metadata": {},
      "outputs": [],
      "source": [
        "list_of_words = ['The ', 'quick ', 'brown ', 'fox ', 'jumps ', 'over ', 'the ', 'lazy ', 'dog ']\n",
        "sentence = ''\n",
        "for word in list_of_words:\n",
        "    sentence = sentence + word # Concatenate the word to the sentence\n",
        "print(sentence + '!')"
      ]
    },
    {
      "cell_type": "markdown",
      "metadata": {},
      "source": [
        "Code with shorthand:\n"
      ]
    },
    {
      "cell_type": "code",
      "execution_count": null,
      "metadata": {},
      "outputs": [],
      "source": [
        "sentence = ''\n",
        "for word in list_of_words:\n",
        "    sentence += word\n",
        "print(sentence + '!')"
      ]
    },
    {
      "cell_type": "markdown",
      "metadata": {},
      "source": [
        "Same strategy, but doing creating a total by summing a list of numbers:\n"
      ]
    },
    {
      "cell_type": "code",
      "execution_count": null,
      "metadata": {},
      "outputs": [],
      "source": [
        "total = 0\n",
        "for number in [3, 5, 7, 9]:\n",
        "    total += number\n",
        "print('The total is', total)"
      ]
    },
    {
      "cell_type": "markdown",
      "metadata": {},
      "source": [
        "Using a `range()` object to create a list from user input:\n"
      ]
    },
    {
      "cell_type": "code",
      "execution_count": null,
      "metadata": {},
      "outputs": [],
      "source": [
        "bird_list = []\n",
        "for i in range(4):\n",
        "    bird = input('Enter a bird name: ')\n",
        "    bird_list.append(bird)\n",
        "print('Your bird list is:', bird_list)"
      ]
    },
    {
      "cell_type": "markdown",
      "metadata": {},
      "source": [
        "# Iterating through rows in a DataFrame\n",
        "\n",
        "One of the main purposes of pandas is to make it possible to perform operations on entire columns using vectorized operations. However, there are some situations where it makes sense to iterate through each row in the DataFrame and deal with values one row at a time. These situations would include complex operations that require multiple lines of code to describe, or actions that must happen sequentially, such as retrieving data from a URL.\n",
        "\n",
        "Our example will use information about websites"
      ]
    },
    {
      "cell_type": "code",
      "execution_count": null,
      "metadata": {
        "id": "JcVCQ1UMdeVd"
      },
      "outputs": [],
      "source": [
        "websites = {\n",
        "    'name': {'alphabet': 'Google', 'vu': 'Vanderbilt', 'fake': 'Obsolete Website'}, \n",
        "    'url': {'alphabet': 'https://www.google.com/', 'vu': 'https://www.vanderbilt.edu/', 'fake': 'https://example.org/fake_url'},\n",
        "    'status': {'alphabet': 'unknown', 'vu': 'unknown', 'fake': 'unknown'}\n",
        "           }\n",
        "websites_df = pd.DataFrame(websites)\n",
        "websites_df"
      ]
    },
    {
      "cell_type": "markdown",
      "metadata": {},
      "source": [
        "To generate an iterable object from the DataFrame we use the `.iterrows()` method. Iterating using a `for` loop generates a tuple consisting of the label index and the data from the row, in the form of a Series."
      ]
    },
    {
      "cell_type": "code",
      "execution_count": null,
      "metadata": {},
      "outputs": [],
      "source": [
        "for label_index, website_series in websites_df.iterrows():\n",
        "    print(label_index)\n",
        "    print()\n",
        "    print(website_series)\n",
        "    print()\n",
        "    print()"
      ]
    },
    {
      "cell_type": "markdown",
      "metadata": {},
      "source": [
        "To access a value from the row Series, we can use direct indexing by providing the column label index."
      ]
    },
    {
      "cell_type": "code",
      "execution_count": null,
      "metadata": {},
      "outputs": [],
      "source": [
        "for label_index, website_series in websites_df.iterrows():\n",
        "    print(website_series['url'])\n",
        "    print()"
      ]
    },
    {
      "cell_type": "markdown",
      "metadata": {},
      "source": [
        "Iterating will allow us to check the status of each website one at a time."
      ]
    },
    {
      "cell_type": "code",
      "execution_count": null,
      "metadata": {},
      "outputs": [],
      "source": [
        "import requests\n",
        "for label_index, website_series in websites_df.iterrows():\n",
        "    response = requests.get(website_series['url'])\n",
        "    # HTTP status code 200 means the website is up, 404 means it's down.\n",
        "    print(label_index, website_series['url'], response.status_code)\n",
        "    # Assign the status to the status column in the DataFrame\n",
        "    websites_df.loc[label_index, 'status'] = response.status_code\n",
        "\n",
        "# Print the updated DataFrame\n",
        "websites_df"
      ]
    },
    {
      "cell_type": "markdown",
      "metadata": {},
      "source": [
        "## Practice\n",
        "\n",
        "Use the .head() method to assign the first 10 rows of the schools DataFrame to a new DataFrame called `schools_subset`. Then iterate through the rows of `schools_subset` and print the `School Name` and `Zip Code` for each row."
      ]
    },
    {
      "cell_type": "code",
      "execution_count": null,
      "metadata": {},
      "outputs": [],
      "source": []
    }
  ],
  "metadata": {
    "colab": {
      "provenance": []
    },
    "kernelspec": {
      "display_name": "Python 3",
      "language": "python",
      "name": "python3"
    },
    "language_info": {
      "codemirror_mode": {
        "name": "ipython",
        "version": 3
      },
      "file_extension": ".py",
      "mimetype": "text/x-python",
      "name": "python",
      "nbconvert_exporter": "python",
      "pygments_lexer": "ipython3",
      "version": "3.8.5"
    }
  },
  "nbformat": 4,
  "nbformat_minor": 0
}
