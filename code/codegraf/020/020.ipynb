{
 "cells": [
  {
   "cell_type": "markdown",
   "metadata": {},
   "source": [
    "# File input/output\n",
    "\n",
    "## Writing to a text file\n",
    "\n",
    "Example"
   ]
  },
  {
   "cell_type": "code",
   "execution_count": null,
   "metadata": {},
   "outputs": [],
   "source": [
    "some_text = \"Goin' into the file!\"\n",
    "file_object = open('datafile.txt', 'wt', encoding='utf-8')\n",
    "file_object.write(some_text)\n",
    "file_object.close()"
   ]
  },
  {
   "cell_type": "markdown",
   "metadata": {},
   "source": [
    "Although Python will probably default to UTF-8 character encoding, it is best to specify it explicitly when writing text to a file.\n",
    "\n",
    "Shortcut"
   ]
  },
  {
   "cell_type": "code",
   "execution_count": null,
   "metadata": {},
   "outputs": [],
   "source": [
    "some_text = input('Type the text you want to save in a file: ')\n",
    "with open('datafile.txt', 'wt', encoding='utf-8') as file_object:\n",
    "    file_object.write(some_text)"
   ]
  },
  {
   "cell_type": "markdown",
   "metadata": {},
   "source": [
    "## Reading from a text file\n",
    "\n",
    "The file that you saved in the previous example should persist even if you shut down Jupyter notebooks or even reboot your computer. \n",
    "\n",
    "Example"
   ]
  },
  {
   "cell_type": "code",
   "execution_count": null,
   "metadata": {},
   "outputs": [],
   "source": [
    "file_object = open('datafile.txt', 'rt', encoding='utf-8')\n",
    "read_text = file_object.read()\n",
    "file_object.close()\n",
    "print(read_text)"
   ]
  },
  {
   "cell_type": "markdown",
   "metadata": {},
   "source": [
    "With shortcut"
   ]
  },
  {
   "cell_type": "code",
   "execution_count": null,
   "metadata": {},
   "outputs": [],
   "source": [
    "with open('datafile.txt', 'rt', encoding='utf-8') as file_object:\n",
    "    read_text = file_object.read()\n",
    "print(read_text)"
   ]
  },
  {
   "cell_type": "markdown",
   "metadata": {},
   "source": [
    "# Accessing files from your file system\n",
    "\n",
    "This part of the notebook contains environment-specific code cells. Find the one that applies to the environment that you are using."
   ]
  },
  {
   "cell_type": "markdown",
   "metadata": {},
   "source": [
    "## Local file system (Mac and Windows)\n",
    "\n",
    "The `.getcwd()` function from the `os` module returns the current working directory. This is the directory to and from which files will be saved if only a filename is given without any path. Typically the current working directory is the directory from which the Python script was executed. "
   ]
  },
  {
   "cell_type": "code",
   "execution_count": null,
   "metadata": {},
   "outputs": [],
   "source": [
    "import os\n",
    "working_directory = os.getcwd()\n",
    "print(working_directory)"
   ]
  },
  {
   "cell_type": "markdown",
   "metadata": {},
   "source": [
    "The `.home()` method of the `Path` object in the `pathlib` module creates another path object representing the user's home directory. The `str()` function can be used to generate a string representation of the home directory path. "
   ]
  },
  {
   "cell_type": "code",
   "execution_count": null,
   "metadata": {},
   "outputs": [],
   "source": [
    "from pathlib import Path\n",
    "\n",
    "# Configuration section of code\n",
    "home = str(Path.home())\n",
    "print(home)\n",
    "# This variable can be prepended to the names of files downloaded using a browser\n",
    "downloads_folder = home + '/Downloads/'\n",
    "\n",
    "# Script section of code\n",
    "filename = 'consoleText.txt'\n",
    "print(downloads_folder + filename)"
   ]
  },
  {
   "cell_type": "code",
   "execution_count": null,
   "metadata": {},
   "outputs": [],
   "source": [
    "with open(downloads_folder + filename, 'rt', encoding='utf-8') as file_object:\n",
    "    read_text = file_object.read()\n",
    "print(read_text)"
   ]
  },
  {
   "cell_type": "markdown",
   "metadata": {},
   "source": [
    "## Cloud drive system (Colab)\n"
   ]
  },
  {
   "cell_type": "code",
   "execution_count": null,
   "metadata": {},
   "outputs": [],
   "source": [
    "# Run this cell via a Colab notebook\n",
    "import os\n",
    "working_directory = os.getcwd()\n",
    "print(working_directory)"
   ]
  },
  {
   "cell_type": "markdown",
   "metadata": {},
   "source": [
    "If you are running a Colab notebook from its default location, the result of the above cell should be the `/content` directory. As you have seen in the video, a mapped Google Drive is a subdirectory of this directory, so there is no way to open files saved in the default current working directory directly outside of Python.\n",
    "\n",
    "Typically, when your Google Drive is mapped, its path will be `/content/drive/My Drive/`. So if that path is prepended to a file path relative to the root of your Google Drive, you can access any file in your Google drive using that full path."
   ]
  },
  {
   "cell_type": "code",
   "execution_count": null,
   "metadata": {},
   "outputs": [],
   "source": [
    "google_drive_root = '/content/drive/My Drive/'\n",
    "\n",
    "# My data are in a directory of my Google Drive called \"data\".\n",
    "working_directory = google_drive_root + 'data/'\n",
    "\n",
    "file_path = working_directory + 'test.txt'\n",
    "with open(file_path, 'rt', encoding='utf-8') as file_object:\n",
    "    read_text = file_object.read()\n",
    "print(read_text)"
   ]
  },
  {
   "cell_type": "markdown",
   "metadata": {},
   "source": [
    "## Writing variations\n",
    "\n",
    "Output to file using `.write()`"
   ]
  },
  {
   "cell_type": "code",
   "execution_count": null,
   "metadata": {},
   "outputs": [],
   "source": [
    "first_line = \"Goin' into the file!\"\n",
    "second_line = \"I'm there, too.\"\n",
    "third_line = \"Wrapping it up!\"\n",
    "with open('datafile.txt', 'wt', encoding='utf-8') as file_object:\n",
    "    file_object.write(first_line)\n",
    "    file_object.write(second_line)\n",
    "    file_object.write(third_line)"
   ]
  },
  {
   "cell_type": "markdown",
   "metadata": {},
   "source": [
    "Output to file using `print()`"
   ]
  },
  {
   "cell_type": "code",
   "execution_count": null,
   "metadata": {},
   "outputs": [],
   "source": [
    "first_line = \"Goin' into the file!\"\n",
    "second_line = \"I'm there, too.\"\n",
    "third_line = \"Wrapping it up!\"\n",
    "with open('datafile.txt', 'wt', encoding='utf-8') as file_object:\n",
    "    print(first_line, file=file_object)\n",
    "    print(second_line, file=file_object)\n",
    "    print(third_line, file=file_object)"
   ]
  },
  {
   "cell_type": "markdown",
   "metadata": {},
   "source": [
    "# effects of newlines and iterable example\n",
    "\n",
    "Write some multiline data into a file"
   ]
  },
  {
   "cell_type": "code",
   "execution_count": null,
   "metadata": {},
   "outputs": [],
   "source": [
    "multiline_string = '''First line\n",
    "Second line\n",
    "Third line\n",
    "'''\n",
    "\n",
    "with open('datafile.txt', 'wt', encoding='utf-8') as file_object:\n",
    "    file_object.write(multiline_string)"
   ]
  },
  {
   "cell_type": "markdown",
   "metadata": {},
   "source": [
    "Alternate method to achieve the same outcome:"
   ]
  },
  {
   "cell_type": "code",
   "execution_count": null,
   "metadata": {},
   "outputs": [],
   "source": [
    "multiline_string = '1st line\\n2nd line\\n3rd line\\n'\n",
    "\n",
    "with open('datafile.txt', 'wt', encoding='utf-8') as file_object:\n",
    "    file_object.write(multiline_string)"
   ]
  },
  {
   "cell_type": "markdown",
   "metadata": {},
   "source": [
    "Yet another way to achieve the same outcome:"
   ]
  },
  {
   "cell_type": "code",
   "execution_count": null,
   "metadata": {},
   "outputs": [],
   "source": [
    "list_of_strings = ['1st line', '2nd line', '3rd line']\n",
    "\n",
    "multiline_string = ''\n",
    "for string in list_of_strings:\n",
    "    multiline_string += string + '\\n'\n",
    "\n",
    "with open('datafile.txt', 'wt', encoding='utf-8') as file_object:\n",
    "    file_object.write(multiline_string)"
   ]
  },
  {
   "cell_type": "markdown",
   "metadata": {},
   "source": [
    "open the file and iterate through each of the lines"
   ]
  },
  {
   "cell_type": "code",
   "execution_count": null,
   "metadata": {},
   "outputs": [],
   "source": [
    "with open('datafile.txt', 'rt', encoding='utf-8') as file_object:\n",
    "    for oneLine in file_object:\n",
    "        print(oneLine)\n",
    "print(len(oneLine))"
   ]
  },
  {
   "cell_type": "markdown",
   "metadata": {},
   "source": [
    "Put strings in list"
   ]
  },
  {
   "cell_type": "code",
   "execution_count": null,
   "metadata": {},
   "outputs": [],
   "source": [
    "line_list = []\n",
    "with open('datafile.txt', 'rt', encoding='utf-8') as file_object:\n",
    "    for one_line in file_object:\n",
    "        line_list.append(one_line)\n",
    "print(line_list)"
   ]
  },
  {
   "cell_type": "markdown",
   "metadata": {},
   "source": [
    "Put strings in list and strip trailing newlines"
   ]
  },
  {
   "cell_type": "code",
   "execution_count": null,
   "metadata": {},
   "outputs": [],
   "source": [
    "line_list = []\n",
    "with open('datafile.txt', 'rt', encoding='utf-8') as file_object:\n",
    "    for one_line in file_object:\n",
    "        line_list.append(one_line.strip())\n",
    "print(line_list)"
   ]
  },
  {
   "cell_type": "markdown",
   "metadata": {},
   "source": [
    "## Reading variations\n",
    "\n",
    "`.readlines()` example"
   ]
  },
  {
   "cell_type": "code",
   "execution_count": null,
   "metadata": {},
   "outputs": [],
   "source": [
    "with open('datafile.txt', 'rt', encoding='utf-8') as file_object:\n",
    "    line_list = file_object.readlines()\n",
    "print(line_list)"
   ]
  },
  {
   "cell_type": "markdown",
   "metadata": {},
   "source": [
    "Load a list using `.split()`"
   ]
  },
  {
   "cell_type": "code",
   "execution_count": null,
   "metadata": {},
   "outputs": [],
   "source": [
    "with open('datafile.txt', 'rt', encoding='utf-8') as file_object:\n",
    "    line_list = file_object.read().split('\\n')\n",
    "print(line_list)"
   ]
  },
  {
   "cell_type": "markdown",
   "metadata": {},
   "source": [
    "To avoid the problem of the trailing newline, you can use `.splitlines()`."
   ]
  },
  {
   "cell_type": "code",
   "execution_count": null,
   "metadata": {},
   "outputs": [],
   "source": [
    "with open('datafile.txt', 'rt', encoding='utf-8') as file_object:\n",
    "    line_list = file_object.read().splitlines()\n",
    "print(line_list)"
   ]
  },
  {
   "cell_type": "markdown",
   "metadata": {},
   "source": [
    "This is great for relatively small files, but for huge files you might have problems reading the entire file in using `.read()`."
   ]
  },
  {
   "cell_type": "markdown",
   "metadata": {},
   "source": [
    "# Files and lists via the Internet\n",
    "\n",
    "The `requests` module is the easiest way to load files from a remote URL using the Internet. It is not currently part of the Python standard library, so you may need to use a package manager to install it. The `.text` attribute of the response object provides the contents of the file in text form."
   ]
  },
  {
   "cell_type": "code",
   "execution_count": null,
   "metadata": {},
   "outputs": [],
   "source": [
    "import requests\n",
    "\n",
    "url = 'https://gist.githubusercontent.com/baskaufs/96fde372dcd34d98d3bccd067b530ca5/raw/43821647d32448e09d6ff8afcba11415dd2e0c64/lorem_ipsum.txt'\n",
    "response_object = requests.get(url)\n",
    "file_text = response_object.text\n",
    "print(file_text)"
   ]
  },
  {
   "cell_type": "markdown",
   "metadata": {},
   "source": [
    "The response text is not an iterable object, so we can't use a `for` loop to iterate through its lines. The `.splitlines()` method is the best way to turn a list separated by newlines into a Python list object."
   ]
  },
  {
   "cell_type": "code",
   "execution_count": null,
   "metadata": {},
   "outputs": [],
   "source": [
    "import requests\n",
    "url = 'https://gist.githubusercontent.com/baskaufs/ac80f6dd287d1013b7c584f0c0d56e8b/raw/432d25307325a5563cf4d09b790301863c8d467d/months_list.txt'\n",
    "response_object = requests.get(url)\n",
    "file_text = response_object.text\n",
    "print(file_text.splitlines())"
   ]
  },
  {
   "cell_type": "markdown",
   "metadata": {},
   "source": [
    "It is quite easy to use the `requests` module to read an openly available file from somewhere on the Internet. It is more complicated if accessing the file requires authentication. It is also much more challenging to write files through the Internet than it is to write a file to a local file system."
   ]
  },
  {
   "cell_type": "code",
   "execution_count": null,
   "metadata": {},
   "outputs": [],
   "source": []
  }
 ],
 "metadata": {
  "kernelspec": {
   "display_name": "Python 3",
   "language": "python",
   "name": "python3"
  },
  "language_info": {
   "codemirror_mode": {
    "name": "ipython",
    "version": 3
   },
   "file_extension": ".py",
   "mimetype": "text/x-python",
   "name": "python",
   "nbconvert_exporter": "python",
   "pygments_lexer": "ipython3",
   "version": "3.7.1"
  }
 },
 "nbformat": 4,
 "nbformat_minor": 2
}
