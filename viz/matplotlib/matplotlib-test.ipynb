{
 "cells": [
  {
   "cell_type": "markdown",
   "metadata": {},
   "source": [
    "Import necessary modules"
   ]
  },
  {
   "cell_type": "code",
   "execution_count": null,
   "metadata": {},
   "outputs": [],
   "source": [
    "import matplotlib as mpl\n",
    "import matplotlib.pyplot as plt\n",
    "import numpy as np\n",
    "import requests\n",
    "import csv"
   ]
  },
  {
   "cell_type": "markdown",
   "metadata": {},
   "source": [
    "Read in the Metro Schools data using code hacked from\n",
    "\n",
    "hacked from <https://heardlibrary.github.io/digital-scholarship/script/python/inout/#reading-from-csv-files-from-the-web>"
   ]
  },
  {
   "cell_type": "code",
   "execution_count": null,
   "metadata": {},
   "outputs": [],
   "source": [
    "r = requests.get('https://raw.githubusercontent.com/HeardLibrary/digital-scholarship/master/data/gis/wg/Metro_Nashville_Schools.csv')\n",
    "fileText = r.text.split('\\n')\n",
    "fileRows = csv.DictReader(fileText)\n",
    "schoolData = []\n",
    "for row in fileRows:\n",
    "    schoolData.append(row)\n",
    "schoolData[0].keys()"
   ]
  },
  {
   "cell_type": "markdown",
   "metadata": {},
   "source": [
    "Create necessary tuples from the data"
   ]
  },
  {
   "cell_type": "code",
   "execution_count": null,
   "metadata": {},
   "outputs": [],
   "source": [
    "schoolIDs = ['450', '290', '497']\n",
    "schoolNameList = []\n",
    "aamList = []\n",
    "whitelist = []\n",
    "\n",
    "for dispaySchool in schoolIDs:\n",
    "    for school in schoolData:\n",
    "        if school['School ID'] == dispaySchool:\n",
    "            schoolNameList.append(school['School Name'])\n",
    "            aamList.append(int(school['Black or African American']))\n",
    "            whitelist.append(int(school['White']))\n",
    "schoolNameTuple = tuple(schoolNameList)\n",
    "aamTuple = tuple(aamList)\n",
    "whiteTuple = tuple(whitelist)\n",
    "schoolNameTuple, aamTuple, whiteTuple"
   ]
  },
  {
   "cell_type": "markdown",
   "metadata": {},
   "source": [
    "Display data using modification of\n",
    "\n",
    "<https://matplotlib.org/gallery/lines_bars_and_markers/bar_stacked.html#sphx-glr-gallery-lines-bars-and-markers-bar-stacked-py>"
   ]
  },
  {
   "cell_type": "code",
   "execution_count": null,
   "metadata": {},
   "outputs": [],
   "source": [
    "N = 3\n",
    "ind = np.arange(N)    # the x locations for the groups\n",
    "width = 0.35       # the width of the bars: can also be len(x) sequence\n",
    "\n",
    "p1 = plt.bar(ind, aamTuple, width)\n",
    "p2 = plt.bar(ind, whiteTuple, width,\n",
    "             bottom=aamTuple)\n",
    "\n",
    "plt.ylabel('students')\n",
    "plt.title('Distribution by race')\n",
    "plt.xticks(ind, schoolNameTuple)\n",
    "plt.yticks(np.arange(0, 1200, 100))\n",
    "plt.legend((p1[0], p2[0]), ('Black or African American', 'White'))\n",
    "\n",
    "plt.show()"
   ]
  },
  {
   "cell_type": "code",
   "execution_count": null,
   "metadata": {},
   "outputs": [],
   "source": []
  }
 ],
 "metadata": {
  "kernelspec": {
   "display_name": "Python 3",
   "language": "python",
   "name": "python3"
  },
  "language_info": {
   "codemirror_mode": {
    "name": "ipython",
    "version": 3
   },
   "file_extension": ".py",
   "mimetype": "text/x-python",
   "name": "python",
   "nbconvert_exporter": "python",
   "pygments_lexer": "ipython3",
   "version": "3.7.1"
  }
 },
 "nbformat": 4,
 "nbformat_minor": 2
}
